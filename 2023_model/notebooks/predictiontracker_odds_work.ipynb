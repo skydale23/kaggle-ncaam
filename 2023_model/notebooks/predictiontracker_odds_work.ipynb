{
 "cells": [
  {
   "cell_type": "code",
   "execution_count": null,
   "metadata": {},
   "outputs": [],
   "source": [
    "import pandas as pd\n",
    "import numpy as np"
   ]
  },
  {
   "cell_type": "code",
   "execution_count": null,
   "metadata": {},
   "outputs": [],
   "source": [
    "df_list = []\n",
    "\n",
    "for y in ['2016','2017','2018','2019','2020','2022']:\n",
    "    df = pd.read_csv(f'../data/ncaam_odds_{y}.csv')\n",
    "    df_list.append(df)\n",
    "\n",
    "\n",
    "\n",
    "odds_data_tourney = pd.concat(df_list, axis=0)\n",
    "odds_data_tourney['date'] = pd.to_datetime(odds_data_tourney['date'])\n",
    "\n",
    "\n",
    "first_round_dates = ['2016-03-17', '2016-03-18', \n",
    "                     '2017-03-16', '2017-03-17',\n",
    "                     '2018-03-15', '2018-03-16',\n",
    "                     '2019-03-21', '2019-03-22',\n",
    "                     '2021-03-18', '2021-03-19',\n",
    "                     '2022-03-17', '2022-03-18', \n",
    "]\n",
    "\n",
    "odds_data_tourney = odds_data_tourney[odds_data_tourney.date.isin(first_round_dates)]\n",
    "\n",
    "odds_data_tourney.to_csv('../data/odds_data_predictiontracker.csv')\n",
    "odds_data_tourney = pd.read_csv('../data/odds_data_predictiontracker.csv')\n",
    "mapping = pd.read_csv('../data/master_mappings.csv')\n",
    "home_odds = odds_data_tourney[['date', 'home', 'line', 'lineavg']]\n",
    "away_odds = odds_data_tourney[['date', 'road', 'line', 'lineavg']]\n",
    "home_odds.columns = ['date', 'team', 'line', 'lineavg']\n",
    "away_odds.columns = ['date', 'team', 'line', 'lineavg']\n",
    "away_odds['line'] = away_odds['line'] * -1\n",
    "away_odds['lineavg'] = away_odds['line'] * -1\n",
    "\n",
    "combined_odds = pd.concat([home_odds, away_odds], axis=0)\n",
    "\n",
    "combined_odds['Season'] = pd.to_datetime(combined_odds.date).dt.year\n",
    "\n",
    "mapping = mapping[mapping.match_system == 'PredictionTracker']\n",
    "\n",
    "combined_odds = combined_odds.merge(mapping, how='left', left_on='team',right_on='match_system_team')\n",
    "combined_odds = combined_odds.merge(mteams, how='left', left_on='kaggle_team', right_on='TeamName')\n",
    "\n",
    "combined_odds[(combined_odds.Season == 2017) & (combined_odds.team == 'Arizona')]"
   ]
  }
 ],
 "metadata": {
  "language_info": {
   "name": "python"
  },
  "orig_nbformat": 4
 },
 "nbformat": 4,
 "nbformat_minor": 2
}

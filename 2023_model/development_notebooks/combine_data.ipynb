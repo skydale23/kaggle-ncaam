{
 "cells": [
  {
   "cell_type": "code",
   "execution_count": 1,
   "metadata": {},
   "outputs": [],
   "source": [
    "import pandas as pd"
   ]
  },
  {
   "cell_type": "code",
   "execution_count": 11,
   "metadata": {},
   "outputs": [],
   "source": [
    "_538 = pd.read_csv('../data/all_538.csv')\n",
    "kaggle_mapping = pd.read_csv('../data/final_kaggle_538_mapping.csv')\n",
    "mteams = pd.read_csv('../data/MTeams.csv')\n",
    "wteams = pd.read_csv('../data/WTeams.csv')\n",
    "\n",
    "_538['Season'] = pd.to_datetime(_538.forecast_date).dt.year.astype(int)"
   ]
  },
  {
   "cell_type": "markdown",
   "metadata": {},
   "source": [
    "### The following illustrates the process of mapping the 538 data for womens in 2023"
   ]
  },
  {
   "cell_type": "code",
   "execution_count": 3,
   "metadata": {},
   "outputs": [],
   "source": [
    "_538_2023 = pd.read_csv('../data/fivethirtyeight_2023.csv')\n",
    "_538_2023['Season'] = pd.to_datetime(_538_2023.forecast_date).dt.year.astype(int)"
   ]
  },
  {
   "cell_type": "code",
   "execution_count": 4,
   "metadata": {},
   "outputs": [],
   "source": [
    "_538_2023_womens = _538_2023[_538_2023.gender == 'womens']"
   ]
  },
  {
   "cell_type": "code",
   "execution_count": 5,
   "metadata": {},
   "outputs": [],
   "source": [
    "_538_matched_womens = _538_2023_womens.merge(kaggle_mapping, how='left', left_on='team_name', right_on='match_system_team')"
   ]
  },
  {
   "cell_type": "code",
   "execution_count": 7,
   "metadata": {},
   "outputs": [],
   "source": [
    "_538_matched_womens = _538_matched_womens.drop('team_id', axis=1)"
   ]
  },
  {
   "cell_type": "code",
   "execution_count": 146,
   "metadata": {},
   "outputs": [],
   "source": [
    "# _538.sort_values(by ='forecast_date').forecast_date.unique()\n",
    "\n",
    "# dates = ['2016-03-14', '2017-03-12', '2018-03-12', '2019-03-17', '2021-03-14','2022-03-13', '2023-03-12']\n",
    "\n",
    "# _538_cleaned = _538[_538.forecast_date.isin(dates)].copy()\n"
   ]
  },
  {
   "cell_type": "code",
   "execution_count": 148,
   "metadata": {},
   "outputs": [],
   "source": [
    "_538_matched_womens = _538_cleaned[_538_cleaned.gender == 'womens'].copy()\n",
    "_538_matched_mens = _538_cleaned[_538_cleaned.gender == 'mens'].copy()"
   ]
  },
  {
   "cell_type": "code",
   "execution_count": 149,
   "metadata": {},
   "outputs": [],
   "source": [
    "_538_matched_mens = _538_matched_mens.merge(kaggle_mapping, how='left', left_on='team_name', right_on='match_system_team')\n",
    "_538_matched_womens = _538_matched_womens.merge(kaggle_mapping, how='left', left_on='team_name', right_on='match_system_team')"
   ]
  },
  {
   "cell_type": "code",
   "execution_count": 150,
   "metadata": {},
   "outputs": [],
   "source": [
    "_538_matched_mens = _538_matched_mens.drop('team_id', axis=1)\n",
    "_538_matched_womens = _538_matched_womens.drop('team_id', axis=1)"
   ]
  },
  {
   "cell_type": "code",
   "execution_count": 9,
   "metadata": {},
   "outputs": [],
   "source": [
    "_538_matched_womens = _538_matched_womens.merge(wteams,how='left', left_on='kaggle_team', right_on='TeamName')"
   ]
  },
  {
   "cell_type": "code",
   "execution_count": 12,
   "metadata": {},
   "outputs": [
    {
     "data": {
      "text/plain": [
       "Index(['gender', 'forecast_date', 'playin_flag', 'rd1_win', 'rd2_win',\n",
       "       'rd3_win', 'rd4_win', 'rd5_win', 'rd6_win', 'rd7_win', 'results_to',\n",
       "       'team_alive', 'team_name', 'team_rating', 'team_region', 'team_seed',\n",
       "       'team_slot', 'Season', 'kaggle_team', 'match_system_team',\n",
       "       'match_system', 'TeamID', 'TeamName'],\n",
       "      dtype='object')"
      ]
     },
     "execution_count": 12,
     "metadata": {},
     "output_type": "execute_result"
    }
   ],
   "source": [
    "_538_matched_womens.columns"
   ]
  },
  {
   "cell_type": "code",
   "execution_count": 15,
   "metadata": {},
   "outputs": [],
   "source": [
    "_538 = _538.drop('Unnamed: 0', axis=1)"
   ]
  },
  {
   "cell_type": "code",
   "execution_count": 18,
   "metadata": {},
   "outputs": [],
   "source": [
    "_538 = pd.concat([_538, _538_matched_womens], axis = 0)"
   ]
  },
  {
   "cell_type": "code",
   "execution_count": 21,
   "metadata": {},
   "outputs": [],
   "source": [
    "_538.to_csv('../data/all_538.csv', index=False)"
   ]
  },
  {
   "cell_type": "code",
   "execution_count": 26,
   "metadata": {},
   "outputs": [],
   "source": [
    "womens = _538[_538.gender == 'womens']"
   ]
  },
  {
   "cell_type": "code",
   "execution_count": 27,
   "metadata": {},
   "outputs": [],
   "source": [
    "womens.to_csv('../data/W538.csv', index=False)"
   ]
  },
  {
   "cell_type": "code",
   "execution_count": null,
   "metadata": {},
   "outputs": [],
   "source": []
  },
  {
   "cell_type": "code",
   "execution_count": null,
   "metadata": {},
   "outputs": [],
   "source": []
  },
  {
   "cell_type": "code",
   "execution_count": null,
   "metadata": {},
   "outputs": [],
   "source": []
  },
  {
   "cell_type": "code",
   "execution_count": 17,
   "metadata": {},
   "outputs": [
    {
     "data": {
      "text/plain": [
       "[('gender', 'gender'),\n",
       " ('forecast_date', 'forecast_date'),\n",
       " ('playin_flag', 'playin_flag'),\n",
       " ('rd1_win', 'rd1_win'),\n",
       " ('rd2_win', 'rd2_win'),\n",
       " ('rd3_win', 'rd3_win'),\n",
       " ('rd4_win', 'rd4_win'),\n",
       " ('rd5_win', 'rd5_win'),\n",
       " ('rd6_win', 'rd6_win'),\n",
       " ('rd7_win', 'rd7_win'),\n",
       " ('team_alive', 'results_to'),\n",
       " ('team_name', 'team_alive'),\n",
       " ('team_rating', 'team_name'),\n",
       " ('team_region', 'team_rating'),\n",
       " ('team_seed', 'team_region'),\n",
       " ('results_to', 'team_seed'),\n",
       " ('team_slot', 'team_slot'),\n",
       " ('Season', 'Season'),\n",
       " ('kaggle_team', 'kaggle_team'),\n",
       " ('match_system_team', 'match_system_team'),\n",
       " ('match_system', 'match_system'),\n",
       " ('TeamID', 'TeamID'),\n",
       " ('TeamName', 'TeamName')]"
      ]
     },
     "execution_count": 17,
     "metadata": {},
     "output_type": "execute_result"
    }
   ],
   "source": [
    "list(zip(_538.columns, _538_matched_womens))"
   ]
  },
  {
   "cell_type": "code",
   "execution_count": 151,
   "metadata": {},
   "outputs": [],
   "source": [
    "_538_matched_mens = _538_matched_mens.merge(mteams,how='left', left_on='kaggle_team', right_on='TeamName')\n",
    "_538_matched_womens = _538_matched_womens.merge(wteams,how='left', left_on='kaggle_team', right_on='TeamName')"
   ]
  },
  {
   "cell_type": "code",
   "execution_count": 152,
   "metadata": {},
   "outputs": [],
   "source": [
    "_538_matched_mens[['Season', 'TeamID']].value_counts()\n",
    "\n",
    "\n",
    "_538_matched_mens = _538_matched_mens[_538_matched_mens.match_system_team != '']"
   ]
  },
  {
   "cell_type": "code",
   "execution_count": 153,
   "metadata": {},
   "outputs": [
    {
     "data": {
      "text/html": [
       "<div>\n",
       "<style scoped>\n",
       "    .dataframe tbody tr th:only-of-type {\n",
       "        vertical-align: middle;\n",
       "    }\n",
       "\n",
       "    .dataframe tbody tr th {\n",
       "        vertical-align: top;\n",
       "    }\n",
       "\n",
       "    .dataframe thead th {\n",
       "        text-align: right;\n",
       "    }\n",
       "</style>\n",
       "<table border=\"1\" class=\"dataframe\">\n",
       "  <thead>\n",
       "    <tr style=\"text-align: right;\">\n",
       "      <th></th>\n",
       "      <th>Unnamed: 0</th>\n",
       "      <th>gender</th>\n",
       "      <th>forecast_date</th>\n",
       "      <th>playin_flag</th>\n",
       "      <th>rd1_win</th>\n",
       "      <th>rd2_win</th>\n",
       "      <th>rd3_win</th>\n",
       "      <th>rd4_win</th>\n",
       "      <th>rd5_win</th>\n",
       "      <th>rd6_win</th>\n",
       "      <th>...</th>\n",
       "      <th>results_to</th>\n",
       "      <th>team_slot</th>\n",
       "      <th>Season</th>\n",
       "      <th>kaggle_team</th>\n",
       "      <th>match_system_team</th>\n",
       "      <th>match_system</th>\n",
       "      <th>TeamID</th>\n",
       "      <th>TeamName</th>\n",
       "      <th>FirstD1Season</th>\n",
       "      <th>LastD1Season</th>\n",
       "    </tr>\n",
       "  </thead>\n",
       "  <tbody>\n",
       "    <tr>\n",
       "      <th>93</th>\n",
       "      <td>25</td>\n",
       "      <td>mens</td>\n",
       "      <td>2017-03-12</td>\n",
       "      <td>0</td>\n",
       "      <td>1.0</td>\n",
       "      <td>0.560859</td>\n",
       "      <td>0.219366</td>\n",
       "      <td>0.082632</td>\n",
       "      <td>0.028123</td>\n",
       "      <td>0.010679</td>\n",
       "      <td>...</td>\n",
       "      <td>NaN</td>\n",
       "      <td>NaN</td>\n",
       "      <td>2017</td>\n",
       "      <td>Creighton</td>\n",
       "      <td>Creighton</td>\n",
       "      <td>538</td>\n",
       "      <td>1166</td>\n",
       "      <td>Creighton</td>\n",
       "      <td>1985</td>\n",
       "      <td>2023</td>\n",
       "    </tr>\n",
       "    <tr>\n",
       "      <th>165</th>\n",
       "      <td>777</td>\n",
       "      <td>mens</td>\n",
       "      <td>2018-03-12</td>\n",
       "      <td>0</td>\n",
       "      <td>1.0</td>\n",
       "      <td>0.582607</td>\n",
       "      <td>0.097680</td>\n",
       "      <td>0.037712</td>\n",
       "      <td>0.013372</td>\n",
       "      <td>0.005399</td>\n",
       "      <td>...</td>\n",
       "      <td>NaN</td>\n",
       "      <td>NaN</td>\n",
       "      <td>2018</td>\n",
       "      <td>Creighton</td>\n",
       "      <td>Creighton</td>\n",
       "      <td>538</td>\n",
       "      <td>1166</td>\n",
       "      <td>Creighton</td>\n",
       "      <td>1985</td>\n",
       "      <td>2023</td>\n",
       "    </tr>\n",
       "    <tr>\n",
       "      <th>285</th>\n",
       "      <td>693</td>\n",
       "      <td>mens</td>\n",
       "      <td>2021-03-14</td>\n",
       "      <td>0</td>\n",
       "      <td>1.0</td>\n",
       "      <td>0.818708</td>\n",
       "      <td>0.413032</td>\n",
       "      <td>0.096099</td>\n",
       "      <td>0.048696</td>\n",
       "      <td>0.026252</td>\n",
       "      <td>...</td>\n",
       "      <td>1.0</td>\n",
       "      <td>8.0</td>\n",
       "      <td>2021</td>\n",
       "      <td>Creighton</td>\n",
       "      <td>Creighton</td>\n",
       "      <td>538</td>\n",
       "      <td>1166</td>\n",
       "      <td>Creighton</td>\n",
       "      <td>1985</td>\n",
       "      <td>2023</td>\n",
       "    </tr>\n",
       "    <tr>\n",
       "      <th>377</th>\n",
       "      <td>785</td>\n",
       "      <td>mens</td>\n",
       "      <td>2022-03-13</td>\n",
       "      <td>0</td>\n",
       "      <td>1.0</td>\n",
       "      <td>0.445588</td>\n",
       "      <td>0.086119</td>\n",
       "      <td>0.031879</td>\n",
       "      <td>0.012279</td>\n",
       "      <td>0.003796</td>\n",
       "      <td>...</td>\n",
       "      <td>1.0</td>\n",
       "      <td>70.0</td>\n",
       "      <td>2022</td>\n",
       "      <td>Creighton</td>\n",
       "      <td>Creighton</td>\n",
       "      <td>538</td>\n",
       "      <td>1166</td>\n",
       "      <td>Creighton</td>\n",
       "      <td>1985</td>\n",
       "      <td>2023</td>\n",
       "    </tr>\n",
       "    <tr>\n",
       "      <th>419</th>\n",
       "      <td>11</td>\n",
       "      <td>mens</td>\n",
       "      <td>2023-03-12</td>\n",
       "      <td>0</td>\n",
       "      <td>1.0</td>\n",
       "      <td>0.784554</td>\n",
       "      <td>0.457186</td>\n",
       "      <td>0.260216</td>\n",
       "      <td>0.113253</td>\n",
       "      <td>0.061209</td>\n",
       "      <td>...</td>\n",
       "      <td>1.0</td>\n",
       "      <td>16.0</td>\n",
       "      <td>2023</td>\n",
       "      <td>Creighton</td>\n",
       "      <td>Creighton</td>\n",
       "      <td>538</td>\n",
       "      <td>1166</td>\n",
       "      <td>Creighton</td>\n",
       "      <td>1985</td>\n",
       "      <td>2023</td>\n",
       "    </tr>\n",
       "  </tbody>\n",
       "</table>\n",
       "<p>5 rows × 26 columns</p>\n",
       "</div>"
      ],
      "text/plain": [
       "     Unnamed: 0 gender forecast_date  playin_flag  rd1_win   rd2_win  \\\n",
       "93           25   mens    2017-03-12            0      1.0  0.560859   \n",
       "165         777   mens    2018-03-12            0      1.0  0.582607   \n",
       "285         693   mens    2021-03-14            0      1.0  0.818708   \n",
       "377         785   mens    2022-03-13            0      1.0  0.445588   \n",
       "419          11   mens    2023-03-12            0      1.0  0.784554   \n",
       "\n",
       "      rd3_win   rd4_win   rd5_win   rd6_win  ...  results_to  team_slot  \\\n",
       "93   0.219366  0.082632  0.028123  0.010679  ...         NaN        NaN   \n",
       "165  0.097680  0.037712  0.013372  0.005399  ...         NaN        NaN   \n",
       "285  0.413032  0.096099  0.048696  0.026252  ...         1.0        8.0   \n",
       "377  0.086119  0.031879  0.012279  0.003796  ...         1.0       70.0   \n",
       "419  0.457186  0.260216  0.113253  0.061209  ...         1.0       16.0   \n",
       "\n",
       "    Season  kaggle_team match_system_team match_system  TeamID   TeamName  \\\n",
       "93    2017    Creighton         Creighton          538    1166  Creighton   \n",
       "165   2018    Creighton         Creighton          538    1166  Creighton   \n",
       "285   2021    Creighton         Creighton          538    1166  Creighton   \n",
       "377   2022    Creighton         Creighton          538    1166  Creighton   \n",
       "419   2023    Creighton         Creighton          538    1166  Creighton   \n",
       "\n",
       "     FirstD1Season LastD1Season  \n",
       "93            1985         2023  \n",
       "165           1985         2023  \n",
       "285           1985         2023  \n",
       "377           1985         2023  \n",
       "419           1985         2023  \n",
       "\n",
       "[5 rows x 26 columns]"
      ]
     },
     "execution_count": 153,
     "metadata": {},
     "output_type": "execute_result"
    }
   ],
   "source": [
    "_538_matched_mens\n",
    "_538_matched_mens[_538_matched_mens.TeamID == 1166]"
   ]
  },
  {
   "cell_type": "code",
   "execution_count": 154,
   "metadata": {},
   "outputs": [],
   "source": [
    "_538_matched = pd.concat([_538_matched_mens, _538_matched_womens], axis=0)"
   ]
  },
  {
   "cell_type": "code",
   "execution_count": 155,
   "metadata": {},
   "outputs": [],
   "source": [
    "_538_matched.to_csv('../data/all_538.csv', index=False)"
   ]
  },
  {
   "cell_type": "code",
   "execution_count": 159,
   "metadata": {},
   "outputs": [],
   "source": [
    "_538.TeamID.value_counts()\n",
    "\n",
    "_538_matched_womens = _538[_538.gender == 'womens'].copy()\n",
    "_538_matched_mens = _538[_538.gender == 'mens'].copy()"
   ]
  },
  {
   "cell_type": "code",
   "execution_count": 165,
   "metadata": {},
   "outputs": [
    {
     "data": {
      "text/html": [
       "<div>\n",
       "<style scoped>\n",
       "    .dataframe tbody tr th:only-of-type {\n",
       "        vertical-align: middle;\n",
       "    }\n",
       "\n",
       "    .dataframe tbody tr th {\n",
       "        vertical-align: top;\n",
       "    }\n",
       "\n",
       "    .dataframe thead th {\n",
       "        text-align: right;\n",
       "    }\n",
       "</style>\n",
       "<table border=\"1\" class=\"dataframe\">\n",
       "  <thead>\n",
       "    <tr style=\"text-align: right;\">\n",
       "      <th></th>\n",
       "      <th>Season</th>\n",
       "      <th>TeamID</th>\n",
       "    </tr>\n",
       "  </thead>\n",
       "  <tbody>\n",
       "    <tr>\n",
       "      <th>0</th>\n",
       "      <td>2016</td>\n",
       "      <td>1242</td>\n",
       "    </tr>\n",
       "    <tr>\n",
       "      <th>1</th>\n",
       "      <td>2016</td>\n",
       "      <td>1314</td>\n",
       "    </tr>\n",
       "    <tr>\n",
       "      <th>2</th>\n",
       "      <td>2016</td>\n",
       "      <td>1438</td>\n",
       "    </tr>\n",
       "    <tr>\n",
       "      <th>3</th>\n",
       "      <td>2016</td>\n",
       "      <td>1277</td>\n",
       "    </tr>\n",
       "    <tr>\n",
       "      <th>4</th>\n",
       "      <td>2016</td>\n",
       "      <td>1328</td>\n",
       "    </tr>\n",
       "    <tr>\n",
       "      <th>...</th>\n",
       "      <td>...</td>\n",
       "      <td>...</td>\n",
       "    </tr>\n",
       "    <tr>\n",
       "      <th>471</th>\n",
       "      <td>2023</td>\n",
       "      <td>1394</td>\n",
       "    </tr>\n",
       "    <tr>\n",
       "      <th>472</th>\n",
       "      <td>2023</td>\n",
       "      <td>1369</td>\n",
       "    </tr>\n",
       "    <tr>\n",
       "      <th>473</th>\n",
       "      <td>2023</td>\n",
       "      <td>1224</td>\n",
       "    </tr>\n",
       "    <tr>\n",
       "      <th>474</th>\n",
       "      <td>2023</td>\n",
       "      <td>1411</td>\n",
       "    </tr>\n",
       "    <tr>\n",
       "      <th>475</th>\n",
       "      <td>2023</td>\n",
       "      <td>1192</td>\n",
       "    </tr>\n",
       "  </tbody>\n",
       "</table>\n",
       "<p>476 rows × 2 columns</p>\n",
       "</div>"
      ],
      "text/plain": [
       "     Season  TeamID\n",
       "0      2016    1242\n",
       "1      2016    1314\n",
       "2      2016    1438\n",
       "3      2016    1277\n",
       "4      2016    1328\n",
       "..      ...     ...\n",
       "471    2023    1394\n",
       "472    2023    1369\n",
       "473    2023    1224\n",
       "474    2023    1411\n",
       "475    2023    1192\n",
       "\n",
       "[476 rows x 2 columns]"
      ]
     },
     "execution_count": 165,
     "metadata": {},
     "output_type": "execute_result"
    }
   ],
   "source": [
    "_538_matched_mens[['Season', 'TeamID']].drop_duplicates()"
   ]
  },
  {
   "cell_type": "code",
   "execution_count": null,
   "metadata": {},
   "outputs": [],
   "source": []
  }
 ],
 "metadata": {
  "kernelspec": {
   "display_name": "ncaa_model",
   "language": "python",
   "name": "ncaa_model"
  },
  "language_info": {
   "codemirror_mode": {
    "name": "ipython",
    "version": 3
   },
   "file_extension": ".py",
   "mimetype": "text/x-python",
   "name": "python",
   "nbconvert_exporter": "python",
   "pygments_lexer": "ipython3",
   "version": "3.8.9"
  },
  "orig_nbformat": 4
 },
 "nbformat": 4,
 "nbformat_minor": 2
}

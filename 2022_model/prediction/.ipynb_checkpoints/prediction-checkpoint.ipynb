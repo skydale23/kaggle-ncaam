{
 "cells": [
  {
   "cell_type": "code",
   "execution_count": 1,
   "metadata": {},
   "outputs": [],
   "source": [
    "import pandas as pd"
   ]
  },
  {
   "cell_type": "code",
   "execution_count": 2,
   "metadata": {},
   "outputs": [],
   "source": [
    "%run ../functions.ipynb"
   ]
  },
  {
   "cell_type": "markdown",
   "metadata": {},
   "source": [
    "### Import data & model"
   ]
  },
  {
   "cell_type": "code",
   "execution_count": 3,
   "metadata": {},
   "outputs": [],
   "source": [
    "#get sample dataset\n",
    "# sub = pd.read_csv('../data/MDataFiles_Stage1/MSampleSubmissionStage1.csv') #first stage\n",
    "\n",
    "sub = pd.read_csv('../data/MDataFiles_Stage2/MSampleSubmissionStage2.csv') #second stage\n",
    "sub = process_sample_sub(sub)"
   ]
  },
  {
   "cell_type": "code",
   "execution_count": 4,
   "metadata": {},
   "outputs": [],
   "source": [
    "sub = sub[['ID', 'Season', 'Team1', 'Team2']]"
   ]
  },
  {
   "cell_type": "code",
   "execution_count": 5,
   "metadata": {},
   "outputs": [],
   "source": [
    "#processed data\n",
    "all_games = pd.read_csv('../feature_engineering/output/all_games.csv')"
   ]
  },
  {
   "cell_type": "code",
   "execution_count": 6,
   "metadata": {},
   "outputs": [],
   "source": [
    "#model\n",
    "import pickle\n",
    "\n",
    "# with open(\"../model_build/model/rf.pkl\", \"rb\") as file: \n",
    "#     model = pickle.load(file)  \n",
    "    \n",
    "with open(\"../model_build/model/logreg.pkl\", \"rb\") as file: \n",
    "     model = pickle.load(file)"
   ]
  },
  {
   "cell_type": "markdown",
   "metadata": {},
   "source": [
    "### Prediction"
   ]
  },
  {
   "cell_type": "code",
   "execution_count": 7,
   "metadata": {},
   "outputs": [],
   "source": [
    "all_games = all_games.fillna(0)"
   ]
  },
  {
   "cell_type": "code",
   "execution_count": null,
   "metadata": {},
   "outputs": [],
   "source": [
    "pred_games = all_games[all_games.type == 1] # get only games not yet played\n",
    "\n",
    "\n",
    "feature_list = ['seed_diff', \n",
    "            't1_adj_margin', 't2_adj_margin',\n",
    "                't1_final_rank', 't2_final_rank',\n",
    "                't1_OrdinalRank', 't2_OrdinalRank',\n",
    "     't1_adj_margin_3',\n",
    " 't2_adj_margin_3',\n",
    "     't1_adj_margin_2',\n",
    " 't2_adj_margin_2',\n",
    "     't1_adj_margin_10',\n",
    " 't2_adj_margin_10',\n",
    "      't1_num_wins',\n",
    "    't2_num_wins',\n",
    "     't1_adj_margin_7',\n",
    " 't2_adj_margin_7',\n",
    "     't1_won_conf_tournament',\n",
    "    't2_won_conf_tournament',\n",
    "      't1_num_losses',\n",
    "    't2_num_losses',\n",
    "     't1_adj_margin_5',\n",
    " 't2_adj_margin_5',\n",
    "    'num_wins_diff',\n",
    "]\n",
    "\n",
    "\n",
    "\n",
    "X = pred_games[feature_list].values\n",
    "\n",
    "\n",
    "\n",
    "pred_games['Pred'] = model.predict_proba(X)[:,1]"
   ]
  },
  {
   "cell_type": "code",
   "execution_count": 10,
   "metadata": {},
   "outputs": [],
   "source": [
    "pred_games[['ID', 'Pred']].to_csv('submission.csv', index = False)"
   ]
  },
  {
   "cell_type": "markdown",
   "metadata": {},
   "source": [
    "### Export Data For Bracket Simulator"
   ]
  },
  {
   "cell_type": "code",
   "execution_count": 10,
   "metadata": {},
   "outputs": [],
   "source": [
    "pred_games.to_csv('all_predictions.csv', index = False)"
   ]
  },
  {
   "cell_type": "code",
   "execution_count": 11,
   "metadata": {},
   "outputs": [
    {
     "ename": "NameError",
     "evalue": "name 'data_path' is not defined",
     "output_type": "error",
     "traceback": [
      "\u001b[0;31m---------------------------------------------------------------------------\u001b[0m",
      "\u001b[0;31mNameError\u001b[0m                                 Traceback (most recent call last)",
      "\u001b[0;32m/var/folders/2g/465yxy_x4g786jx2llr5xqh40000gn/T/ipykernel_12055/826268726.py\u001b[0m in \u001b[0;36m<module>\u001b[0;34m\u001b[0m\n\u001b[0;32m----> 1\u001b[0;31m \u001b[0mteams\u001b[0m \u001b[0;34m=\u001b[0m \u001b[0mpd\u001b[0m\u001b[0;34m.\u001b[0m\u001b[0mread_csv\u001b[0m\u001b[0;34m(\u001b[0m\u001b[0mdata_path\u001b[0m \u001b[0;34m+\u001b[0m \u001b[0;34m'MTeams.csv'\u001b[0m\u001b[0;34m)\u001b[0m\u001b[0;34m\u001b[0m\u001b[0;34m\u001b[0m\u001b[0m\n\u001b[0m",
      "\u001b[0;31mNameError\u001b[0m: name 'data_path' is not defined"
     ]
    }
   ],
   "source": [
    "teams = pd.read_csv(data_path + 'MTeams.csv')\n"
   ]
  },
  {
   "cell_type": "code",
   "execution_count": null,
   "metadata": {},
   "outputs": [],
   "source": [
    "#Add team names\n",
    "teams = pd.read_csv(data_path + 'MTeams.csv')\n",
    "pred_games = pred_games.merge(teams[['TeamID', 'TeamName']], left_on = 'Team1', right_on = 'TeamID')\n",
    "pred_games = pred_games.rename(columns = {'TeamName': 'Team1_name'})\n",
    "pred_games = pred_games.merge(teams[['TeamID', 'TeamName']], left_on = 'Team2', right_on = 'TeamID')\n",
    "pred_games = pred_games.rename(columns = {'TeamName': 'Team2_name'})"
   ]
  },
  {
   "cell_type": "code",
   "execution_count": null,
   "metadata": {},
   "outputs": [],
   "source": [
    "import re \n",
    "\n",
    "data_path = '../data/MDataFiles_Stage2/' #this is for the second stage of data\n",
    "slots = pd.read_csv(data_path + 'MNCAATourneySlots.csv')\n",
    "tourney_seeds = pd.read_csv(data_path + 'MNCAATourneySeeds.csv')\n",
    "teams = pd.read_csv(data_path + 'MTeams.csv')\n",
    "\n",
    "# Add names\n",
    "strong_seed = tourney_seeds.merge(teams[['TeamID', 'TeamName']], on = 'TeamID')\n",
    "strong_seed = strong_seed.rename(columns = {'Seed': 'StrongSeed', 'TeamID': 'StrongSeedTeamID', 'TeamName': 'StrongSeedTeamName'})\n",
    "weak_seed = tourney_seeds.merge(teams[['TeamID', 'TeamName']], on = 'TeamID')\n",
    "weak_seed = weak_seed.rename(columns = {'Seed': 'WeakSeed', 'TeamID': 'WeakSeedTeamID', 'TeamName': 'WeekSeedTeamName'})\n",
    "\n",
    "#Add seeds to slots\n",
    "tourney_slots = slots.merge(strong_seed, how = 'left', on = ['Season', 'StrongSeed'])\n",
    "tourney_slots = tourney_slots.merge(weak_seed, how = 'left', on = ['Season', 'WeakSeed'])\n",
    "tourney_slots = tourney_slots[tourney_slots.Season == 2022]\n",
    "tourney_slots['StrongSeedClean'] = tourney_slots['StrongSeed'].apply(lambda x: re.sub('[^0-9]','', x)).apply(int)\n",
    "tourney_slots['WeakSeedClean'] = tourney_slots['WeakSeed'].apply(lambda x: re.sub('[^0-9]','', x)).apply(int)\n",
    "\n",
    "# Add Round\n",
    "tourney_slots['Round'] = tourney_slots['Slot'].apply(lambda x: 0 if x.startswith(('W', 'X', 'Y', 'Z')) else int(x[1]))\n",
    "tourney_slots.sort_values(by = 'Round', inplace = True)\n"
   ]
  },
  {
   "cell_type": "code",
   "execution_count": null,
   "metadata": {},
   "outputs": [],
   "source": [
    "prob_lookup = {}\n",
    "\n",
    "for index, row in pred_games[['Team1', 'Team2', 'Pred']].iterrows():\n",
    "    \n",
    "    t1 = row['Team1']\n",
    "    t2 = row['Team2']\n",
    "    pred = row['Pred']\n",
    "    \n",
    "    if t1 in prob_lookup.keys():\n",
    "        prob_lookup[t1][t2] = pred\n",
    "        \n",
    "    else:\n",
    "        prob_lookup[t1] = {t2:pred}\n",
    "    \n",
    "\n",
    "    if t2 in prob_lookup.keys():\n",
    "        prob_lookup[t2][t1] = 1 - pred\n",
    "        \n",
    "    else:\n",
    "        prob_lookup[t2] = {t1: 1- pred}\n"
   ]
  },
  {
   "cell_type": "markdown",
   "metadata": {},
   "source": [
    "#### Join with Team Names for exploration"
   ]
  },
  {
   "cell_type": "code",
   "execution_count": 12,
   "metadata": {},
   "outputs": [],
   "source": [
    "data_path = '../data/MDataFiles_Stage2/' #this is for the second stage of data\n",
    "teams = pd.read_csv(data_path + 'MTeams.csv')\n"
   ]
  },
  {
   "cell_type": "code",
   "execution_count": 13,
   "metadata": {},
   "outputs": [],
   "source": [
    "pred_games = pred_games.merge(teams[['TeamID', 'TeamName']], left_on = 'Team1', right_on = 'TeamID')\n",
    "pred_games = pred_games.rename(columns = {'TeamName': 'Team1_name'})\n",
    "pred_games = pred_games.merge(teams[['TeamID', 'TeamName']], left_on = 'Team2', right_on = 'TeamID')\n",
    "pred_games = pred_games.rename(columns = {'TeamName': 'Team2_name'})"
   ]
  },
  {
   "cell_type": "code",
   "execution_count": 14,
   "metadata": {},
   "outputs": [],
   "source": [
    "pred_games.Team1_name = pred_games.Team1_name.str.lower()\n",
    "pred_games.Team2_name = pred_games.Team2_name.str.lower()"
   ]
  },
  {
   "cell_type": "markdown",
   "metadata": {},
   "source": [
    "#### Join with expert picks"
   ]
  },
  {
   "cell_type": "code",
   "execution_count": 15,
   "metadata": {},
   "outputs": [],
   "source": [
    "data_path = '../data/' #this is for the second stage of data\n",
    "experts = pd.read_csv(data_path + 'MExpertsMedianSubmission.csv')\n",
    "experts.rename(columns = {'Pred': 'expert_pred'}, inplace = True)"
   ]
  },
  {
   "cell_type": "code",
   "execution_count": 16,
   "metadata": {},
   "outputs": [],
   "source": [
    "pred_games = pred_games.merge(experts, how = 'left', on = ['ID'])"
   ]
  },
  {
   "cell_type": "code",
   "execution_count": null,
   "metadata": {},
   "outputs": [],
   "source": []
  },
  {
   "cell_type": "code",
   "execution_count": 17,
   "metadata": {},
   "outputs": [
    {
     "data": {
      "text/html": [
       "<div>\n",
       "<style scoped>\n",
       "    .dataframe tbody tr th:only-of-type {\n",
       "        vertical-align: middle;\n",
       "    }\n",
       "\n",
       "    .dataframe tbody tr th {\n",
       "        vertical-align: top;\n",
       "    }\n",
       "\n",
       "    .dataframe thead th {\n",
       "        text-align: right;\n",
       "    }\n",
       "</style>\n",
       "<table border=\"1\" class=\"dataframe\">\n",
       "  <thead>\n",
       "    <tr style=\"text-align: right;\">\n",
       "      <th></th>\n",
       "      <th>Unnamed: 0</th>\n",
       "      <th>type</th>\n",
       "      <th>ID</th>\n",
       "      <th>Pred</th>\n",
       "      <th>Season</th>\n",
       "      <th>Team1</th>\n",
       "      <th>Team2</th>\n",
       "      <th>Outcome</th>\n",
       "      <th>Team1_conf</th>\n",
       "      <th>Team2_conf</th>\n",
       "      <th>...</th>\n",
       "      <th>t1_won_conf_tournament</th>\n",
       "      <th>num_wins_y</th>\n",
       "      <th>num_losses_y</th>\n",
       "      <th>ct_win_rate_y</th>\n",
       "      <th>t2_won_conf_tournament</th>\n",
       "      <th>TeamID_x</th>\n",
       "      <th>Team1_name</th>\n",
       "      <th>TeamID_y</th>\n",
       "      <th>Team2_name</th>\n",
       "      <th>expert_pred</th>\n",
       "    </tr>\n",
       "  </thead>\n",
       "  <tbody>\n",
       "    <tr>\n",
       "      <th>0</th>\n",
       "      <td>2362</td>\n",
       "      <td>1</td>\n",
       "      <td>2022_1103_1104</td>\n",
       "      <td>0.274281</td>\n",
       "      <td>2022</td>\n",
       "      <td>1103</td>\n",
       "      <td>1104</td>\n",
       "      <td>0.0</td>\n",
       "      <td>mac</td>\n",
       "      <td>sec</td>\n",
       "      <td>...</td>\n",
       "      <td>1.0</td>\n",
       "      <td>0.0</td>\n",
       "      <td>1.0</td>\n",
       "      <td>0.0</td>\n",
       "      <td>0.0</td>\n",
       "      <td>1103</td>\n",
       "      <td>akron</td>\n",
       "      <td>1104</td>\n",
       "      <td>alabama</td>\n",
       "      <td>0.180029</td>\n",
       "    </tr>\n",
       "    <tr>\n",
       "      <th>1</th>\n",
       "      <td>2363</td>\n",
       "      <td>1</td>\n",
       "      <td>2022_1103_1112</td>\n",
       "      <td>0.150332</td>\n",
       "      <td>2022</td>\n",
       "      <td>1103</td>\n",
       "      <td>1112</td>\n",
       "      <td>0.0</td>\n",
       "      <td>mac</td>\n",
       "      <td>pac_twelve</td>\n",
       "      <td>...</td>\n",
       "      <td>1.0</td>\n",
       "      <td>3.0</td>\n",
       "      <td>0.0</td>\n",
       "      <td>1.0</td>\n",
       "      <td>1.0</td>\n",
       "      <td>1103</td>\n",
       "      <td>akron</td>\n",
       "      <td>1112</td>\n",
       "      <td>arizona</td>\n",
       "      <td>0.061795</td>\n",
       "    </tr>\n",
       "    <tr>\n",
       "      <th>2</th>\n",
       "      <td>2364</td>\n",
       "      <td>1</td>\n",
       "      <td>2022_1104_1112</td>\n",
       "      <td>0.318866</td>\n",
       "      <td>2022</td>\n",
       "      <td>1104</td>\n",
       "      <td>1112</td>\n",
       "      <td>0.0</td>\n",
       "      <td>sec</td>\n",
       "      <td>pac_twelve</td>\n",
       "      <td>...</td>\n",
       "      <td>0.0</td>\n",
       "      <td>3.0</td>\n",
       "      <td>0.0</td>\n",
       "      <td>1.0</td>\n",
       "      <td>1.0</td>\n",
       "      <td>1104</td>\n",
       "      <td>alabama</td>\n",
       "      <td>1112</td>\n",
       "      <td>arizona</td>\n",
       "      <td>0.241824</td>\n",
       "    </tr>\n",
       "    <tr>\n",
       "      <th>3</th>\n",
       "      <td>2365</td>\n",
       "      <td>1</td>\n",
       "      <td>2022_1103_1116</td>\n",
       "      <td>0.257818</td>\n",
       "      <td>2022</td>\n",
       "      <td>1103</td>\n",
       "      <td>1116</td>\n",
       "      <td>0.0</td>\n",
       "      <td>mac</td>\n",
       "      <td>sec</td>\n",
       "      <td>...</td>\n",
       "      <td>1.0</td>\n",
       "      <td>1.0</td>\n",
       "      <td>1.0</td>\n",
       "      <td>0.5</td>\n",
       "      <td>0.0</td>\n",
       "      <td>1103</td>\n",
       "      <td>akron</td>\n",
       "      <td>1116</td>\n",
       "      <td>arkansas</td>\n",
       "      <td>0.149892</td>\n",
       "    </tr>\n",
       "    <tr>\n",
       "      <th>4</th>\n",
       "      <td>2366</td>\n",
       "      <td>1</td>\n",
       "      <td>2022_1104_1116</td>\n",
       "      <td>0.478930</td>\n",
       "      <td>2022</td>\n",
       "      <td>1104</td>\n",
       "      <td>1116</td>\n",
       "      <td>0.0</td>\n",
       "      <td>sec</td>\n",
       "      <td>sec</td>\n",
       "      <td>...</td>\n",
       "      <td>0.0</td>\n",
       "      <td>1.0</td>\n",
       "      <td>1.0</td>\n",
       "      <td>0.5</td>\n",
       "      <td>0.0</td>\n",
       "      <td>1104</td>\n",
       "      <td>alabama</td>\n",
       "      <td>1116</td>\n",
       "      <td>arkansas</td>\n",
       "      <td>0.445409</td>\n",
       "    </tr>\n",
       "  </tbody>\n",
       "</table>\n",
       "<p>5 rows × 119 columns</p>\n",
       "</div>"
      ],
      "text/plain": [
       "   Unnamed: 0  type              ID      Pred  Season  Team1  Team2  Outcome  \\\n",
       "0        2362     1  2022_1103_1104  0.274281    2022   1103   1104      0.0   \n",
       "1        2363     1  2022_1103_1112  0.150332    2022   1103   1112      0.0   \n",
       "2        2364     1  2022_1104_1112  0.318866    2022   1104   1112      0.0   \n",
       "3        2365     1  2022_1103_1116  0.257818    2022   1103   1116      0.0   \n",
       "4        2366     1  2022_1104_1116  0.478930    2022   1104   1116      0.0   \n",
       "\n",
       "  Team1_conf  Team2_conf  ...  t1_won_conf_tournament  num_wins_y  \\\n",
       "0        mac         sec  ...                     1.0         0.0   \n",
       "1        mac  pac_twelve  ...                     1.0         3.0   \n",
       "2        sec  pac_twelve  ...                     0.0         3.0   \n",
       "3        mac         sec  ...                     1.0         1.0   \n",
       "4        sec         sec  ...                     0.0         1.0   \n",
       "\n",
       "   num_losses_y  ct_win_rate_y  t2_won_conf_tournament  TeamID_x  Team1_name  \\\n",
       "0           1.0            0.0                     0.0      1103       akron   \n",
       "1           0.0            1.0                     1.0      1103       akron   \n",
       "2           0.0            1.0                     1.0      1104     alabama   \n",
       "3           1.0            0.5                     0.0      1103       akron   \n",
       "4           1.0            0.5                     0.0      1104     alabama   \n",
       "\n",
       "   TeamID_y  Team2_name  expert_pred  \n",
       "0      1104     alabama     0.180029  \n",
       "1      1112     arizona     0.061795  \n",
       "2      1112     arizona     0.241824  \n",
       "3      1116    arkansas     0.149892  \n",
       "4      1116    arkansas     0.445409  \n",
       "\n",
       "[5 rows x 119 columns]"
      ]
     },
     "execution_count": 17,
     "metadata": {},
     "output_type": "execute_result"
    }
   ],
   "source": [
    "pred_games.head()"
   ]
  },
  {
   "cell_type": "code",
   "execution_count": 18,
   "metadata": {},
   "outputs": [],
   "source": [
    "def game_lookup(df, t1, t2, features = ['ID', 'Team1_name', 'Team2_name', 'Pred', 'expert_pred'], season = 2021):\n",
    "\n",
    "    t1 = t1.lower()\n",
    "    t2 = t2.lower()\n",
    "    \n",
    "    if t1 < t2:\n",
    "        return df[ (df.Team1_name.str.startswith(t1)) & \n",
    "                         (df.Team2_name.str.startswith(t2)) ][features]\n",
    "    else:\n",
    "        return df[ (df.Team1_name.str.startswith(t2)) & \n",
    "                         (df.Team2_name.str.startswith(t1)) ][features]\n",
    " "
   ]
  },
  {
   "cell_type": "code",
   "execution_count": 35,
   "metadata": {},
   "outputs": [
    {
     "data": {
      "text/html": [
       "<div>\n",
       "<style scoped>\n",
       "    .dataframe tbody tr th:only-of-type {\n",
       "        vertical-align: middle;\n",
       "    }\n",
       "\n",
       "    .dataframe tbody tr th {\n",
       "        vertical-align: top;\n",
       "    }\n",
       "\n",
       "    .dataframe thead th {\n",
       "        text-align: right;\n",
       "    }\n",
       "</style>\n",
       "<table border=\"1\" class=\"dataframe\">\n",
       "  <thead>\n",
       "    <tr style=\"text-align: right;\">\n",
       "      <th></th>\n",
       "      <th>ID</th>\n",
       "      <th>Team1_name</th>\n",
       "      <th>Team2_name</th>\n",
       "      <th>Pred</th>\n",
       "      <th>expert_pred</th>\n",
       "    </tr>\n",
       "  </thead>\n",
       "  <tbody>\n",
       "    <tr>\n",
       "      <th>766</th>\n",
       "      <td>2022_1242_1314</td>\n",
       "      <td>kansas</td>\n",
       "      <td>north carolina</td>\n",
       "      <td>0.70141</td>\n",
       "      <td>0.753885</td>\n",
       "    </tr>\n",
       "  </tbody>\n",
       "</table>\n",
       "</div>"
      ],
      "text/plain": [
       "                 ID Team1_name      Team2_name     Pred  expert_pred\n",
       "766  2022_1242_1314     kansas  north carolina  0.70141     0.753885"
      ]
     },
     "execution_count": 35,
     "metadata": {},
     "output_type": "execute_result"
    }
   ],
   "source": [
    "game_lookup(pred_games, 'north c', 'kan')"
   ]
  },
  {
   "cell_type": "code",
   "execution_count": 123,
   "metadata": {},
   "outputs": [
    {
     "data": {
      "text/plain": [
       "['first']"
      ]
     },
     "execution_count": 123,
     "metadata": {},
     "output_type": "execute_result"
    }
   ],
   "source": [
    "test = myclass('yay')\n",
    "list(test.__dict__.keys())"
   ]
  },
  {
   "cell_type": "code",
   "execution_count": 118,
   "metadata": {},
   "outputs": [],
   "source": [
    "class myclass:\n",
    "    def __init__(self, first):\n",
    "        self.first = first"
   ]
  },
  {
   "cell_type": "code",
   "execution_count": 83,
   "metadata": {},
   "outputs": [
    {
     "data": {
      "text/html": [
       "<div>\n",
       "<style scoped>\n",
       "    .dataframe tbody tr th:only-of-type {\n",
       "        vertical-align: middle;\n",
       "    }\n",
       "\n",
       "    .dataframe tbody tr th {\n",
       "        vertical-align: top;\n",
       "    }\n",
       "\n",
       "    .dataframe thead th {\n",
       "        text-align: right;\n",
       "    }\n",
       "</style>\n",
       "<table border=\"1\" class=\"dataframe\">\n",
       "  <thead>\n",
       "    <tr style=\"text-align: right;\">\n",
       "      <th></th>\n",
       "      <th>ID</th>\n",
       "      <th>Team1_name</th>\n",
       "      <th>Team2_name</th>\n",
       "      <th>Pred</th>\n",
       "    </tr>\n",
       "  </thead>\n",
       "  <tbody>\n",
       "    <tr>\n",
       "      <th>1833</th>\n",
       "      <td>2022_1116_1436</td>\n",
       "      <td>arkansas</td>\n",
       "      <td>vermont</td>\n",
       "      <td>0.560159</td>\n",
       "    </tr>\n",
       "  </tbody>\n",
       "</table>\n",
       "</div>"
      ],
      "text/plain": [
       "                  ID Team1_name Team2_name      Pred\n",
       "1833  2022_1116_1436   arkansas    vermont  0.560159"
      ]
     },
     "execution_count": 83,
     "metadata": {},
     "output_type": "execute_result"
    }
   ],
   "source": [
    "game_lookup(pred_games, 'verm', 'ark')"
   ]
  },
  {
   "cell_type": "code",
   "execution_count": 17,
   "metadata": {},
   "outputs": [
    {
     "data": {
      "text/html": [
       "<div>\n",
       "<style scoped>\n",
       "    .dataframe tbody tr th:only-of-type {\n",
       "        vertical-align: middle;\n",
       "    }\n",
       "\n",
       "    .dataframe tbody tr th {\n",
       "        vertical-align: top;\n",
       "    }\n",
       "\n",
       "    .dataframe thead th {\n",
       "        text-align: right;\n",
       "    }\n",
       "</style>\n",
       "<table border=\"1\" class=\"dataframe\">\n",
       "  <thead>\n",
       "    <tr style=\"text-align: right;\">\n",
       "      <th></th>\n",
       "      <th>ID</th>\n",
       "      <th>Team1_name</th>\n",
       "      <th>Team2_name</th>\n",
       "      <th>Pred</th>\n",
       "    </tr>\n",
       "  </thead>\n",
       "  <tbody>\n",
       "    <tr>\n",
       "      <th>1672</th>\n",
       "      <td>2022_1222_1412</td>\n",
       "      <td>houston</td>\n",
       "      <td>uab</td>\n",
       "      <td>0.716046</td>\n",
       "    </tr>\n",
       "  </tbody>\n",
       "</table>\n",
       "</div>"
      ],
      "text/plain": [
       "                  ID Team1_name Team2_name      Pred\n",
       "1672  2022_1222_1412    houston        uab  0.716046"
      ]
     },
     "execution_count": 17,
     "metadata": {},
     "output_type": "execute_result"
    }
   ],
   "source": [
    "game_lookup(pred_games, 'hous', 'uab')"
   ]
  },
  {
   "cell_type": "code",
   "execution_count": 18,
   "metadata": {},
   "outputs": [
    {
     "data": {
      "text/html": [
       "<div>\n",
       "<style scoped>\n",
       "    .dataframe tbody tr th:only-of-type {\n",
       "        vertical-align: middle;\n",
       "    }\n",
       "\n",
       "    .dataframe tbody tr th {\n",
       "        vertical-align: top;\n",
       "    }\n",
       "\n",
       "    .dataframe thead th {\n",
       "        text-align: right;\n",
       "    }\n",
       "</style>\n",
       "<table border=\"1\" class=\"dataframe\">\n",
       "  <thead>\n",
       "    <tr style=\"text-align: right;\">\n",
       "      <th></th>\n",
       "      <th>ID</th>\n",
       "      <th>Team1_name</th>\n",
       "      <th>Team2_name</th>\n",
       "      <th>Pred</th>\n",
       "    </tr>\n",
       "  </thead>\n",
       "  <tbody>\n",
       "    <tr>\n",
       "      <th>968</th>\n",
       "      <td>2022_1234_1350</td>\n",
       "      <td>iowa</td>\n",
       "      <td>richmond</td>\n",
       "      <td>0.592715</td>\n",
       "    </tr>\n",
       "    <tr>\n",
       "      <th>969</th>\n",
       "      <td>2022_1235_1350</td>\n",
       "      <td>iowa st</td>\n",
       "      <td>richmond</td>\n",
       "      <td>0.501814</td>\n",
       "    </tr>\n",
       "  </tbody>\n",
       "</table>\n",
       "</div>"
      ],
      "text/plain": [
       "                 ID Team1_name Team2_name      Pred\n",
       "968  2022_1234_1350       iowa   richmond  0.592715\n",
       "969  2022_1235_1350    iowa st   richmond  0.501814"
      ]
     },
     "execution_count": 18,
     "metadata": {},
     "output_type": "execute_result"
    }
   ],
   "source": [
    "game_lookup(pred_games, 'rich', 'iowa')"
   ]
  },
  {
   "cell_type": "code",
   "execution_count": 19,
   "metadata": {},
   "outputs": [
    {
     "data": {
      "text/html": [
       "<div>\n",
       "<style scoped>\n",
       "    .dataframe tbody tr th:only-of-type {\n",
       "        vertical-align: middle;\n",
       "    }\n",
       "\n",
       "    .dataframe tbody tr th {\n",
       "        vertical-align: top;\n",
       "    }\n",
       "\n",
       "    .dataframe thead th {\n",
       "        text-align: right;\n",
       "    }\n",
       "</style>\n",
       "<table border=\"1\" class=\"dataframe\">\n",
       "  <thead>\n",
       "    <tr style=\"text-align: right;\">\n",
       "      <th></th>\n",
       "      <th>ID</th>\n",
       "      <th>Team1_name</th>\n",
       "      <th>Team2_name</th>\n",
       "      <th>Pred</th>\n",
       "    </tr>\n",
       "  </thead>\n",
       "  <tbody>\n",
       "    <tr>\n",
       "      <th>1077</th>\n",
       "      <td>2022_1344_1355</td>\n",
       "      <td>providence</td>\n",
       "      <td>s dakota st</td>\n",
       "      <td>0.568186</td>\n",
       "    </tr>\n",
       "  </tbody>\n",
       "</table>\n",
       "</div>"
      ],
      "text/plain": [
       "                  ID  Team1_name   Team2_name      Pred\n",
       "1077  2022_1344_1355  providence  s dakota st  0.568186"
      ]
     },
     "execution_count": 19,
     "metadata": {},
     "output_type": "execute_result"
    }
   ],
   "source": [
    "game_lookup(pred_games, 's dak', 'prov')"
   ]
  },
  {
   "cell_type": "code",
   "execution_count": 20,
   "metadata": {},
   "outputs": [
    {
     "data": {
      "text/html": [
       "<div>\n",
       "<style scoped>\n",
       "    .dataframe tbody tr th:only-of-type {\n",
       "        vertical-align: middle;\n",
       "    }\n",
       "\n",
       "    .dataframe tbody tr th {\n",
       "        vertical-align: top;\n",
       "    }\n",
       "\n",
       "    .dataframe thead th {\n",
       "        text-align: right;\n",
       "    }\n",
       "</style>\n",
       "<table border=\"1\" class=\"dataframe\">\n",
       "  <thead>\n",
       "    <tr style=\"text-align: right;\">\n",
       "      <th></th>\n",
       "      <th>ID</th>\n",
       "      <th>Team1_name</th>\n",
       "      <th>Team2_name</th>\n",
       "      <th>Pred</th>\n",
       "    </tr>\n",
       "  </thead>\n",
       "  <tbody>\n",
       "    <tr>\n",
       "      <th>471</th>\n",
       "      <td>2022_1129_1272</td>\n",
       "      <td>boise st</td>\n",
       "      <td>memphis</td>\n",
       "      <td>0.39301</td>\n",
       "    </tr>\n",
       "  </tbody>\n",
       "</table>\n",
       "</div>"
      ],
      "text/plain": [
       "                 ID Team1_name Team2_name     Pred\n",
       "471  2022_1129_1272   boise st    memphis  0.39301"
      ]
     },
     "execution_count": 20,
     "metadata": {},
     "output_type": "execute_result"
    }
   ],
   "source": [
    "game_lookup(pred_games, 'bois', 'mem')"
   ]
  },
  {
   "cell_type": "code",
   "execution_count": 21,
   "metadata": {},
   "outputs": [
    {
     "data": {
      "text/html": [
       "<div>\n",
       "<style scoped>\n",
       "    .dataframe tbody tr th:only-of-type {\n",
       "        vertical-align: middle;\n",
       "    }\n",
       "\n",
       "    .dataframe tbody tr th {\n",
       "        vertical-align: top;\n",
       "    }\n",
       "\n",
       "    .dataframe thead th {\n",
       "        text-align: right;\n",
       "    }\n",
       "</style>\n",
       "<table border=\"1\" class=\"dataframe\">\n",
       "  <thead>\n",
       "    <tr style=\"text-align: right;\">\n",
       "      <th></th>\n",
       "      <th>ID</th>\n",
       "      <th>Team1_name</th>\n",
       "      <th>Team2_name</th>\n",
       "      <th>Pred</th>\n",
       "    </tr>\n",
       "  </thead>\n",
       "  <tbody>\n",
       "    <tr>\n",
       "      <th>542</th>\n",
       "      <td>2022_1172_1276</td>\n",
       "      <td>davidson</td>\n",
       "      <td>michigan</td>\n",
       "      <td>0.418045</td>\n",
       "    </tr>\n",
       "    <tr>\n",
       "      <th>575</th>\n",
       "      <td>2022_1172_1277</td>\n",
       "      <td>davidson</td>\n",
       "      <td>michigan st</td>\n",
       "      <td>0.490400</td>\n",
       "    </tr>\n",
       "  </tbody>\n",
       "</table>\n",
       "</div>"
      ],
      "text/plain": [
       "                 ID Team1_name   Team2_name      Pred\n",
       "542  2022_1172_1276   davidson     michigan  0.418045\n",
       "575  2022_1172_1277   davidson  michigan st  0.490400"
      ]
     },
     "execution_count": 21,
     "metadata": {},
     "output_type": "execute_result"
    }
   ],
   "source": [
    "game_lookup(pred_games, 'mich', 'david')"
   ]
  },
  {
   "cell_type": "code",
   "execution_count": 22,
   "metadata": {},
   "outputs": [
    {
     "data": {
      "text/html": [
       "<div>\n",
       "<style scoped>\n",
       "    .dataframe tbody tr th:only-of-type {\n",
       "        vertical-align: middle;\n",
       "    }\n",
       "\n",
       "    .dataframe tbody tr th {\n",
       "        vertical-align: top;\n",
       "    }\n",
       "\n",
       "    .dataframe thead th {\n",
       "        text-align: right;\n",
       "    }\n",
       "</style>\n",
       "<table border=\"1\" class=\"dataframe\">\n",
       "  <thead>\n",
       "    <tr style=\"text-align: right;\">\n",
       "      <th></th>\n",
       "      <th>ID</th>\n",
       "      <th>Team1_name</th>\n",
       "      <th>Team2_name</th>\n",
       "      <th>Pred</th>\n",
       "    </tr>\n",
       "  </thead>\n",
       "  <tbody>\n",
       "    <tr>\n",
       "      <th>771</th>\n",
       "      <td>2022_1266_1314</td>\n",
       "      <td>marquette</td>\n",
       "      <td>north carolina</td>\n",
       "      <td>0.463366</td>\n",
       "    </tr>\n",
       "  </tbody>\n",
       "</table>\n",
       "</div>"
      ],
      "text/plain": [
       "                 ID Team1_name      Team2_name      Pred\n",
       "771  2022_1266_1314  marquette  north carolina  0.463366"
      ]
     },
     "execution_count": 22,
     "metadata": {},
     "output_type": "execute_result"
    }
   ],
   "source": [
    "game_lookup(pred_games, 'north', 'marq')"
   ]
  },
  {
   "cell_type": "code",
   "execution_count": 23,
   "metadata": {},
   "outputs": [
    {
     "data": {
      "text/html": [
       "<div>\n",
       "<style scoped>\n",
       "    .dataframe tbody tr th:only-of-type {\n",
       "        vertical-align: middle;\n",
       "    }\n",
       "\n",
       "    .dataframe tbody tr th {\n",
       "        vertical-align: top;\n",
       "    }\n",
       "\n",
       "    .dataframe thead th {\n",
       "        text-align: right;\n",
       "    }\n",
       "</style>\n",
       "<table border=\"1\" class=\"dataframe\">\n",
       "  <thead>\n",
       "    <tr style=\"text-align: right;\">\n",
       "      <th></th>\n",
       "      <th>ID</th>\n",
       "      <th>Team1_name</th>\n",
       "      <th>Team2_name</th>\n",
       "      <th>Pred</th>\n",
       "    </tr>\n",
       "  </thead>\n",
       "  <tbody>\n",
       "    <tr>\n",
       "      <th>2008</th>\n",
       "      <td>2022_1400_1439</td>\n",
       "      <td>texas</td>\n",
       "      <td>virginia tech</td>\n",
       "      <td>0.599843</td>\n",
       "    </tr>\n",
       "    <tr>\n",
       "      <th>2009</th>\n",
       "      <td>2022_1403_1439</td>\n",
       "      <td>texas tech</td>\n",
       "      <td>virginia tech</td>\n",
       "      <td>0.561910</td>\n",
       "    </tr>\n",
       "  </tbody>\n",
       "</table>\n",
       "</div>"
      ],
      "text/plain": [
       "                  ID  Team1_name     Team2_name      Pred\n",
       "2008  2022_1400_1439       texas  virginia tech  0.599843\n",
       "2009  2022_1403_1439  texas tech  virginia tech  0.561910"
      ]
     },
     "execution_count": 23,
     "metadata": {},
     "output_type": "execute_result"
    }
   ],
   "source": [
    "game_lookup(pred_games, 'texas', 'virg')"
   ]
  },
  {
   "cell_type": "code",
   "execution_count": 24,
   "metadata": {},
   "outputs": [
    {
     "data": {
      "text/html": [
       "<div>\n",
       "<style scoped>\n",
       "    .dataframe tbody tr th:only-of-type {\n",
       "        vertical-align: middle;\n",
       "    }\n",
       "\n",
       "    .dataframe tbody tr th {\n",
       "        vertical-align: top;\n",
       "    }\n",
       "\n",
       "    .dataframe thead th {\n",
       "        text-align: right;\n",
       "    }\n",
       "</style>\n",
       "<table border=\"1\" class=\"dataframe\">\n",
       "  <thead>\n",
       "    <tr style=\"text-align: right;\">\n",
       "      <th></th>\n",
       "      <th>ID</th>\n",
       "      <th>Team1_name</th>\n",
       "      <th>Team2_name</th>\n",
       "      <th>Pred</th>\n",
       "    </tr>\n",
       "  </thead>\n",
       "  <tbody>\n",
       "    <tr>\n",
       "      <th>1164</th>\n",
       "      <td>2022_1293_1362</td>\n",
       "      <td>murray st</td>\n",
       "      <td>san francisco</td>\n",
       "      <td>0.504721</td>\n",
       "    </tr>\n",
       "  </tbody>\n",
       "</table>\n",
       "</div>"
      ],
      "text/plain": [
       "                  ID Team1_name     Team2_name      Pred\n",
       "1164  2022_1293_1362  murray st  san francisco  0.504721"
      ]
     },
     "execution_count": 24,
     "metadata": {},
     "output_type": "execute_result"
    }
   ],
   "source": [
    "game_lookup(pred_games, 'murr', 'san f')"
   ]
  },
  {
   "cell_type": "code",
   "execution_count": 25,
   "metadata": {},
   "outputs": [
    {
     "data": {
      "text/html": [
       "<div>\n",
       "<style scoped>\n",
       "    .dataframe tbody tr th:only-of-type {\n",
       "        vertical-align: middle;\n",
       "    }\n",
       "\n",
       "    .dataframe tbody tr th {\n",
       "        vertical-align: top;\n",
       "    }\n",
       "\n",
       "    .dataframe thead th {\n",
       "        text-align: right;\n",
       "    }\n",
       "</style>\n",
       "<table border=\"1\" class=\"dataframe\">\n",
       "  <thead>\n",
       "    <tr style=\"text-align: right;\">\n",
       "      <th></th>\n",
       "      <th>ID</th>\n",
       "      <th>Team1_name</th>\n",
       "      <th>Team2_name</th>\n",
       "      <th>Pred</th>\n",
       "    </tr>\n",
       "  </thead>\n",
       "  <tbody>\n",
       "    <tr>\n",
       "      <th>1427</th>\n",
       "      <td>2022_1371_1395</td>\n",
       "      <td>seton hall</td>\n",
       "      <td>tcu</td>\n",
       "      <td>0.515771</td>\n",
       "    </tr>\n",
       "  </tbody>\n",
       "</table>\n",
       "</div>"
      ],
      "text/plain": [
       "                  ID  Team1_name Team2_name      Pred\n",
       "1427  2022_1371_1395  seton hall        tcu  0.515771"
      ]
     },
     "execution_count": 25,
     "metadata": {},
     "output_type": "execute_result"
    }
   ],
   "source": [
    "game_lookup(pred_games, 'set', 'tcu')"
   ]
  },
  {
   "cell_type": "code",
   "execution_count": 26,
   "metadata": {},
   "outputs": [
    {
     "data": {
      "text/html": [
       "<div>\n",
       "<style scoped>\n",
       "    .dataframe tbody tr th:only-of-type {\n",
       "        vertical-align: middle;\n",
       "    }\n",
       "\n",
       "    .dataframe tbody tr th {\n",
       "        vertical-align: top;\n",
       "    }\n",
       "\n",
       "    .dataframe thead th {\n",
       "        text-align: right;\n",
       "    }\n",
       "</style>\n",
       "<table border=\"1\" class=\"dataframe\">\n",
       "  <thead>\n",
       "    <tr style=\"text-align: right;\">\n",
       "      <th></th>\n",
       "      <th>ID</th>\n",
       "      <th>Team1_name</th>\n",
       "      <th>Team2_name</th>\n",
       "      <th>Pred</th>\n",
       "    </tr>\n",
       "  </thead>\n",
       "  <tbody>\n",
       "    <tr>\n",
       "      <th>538</th>\n",
       "      <td>2022_1161_1276</td>\n",
       "      <td>colorado st</td>\n",
       "      <td>michigan</td>\n",
       "      <td>0.412399</td>\n",
       "    </tr>\n",
       "    <tr>\n",
       "      <th>571</th>\n",
       "      <td>2022_1161_1277</td>\n",
       "      <td>colorado st</td>\n",
       "      <td>michigan st</td>\n",
       "      <td>0.484590</td>\n",
       "    </tr>\n",
       "  </tbody>\n",
       "</table>\n",
       "</div>"
      ],
      "text/plain": [
       "                 ID   Team1_name   Team2_name      Pred\n",
       "538  2022_1161_1276  colorado st     michigan  0.412399\n",
       "571  2022_1161_1277  colorado st  michigan st  0.484590"
      ]
     },
     "execution_count": 26,
     "metadata": {},
     "output_type": "execute_result"
    }
   ],
   "source": [
    "game_lookup(pred_games, 'colorado st', 'mich')"
   ]
  },
  {
   "cell_type": "code",
   "execution_count": 27,
   "metadata": {},
   "outputs": [
    {
     "data": {
      "text/html": [
       "<div>\n",
       "<style scoped>\n",
       "    .dataframe tbody tr th:only-of-type {\n",
       "        vertical-align: middle;\n",
       "    }\n",
       "\n",
       "    .dataframe tbody tr th {\n",
       "        vertical-align: top;\n",
       "    }\n",
       "\n",
       "    .dataframe thead th {\n",
       "        text-align: right;\n",
       "    }\n",
       "</style>\n",
       "<table border=\"1\" class=\"dataframe\">\n",
       "  <thead>\n",
       "    <tr style=\"text-align: right;\">\n",
       "      <th></th>\n",
       "      <th>ID</th>\n",
       "      <th>Team1_name</th>\n",
       "      <th>Team2_name</th>\n",
       "      <th>Pred</th>\n",
       "    </tr>\n",
       "  </thead>\n",
       "  <tbody>\n",
       "    <tr>\n",
       "      <th>848</th>\n",
       "      <td>2022_1260_1326</td>\n",
       "      <td>loyola-chicago</td>\n",
       "      <td>ohio st</td>\n",
       "      <td>0.502067</td>\n",
       "    </tr>\n",
       "  </tbody>\n",
       "</table>\n",
       "</div>"
      ],
      "text/plain": [
       "                 ID      Team1_name Team2_name      Pred\n",
       "848  2022_1260_1326  loyola-chicago    ohio st  0.502067"
      ]
     },
     "execution_count": 27,
     "metadata": {},
     "output_type": "execute_result"
    }
   ],
   "source": [
    "game_lookup(pred_games, 'ohio st', 'loy')"
   ]
  },
  {
   "cell_type": "code",
   "execution_count": 28,
   "metadata": {},
   "outputs": [
    {
     "data": {
      "text/html": [
       "<div>\n",
       "<style scoped>\n",
       "    .dataframe tbody tr th:only-of-type {\n",
       "        vertical-align: middle;\n",
       "    }\n",
       "\n",
       "    .dataframe tbody tr th {\n",
       "        vertical-align: top;\n",
       "    }\n",
       "\n",
       "    .dataframe thead th {\n",
       "        text-align: right;\n",
       "    }\n",
       "</style>\n",
       "<table border=\"1\" class=\"dataframe\">\n",
       "  <thead>\n",
       "    <tr style=\"text-align: right;\">\n",
       "      <th></th>\n",
       "      <th>ID</th>\n",
       "      <th>Team1_name</th>\n",
       "      <th>Team2_name</th>\n",
       "      <th>Pred</th>\n",
       "    </tr>\n",
       "  </thead>\n",
       "  <tbody>\n",
       "    <tr>\n",
       "      <th>1093</th>\n",
       "      <td>2022_1166_1361</td>\n",
       "      <td>creighton</td>\n",
       "      <td>san diego st</td>\n",
       "      <td>0.447932</td>\n",
       "    </tr>\n",
       "  </tbody>\n",
       "</table>\n",
       "</div>"
      ],
      "text/plain": [
       "                  ID Team1_name    Team2_name      Pred\n",
       "1093  2022_1166_1361  creighton  san diego st  0.447932"
      ]
     },
     "execution_count": 28,
     "metadata": {},
     "output_type": "execute_result"
    }
   ],
   "source": [
    "game_lookup(pred_games, 'san diego st', 'creig')"
   ]
  },
  {
   "cell_type": "code",
   "execution_count": 29,
   "metadata": {},
   "outputs": [
    {
     "data": {
      "text/html": [
       "<div>\n",
       "<style scoped>\n",
       "    .dataframe tbody tr th:only-of-type {\n",
       "        vertical-align: middle;\n",
       "    }\n",
       "\n",
       "    .dataframe tbody tr th {\n",
       "        vertical-align: top;\n",
       "    }\n",
       "\n",
       "    .dataframe thead th {\n",
       "        text-align: right;\n",
       "    }\n",
       "</style>\n",
       "<table border=\"1\" class=\"dataframe\">\n",
       "  <thead>\n",
       "    <tr style=\"text-align: right;\">\n",
       "      <th></th>\n",
       "      <th>ID</th>\n",
       "      <th>Team1_name</th>\n",
       "      <th>Team2_name</th>\n",
       "      <th>Pred</th>\n",
       "    </tr>\n",
       "  </thead>\n",
       "  <tbody>\n",
       "    <tr>\n",
       "      <th>429</th>\n",
       "      <td>2022_1235_1261</td>\n",
       "      <td>iowa st</td>\n",
       "      <td>lsu</td>\n",
       "      <td>0.433582</td>\n",
       "    </tr>\n",
       "  </tbody>\n",
       "</table>\n",
       "</div>"
      ],
      "text/plain": [
       "                 ID Team1_name Team2_name      Pred\n",
       "429  2022_1235_1261    iowa st        lsu  0.433582"
      ]
     },
     "execution_count": 29,
     "metadata": {},
     "output_type": "execute_result"
    }
   ],
   "source": [
    "game_lookup(pred_games, 'lsu', 'iowa st')"
   ]
  },
  {
   "cell_type": "code",
   "execution_count": 30,
   "metadata": {},
   "outputs": [
    {
     "data": {
      "text/html": [
       "<div>\n",
       "<style scoped>\n",
       "    .dataframe tbody tr th:only-of-type {\n",
       "        vertical-align: middle;\n",
       "    }\n",
       "\n",
       "    .dataframe tbody tr th {\n",
       "        vertical-align: top;\n",
       "    }\n",
       "\n",
       "    .dataframe thead th {\n",
       "        text-align: right;\n",
       "    }\n",
       "</style>\n",
       "<table border=\"1\" class=\"dataframe\">\n",
       "  <thead>\n",
       "    <tr style=\"text-align: right;\">\n",
       "      <th></th>\n",
       "      <th>ID</th>\n",
       "      <th>Team1_name</th>\n",
       "      <th>Team2_name</th>\n",
       "      <th>Pred</th>\n",
       "    </tr>\n",
       "  </thead>\n",
       "  <tbody>\n",
       "    <tr>\n",
       "      <th>2045</th>\n",
       "      <td>2022_1261_1458</td>\n",
       "      <td>lsu</td>\n",
       "      <td>wisconsin</td>\n",
       "      <td>0.515979</td>\n",
       "    </tr>\n",
       "  </tbody>\n",
       "</table>\n",
       "</div>"
      ],
      "text/plain": [
       "                  ID Team1_name Team2_name      Pred\n",
       "2045  2022_1261_1458        lsu  wisconsin  0.515979"
      ]
     },
     "execution_count": 30,
     "metadata": {},
     "output_type": "execute_result"
    }
   ],
   "source": [
    "game_lookup(pred_games, 'lsu', 'wisc')"
   ]
  },
  {
   "cell_type": "code",
   "execution_count": 31,
   "metadata": {},
   "outputs": [
    {
     "data": {
      "text/html": [
       "<div>\n",
       "<style scoped>\n",
       "    .dataframe tbody tr th:only-of-type {\n",
       "        vertical-align: middle;\n",
       "    }\n",
       "\n",
       "    .dataframe tbody tr th {\n",
       "        vertical-align: top;\n",
       "    }\n",
       "\n",
       "    .dataframe thead th {\n",
       "        text-align: right;\n",
       "    }\n",
       "</style>\n",
       "<table border=\"1\" class=\"dataframe\">\n",
       "  <thead>\n",
       "    <tr style=\"text-align: right;\">\n",
       "      <th></th>\n",
       "      <th>ID</th>\n",
       "      <th>Team1_name</th>\n",
       "      <th>Team2_name</th>\n",
       "      <th>Pred</th>\n",
       "    </tr>\n",
       "  </thead>\n",
       "  <tbody>\n",
       "    <tr>\n",
       "      <th>1802</th>\n",
       "      <td>2022_1274_1425</td>\n",
       "      <td>miami fl</td>\n",
       "      <td>usc</td>\n",
       "      <td>0.471832</td>\n",
       "    </tr>\n",
       "  </tbody>\n",
       "</table>\n",
       "</div>"
      ],
      "text/plain": [
       "                  ID Team1_name Team2_name      Pred\n",
       "1802  2022_1274_1425   miami fl        usc  0.471832"
      ]
     },
     "execution_count": 31,
     "metadata": {},
     "output_type": "execute_result"
    }
   ],
   "source": [
    "game_lookup(pred_games, 'usc', 'mia')"
   ]
  },
  {
   "cell_type": "code",
   "execution_count": 32,
   "metadata": {},
   "outputs": [
    {
     "data": {
      "text/html": [
       "<div>\n",
       "<style scoped>\n",
       "    .dataframe tbody tr th:only-of-type {\n",
       "        vertical-align: middle;\n",
       "    }\n",
       "\n",
       "    .dataframe tbody tr th {\n",
       "        vertical-align: top;\n",
       "    }\n",
       "\n",
       "    .dataframe thead th {\n",
       "        text-align: right;\n",
       "    }\n",
       "</style>\n",
       "<table border=\"1\" class=\"dataframe\">\n",
       "  <thead>\n",
       "    <tr style=\"text-align: right;\">\n",
       "      <th></th>\n",
       "      <th>ID</th>\n",
       "      <th>Team1_name</th>\n",
       "      <th>Team2_name</th>\n",
       "      <th>Pred</th>\n",
       "    </tr>\n",
       "  </thead>\n",
       "  <tbody>\n",
       "    <tr>\n",
       "      <th>2025</th>\n",
       "      <td>2022_1159_1458</td>\n",
       "      <td>colgate</td>\n",
       "      <td>wisconsin</td>\n",
       "      <td>0.422647</td>\n",
       "    </tr>\n",
       "  </tbody>\n",
       "</table>\n",
       "</div>"
      ],
      "text/plain": [
       "                  ID Team1_name Team2_name      Pred\n",
       "2025  2022_1159_1458    colgate  wisconsin  0.422647"
      ]
     },
     "execution_count": 32,
     "metadata": {},
     "output_type": "execute_result"
    }
   ],
   "source": [
    "game_lookup(pred_games, 'colg', 'wisc')"
   ]
  },
  {
   "cell_type": "code",
   "execution_count": 33,
   "metadata": {},
   "outputs": [
    {
     "data": {
      "text/html": [
       "<div>\n",
       "<style scoped>\n",
       "    .dataframe tbody tr th:only-of-type {\n",
       "        vertical-align: middle;\n",
       "    }\n",
       "\n",
       "    .dataframe tbody tr th {\n",
       "        vertical-align: top;\n",
       "    }\n",
       "\n",
       "    .dataframe thead th {\n",
       "        text-align: right;\n",
       "    }\n",
       "</style>\n",
       "<table border=\"1\" class=\"dataframe\">\n",
       "  <thead>\n",
       "    <tr style=\"text-align: right;\">\n",
       "      <th></th>\n",
       "      <th>ID</th>\n",
       "      <th>Team1_name</th>\n",
       "      <th>Team2_name</th>\n",
       "      <th>Pred</th>\n",
       "    </tr>\n",
       "  </thead>\n",
       "  <tbody>\n",
       "    <tr>\n",
       "      <th>1246</th>\n",
       "      <td>2022_1231_1388</td>\n",
       "      <td>indiana</td>\n",
       "      <td>st mary's ca</td>\n",
       "      <td>0.473595</td>\n",
       "    </tr>\n",
       "    <tr>\n",
       "      <th>1296</th>\n",
       "      <td>2022_1231_1389</td>\n",
       "      <td>indiana</td>\n",
       "      <td>st peter's</td>\n",
       "      <td>0.608436</td>\n",
       "    </tr>\n",
       "  </tbody>\n",
       "</table>\n",
       "</div>"
      ],
      "text/plain": [
       "                  ID Team1_name    Team2_name      Pred\n",
       "1246  2022_1231_1388    indiana  st mary's ca  0.473595\n",
       "1296  2022_1231_1389    indiana    st peter's  0.608436"
      ]
     },
     "execution_count": 33,
     "metadata": {},
     "output_type": "execute_result"
    }
   ],
   "source": [
    "game_lookup(pred_games, 'ind', 'st')"
   ]
  },
  {
   "cell_type": "code",
   "execution_count": 37,
   "metadata": {},
   "outputs": [
    {
     "data": {
      "text/html": [
       "<div>\n",
       "<style scoped>\n",
       "    .dataframe tbody tr th:only-of-type {\n",
       "        vertical-align: middle;\n",
       "    }\n",
       "\n",
       "    .dataframe tbody tr th {\n",
       "        vertical-align: top;\n",
       "    }\n",
       "\n",
       "    .dataframe thead th {\n",
       "        text-align: right;\n",
       "    }\n",
       "</style>\n",
       "<table border=\"1\" class=\"dataframe\">\n",
       "  <thead>\n",
       "    <tr style=\"text-align: right;\">\n",
       "      <th></th>\n",
       "      <th>ID</th>\n",
       "      <th>Team1_name</th>\n",
       "      <th>Team2_name</th>\n",
       "      <th>Pred</th>\n",
       "    </tr>\n",
       "  </thead>\n",
       "  <tbody>\n",
       "    <tr>\n",
       "      <th>155</th>\n",
       "      <td>2022_1112_1211</td>\n",
       "      <td>arizona</td>\n",
       "      <td>gonzaga</td>\n",
       "      <td>0.312694</td>\n",
       "    </tr>\n",
       "  </tbody>\n",
       "</table>\n",
       "</div>"
      ],
      "text/plain": [
       "                 ID Team1_name Team2_name      Pred\n",
       "155  2022_1112_1211    arizona    gonzaga  0.312694"
      ]
     },
     "execution_count": 37,
     "metadata": {},
     "output_type": "execute_result"
    }
   ],
   "source": [
    "game_lookup(pred_games, 'gonz', 'ariz')"
   ]
  },
  {
   "cell_type": "code",
   "execution_count": 102,
   "metadata": {},
   "outputs": [
    {
     "data": {
      "text/plain": [
       "0.13045098508"
      ]
     },
     "execution_count": 102,
     "metadata": {},
     "output_type": "execute_result"
    }
   ],
   "source": [
    "game_lookup(pred_games, 's d', 'prov')"
   ]
  },
  {
   "cell_type": "code",
   "execution_count": 104,
   "metadata": {},
   "outputs": [
    {
     "data": {
      "text/plain": [
       "0.403"
      ]
     },
     "execution_count": 104,
     "metadata": {},
     "output_type": "execute_result"
    }
   ],
   "source": [
    ".65 * .62"
   ]
  },
  {
   "cell_type": "code",
   "execution_count": null,
   "metadata": {},
   "outputs": [],
   "source": []
  },
  {
   "cell_type": "code",
   "execution_count": 143,
   "metadata": {},
   "outputs": [
    {
     "data": {
      "text/html": [
       "<div>\n",
       "<style scoped>\n",
       "    .dataframe tbody tr th:only-of-type {\n",
       "        vertical-align: middle;\n",
       "    }\n",
       "\n",
       "    .dataframe tbody tr th {\n",
       "        vertical-align: top;\n",
       "    }\n",
       "\n",
       "    .dataframe thead th {\n",
       "        text-align: right;\n",
       "    }\n",
       "</style>\n",
       "<table border=\"1\" class=\"dataframe\">\n",
       "  <thead>\n",
       "    <tr style=\"text-align: right;\">\n",
       "      <th></th>\n",
       "      <th>ID</th>\n",
       "      <th>Team1_name</th>\n",
       "      <th>Team2_name</th>\n",
       "      <th>Pred</th>\n",
       "    </tr>\n",
       "  </thead>\n",
       "  <tbody>\n",
       "    <tr>\n",
       "      <th>221</th>\n",
       "      <td>2022_1163_1231</td>\n",
       "      <td>connecticut</td>\n",
       "      <td>indiana</td>\n",
       "      <td>0.502792</td>\n",
       "    </tr>\n",
       "    <tr>\n",
       "      <th>229</th>\n",
       "      <td>2022_1222_1231</td>\n",
       "      <td>houston</td>\n",
       "      <td>indiana</td>\n",
       "      <td>0.700963</td>\n",
       "    </tr>\n",
       "    <tr>\n",
       "      <th>252</th>\n",
       "      <td>2022_1231_1234</td>\n",
       "      <td>indiana</td>\n",
       "      <td>iowa</td>\n",
       "      <td>0.450276</td>\n",
       "    </tr>\n",
       "    <tr>\n",
       "      <th>677</th>\n",
       "      <td>2022_1163_1308</td>\n",
       "      <td>connecticut</td>\n",
       "      <td>new mexico st</td>\n",
       "      <td>0.647214</td>\n",
       "    </tr>\n",
       "    <tr>\n",
       "      <th>685</th>\n",
       "      <td>2022_1222_1308</td>\n",
       "      <td>houston</td>\n",
       "      <td>new mexico st</td>\n",
       "      <td>0.809620</td>\n",
       "    </tr>\n",
       "    <tr>\n",
       "      <th>688</th>\n",
       "      <td>2022_1234_1308</td>\n",
       "      <td>iowa</td>\n",
       "      <td>new mexico st</td>\n",
       "      <td>0.688948</td>\n",
       "    </tr>\n",
       "    <tr>\n",
       "      <th>957</th>\n",
       "      <td>2022_1163_1350</td>\n",
       "      <td>connecticut</td>\n",
       "      <td>richmond</td>\n",
       "      <td>0.573284</td>\n",
       "    </tr>\n",
       "    <tr>\n",
       "      <th>965</th>\n",
       "      <td>2022_1222_1350</td>\n",
       "      <td>houston</td>\n",
       "      <td>richmond</td>\n",
       "      <td>0.756942</td>\n",
       "    </tr>\n",
       "    <tr>\n",
       "      <th>968</th>\n",
       "      <td>2022_1234_1350</td>\n",
       "      <td>iowa</td>\n",
       "      <td>richmond</td>\n",
       "      <td>0.618610</td>\n",
       "    </tr>\n",
       "    <tr>\n",
       "      <th>1246</th>\n",
       "      <td>2022_1231_1388</td>\n",
       "      <td>indiana</td>\n",
       "      <td>st mary's ca</td>\n",
       "      <td>0.466935</td>\n",
       "    </tr>\n",
       "    <tr>\n",
       "      <th>1262</th>\n",
       "      <td>2022_1308_1388</td>\n",
       "      <td>new mexico st</td>\n",
       "      <td>st mary's ca</td>\n",
       "      <td>0.325611</td>\n",
       "    </tr>\n",
       "    <tr>\n",
       "      <th>1269</th>\n",
       "      <td>2022_1350_1388</td>\n",
       "      <td>richmond</td>\n",
       "      <td>st mary's ca</td>\n",
       "      <td>0.397343</td>\n",
       "    </tr>\n",
       "    <tr>\n",
       "      <th>1664</th>\n",
       "      <td>2022_1163_1412</td>\n",
       "      <td>connecticut</td>\n",
       "      <td>uab</td>\n",
       "      <td>0.532001</td>\n",
       "    </tr>\n",
       "    <tr>\n",
       "      <th>1672</th>\n",
       "      <td>2022_1222_1412</td>\n",
       "      <td>houston</td>\n",
       "      <td>uab</td>\n",
       "      <td>0.724901</td>\n",
       "    </tr>\n",
       "    <tr>\n",
       "      <th>1675</th>\n",
       "      <td>2022_1234_1412</td>\n",
       "      <td>iowa</td>\n",
       "      <td>uab</td>\n",
       "      <td>0.578488</td>\n",
       "    </tr>\n",
       "    <tr>\n",
       "      <th>1703</th>\n",
       "      <td>2022_1388_1412</td>\n",
       "      <td>st mary's ca</td>\n",
       "      <td>uab</td>\n",
       "      <td>0.562045</td>\n",
       "    </tr>\n",
       "    <tr>\n",
       "      <th>2156</th>\n",
       "      <td>2022_1163_1461</td>\n",
       "      <td>connecticut</td>\n",
       "      <td>wyoming</td>\n",
       "      <td>0.542226</td>\n",
       "    </tr>\n",
       "    <tr>\n",
       "      <th>2164</th>\n",
       "      <td>2022_1222_1461</td>\n",
       "      <td>houston</td>\n",
       "      <td>wyoming</td>\n",
       "      <td>0.733026</td>\n",
       "    </tr>\n",
       "    <tr>\n",
       "      <th>2167</th>\n",
       "      <td>2022_1234_1461</td>\n",
       "      <td>iowa</td>\n",
       "      <td>wyoming</td>\n",
       "      <td>0.588483</td>\n",
       "    </tr>\n",
       "    <tr>\n",
       "      <th>2195</th>\n",
       "      <td>2022_1388_1461</td>\n",
       "      <td>st mary's ca</td>\n",
       "      <td>wyoming</td>\n",
       "      <td>0.572142</td>\n",
       "    </tr>\n",
       "  </tbody>\n",
       "</table>\n",
       "</div>"
      ],
      "text/plain": [
       "                  ID     Team1_name     Team2_name      Pred\n",
       "221   2022_1163_1231    connecticut        indiana  0.502792\n",
       "229   2022_1222_1231        houston        indiana  0.700963\n",
       "252   2022_1231_1234        indiana           iowa  0.450276\n",
       "677   2022_1163_1308    connecticut  new mexico st  0.647214\n",
       "685   2022_1222_1308        houston  new mexico st  0.809620\n",
       "688   2022_1234_1308           iowa  new mexico st  0.688948\n",
       "957   2022_1163_1350    connecticut       richmond  0.573284\n",
       "965   2022_1222_1350        houston       richmond  0.756942\n",
       "968   2022_1234_1350           iowa       richmond  0.618610\n",
       "1246  2022_1231_1388        indiana   st mary's ca  0.466935\n",
       "1262  2022_1308_1388  new mexico st   st mary's ca  0.325611\n",
       "1269  2022_1350_1388       richmond   st mary's ca  0.397343\n",
       "1664  2022_1163_1412    connecticut            uab  0.532001\n",
       "1672  2022_1222_1412        houston            uab  0.724901\n",
       "1675  2022_1234_1412           iowa            uab  0.578488\n",
       "1703  2022_1388_1412   st mary's ca            uab  0.562045\n",
       "2156  2022_1163_1461    connecticut        wyoming  0.542226\n",
       "2164  2022_1222_1461        houston        wyoming  0.733026\n",
       "2167  2022_1234_1461           iowa        wyoming  0.588483\n",
       "2195  2022_1388_1461   st mary's ca        wyoming  0.572142"
      ]
     },
     "execution_count": 143,
     "metadata": {},
     "output_type": "execute_result"
    }
   ],
   "source": [
    "twelve_five"
   ]
  },
  {
   "cell_type": "code",
   "execution_count": 38,
   "metadata": {},
   "outputs": [],
   "source": [
    "fourteen_three = pred_games[\n",
    "                ((pred_games.t1_Seed == 3) & (pred_games.t2_Seed == 14) \n",
    "                 | (pred_games.t1_Seed == 14) & (pred_games.t2_Seed == 3)) \n",
    "                          & (pred_games.Season == 2022) \n",
    "                          ][['ID', 'Team1_name', 'Team2_name', 'Pred']]"
   ]
  },
  {
   "cell_type": "code",
   "execution_count": 39,
   "metadata": {},
   "outputs": [],
   "source": [
    "thirteen_four = pred_games[\n",
    "                ((pred_games.t1_Seed == 13) & (pred_games.t2_Seed == 4) \n",
    "                 | (pred_games.t1_Seed == 4) & (pred_games.t2_Seed == 13)) \n",
    "                          & (pred_games.Season == 2022) \n",
    "                          ][['ID', 'Team1_name', 'Team2_name', 'Pred']]"
   ]
  },
  {
   "cell_type": "code",
   "execution_count": 40,
   "metadata": {},
   "outputs": [],
   "source": [
    "twelve_five = pred_games[\n",
    "                ((pred_games.t1_Seed == 12) & (pred_games.t2_Seed == 5) \n",
    "                 | (pred_games.t1_Seed == 5) & (pred_games.t2_Seed == 12)) \n",
    "                          & (pred_games.Season == 2022) \n",
    "                          ][['ID', 'Team1_name', 'Team2_name', 'Pred']]"
   ]
  },
  {
   "cell_type": "code",
   "execution_count": 41,
   "metadata": {},
   "outputs": [],
   "source": [
    "eleven_six = pred_games[\n",
    "                ((pred_games.t1_Seed == 11) & (pred_games.t2_Seed == 6) \n",
    "                 | (pred_games.t1_Seed == 6) & (pred_games.t2_Seed == 11)) \n",
    "                          & (pred_games.Season == 2022) \n",
    "                          ][['ID', 'Team1_name', 'Team2_name', 'Pred']]"
   ]
  },
  {
   "cell_type": "code",
   "execution_count": 42,
   "metadata": {},
   "outputs": [],
   "source": [
    "ten_seven = pred_games[\n",
    "                ((pred_games.t1_Seed == 10) & (pred_games.t2_Seed == 7) \n",
    "                 | (pred_games.t1_Seed == 7) & (pred_games.t2_Seed == 10)) \n",
    "                          & (pred_games.Season == 2022) \n",
    "                          ][['ID', 'Team1_name', 'Team2_name', 'Pred']]"
   ]
  },
  {
   "cell_type": "code",
   "execution_count": 46,
   "metadata": {},
   "outputs": [
    {
     "data": {
      "text/html": [
       "<div>\n",
       "<style scoped>\n",
       "    .dataframe tbody tr th:only-of-type {\n",
       "        vertical-align: middle;\n",
       "    }\n",
       "\n",
       "    .dataframe tbody tr th {\n",
       "        vertical-align: top;\n",
       "    }\n",
       "\n",
       "    .dataframe thead th {\n",
       "        text-align: right;\n",
       "    }\n",
       "</style>\n",
       "<table border=\"1\" class=\"dataframe\">\n",
       "  <thead>\n",
       "    <tr style=\"text-align: right;\">\n",
       "      <th></th>\n",
       "      <th>ID</th>\n",
       "      <th>Team1_name</th>\n",
       "      <th>Team2_name</th>\n",
       "      <th>Pred</th>\n",
       "    </tr>\n",
       "  </thead>\n",
       "  <tbody>\n",
       "    <tr>\n",
       "      <th>221</th>\n",
       "      <td>2022_1163_1231</td>\n",
       "      <td>connecticut</td>\n",
       "      <td>indiana</td>\n",
       "      <td>0.504123</td>\n",
       "    </tr>\n",
       "    <tr>\n",
       "      <th>229</th>\n",
       "      <td>2022_1222_1231</td>\n",
       "      <td>houston</td>\n",
       "      <td>indiana</td>\n",
       "      <td>0.698853</td>\n",
       "    </tr>\n",
       "    <tr>\n",
       "      <th>252</th>\n",
       "      <td>2022_1231_1234</td>\n",
       "      <td>indiana</td>\n",
       "      <td>iowa</td>\n",
       "      <td>0.454844</td>\n",
       "    </tr>\n",
       "    <tr>\n",
       "      <th>677</th>\n",
       "      <td>2022_1163_1308</td>\n",
       "      <td>connecticut</td>\n",
       "      <td>new mexico st</td>\n",
       "      <td>0.565442</td>\n",
       "    </tr>\n",
       "    <tr>\n",
       "      <th>685</th>\n",
       "      <td>2022_1222_1308</td>\n",
       "      <td>houston</td>\n",
       "      <td>new mexico st</td>\n",
       "      <td>0.748123</td>\n",
       "    </tr>\n",
       "    <tr>\n",
       "      <th>688</th>\n",
       "      <td>2022_1234_1308</td>\n",
       "      <td>iowa</td>\n",
       "      <td>new mexico st</td>\n",
       "      <td>0.605372</td>\n",
       "    </tr>\n",
       "    <tr>\n",
       "      <th>957</th>\n",
       "      <td>2022_1163_1350</td>\n",
       "      <td>connecticut</td>\n",
       "      <td>richmond</td>\n",
       "      <td>0.552451</td>\n",
       "    </tr>\n",
       "    <tr>\n",
       "      <th>965</th>\n",
       "      <td>2022_1222_1350</td>\n",
       "      <td>houston</td>\n",
       "      <td>richmond</td>\n",
       "      <td>0.738064</td>\n",
       "    </tr>\n",
       "    <tr>\n",
       "      <th>968</th>\n",
       "      <td>2022_1234_1350</td>\n",
       "      <td>iowa</td>\n",
       "      <td>richmond</td>\n",
       "      <td>0.592715</td>\n",
       "    </tr>\n",
       "    <tr>\n",
       "      <th>1246</th>\n",
       "      <td>2022_1231_1388</td>\n",
       "      <td>indiana</td>\n",
       "      <td>st mary's ca</td>\n",
       "      <td>0.473595</td>\n",
       "    </tr>\n",
       "    <tr>\n",
       "      <th>1262</th>\n",
       "      <td>2022_1308_1388</td>\n",
       "      <td>new mexico st</td>\n",
       "      <td>st mary's ca</td>\n",
       "      <td>0.412776</td>\n",
       "    </tr>\n",
       "    <tr>\n",
       "      <th>1269</th>\n",
       "      <td>2022_1350_1388</td>\n",
       "      <td>richmond</td>\n",
       "      <td>st mary's ca</td>\n",
       "      <td>0.425605</td>\n",
       "    </tr>\n",
       "    <tr>\n",
       "      <th>1664</th>\n",
       "      <td>2022_1163_1412</td>\n",
       "      <td>connecticut</td>\n",
       "      <td>uab</td>\n",
       "      <td>0.524875</td>\n",
       "    </tr>\n",
       "    <tr>\n",
       "      <th>1672</th>\n",
       "      <td>2022_1222_1412</td>\n",
       "      <td>houston</td>\n",
       "      <td>uab</td>\n",
       "      <td>0.716046</td>\n",
       "    </tr>\n",
       "    <tr>\n",
       "      <th>1675</th>\n",
       "      <td>2022_1234_1412</td>\n",
       "      <td>iowa</td>\n",
       "      <td>uab</td>\n",
       "      <td>0.565670</td>\n",
       "    </tr>\n",
       "    <tr>\n",
       "      <th>1703</th>\n",
       "      <td>2022_1388_1412</td>\n",
       "      <td>st mary's ca</td>\n",
       "      <td>uab</td>\n",
       "      <td>0.547062</td>\n",
       "    </tr>\n",
       "    <tr>\n",
       "      <th>2156</th>\n",
       "      <td>2022_1163_1461</td>\n",
       "      <td>connecticut</td>\n",
       "      <td>wyoming</td>\n",
       "      <td>0.552368</td>\n",
       "    </tr>\n",
       "    <tr>\n",
       "      <th>2164</th>\n",
       "      <td>2022_1222_1461</td>\n",
       "      <td>houston</td>\n",
       "      <td>wyoming</td>\n",
       "      <td>0.737999</td>\n",
       "    </tr>\n",
       "    <tr>\n",
       "      <th>2167</th>\n",
       "      <td>2022_1234_1461</td>\n",
       "      <td>iowa</td>\n",
       "      <td>wyoming</td>\n",
       "      <td>0.592634</td>\n",
       "    </tr>\n",
       "    <tr>\n",
       "      <th>2195</th>\n",
       "      <td>2022_1388_1461</td>\n",
       "      <td>st mary's ca</td>\n",
       "      <td>wyoming</td>\n",
       "      <td>0.574313</td>\n",
       "    </tr>\n",
       "  </tbody>\n",
       "</table>\n",
       "</div>"
      ],
      "text/plain": [
       "                  ID     Team1_name     Team2_name      Pred\n",
       "221   2022_1163_1231    connecticut        indiana  0.504123\n",
       "229   2022_1222_1231        houston        indiana  0.698853\n",
       "252   2022_1231_1234        indiana           iowa  0.454844\n",
       "677   2022_1163_1308    connecticut  new mexico st  0.565442\n",
       "685   2022_1222_1308        houston  new mexico st  0.748123\n",
       "688   2022_1234_1308           iowa  new mexico st  0.605372\n",
       "957   2022_1163_1350    connecticut       richmond  0.552451\n",
       "965   2022_1222_1350        houston       richmond  0.738064\n",
       "968   2022_1234_1350           iowa       richmond  0.592715\n",
       "1246  2022_1231_1388        indiana   st mary's ca  0.473595\n",
       "1262  2022_1308_1388  new mexico st   st mary's ca  0.412776\n",
       "1269  2022_1350_1388       richmond   st mary's ca  0.425605\n",
       "1664  2022_1163_1412    connecticut            uab  0.524875\n",
       "1672  2022_1222_1412        houston            uab  0.716046\n",
       "1675  2022_1234_1412           iowa            uab  0.565670\n",
       "1703  2022_1388_1412   st mary's ca            uab  0.547062\n",
       "2156  2022_1163_1461    connecticut        wyoming  0.552368\n",
       "2164  2022_1222_1461        houston        wyoming  0.737999\n",
       "2167  2022_1234_1461           iowa        wyoming  0.592634\n",
       "2195  2022_1388_1461   st mary's ca        wyoming  0.574313"
      ]
     },
     "execution_count": 46,
     "metadata": {},
     "output_type": "execute_result"
    }
   ],
   "source": [
    "twelve_five"
   ]
  },
  {
   "cell_type": "code",
   "execution_count": 339,
   "metadata": {},
   "outputs": [],
   "source": [
    "fourteen_three['Pred2'] = 1 - fourteen_three['Pred']"
   ]
  },
  {
   "cell_type": "code",
   "execution_count": 333,
   "metadata": {},
   "outputs": [
    {
     "data": {
      "text/plain": [
       "0.1650013922867077"
      ]
     },
     "execution_count": 333,
     "metadata": {},
     "output_type": "execute_result"
    }
   ],
   "source": [
    "fourteen_three['Pred'].mean()"
   ]
  },
  {
   "cell_type": "code",
   "execution_count": 340,
   "metadata": {},
   "outputs": [
    {
     "data": {
      "text/plain": [
       "0.16501969892436016"
      ]
     },
     "execution_count": 340,
     "metadata": {},
     "output_type": "execute_result"
    }
   ],
   "source": [
    "fourteen_three['Pred2'].mean()"
   ]
  },
  {
   "cell_type": "code",
   "execution_count": null,
   "metadata": {},
   "outputs": [],
   "source": []
  },
  {
   "cell_type": "code",
   "execution_count": 69,
   "metadata": {},
   "outputs": [
    {
     "ename": "AttributeError",
     "evalue": "'DataFrame' object has no attribute 'Team1_name'",
     "output_type": "error",
     "traceback": [
      "\u001b[0;31m---------------------------------------------------------------------------\u001b[0m",
      "\u001b[0;31mAttributeError\u001b[0m                            Traceback (most recent call last)",
      "\u001b[0;32m/var/folders/2g/465yxy_x4g786jx2llr5xqh40000gn/T/ipykernel_84125/3281978461.py\u001b[0m in \u001b[0;36m<module>\u001b[0;34m\u001b[0m\n\u001b[0;32m----> 1\u001b[0;31m \u001b[0mgame_lookup\u001b[0m\u001b[0;34m(\u001b[0m\u001b[0mall_games\u001b[0m\u001b[0;34m,\u001b[0m \u001b[0;34m'gonz'\u001b[0m\u001b[0;34m,\u001b[0m \u001b[0;34m'mem'\u001b[0m\u001b[0;34m,\u001b[0m \u001b[0mseason\u001b[0m \u001b[0;34m=\u001b[0m \u001b[0;36m2021\u001b[0m\u001b[0;34m)\u001b[0m\u001b[0;34m\u001b[0m\u001b[0;34m\u001b[0m\u001b[0m\n\u001b[0m",
      "\u001b[0;32m/var/folders/2g/465yxy_x4g786jx2llr5xqh40000gn/T/ipykernel_84125/1096772423.py\u001b[0m in \u001b[0;36mgame_lookup\u001b[0;34m(df, t1, t2, features, season)\u001b[0m\n\u001b[1;32m      5\u001b[0m \u001b[0;34m\u001b[0m\u001b[0m\n\u001b[1;32m      6\u001b[0m     \u001b[0;32mif\u001b[0m \u001b[0mt1\u001b[0m \u001b[0;34m<\u001b[0m \u001b[0mt2\u001b[0m\u001b[0;34m:\u001b[0m\u001b[0;34m\u001b[0m\u001b[0;34m\u001b[0m\u001b[0m\n\u001b[0;32m----> 7\u001b[0;31m         return df[ (df.Team1_name.str.startswith(t1)) & \n\u001b[0m\u001b[1;32m      8\u001b[0m                          (df.Team2_name.str.startswith(t2)) ][features]\n\u001b[1;32m      9\u001b[0m     \u001b[0;32melse\u001b[0m\u001b[0;34m:\u001b[0m\u001b[0;34m\u001b[0m\u001b[0;34m\u001b[0m\u001b[0m\n",
      "\u001b[0;32m~/.virtualenvs/ncaa_model/lib/python3.8/site-packages/pandas/core/generic.py\u001b[0m in \u001b[0;36m__getattr__\u001b[0;34m(self, name)\u001b[0m\n\u001b[1;32m   5485\u001b[0m         ):\n\u001b[1;32m   5486\u001b[0m             \u001b[0;32mreturn\u001b[0m \u001b[0mself\u001b[0m\u001b[0;34m[\u001b[0m\u001b[0mname\u001b[0m\u001b[0;34m]\u001b[0m\u001b[0;34m\u001b[0m\u001b[0;34m\u001b[0m\u001b[0m\n\u001b[0;32m-> 5487\u001b[0;31m         \u001b[0;32mreturn\u001b[0m \u001b[0mobject\u001b[0m\u001b[0;34m.\u001b[0m\u001b[0m__getattribute__\u001b[0m\u001b[0;34m(\u001b[0m\u001b[0mself\u001b[0m\u001b[0;34m,\u001b[0m \u001b[0mname\u001b[0m\u001b[0;34m)\u001b[0m\u001b[0;34m\u001b[0m\u001b[0;34m\u001b[0m\u001b[0m\n\u001b[0m\u001b[1;32m   5488\u001b[0m \u001b[0;34m\u001b[0m\u001b[0m\n\u001b[1;32m   5489\u001b[0m     \u001b[0;32mdef\u001b[0m \u001b[0m__setattr__\u001b[0m\u001b[0;34m(\u001b[0m\u001b[0mself\u001b[0m\u001b[0;34m,\u001b[0m \u001b[0mname\u001b[0m\u001b[0;34m:\u001b[0m \u001b[0mstr\u001b[0m\u001b[0;34m,\u001b[0m \u001b[0mvalue\u001b[0m\u001b[0;34m)\u001b[0m \u001b[0;34m->\u001b[0m \u001b[0;32mNone\u001b[0m\u001b[0;34m:\u001b[0m\u001b[0;34m\u001b[0m\u001b[0;34m\u001b[0m\u001b[0m\n",
      "\u001b[0;31mAttributeError\u001b[0m: 'DataFrame' object has no attribute 'Team1_name'"
     ]
    }
   ],
   "source": [
    "game_lookup(all_games, 'gonz', 'mem', season = 2021)"
   ]
  },
  {
   "cell_type": "code",
   "execution_count": 304,
   "metadata": {},
   "outputs": [
    {
     "data": {
      "text/html": [
       "<div>\n",
       "<style scoped>\n",
       "    .dataframe tbody tr th:only-of-type {\n",
       "        vertical-align: middle;\n",
       "    }\n",
       "\n",
       "    .dataframe tbody tr th {\n",
       "        vertical-align: top;\n",
       "    }\n",
       "\n",
       "    .dataframe thead th {\n",
       "        text-align: right;\n",
       "    }\n",
       "</style>\n",
       "<table border=\"1\" class=\"dataframe\">\n",
       "  <thead>\n",
       "    <tr style=\"text-align: right;\">\n",
       "      <th></th>\n",
       "      <th>ID</th>\n",
       "      <th>Team1_name</th>\n",
       "      <th>Team2_name</th>\n",
       "      <th>Pred</th>\n",
       "    </tr>\n",
       "  </thead>\n",
       "  <tbody>\n",
       "    <tr>\n",
       "      <th>3408</th>\n",
       "      <td>2019_1199_1436</td>\n",
       "      <td>florida st</td>\n",
       "      <td>vermont</td>\n",
       "      <td>0.814959</td>\n",
       "    </tr>\n",
       "  </tbody>\n",
       "</table>\n",
       "</div>"
      ],
      "text/plain": [
       "                  ID  Team1_name Team2_name      Pred\n",
       "3408  2019_1199_1436  florida st    vermont  0.814959"
      ]
     },
     "execution_count": 304,
     "metadata": {},
     "output_type": "execute_result"
    }
   ],
   "source": [
    "game_lookup(all_games, 'florida st', 'vermont', season = 2019)"
   ]
  },
  {
   "cell_type": "code",
   "execution_count": 305,
   "metadata": {},
   "outputs": [
    {
     "data": {
      "text/html": [
       "<div>\n",
       "<style scoped>\n",
       "    .dataframe tbody tr th:only-of-type {\n",
       "        vertical-align: middle;\n",
       "    }\n",
       "\n",
       "    .dataframe tbody tr th {\n",
       "        vertical-align: top;\n",
       "    }\n",
       "\n",
       "    .dataframe thead th {\n",
       "        text-align: right;\n",
       "    }\n",
       "</style>\n",
       "<table border=\"1\" class=\"dataframe\">\n",
       "  <thead>\n",
       "    <tr style=\"text-align: right;\">\n",
       "      <th></th>\n",
       "      <th>ID</th>\n",
       "      <th>Team1_name</th>\n",
       "      <th>Team2_name</th>\n",
       "      <th>Pred</th>\n",
       "    </tr>\n",
       "  </thead>\n",
       "  <tbody>\n",
       "    <tr>\n",
       "      <th>4373</th>\n",
       "      <td>2019_1243_1414</td>\n",
       "      <td>kansas st</td>\n",
       "      <td>uc irvine</td>\n",
       "      <td>0.780656</td>\n",
       "    </tr>\n",
       "  </tbody>\n",
       "</table>\n",
       "</div>"
      ],
      "text/plain": [
       "                  ID Team1_name Team2_name      Pred\n",
       "4373  2019_1243_1414  kansas st  uc irvine  0.780656"
      ]
     },
     "execution_count": 305,
     "metadata": {},
     "output_type": "execute_result"
    }
   ],
   "source": [
    "game_lookup(all_games, 'Kansas St', 'Uc irvine', season = 2019)"
   ]
  },
  {
   "cell_type": "code",
   "execution_count": 306,
   "metadata": {},
   "outputs": [
    {
     "data": {
      "text/html": [
       "<div>\n",
       "<style scoped>\n",
       "    .dataframe tbody tr th:only-of-type {\n",
       "        vertical-align: middle;\n",
       "    }\n",
       "\n",
       "    .dataframe tbody tr th {\n",
       "        vertical-align: top;\n",
       "    }\n",
       "\n",
       "    .dataframe thead th {\n",
       "        text-align: right;\n",
       "    }\n",
       "</style>\n",
       "<table border=\"1\" class=\"dataframe\">\n",
       "  <thead>\n",
       "    <tr style=\"text-align: right;\">\n",
       "      <th></th>\n",
       "      <th>ID</th>\n",
       "      <th>Team1_name</th>\n",
       "      <th>Team2_name</th>\n",
       "      <th>Pred</th>\n",
       "    </tr>\n",
       "  </thead>\n",
       "  <tbody>\n",
       "    <tr>\n",
       "      <th>4322</th>\n",
       "      <td>2019_1242_1318</td>\n",
       "      <td>kansas</td>\n",
       "      <td>northeastern</td>\n",
       "      <td>0.815838</td>\n",
       "    </tr>\n",
       "  </tbody>\n",
       "</table>\n",
       "</div>"
      ],
      "text/plain": [
       "                  ID Team1_name    Team2_name      Pred\n",
       "4322  2019_1242_1318     kansas  northeastern  0.815838"
      ]
     },
     "execution_count": 306,
     "metadata": {},
     "output_type": "execute_result"
    }
   ],
   "source": [
    "game_lookup(all_games, 'Kansas', 'northeastern', season = 2019)"
   ]
  },
  {
   "cell_type": "code",
   "execution_count": 309,
   "metadata": {},
   "outputs": [
    {
     "data": {
      "text/html": [
       "<div>\n",
       "<style scoped>\n",
       "    .dataframe tbody tr th:only-of-type {\n",
       "        vertical-align: middle;\n",
       "    }\n",
       "\n",
       "    .dataframe tbody tr th {\n",
       "        vertical-align: top;\n",
       "    }\n",
       "\n",
       "    .dataframe thead th {\n",
       "        text-align: right;\n",
       "    }\n",
       "</style>\n",
       "<table border=\"1\" class=\"dataframe\">\n",
       "  <thead>\n",
       "    <tr style=\"text-align: right;\">\n",
       "      <th></th>\n",
       "      <th>ID</th>\n",
       "      <th>Team1_name</th>\n",
       "      <th>Team2_name</th>\n",
       "      <th>Pred</th>\n",
       "    </tr>\n",
       "  </thead>\n",
       "  <tbody>\n",
       "    <tr>\n",
       "      <th>3647</th>\n",
       "      <td>2018_1112_1138</td>\n",
       "      <td>arizona</td>\n",
       "      <td>buffalo</td>\n",
       "      <td>0.76695</td>\n",
       "    </tr>\n",
       "    <tr>\n",
       "      <th>3648</th>\n",
       "      <td>2019_1113_1138</td>\n",
       "      <td>arizona st</td>\n",
       "      <td>buffalo</td>\n",
       "      <td>0.28204</td>\n",
       "    </tr>\n",
       "  </tbody>\n",
       "</table>\n",
       "</div>"
      ],
      "text/plain": [
       "                  ID  Team1_name Team2_name     Pred\n",
       "3647  2018_1112_1138     arizona    buffalo  0.76695\n",
       "3648  2019_1113_1138  arizona st    buffalo  0.28204"
      ]
     },
     "execution_count": 309,
     "metadata": {},
     "output_type": "execute_result"
    }
   ],
   "source": [
    "game_lookup(all_games, 'Arizona', 'buffalo', season = 2018)"
   ]
  },
  {
   "cell_type": "code",
   "execution_count": 318,
   "metadata": {},
   "outputs": [
    {
     "data": {
      "text/html": [
       "<div>\n",
       "<style scoped>\n",
       "    .dataframe tbody tr th:only-of-type {\n",
       "        vertical-align: middle;\n",
       "    }\n",
       "\n",
       "    .dataframe tbody tr th {\n",
       "        vertical-align: top;\n",
       "    }\n",
       "\n",
       "    .dataframe thead th {\n",
       "        text-align: right;\n",
       "    }\n",
       "</style>\n",
       "<table border=\"1\" class=\"dataframe\">\n",
       "  <thead>\n",
       "    <tr style=\"text-align: right;\">\n",
       "      <th></th>\n",
       "      <th>ID</th>\n",
       "      <th>Team1_name</th>\n",
       "      <th>Team2_name</th>\n",
       "      <th>Pred</th>\n",
       "    </tr>\n",
       "  </thead>\n",
       "  <tbody>\n",
       "    <tr>\n",
       "      <th>217</th>\n",
       "      <td>2006_1211_1417</td>\n",
       "      <td>gonzaga</td>\n",
       "      <td>ucla</td>\n",
       "      <td>0.433957</td>\n",
       "    </tr>\n",
       "    <tr>\n",
       "      <th>218</th>\n",
       "      <td>2015_1211_1417</td>\n",
       "      <td>gonzaga</td>\n",
       "      <td>ucla</td>\n",
       "      <td>0.838355</td>\n",
       "    </tr>\n",
       "    <tr>\n",
       "      <th>219</th>\n",
       "      <td>2021_1211_1417</td>\n",
       "      <td>gonzaga</td>\n",
       "      <td>ucla</td>\n",
       "      <td>0.911394</td>\n",
       "    </tr>\n",
       "    <tr>\n",
       "      <th>2296</th>\n",
       "      <td>2021_1211_1364</td>\n",
       "      <td>gonzaga</td>\n",
       "      <td>uc santa barbara</td>\n",
       "      <td>0.938073</td>\n",
       "    </tr>\n",
       "    <tr>\n",
       "      <th>2689</th>\n",
       "      <td>2018_1211_1422</td>\n",
       "      <td>gonzaga</td>\n",
       "      <td>unc greensboro</td>\n",
       "      <td>0.862989</td>\n",
       "    </tr>\n",
       "    <tr>\n",
       "      <th>2690</th>\n",
       "      <td>2021_1211_1422</td>\n",
       "      <td>gonzaga</td>\n",
       "      <td>unc greensboro</td>\n",
       "      <td>0.961901</td>\n",
       "    </tr>\n",
       "    <tr>\n",
       "      <th>2747</th>\n",
       "      <td>2021_1211_1425</td>\n",
       "      <td>gonzaga</td>\n",
       "      <td>usc</td>\n",
       "      <td>0.822869</td>\n",
       "    </tr>\n",
       "    <tr>\n",
       "      <th>2817</th>\n",
       "      <td>2021_1211_1429</td>\n",
       "      <td>gonzaga</td>\n",
       "      <td>utah st</td>\n",
       "      <td>0.919718</td>\n",
       "    </tr>\n",
       "    <tr>\n",
       "      <th>3450</th>\n",
       "      <td>2016_1211_1428</td>\n",
       "      <td>gonzaga</td>\n",
       "      <td>utah</td>\n",
       "      <td>0.575548</td>\n",
       "    </tr>\n",
       "  </tbody>\n",
       "</table>\n",
       "</div>"
      ],
      "text/plain": [
       "                  ID Team1_name        Team2_name      Pred\n",
       "217   2006_1211_1417    gonzaga              ucla  0.433957\n",
       "218   2015_1211_1417    gonzaga              ucla  0.838355\n",
       "219   2021_1211_1417    gonzaga              ucla  0.911394\n",
       "2296  2021_1211_1364    gonzaga  uc santa barbara  0.938073\n",
       "2689  2018_1211_1422    gonzaga    unc greensboro  0.862989\n",
       "2690  2021_1211_1422    gonzaga    unc greensboro  0.961901\n",
       "2747  2021_1211_1425    gonzaga               usc  0.822869\n",
       "2817  2021_1211_1429    gonzaga           utah st  0.919718\n",
       "3450  2016_1211_1428    gonzaga              utah  0.575548"
      ]
     },
     "execution_count": 318,
     "metadata": {},
     "output_type": "execute_result"
    }
   ],
   "source": [
    "game_lookup(all_games, 'gonzaga', 'u', season = 2018)"
   ]
  },
  {
   "cell_type": "code",
   "execution_count": null,
   "metadata": {},
   "outputs": [],
   "source": [
    "game_lookup(all_games, 'gonzaga', 'u', season = 2018)"
   ]
  },
  {
   "cell_type": "code",
   "execution_count": null,
   "metadata": {},
   "outputs": [],
   "source": [
    "# 23, 12, 15, 14 -- 2018\n",
    "# 13, 19, 22, 19 -- 2019\n",
    "#19, 21, 28, 25 -- 2021"
   ]
  },
  {
   "cell_type": "code",
   "execution_count": 319,
   "metadata": {},
   "outputs": [
    {
     "data": {
      "text/plain": [
       "16.0"
      ]
     },
     "execution_count": 319,
     "metadata": {},
     "output_type": "execute_result"
    }
   ],
   "source": [
    "(23 + 12 + 15 + 14) / 4"
   ]
  },
  {
   "cell_type": "code",
   "execution_count": 307,
   "metadata": {},
   "outputs": [
    {
     "data": {
      "text/plain": [
       "18.25"
      ]
     },
     "execution_count": 307,
     "metadata": {},
     "output_type": "execute_result"
    }
   ],
   "source": [
    "(13 + 19 + 22 + 19) / 4 "
   ]
  },
  {
   "cell_type": "code",
   "execution_count": 308,
   "metadata": {},
   "outputs": [
    {
     "data": {
      "text/plain": [
       "23.25"
      ]
     },
     "execution_count": 308,
     "metadata": {},
     "output_type": "execute_result"
    }
   ],
   "source": [
    "(19 + 21 + 28 + 25) / 4"
   ]
  },
  {
   "cell_type": "code",
   "execution_count": null,
   "metadata": {},
   "outputs": [],
   "source": []
  },
  {
   "cell_type": "code",
   "execution_count": 342,
   "metadata": {},
   "outputs": [
    {
     "data": {
      "text/html": [
       "<div>\n",
       "<style scoped>\n",
       "    .dataframe tbody tr th:only-of-type {\n",
       "        vertical-align: middle;\n",
       "    }\n",
       "\n",
       "    .dataframe tbody tr th {\n",
       "        vertical-align: top;\n",
       "    }\n",
       "\n",
       "    .dataframe thead th {\n",
       "        text-align: right;\n",
       "    }\n",
       "</style>\n",
       "<table border=\"1\" class=\"dataframe\">\n",
       "  <thead>\n",
       "    <tr style=\"text-align: right;\">\n",
       "      <th></th>\n",
       "      <th>ID</th>\n",
       "      <th>Team1_name</th>\n",
       "      <th>Team2_name</th>\n",
       "      <th>Pred</th>\n",
       "    </tr>\n",
       "  </thead>\n",
       "  <tbody>\n",
       "    <tr>\n",
       "      <th>1971</th>\n",
       "      <td>2021_1326_1331</td>\n",
       "      <td>ohio st</td>\n",
       "      <td>oral roberts</td>\n",
       "      <td>0.907590</td>\n",
       "    </tr>\n",
       "    <tr>\n",
       "      <th>906</th>\n",
       "      <td>2021_1156_1222</td>\n",
       "      <td>cleveland st</td>\n",
       "      <td>houston</td>\n",
       "      <td>0.043788</td>\n",
       "    </tr>\n",
       "    <tr>\n",
       "      <th>958</th>\n",
       "      <td>2021_1104_1233</td>\n",
       "      <td>alabama</td>\n",
       "      <td>iona</td>\n",
       "      <td>0.921044</td>\n",
       "    </tr>\n",
       "    <tr>\n",
       "      <th>1021</th>\n",
       "      <td>2021_1213_1234</td>\n",
       "      <td>grand canyon</td>\n",
       "      <td>iowa</td>\n",
       "      <td>0.091959</td>\n",
       "    </tr>\n",
       "  </tbody>\n",
       "</table>\n",
       "</div>"
      ],
      "text/plain": [
       "                  ID    Team1_name    Team2_name      Pred\n",
       "1971  2021_1326_1331       ohio st  oral roberts  0.907590\n",
       "906   2021_1156_1222  cleveland st       houston  0.043788\n",
       "958   2021_1104_1233       alabama          iona  0.921044\n",
       "1021  2021_1213_1234  grand canyon          iowa  0.091959"
      ]
     },
     "execution_count": 342,
     "metadata": {},
     "output_type": "execute_result"
    }
   ],
   "source": [
    "#15 - 2\n",
    "\n",
    "pd.concat([game_lookup(all_games, 'ohio st', 'oral'), \n",
    "           game_lookup(all_games, 'hou', 'clev'),\n",
    "          game_lookup(all_games, 'alabama', 'iona'),\n",
    "          game_lookup(all_games, 'iowa', 'grand')\n",
    "          ])"
   ]
  },
  {
   "cell_type": "code",
   "execution_count": 341,
   "metadata": {},
   "outputs": [
    {
     "data": {
      "text/html": [
       "<div>\n",
       "<style scoped>\n",
       "    .dataframe tbody tr th:only-of-type {\n",
       "        vertical-align: middle;\n",
       "    }\n",
       "\n",
       "    .dataframe tbody tr th {\n",
       "        vertical-align: top;\n",
       "    }\n",
       "\n",
       "    .dataframe thead th {\n",
       "        text-align: right;\n",
       "    }\n",
       "</style>\n",
       "<table border=\"1\" class=\"dataframe\">\n",
       "  <thead>\n",
       "    <tr style=\"text-align: right;\">\n",
       "      <th></th>\n",
       "      <th>ID</th>\n",
       "      <th>Team1_name</th>\n",
       "      <th>Team2_name</th>\n",
       "      <th>Pred</th>\n",
       "    </tr>\n",
       "  </thead>\n",
       "  <tbody>\n",
       "    <tr>\n",
       "      <th>3113</th>\n",
       "      <td>2021_1287_1452</td>\n",
       "      <td>morehead st</td>\n",
       "      <td>west virginia</td>\n",
       "      <td>0.176077</td>\n",
       "    </tr>\n",
       "    <tr>\n",
       "      <th>3114</th>\n",
       "      <td>2010_1288_1452</td>\n",
       "      <td>morgan st</td>\n",
       "      <td>west virginia</td>\n",
       "      <td>0.061838</td>\n",
       "    </tr>\n",
       "    <tr>\n",
       "      <th>1057</th>\n",
       "      <td>2021_1186_1242</td>\n",
       "      <td>e washington</td>\n",
       "      <td>kansas</td>\n",
       "      <td>0.168621</td>\n",
       "    </tr>\n",
       "    <tr>\n",
       "      <th>567</th>\n",
       "      <td>2021_1116_1159</td>\n",
       "      <td>arkansas</td>\n",
       "      <td>colgate</td>\n",
       "      <td>0.464988</td>\n",
       "    </tr>\n",
       "    <tr>\n",
       "      <th>2544</th>\n",
       "      <td>2021_1101_1400</td>\n",
       "      <td>abilene chr</td>\n",
       "      <td>texas</td>\n",
       "      <td>0.313014</td>\n",
       "    </tr>\n",
       "    <tr>\n",
       "      <th>2615</th>\n",
       "      <td>2021_1101_1403</td>\n",
       "      <td>abilene chr</td>\n",
       "      <td>texas tech</td>\n",
       "      <td>0.323417</td>\n",
       "    </tr>\n",
       "  </tbody>\n",
       "</table>\n",
       "</div>"
      ],
      "text/plain": [
       "                  ID    Team1_name     Team2_name      Pred\n",
       "3113  2021_1287_1452   morehead st  west virginia  0.176077\n",
       "3114  2010_1288_1452     morgan st  west virginia  0.061838\n",
       "1057  2021_1186_1242  e washington         kansas  0.168621\n",
       "567   2021_1116_1159      arkansas        colgate  0.464988\n",
       "2544  2021_1101_1400   abilene chr          texas  0.313014\n",
       "2615  2021_1101_1403   abilene chr     texas tech  0.323417"
      ]
     },
     "execution_count": 341,
     "metadata": {},
     "output_type": "execute_result"
    }
   ],
   "source": [
    "#14 - 3\n",
    "\n",
    "pd.concat([game_lookup(all_games, 'we', 'mo'), \n",
    "           game_lookup(all_games, 'e w', 'ka'),\n",
    "          game_lookup(all_games, 'ark', 'colg'),\n",
    "          game_lookup(all_games, 'texas', 'abile')\n",
    "          ])"
   ]
  },
  {
   "cell_type": "code",
   "execution_count": null,
   "metadata": {},
   "outputs": [],
   "source": [
    "# 17, 17, 31, 54"
   ]
  },
  {
   "cell_type": "code",
   "execution_count": 270,
   "metadata": {},
   "outputs": [
    {
     "data": {
      "text/html": [
       "<div>\n",
       "<style scoped>\n",
       "    .dataframe tbody tr th:only-of-type {\n",
       "        vertical-align: middle;\n",
       "    }\n",
       "\n",
       "    .dataframe tbody tr th {\n",
       "        vertical-align: top;\n",
       "    }\n",
       "\n",
       "    .dataframe thead th {\n",
       "        text-align: right;\n",
       "    }\n",
       "</style>\n",
       "<table border=\"1\" class=\"dataframe\">\n",
       "  <thead>\n",
       "    <tr style=\"text-align: right;\">\n",
       "      <th></th>\n",
       "      <th>ID</th>\n",
       "      <th>Team1_name</th>\n",
       "      <th>Team2_name</th>\n",
       "      <th>Pred</th>\n",
       "    </tr>\n",
       "  </thead>\n",
       "  <tbody>\n",
       "    <tr>\n",
       "      <th>1930</th>\n",
       "      <td>2021_1325_1438</td>\n",
       "      <td>ohio</td>\n",
       "      <td>virginia</td>\n",
       "      <td>0.194837</td>\n",
       "    </tr>\n",
       "    <tr>\n",
       "      <th>1931</th>\n",
       "      <td>2021_1326_1438</td>\n",
       "      <td>ohio st</td>\n",
       "      <td>virginia</td>\n",
       "      <td>0.565400</td>\n",
       "    </tr>\n",
       "    <tr>\n",
       "      <th>1992</th>\n",
       "      <td>2021_1325_1439</td>\n",
       "      <td>ohio</td>\n",
       "      <td>virginia tech</td>\n",
       "      <td>0.318271</td>\n",
       "    </tr>\n",
       "    <tr>\n",
       "      <th>1993</th>\n",
       "      <td>2021_1326_1439</td>\n",
       "      <td>ohio st</td>\n",
       "      <td>virginia tech</td>\n",
       "      <td>0.715095</td>\n",
       "    </tr>\n",
       "    <tr>\n",
       "      <th>1612</th>\n",
       "      <td>2021_1199_1422</td>\n",
       "      <td>florida st</td>\n",
       "      <td>unc greensboro</td>\n",
       "      <td>0.797556</td>\n",
       "    </tr>\n",
       "    <tr>\n",
       "      <th>1073</th>\n",
       "      <td>2021_1317_1345</td>\n",
       "      <td>north texas</td>\n",
       "      <td>purdue</td>\n",
       "      <td>0.283391</td>\n",
       "    </tr>\n",
       "    <tr>\n",
       "      <th>888</th>\n",
       "      <td>2021_1251_1329</td>\n",
       "      <td>liberty</td>\n",
       "      <td>oklahoma st</td>\n",
       "      <td>0.250539</td>\n",
       "    </tr>\n",
       "  </tbody>\n",
       "</table>\n",
       "</div>"
      ],
      "text/plain": [
       "                  ID   Team1_name      Team2_name      Pred\n",
       "1930  2021_1325_1438         ohio        virginia  0.194837\n",
       "1931  2021_1326_1438      ohio st        virginia  0.565400\n",
       "1992  2021_1325_1439         ohio   virginia tech  0.318271\n",
       "1993  2021_1326_1439      ohio st   virginia tech  0.715095\n",
       "1612  2021_1199_1422   florida st  unc greensboro  0.797556\n",
       "1073  2021_1317_1345  north texas          purdue  0.283391\n",
       "888   2021_1251_1329      liberty     oklahoma st  0.250539"
      ]
     },
     "execution_count": 270,
     "metadata": {},
     "output_type": "execute_result"
    }
   ],
   "source": [
    "#13 - 4\n",
    "\n",
    "pd.concat([game_lookup(all_games, 'virg', 'ohio'), \n",
    "           game_lookup(all_games, 'unc g', 'florida s'),\n",
    "          game_lookup(all_games, 'north tex', 'pur'),\n",
    "          game_lookup(all_games, 'oklahoma s', 'lib')\n",
    "          ])"
   ]
  },
  {
   "cell_type": "code",
   "execution_count": 260,
   "metadata": {},
   "outputs": [
    {
     "data": {
      "text/html": [
       "<div>\n",
       "<style scoped>\n",
       "    .dataframe tbody tr th:only-of-type {\n",
       "        vertical-align: middle;\n",
       "    }\n",
       "\n",
       "    .dataframe tbody tr th {\n",
       "        vertical-align: top;\n",
       "    }\n",
       "\n",
       "    .dataframe thead th {\n",
       "        text-align: right;\n",
       "    }\n",
       "</style>\n",
       "<table border=\"1\" class=\"dataframe\">\n",
       "  <thead>\n",
       "    <tr style=\"text-align: right;\">\n",
       "      <th></th>\n",
       "      <th>ID</th>\n",
       "      <th>Team1_name</th>\n",
       "      <th>Team2_name</th>\n",
       "      <th>Pred</th>\n",
       "    </tr>\n",
       "  </thead>\n",
       "  <tbody>\n",
       "    <tr>\n",
       "      <th>1187</th>\n",
       "      <td>2021_1166_1364</td>\n",
       "      <td>creighton</td>\n",
       "      <td>uc santa barbara</td>\n",
       "      <td>0.737243</td>\n",
       "    </tr>\n",
       "    <tr>\n",
       "      <th>145</th>\n",
       "      <td>2021_1160_1207</td>\n",
       "      <td>colorado</td>\n",
       "      <td>georgetown</td>\n",
       "      <td>0.763195</td>\n",
       "    </tr>\n",
       "    <tr>\n",
       "      <th>1371</th>\n",
       "      <td>2021_1333_1397</td>\n",
       "      <td>oregon st</td>\n",
       "      <td>tennessee</td>\n",
       "      <td>0.221124</td>\n",
       "    </tr>\n",
       "    <tr>\n",
       "      <th>2206</th>\n",
       "      <td>2021_1437_1457</td>\n",
       "      <td>villanova</td>\n",
       "      <td>winthrop</td>\n",
       "      <td>0.794843</td>\n",
       "    </tr>\n",
       "  </tbody>\n",
       "</table>\n",
       "</div>"
      ],
      "text/plain": [
       "                  ID Team1_name        Team2_name      Pred\n",
       "1187  2021_1166_1364  creighton  uc santa barbara  0.737243\n",
       "145   2021_1160_1207   colorado        georgetown  0.763195\n",
       "1371  2021_1333_1397  oregon st         tennessee  0.221124\n",
       "2206  2021_1437_1457  villanova          winthrop  0.794843"
      ]
     },
     "execution_count": 260,
     "metadata": {},
     "output_type": "execute_result"
    }
   ],
   "source": [
    "#12 - 5\n",
    "pd.concat([game_lookup(all_games, 'uc santa', 'cre'), \n",
    "           game_lookup(all_games, 'color', 'georgeto'),\n",
    "          game_lookup(all_games, 'tenn', 'oregon st'),\n",
    "          game_lookup(all_games, 'villa', 'wint')])"
   ]
  },
  {
   "cell_type": "code",
   "execution_count": 266,
   "metadata": {},
   "outputs": [
    {
     "data": {
      "text/html": [
       "<div>\n",
       "<style scoped>\n",
       "    .dataframe tbody tr th:only-of-type {\n",
       "        vertical-align: middle;\n",
       "    }\n",
       "\n",
       "    .dataframe tbody tr th {\n",
       "        vertical-align: top;\n",
       "    }\n",
       "\n",
       "    .dataframe thead th {\n",
       "        text-align: right;\n",
       "    }\n",
       "</style>\n",
       "<table border=\"1\" class=\"dataframe\">\n",
       "  <thead>\n",
       "    <tr style=\"text-align: right;\">\n",
       "      <th></th>\n",
       "      <th>ID</th>\n",
       "      <th>Team1_name</th>\n",
       "      <th>Team2_name</th>\n",
       "      <th>Pred</th>\n",
       "    </tr>\n",
       "  </thead>\n",
       "  <tbody>\n",
       "    <tr>\n",
       "      <th>1665</th>\n",
       "      <td>2021_1179_1425</td>\n",
       "      <td>drake</td>\n",
       "      <td>usc</td>\n",
       "      <td>0.226869</td>\n",
       "    </tr>\n",
       "    <tr>\n",
       "      <th>2138</th>\n",
       "      <td>2021_1425_1455</td>\n",
       "      <td>usc</td>\n",
       "      <td>wichita st</td>\n",
       "      <td>0.818239</td>\n",
       "    </tr>\n",
       "    <tr>\n",
       "      <th>1323</th>\n",
       "      <td>2021_1361_1393</td>\n",
       "      <td>san diego st</td>\n",
       "      <td>syracuse</td>\n",
       "      <td>0.711787</td>\n",
       "    </tr>\n",
       "    <tr>\n",
       "      <th>1765</th>\n",
       "      <td>2021_1403_1429</td>\n",
       "      <td>texas tech</td>\n",
       "      <td>utah st</td>\n",
       "      <td>0.608665</td>\n",
       "    </tr>\n",
       "    <tr>\n",
       "      <th>501</th>\n",
       "      <td>2021_1140_1277</td>\n",
       "      <td>byu</td>\n",
       "      <td>michigan st</td>\n",
       "      <td>0.724025</td>\n",
       "    </tr>\n",
       "    <tr>\n",
       "      <th>1545</th>\n",
       "      <td>2021_1140_1417</td>\n",
       "      <td>byu</td>\n",
       "      <td>ucla</td>\n",
       "      <td>0.628415</td>\n",
       "    </tr>\n",
       "  </tbody>\n",
       "</table>\n",
       "</div>"
      ],
      "text/plain": [
       "                  ID    Team1_name   Team2_name      Pred\n",
       "1665  2021_1179_1425         drake          usc  0.226869\n",
       "2138  2021_1425_1455           usc   wichita st  0.818239\n",
       "1323  2021_1361_1393  san diego st     syracuse  0.711787\n",
       "1765  2021_1403_1429    texas tech      utah st  0.608665\n",
       "501   2021_1140_1277           byu  michigan st  0.724025\n",
       "1545  2021_1140_1417           byu         ucla  0.628415"
      ]
     },
     "execution_count": 266,
     "metadata": {},
     "output_type": "execute_result"
    }
   ],
   "source": [
    "#11 - 6\n",
    "\n",
    "pd.concat([game_lookup(all_games, 'usc', 'drake'), \n",
    "           game_lookup(all_games, 'usc', 'wich'),\n",
    "          game_lookup(all_games, 'syra', 'san die'),\n",
    "          game_lookup(all_games, 'texas t', 'utah s'),\n",
    "           game_lookup(all_games, 'byu', 'michigan s'),\n",
    "            game_lookup(all_games, 'byu', 'ucla'),\n",
    "          ])"
   ]
  },
  {
   "cell_type": "code",
   "execution_count": 263,
   "metadata": {},
   "outputs": [
    {
     "data": {
      "text/html": [
       "<div>\n",
       "<style scoped>\n",
       "    .dataframe tbody tr th:only-of-type {\n",
       "        vertical-align: middle;\n",
       "    }\n",
       "\n",
       "    .dataframe tbody tr th {\n",
       "        vertical-align: top;\n",
       "    }\n",
       "\n",
       "    .dataframe thead th {\n",
       "        text-align: right;\n",
       "    }\n",
       "</style>\n",
       "<table border=\"1\" class=\"dataframe\">\n",
       "  <thead>\n",
       "    <tr style=\"text-align: right;\">\n",
       "      <th></th>\n",
       "      <th>ID</th>\n",
       "      <th>Team1_name</th>\n",
       "      <th>Team2_name</th>\n",
       "      <th>Pred</th>\n",
       "    </tr>\n",
       "  </thead>\n",
       "  <tbody>\n",
       "    <tr>\n",
       "      <th>1814</th>\n",
       "      <td>2021_1332_1433</td>\n",
       "      <td>oregon</td>\n",
       "      <td>vcu</td>\n",
       "      <td>0.588257</td>\n",
       "    </tr>\n",
       "    <tr>\n",
       "      <th>1815</th>\n",
       "      <td>2021_1333_1433</td>\n",
       "      <td>oregon st</td>\n",
       "      <td>vcu</td>\n",
       "      <td>0.351475</td>\n",
       "    </tr>\n",
       "    <tr>\n",
       "      <th>445</th>\n",
       "      <td>2021_1163_1268</td>\n",
       "      <td>connecticut</td>\n",
       "      <td>maryland</td>\n",
       "      <td>0.605717</td>\n",
       "    </tr>\n",
       "    <tr>\n",
       "      <th>1087</th>\n",
       "      <td>2021_1155_1353</td>\n",
       "      <td>clemson</td>\n",
       "      <td>rutgers</td>\n",
       "      <td>0.500835</td>\n",
       "    </tr>\n",
       "    <tr>\n",
       "      <th>1968</th>\n",
       "      <td>2021_1196_1439</td>\n",
       "      <td>florida</td>\n",
       "      <td>virginia tech</td>\n",
       "      <td>0.515983</td>\n",
       "    </tr>\n",
       "    <tr>\n",
       "      <th>1969</th>\n",
       "      <td>2021_1199_1439</td>\n",
       "      <td>florida st</td>\n",
       "      <td>virginia tech</td>\n",
       "      <td>0.651138</td>\n",
       "    </tr>\n",
       "  </tbody>\n",
       "</table>\n",
       "</div>"
      ],
      "text/plain": [
       "                  ID   Team1_name     Team2_name      Pred\n",
       "1814  2021_1332_1433       oregon            vcu  0.588257\n",
       "1815  2021_1333_1433    oregon st            vcu  0.351475\n",
       "445   2021_1163_1268  connecticut       maryland  0.605717\n",
       "1087  2021_1155_1353      clemson        rutgers  0.500835\n",
       "1968  2021_1196_1439      florida  virginia tech  0.515983\n",
       "1969  2021_1199_1439   florida st  virginia tech  0.651138"
      ]
     },
     "execution_count": 263,
     "metadata": {},
     "output_type": "execute_result"
    }
   ],
   "source": [
    "#10 - 7\n",
    "\n",
    "pd.concat([game_lookup(all_games, 'orego', 'vcu'), \n",
    "           game_lookup(all_games, 'conn', 'mary'),\n",
    "          game_lookup(all_games, 'clem', 'rutg'),\n",
    "          game_lookup(all_games, 'florida', 'virginia t')])"
   ]
  },
  {
   "cell_type": "code",
   "execution_count": 264,
   "metadata": {},
   "outputs": [
    {
     "data": {
      "text/html": [
       "<div>\n",
       "<style scoped>\n",
       "    .dataframe tbody tr th:only-of-type {\n",
       "        vertical-align: middle;\n",
       "    }\n",
       "\n",
       "    .dataframe tbody tr th {\n",
       "        vertical-align: top;\n",
       "    }\n",
       "\n",
       "    .dataframe thead th {\n",
       "        text-align: right;\n",
       "    }\n",
       "</style>\n",
       "<table border=\"1\" class=\"dataframe\">\n",
       "  <thead>\n",
       "    <tr style=\"text-align: right;\">\n",
       "      <th></th>\n",
       "      <th>ID</th>\n",
       "      <th>Team1_name</th>\n",
       "      <th>Team2_name</th>\n",
       "      <th>Pred</th>\n",
       "    </tr>\n",
       "  </thead>\n",
       "  <tbody>\n",
       "    <tr>\n",
       "      <th>853</th>\n",
       "      <td>2021_1281_1328</td>\n",
       "      <td>missouri</td>\n",
       "      <td>oklahoma</td>\n",
       "      <td>0.493813</td>\n",
       "    </tr>\n",
       "    <tr>\n",
       "      <th>894</th>\n",
       "      <td>2021_1281_1329</td>\n",
       "      <td>missouri</td>\n",
       "      <td>oklahoma st</td>\n",
       "      <td>0.409455</td>\n",
       "    </tr>\n",
       "    <tr>\n",
       "      <th>1254</th>\n",
       "      <td>2021_1261_1382</td>\n",
       "      <td>lsu</td>\n",
       "      <td>st bonaventure</td>\n",
       "      <td>0.492229</td>\n",
       "    </tr>\n",
       "    <tr>\n",
       "      <th>2248</th>\n",
       "      <td>2021_1314_1458</td>\n",
       "      <td>north carolina</td>\n",
       "      <td>wisconsin</td>\n",
       "      <td>0.433576</td>\n",
       "    </tr>\n",
       "    <tr>\n",
       "      <th>396</th>\n",
       "      <td>2021_1210_1260</td>\n",
       "      <td>georgia tech</td>\n",
       "      <td>loyola-chicago</td>\n",
       "      <td>0.409407</td>\n",
       "    </tr>\n",
       "  </tbody>\n",
       "</table>\n",
       "</div>"
      ],
      "text/plain": [
       "                  ID      Team1_name      Team2_name      Pred\n",
       "853   2021_1281_1328        missouri        oklahoma  0.493813\n",
       "894   2021_1281_1329        missouri     oklahoma st  0.409455\n",
       "1254  2021_1261_1382             lsu  st bonaventure  0.492229\n",
       "2248  2021_1314_1458  north carolina       wisconsin  0.433576\n",
       "396   2021_1210_1260    georgia tech  loyola-chicago  0.409407"
      ]
     },
     "execution_count": 264,
     "metadata": {},
     "output_type": "execute_result"
    }
   ],
   "source": [
    "# 9 - 8\n",
    "pd.concat([game_lookup(all_games, 'oklah', 'missour'), \n",
    "           game_lookup(all_games, 'lsu', 'st b'),\n",
    "          game_lookup(all_games, 'north c', 'wiscon'),\n",
    "          game_lookup(all_games, 'loyola', 'georgia t')])"
   ]
  },
  {
   "cell_type": "code",
   "execution_count": 412,
   "metadata": {},
   "outputs": [
    {
     "data": {
      "text/html": [
       "<div>\n",
       "<style scoped>\n",
       "    .dataframe tbody tr th:only-of-type {\n",
       "        vertical-align: middle;\n",
       "    }\n",
       "\n",
       "    .dataframe tbody tr th {\n",
       "        vertical-align: top;\n",
       "    }\n",
       "\n",
       "    .dataframe thead th {\n",
       "        text-align: right;\n",
       "    }\n",
       "</style>\n",
       "<table border=\"1\" class=\"dataframe\">\n",
       "  <thead>\n",
       "    <tr style=\"text-align: right;\">\n",
       "      <th></th>\n",
       "      <th>ID</th>\n",
       "      <th>Team1_name</th>\n",
       "      <th>Team2_name</th>\n",
       "      <th>Pred</th>\n",
       "    </tr>\n",
       "  </thead>\n",
       "  <tbody>\n",
       "    <tr>\n",
       "      <th>2067</th>\n",
       "      <td>2021_1393_1452</td>\n",
       "      <td>syracuse</td>\n",
       "      <td>west virginia</td>\n",
       "      <td>0.314791</td>\n",
       "    </tr>\n",
       "  </tbody>\n",
       "</table>\n",
       "</div>"
      ],
      "text/plain": [
       "                  ID Team1_name     Team2_name      Pred\n",
       "2067  2021_1393_1452   syracuse  west virginia  0.314791"
      ]
     },
     "execution_count": 412,
     "metadata": {},
     "output_type": "execute_result"
    }
   ],
   "source": [
    "game_lookup(all_games, 'syracuse', 'west')"
   ]
  },
  {
   "cell_type": "code",
   "execution_count": 248,
   "metadata": {},
   "outputs": [
    {
     "data": {
      "text/html": [
       "<div>\n",
       "<style scoped>\n",
       "    .dataframe tbody tr th:only-of-type {\n",
       "        vertical-align: middle;\n",
       "    }\n",
       "\n",
       "    .dataframe tbody tr th {\n",
       "        vertical-align: top;\n",
       "    }\n",
       "\n",
       "    .dataframe thead th {\n",
       "        text-align: right;\n",
       "    }\n",
       "</style>\n",
       "<table border=\"1\" class=\"dataframe\">\n",
       "  <thead>\n",
       "    <tr style=\"text-align: right;\">\n",
       "      <th></th>\n",
       "      <th>ID</th>\n",
       "      <th>Team1_name</th>\n",
       "      <th>Team2_name</th>\n",
       "      <th>Pred</th>\n",
       "    </tr>\n",
       "  </thead>\n",
       "  <tbody>\n",
       "    <tr>\n",
       "      <th>1378</th>\n",
       "      <td>2021_1101_1400</td>\n",
       "      <td>abilene chr</td>\n",
       "      <td>texas</td>\n",
       "      <td>0.313014</td>\n",
       "    </tr>\n",
       "    <tr>\n",
       "      <th>1431</th>\n",
       "      <td>2021_1101_1403</td>\n",
       "      <td>abilene chr</td>\n",
       "      <td>texas tech</td>\n",
       "      <td>0.323417</td>\n",
       "    </tr>\n",
       "  </tbody>\n",
       "</table>\n",
       "</div>"
      ],
      "text/plain": [
       "                  ID   Team1_name  Team2_name      Pred\n",
       "1378  2021_1101_1400  abilene chr       texas  0.313014\n",
       "1431  2021_1101_1403  abilene chr  texas tech  0.323417"
      ]
     },
     "execution_count": 248,
     "metadata": {},
     "output_type": "execute_result"
    }
   ],
   "source": []
  },
  {
   "cell_type": "code",
   "execution_count": null,
   "metadata": {},
   "outputs": [],
   "source": []
  },
  {
   "cell_type": "code",
   "execution_count": 78,
   "metadata": {},
   "outputs": [
    {
     "data": {
      "text/html": [
       "<div>\n",
       "<style scoped>\n",
       "    .dataframe tbody tr th:only-of-type {\n",
       "        vertical-align: middle;\n",
       "    }\n",
       "\n",
       "    .dataframe tbody tr th {\n",
       "        vertical-align: top;\n",
       "    }\n",
       "\n",
       "    .dataframe thead th {\n",
       "        text-align: right;\n",
       "    }\n",
       "</style>\n",
       "<table border=\"1\" class=\"dataframe\">\n",
       "  <thead>\n",
       "    <tr style=\"text-align: right;\">\n",
       "      <th></th>\n",
       "      <th>Unnamed: 0</th>\n",
       "      <th>type</th>\n",
       "      <th>ID</th>\n",
       "      <th>Pred</th>\n",
       "      <th>Season</th>\n",
       "      <th>Team1</th>\n",
       "      <th>Team2</th>\n",
       "      <th>Outcome</th>\n",
       "      <th>avg_rank_x</th>\n",
       "      <th>t1_final_rank</th>\n",
       "      <th>...</th>\n",
       "      <th>t1_adj_oe_0</th>\n",
       "      <th>t1_adj_de_0</th>\n",
       "      <th>t2_adj_oe_0</th>\n",
       "      <th>t2_adj_de_0</th>\n",
       "      <th>t1_adj_margin</th>\n",
       "      <th>t2_adj_margin</th>\n",
       "      <th>TeamID_x</th>\n",
       "      <th>Team1_name</th>\n",
       "      <th>TeamID_y</th>\n",
       "      <th>Team2_name</th>\n",
       "    </tr>\n",
       "  </thead>\n",
       "  <tbody>\n",
       "    <tr>\n",
       "      <th>395</th>\n",
       "      <td>3243</td>\n",
       "      <td>1</td>\n",
       "      <td>2021_1207_1260</td>\n",
       "      <td>0.284340</td>\n",
       "      <td>2021</td>\n",
       "      <td>1207</td>\n",
       "      <td>1260</td>\n",
       "      <td>0.0</td>\n",
       "      <td>51</td>\n",
       "      <td>81.876843</td>\n",
       "      <td>...</td>\n",
       "      <td>104.980543</td>\n",
       "      <td>98.533603</td>\n",
       "      <td>113.798182</td>\n",
       "      <td>89.56814</td>\n",
       "      <td>6.446940</td>\n",
       "      <td>24.230042</td>\n",
       "      <td>1207</td>\n",
       "      <td>Georgetown</td>\n",
       "      <td>1260</td>\n",
       "      <td>Loyola-Chicago</td>\n",
       "    </tr>\n",
       "    <tr>\n",
       "      <th>396</th>\n",
       "      <td>3292</td>\n",
       "      <td>1</td>\n",
       "      <td>2021_1210_1260</td>\n",
       "      <td>0.409407</td>\n",
       "      <td>2021</td>\n",
       "      <td>1210</td>\n",
       "      <td>1260</td>\n",
       "      <td>0.0</td>\n",
       "      <td>36</td>\n",
       "      <td>83.919965</td>\n",
       "      <td>...</td>\n",
       "      <td>116.173329</td>\n",
       "      <td>100.111888</td>\n",
       "      <td>113.798182</td>\n",
       "      <td>89.56814</td>\n",
       "      <td>16.061441</td>\n",
       "      <td>24.230042</td>\n",
       "      <td>1210</td>\n",
       "      <td>Georgia Tech</td>\n",
       "      <td>1260</td>\n",
       "      <td>Loyola-Chicago</td>\n",
       "    </tr>\n",
       "  </tbody>\n",
       "</table>\n",
       "<p>2 rows × 29 columns</p>\n",
       "</div>"
      ],
      "text/plain": [
       "     Unnamed: 0  type              ID      Pred  Season  Team1  Team2  \\\n",
       "395        3243     1  2021_1207_1260  0.284340    2021   1207   1260   \n",
       "396        3292     1  2021_1210_1260  0.409407    2021   1210   1260   \n",
       "\n",
       "     Outcome  avg_rank_x  t1_final_rank  ...  t1_adj_oe_0  t1_adj_de_0  \\\n",
       "395      0.0          51      81.876843  ...   104.980543    98.533603   \n",
       "396      0.0          36      83.919965  ...   116.173329   100.111888   \n",
       "\n",
       "     t2_adj_oe_0  t2_adj_de_0  t1_adj_margin  t2_adj_margin  TeamID_x  \\\n",
       "395   113.798182     89.56814       6.446940      24.230042      1207   \n",
       "396   113.798182     89.56814      16.061441      24.230042      1210   \n",
       "\n",
       "       Team1_name  TeamID_y      Team2_name  \n",
       "395    Georgetown      1260  Loyola-Chicago  \n",
       "396  Georgia Tech      1260  Loyola-Chicago  \n",
       "\n",
       "[2 rows x 29 columns]"
      ]
     },
     "execution_count": 78,
     "metadata": {},
     "output_type": "execute_result"
    }
   ],
   "source": [
    "all_games[ (all_games.Team1_name.str.contains('Georg')) & (all_games.Team2_name.str.contains('Loyola')) ]"
   ]
  },
  {
   "cell_type": "code",
   "execution_count": 56,
   "metadata": {},
   "outputs": [
    {
     "data": {
      "text/html": [
       "<div>\n",
       "<style scoped>\n",
       "    .dataframe tbody tr th:only-of-type {\n",
       "        vertical-align: middle;\n",
       "    }\n",
       "\n",
       "    .dataframe tbody tr th {\n",
       "        vertical-align: top;\n",
       "    }\n",
       "\n",
       "    .dataframe thead th {\n",
       "        text-align: right;\n",
       "    }\n",
       "</style>\n",
       "<table border=\"1\" class=\"dataframe\">\n",
       "  <thead>\n",
       "    <tr style=\"text-align: right;\">\n",
       "      <th></th>\n",
       "      <th>TeamID</th>\n",
       "      <th>TeamName</th>\n",
       "      <th>FirstD1Season</th>\n",
       "      <th>LastD1Season</th>\n",
       "    </tr>\n",
       "  </thead>\n",
       "  <tbody>\n",
       "    <tr>\n",
       "      <th>105</th>\n",
       "      <td>1206</td>\n",
       "      <td>George Mason</td>\n",
       "      <td>1985</td>\n",
       "      <td>2021</td>\n",
       "    </tr>\n",
       "    <tr>\n",
       "      <th>106</th>\n",
       "      <td>1207</td>\n",
       "      <td>Georgetown</td>\n",
       "      <td>1985</td>\n",
       "      <td>2021</td>\n",
       "    </tr>\n",
       "    <tr>\n",
       "      <th>107</th>\n",
       "      <td>1208</td>\n",
       "      <td>Georgia</td>\n",
       "      <td>1985</td>\n",
       "      <td>2021</td>\n",
       "    </tr>\n",
       "    <tr>\n",
       "      <th>108</th>\n",
       "      <td>1209</td>\n",
       "      <td>Georgia St</td>\n",
       "      <td>1985</td>\n",
       "      <td>2021</td>\n",
       "    </tr>\n",
       "    <tr>\n",
       "      <th>109</th>\n",
       "      <td>1210</td>\n",
       "      <td>Georgia Tech</td>\n",
       "      <td>1985</td>\n",
       "      <td>2021</td>\n",
       "    </tr>\n",
       "  </tbody>\n",
       "</table>\n",
       "</div>"
      ],
      "text/plain": [
       "     TeamID      TeamName  FirstD1Season  LastD1Season\n",
       "105    1206  George Mason           1985          2021\n",
       "106    1207    Georgetown           1985          2021\n",
       "107    1208       Georgia           1985          2021\n",
       "108    1209    Georgia St           1985          2021\n",
       "109    1210  Georgia Tech           1985          2021"
      ]
     },
     "execution_count": 56,
     "metadata": {},
     "output_type": "execute_result"
    }
   ],
   "source": [
    "teams[teams['TeamName'].str.contains('Georg')]"
   ]
  },
  {
   "cell_type": "code",
   "execution_count": 15,
   "metadata": {},
   "outputs": [
    {
     "data": {
      "text/html": [
       "<div>\n",
       "<style scoped>\n",
       "    .dataframe tbody tr th:only-of-type {\n",
       "        vertical-align: middle;\n",
       "    }\n",
       "\n",
       "    .dataframe tbody tr th {\n",
       "        vertical-align: top;\n",
       "    }\n",
       "\n",
       "    .dataframe thead th {\n",
       "        text-align: right;\n",
       "    }\n",
       "</style>\n",
       "<table border=\"1\" class=\"dataframe\">\n",
       "  <thead>\n",
       "    <tr style=\"text-align: right;\">\n",
       "      <th></th>\n",
       "      <th>TeamID</th>\n",
       "      <th>TeamName</th>\n",
       "      <th>FirstD1Season</th>\n",
       "      <th>LastD1Season</th>\n",
       "    </tr>\n",
       "  </thead>\n",
       "  <tbody>\n",
       "    <tr>\n",
       "      <th>0</th>\n",
       "      <td>1101</td>\n",
       "      <td>Abilene Chr</td>\n",
       "      <td>2014</td>\n",
       "      <td>2021</td>\n",
       "    </tr>\n",
       "    <tr>\n",
       "      <th>1</th>\n",
       "      <td>1102</td>\n",
       "      <td>Air Force</td>\n",
       "      <td>1985</td>\n",
       "      <td>2021</td>\n",
       "    </tr>\n",
       "    <tr>\n",
       "      <th>2</th>\n",
       "      <td>1103</td>\n",
       "      <td>Akron</td>\n",
       "      <td>1985</td>\n",
       "      <td>2021</td>\n",
       "    </tr>\n",
       "    <tr>\n",
       "      <th>3</th>\n",
       "      <td>1104</td>\n",
       "      <td>Alabama</td>\n",
       "      <td>1985</td>\n",
       "      <td>2021</td>\n",
       "    </tr>\n",
       "    <tr>\n",
       "      <th>4</th>\n",
       "      <td>1105</td>\n",
       "      <td>Alabama A&amp;M</td>\n",
       "      <td>2000</td>\n",
       "      <td>2021</td>\n",
       "    </tr>\n",
       "  </tbody>\n",
       "</table>\n",
       "</div>"
      ],
      "text/plain": [
       "   TeamID     TeamName  FirstD1Season  LastD1Season\n",
       "0    1101  Abilene Chr           2014          2021\n",
       "1    1102    Air Force           1985          2021\n",
       "2    1103        Akron           1985          2021\n",
       "3    1104      Alabama           1985          2021\n",
       "4    1105  Alabama A&M           2000          2021"
      ]
     },
     "execution_count": 15,
     "metadata": {},
     "output_type": "execute_result"
    }
   ],
   "source": [
    "\n",
    "teams.head()"
   ]
  },
  {
   "cell_type": "code",
   "execution_count": null,
   "metadata": {},
   "outputs": [],
   "source": []
  }
 ],
 "metadata": {
  "kernelspec": {
   "display_name": "ncaa_model",
   "language": "python",
   "name": "ncaa_model"
  },
  "language_info": {
   "codemirror_mode": {
    "name": "ipython",
    "version": 3
   },
   "file_extension": ".py",
   "mimetype": "text/x-python",
   "name": "python",
   "nbconvert_exporter": "python",
   "pygments_lexer": "ipython3",
   "version": "3.8.2"
  }
 },
 "nbformat": 4,
 "nbformat_minor": 2
}

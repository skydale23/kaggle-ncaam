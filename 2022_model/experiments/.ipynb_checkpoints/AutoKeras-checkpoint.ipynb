{
 "cells": [
  {
   "cell_type": "code",
   "execution_count": 27,
   "id": "7740acd1",
   "metadata": {},
   "outputs": [],
   "source": [
    "import pandas as pd\n",
    "import numpy as np\n",
    "from autokeras import StructuredDataClassifier\n",
    "from sklearn.metrics import log_loss\n",
    "from sklearn.metrics import accuracy_score\n",
    "from sklearn.linear_model import LogisticRegression"
   ]
  },
  {
   "cell_type": "code",
   "execution_count": 13,
   "id": "898d8d9c",
   "metadata": {},
   "outputs": [],
   "source": [
    "%run ../functions.ipynb"
   ]
  },
  {
   "cell_type": "code",
   "execution_count": 14,
   "id": "506be8d3",
   "metadata": {},
   "outputs": [],
   "source": [
    "tourney_games = pd.read_csv('../feature_engineering/output/all_games.csv')\n"
   ]
  },
  {
   "cell_type": "code",
   "execution_count": 15,
   "id": "a4a62c46",
   "metadata": {},
   "outputs": [],
   "source": [
    "feature_list = [\n",
    "    'seed_diff', \n",
    "            't1_adj_margin', 't2_adj_margin',\n",
    "                't1_final_rank', 't2_final_rank',\n",
    "                't1_OrdinalRank', 't2_OrdinalRank',\n",
    "#                 't1_adj_margin_1',\n",
    "               't1_adj_margin_2', \n",
    "                't1_adj_margin_3', \n",
    "                't1_adj_margin_4',\n",
    "                't1_adj_margin_5', \n",
    "                't1_adj_margin_6', \n",
    "                't1_adj_margin_7',\n",
    "                   't1_adj_margin_8', \n",
    "                't1_adj_margin_9', \n",
    "                't1_adj_margin_10',\n",
    "#                't2_adj_margin_1', \n",
    "                't2_adj_margin_2', \n",
    "                't2_adj_margin_3',\n",
    "                   't2_adj_margin_4', \n",
    "                    't2_adj_margin_5', \n",
    "                't2_adj_margin_6',\n",
    "                't2_adj_margin_7', \n",
    "                't2_adj_margin_8',\n",
    "                't2_adj_margin_9',\n",
    "               't2_adj_margin_10',\n",
    "#             'upset_second_round'\n",
    "]"
   ]
  },
  {
   "cell_type": "code",
   "execution_count": 16,
   "id": "d610de61",
   "metadata": {},
   "outputs": [],
   "source": [
    "df = tourney_games[(tourney_games.Season < 2016)] #This is only for stage 1\n",
    "#df = df[(df.Season < 2021)] #This is for stage 2\n",
    "df = df.fillna(0)\n",
    "X_train = df[feature_list].values\n",
    "y_train = df['Outcome'].values\n",
    "\n",
    "X_test = tourney_games[(tourney_games.Season >= 2016) & (tourney_games.Season < 2022)\n",
    "                          & (tourney_games.type == 0)][feature_list].values\n",
    "X_test = np.asarray(X_test).astype('float32')\n",
    "y_test = tourney_games[(tourney_games.Season >= 2016) & (tourney_games.Season < 2022)\n",
    "                      & (tourney_games.type == 0)]['Outcome'].values\n",
    "y_test = np.asarray(y_test).astype('float32')\n"
   ]
  },
  {
   "cell_type": "code",
   "execution_count": 17,
   "id": "81f8375b",
   "metadata": {},
   "outputs": [
    {
     "name": "stdout",
     "output_type": "stream",
     "text": [
      "Trial 15 Complete [00h 00m 11s]\n",
      "val_accuracy: 0.7106918096542358\n",
      "\n",
      "Best val_accuracy So Far: 0.7327044010162354\n",
      "Total elapsed time: 00h 01m 29s\n",
      "INFO:tensorflow:Oracle triggered exit\n",
      "53/53 [==============================] - 1s 2ms/step - loss: 0.6263 - accuracy: 0.6458\n"
     ]
    },
    {
     "name": "stderr",
     "output_type": "stream",
     "text": [
      "2022-03-05 21:13:23.165735: W tensorflow/python/util/util.cc:368] Sets are not currently considered sequences, but this may change in the future, so consider avoiding using them.\n"
     ]
    },
    {
     "name": "stdout",
     "output_type": "stream",
     "text": [
      "INFO:tensorflow:Assets written to: ./structured_data_classifier/best_model/assets\n"
     ]
    },
    {
     "data": {
      "text/plain": [
       "<keras.callbacks.History at 0x151b084c0>"
      ]
     },
     "execution_count": 17,
     "metadata": {},
     "output_type": "execute_result"
    }
   ],
   "source": [
    "\n",
    "# define the search\n",
    "search1 = StructuredDataClassifier(max_trials=15)\n",
    "# perform the search\n",
    "search1.fit(x=X_train, y=y_train, verbose=100)\n"
   ]
  },
  {
   "cell_type": "code",
   "execution_count": 18,
   "id": "e4be8415",
   "metadata": {},
   "outputs": [],
   "source": [
    "# evaluate the model\n",
    "loss, acc = search1.evaluate(X_test, y_test, verbose=1000)\n"
   ]
  },
  {
   "cell_type": "code",
   "execution_count": 19,
   "id": "bfa8e9b1",
   "metadata": {},
   "outputs": [
    {
     "data": {
      "text/plain": [
       "0.5823287963867188"
      ]
     },
     "execution_count": 19,
     "metadata": {},
     "output_type": "execute_result"
    }
   ],
   "source": [
    "loss"
   ]
  },
  {
   "cell_type": "code",
   "execution_count": 25,
   "id": "7617098c",
   "metadata": {},
   "outputs": [
    {
     "name": "stdout",
     "output_type": "stream",
     "text": [
      "0.6856287425149701 (0.5823287842739485, 0.6856287425149701)\n"
     ]
    }
   ],
   "source": [
    "model = search1.export_model()\n",
    "y_pred_keras = model.predict(X_test)\n",
    "ll = log_loss(y_test, y_pred_keras), accuracy_score(y_test, np.where(y_pred_keras > .5, 1, 0))\n",
    "acc = accuracy_score(y_test, np.where(y_pred_keras > .5, 1, 0))\n",
    "\n",
    "print(acc, ll)"
   ]
  },
  {
   "cell_type": "code",
   "execution_count": 30,
   "id": "696c025c",
   "metadata": {},
   "outputs": [
    {
     "name": "stdout",
     "output_type": "stream",
     "text": [
      "0.688622754491018 0.575894189192754\n"
     ]
    }
   ],
   "source": [
    "\n",
    "clf = LogisticRegression(random_state = 0, C = 0.0001, penalty = 'l2')\n",
    "clf.fit(X_train, y_train)\n",
    "y_pred = clf.predict_proba(X_test)\n",
    "ll = log_loss(y_test, y_pred)\n",
    "y_pred = clf.predict(X_test)\n",
    "acc = accuracy_score(y_test, y_pred)\n",
    "\n",
    "print(acc, ll)"
   ]
  },
  {
   "cell_type": "code",
   "execution_count": null,
   "id": "78d55e80",
   "metadata": {},
   "outputs": [],
   "source": [
    "# add least for now, autokeras isn't helping over my Logreg\n"
   ]
  }
 ],
 "metadata": {
  "kernelspec": {
   "display_name": "ncaa_model",
   "language": "python",
   "name": "ncaa_model"
  },
  "language_info": {
   "codemirror_mode": {
    "name": "ipython",
    "version": 3
   },
   "file_extension": ".py",
   "mimetype": "text/x-python",
   "name": "python",
   "nbconvert_exporter": "python",
   "pygments_lexer": "ipython3",
   "version": "3.8.2"
  }
 },
 "nbformat": 4,
 "nbformat_minor": 5
}

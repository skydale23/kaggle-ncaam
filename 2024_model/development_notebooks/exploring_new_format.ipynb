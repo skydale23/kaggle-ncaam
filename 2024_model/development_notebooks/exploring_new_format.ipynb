{
 "cells": [
  {
   "cell_type": "code",
   "execution_count": 365,
   "metadata": {},
   "outputs": [],
   "source": [
    "import pandas as pd"
   ]
  },
  {
   "cell_type": "code",
   "execution_count": 366,
   "metadata": {},
   "outputs": [],
   "source": [
    "teams = pd.read_csv(\"../data/MTeams.csv\")"
   ]
  },
  {
   "cell_type": "code",
   "execution_count": 367,
   "metadata": {},
   "outputs": [],
   "source": [
    "slots = pd.read_csv(\"../data/MNCAATourneySlots.csv\")\n",
    "slots = slots[slots.Season == 2023]"
   ]
  },
  {
   "cell_type": "code",
   "execution_count": 368,
   "metadata": {},
   "outputs": [],
   "source": [
    "seeds = pd.read_csv(\"../data/MNCAATourneySeeds.csv\")\n",
    "\n",
    "# remove play-ins\n",
    "seeds[\"Seed\"] = seeds[\"Seed\"].str[0:3]\n",
    "seeds = seeds.drop_duplicates([\"Season\", \"Seed\"])\n",
    "seeds[\"Seed\"] = seeds[\"Seed\"].astype(str)"
   ]
  },
  {
   "cell_type": "code",
   "execution_count": 369,
   "metadata": {},
   "outputs": [],
   "source": [
    "predictions = pd.read_csv(\"../submissions/sub1_3_13.csv\")\n",
    "predictions[['Season', 'Team1', 'Team2']] = predictions['ID'].str.split('_', expand=True)\n",
    "predictions = predictions[predictions[\"Pred\"] != .5] \n",
    "predictions[\"Team1\"] = predictions[\"Team1\"].astype(int) \n",
    "predictions[\"Team2\"] = predictions[\"Team2\"].astype(int) \n",
    "predictions[\"Season\"] = predictions[\"Season\"].astype(int) \n",
    "\n",
    "seeds_t1 = seeds.copy()\n",
    "seeds_t1.columns = [\"Season\", \"t1_seed\", \"Team1\"]\n",
    "predictions = predictions.merge(seeds_t1, how=\"inner\", on=[\"Season\", \"Team1\"]) # inner results in removing playin teams from above \n",
    "\n",
    "seeds_t2 = seeds.copy()\n",
    "seeds_t2.columns = [\"Season\", \"t2_seed\", \"Team2\"]\n",
    "predictions = predictions.merge(seeds_t2, how=\"inner\", on=[\"Season\", \"Team2\"])\n",
    "\n",
    "# filter out women for now\n",
    "predictions = predictions[predictions.Team1 < 2000]"
   ]
  },
  {
   "cell_type": "code",
   "execution_count": 370,
   "metadata": {},
   "outputs": [],
   "source": [
    "predictions2 = predictions.copy()\n",
    "predictions2 = predictions[['ID', 'Pred', 'Season', 'Team2', 'Team1', 't2_seed', 't1_seed']]\n",
    "predictions2.columns = ['ID', 'Pred', 'Season', 'Team1', 'Team2', 't1_seed', 't2_seed']\n",
    "predictions2[\"Pred\"] = 1 - predictions2[\"Pred\"]\n",
    "predictions = pd.concat([predictions, predictions2], axis=0)"
   ]
  },
  {
   "cell_type": "code",
   "execution_count": 371,
   "metadata": {},
   "outputs": [],
   "source": [
    "# import re\n",
    "# predictions[\"t1_seed_num\"] = predictions['t1_seed'].apply(lambda x: int(re.search(r'\\d+', str(x)).group()) if re.search(r'\\d+', str(x)) else None)\n",
    "# predictions[\"t2_seed_num\"] = predictions['t2_seed'].apply(lambda x: int(re.search(r'\\d+', str(x)).group()) if re.search(r'\\d+', str(x)) else None)\n",
    "\n",
    "# import numpy as np\n",
    "# predictions[\"StrongSeed\"] = np.where(predictions.t1_seed_num < predictions.t2_seed_num,\n",
    "#                                     predictions.t1_seed,  predictions.t2_seed)\n",
    "\n",
    "# predictions[\"WeakSeed\"] = np.where(predictions.t1_seed_num < predictions.t2_seed_num,\n",
    "#                                     predictions.t2_seed,  predictions.t1_seed)  \n",
    "\n",
    "# predictions[\"prob_strong_seed\"] = np.where(predictions.t1_seed_num < predictions.t2_seed_num,\n",
    "#                                     predictions[\"Pred\"],  1 - predictions[\"Pred\"])\n",
    "\n",
    "                           "
   ]
  },
  {
   "cell_type": "code",
   "execution_count": 372,
   "metadata": {},
   "outputs": [],
   "source": [
    "def get_round(slots, round):\n",
    "    return slots[slots.Slot.str[1] == str(round)]\n",
    "\n",
    "r1_slots = get_round(slots, 1)\n",
    "r2_slots = get_round(slots, 2)\n",
    "r3_slots = get_round(slots, 3)\n",
    "r4_slots = get_round(slots, 4)\n",
    "r5_slots = get_round(slots, 5)\n",
    "r6_slots = get_round(slots, 6)\n"
   ]
  },
  {
   "cell_type": "code",
   "execution_count": 373,
   "metadata": {},
   "outputs": [],
   "source": [
    "predictions_copy = predictions.copy()\n",
    "predictions_copy.columns = ['ID', 'prob_strong_seed', 'Season', 'StrongTeam', 'WeakTeam', 'StrongSeed', 'WeakSeed']"
   ]
  },
  {
   "cell_type": "code",
   "execution_count": 374,
   "metadata": {},
   "outputs": [],
   "source": [
    "import numpy as np\n",
    "def random_choice(p):\n",
    "    return np.random.choice([1, 0], p=[p, 1 - p])\n"
   ]
  },
  {
   "cell_type": "code",
   "execution_count": 375,
   "metadata": {},
   "outputs": [],
   "source": [
    "# get probs\n",
    "r1_slots = r1_slots.merge(predictions_copy, how=\"left\", on = [\"Season\", \"StrongSeed\", \"WeakSeed\"])\n",
    "r1_slots = r1_slots[r1_slots.prob_strong_seed.notnull()]\n",
    "\n",
    "# Get whether strong seed wins\n",
    "r1_slots['strong_seed_wins'] = r1_slots['prob_strong_seed'].apply(lambda x: random_choice(x))\n",
    "\n",
    "# get slot / winners\n",
    "r1_slots[\"winner_team\"] = np.where(r1_slots.strong_seed_wins == 1, r1_slots.StrongTeam, r1_slots.WeakTeam)\n",
    "r1_winners = r1_slots[[\"Slot\", \"winner_team\"]]\n",
    "\n",
    "\n"
   ]
  },
  {
   "cell_type": "code",
   "execution_count": 376,
   "metadata": {},
   "outputs": [],
   "source": [
    "r1_winners1 = r1_winners.copy()\n",
    "r1_winners1.columns = [\"StrongSeed\", \"StrongTeam\"]\n",
    "\n",
    "r2_slots = r2_slots.merge(r1_winners1, how=\"left\", on=[\"StrongSeed\"])\n",
    "\n",
    "r1_winners2 = r1_winners.copy()\n",
    "r1_winners2.columns = [\"WeakSeed\", \"WeakTeam\"]\n",
    "\n",
    "r2_slots = r2_slots.merge(r1_winners2, how=\"left\", on=[\"WeakSeed\"])\n",
    "\n",
    "key = [\"Season\", \"StrongTeam\", \"WeakTeam\"]\n",
    "r2_slots = r2_slots.merge(predictions_copy[key +[\"prob_strong_seed\"]], how=\"left\", on = key)\n",
    "\n",
    "r2_slots['strong_seed_wins'] = r2_slots['prob_strong_seed'].apply(lambda x: random_choice(x))\n",
    "\n",
    "r2_slots[\"winner_team\"] = np.where(r2_slots.strong_seed_wins == 1, r2_slots.StrongTeam, r2_slots.WeakTeam)\n",
    "r2_winners = r2_slots[[\"Slot\", \"winner_team\"]]\n",
    "\n"
   ]
  },
  {
   "cell_type": "code",
   "execution_count": 377,
   "metadata": {},
   "outputs": [],
   "source": [
    "# merge in winners\n",
    "r2_winners1 = r2_winners.copy()\n",
    "r2_winners1.columns = [\"StrongSeed\", \"StrongTeam\"]\n",
    "\n",
    "r3_slots = r3_slots.merge(r2_winners1, how=\"left\", on=[\"StrongSeed\"])\n",
    "\n",
    "r2_winners2 = r2_winners.copy()\n",
    "r2_winners2.columns = [\"WeakSeed\", \"WeakTeam\"]\n",
    "\n",
    "r3_slots = r3_slots.merge(r2_winners2, how=\"left\", on=[\"WeakSeed\"])\n",
    "\n",
    "key = [\"Season\", \"StrongTeam\", \"WeakTeam\"]\n",
    "r3_slots = r3_slots.merge(predictions_copy[key +[\"prob_strong_seed\"]], how=\"left\", on = key)\n",
    "\n",
    "r3_slots['strong_seed_wins'] = r3_slots['prob_strong_seed'].apply(lambda x: random_choice(x))\n",
    "\n",
    "r3_slots[\"winner_team\"] = np.where(r3_slots.strong_seed_wins == 1, r3_slots.StrongTeam, r3_slots.WeakTeam)\n",
    "r3_winners = r3_slots[[\"Slot\", \"winner_team\"]]"
   ]
  },
  {
   "cell_type": "code",
   "execution_count": null,
   "metadata": {},
   "outputs": [],
   "source": [
    "r3_winners.merge(teams, how=\"left\", left_on=\"winner_team\",right_on=\"TeamID\")"
   ]
  },
  {
   "cell_type": "code",
   "execution_count": 378,
   "metadata": {},
   "outputs": [],
   "source": [
    "# merge in winners\n",
    "r3_winners1 = r3_winners.copy()\n",
    "r3_winners1.columns = [\"StrongSeed\", \"StrongTeam\"]\n",
    "\n",
    "r4_slots = r4_slots.merge(r3_winners1, how=\"left\", on=[\"StrongSeed\"])\n",
    "\n",
    "r3_winners2 = r3_winners.copy()\n",
    "r3_winners2.columns = [\"WeakSeed\", \"WeakTeam\"]\n",
    "\n",
    "r4_slots = r4_slots.merge(r3_winners2, how=\"left\", on=[\"WeakSeed\"])\n",
    "\n",
    "key = [\"Season\", \"StrongTeam\", \"WeakTeam\"]\n",
    "r4_slots = r4_slots.merge(predictions_copy[key +[\"prob_strong_seed\"]], how=\"left\", on = key)\n",
    "\n",
    "r4_slots['strong_seed_wins'] = r4_slots['prob_strong_seed'].apply(lambda x: random_choice(x))\n",
    "\n",
    "r4_slots[\"winner_team\"] = np.where(r4_slots.strong_seed_wins == 1, r4_slots.StrongTeam, r4_slots.WeakTeam)\n",
    "r4_winners = r4_slots[[\"Slot\", \"winner_team\"]]"
   ]
  },
  {
   "cell_type": "code",
   "execution_count": null,
   "metadata": {},
   "outputs": [],
   "source": [
    "r4_winners.merge(teams, how=\"left\", left_on=\"winner_team\",right_on=\"TeamID\")"
   ]
  },
  {
   "cell_type": "code",
   "execution_count": 379,
   "metadata": {},
   "outputs": [],
   "source": [
    "# merge in winners\n",
    "r4_winners1 = r4_winners.copy()\n",
    "r4_winners1.columns = [\"StrongSeed\", \"StrongTeam\"]\n",
    "\n",
    "r5_slots = r5_slots.merge(r4_winners1, how=\"left\", on=[\"StrongSeed\"])\n",
    "\n",
    "r4_winners2 = r4_winners.copy()\n",
    "r4_winners2.columns = [\"WeakSeed\", \"WeakTeam\"]\n",
    "\n",
    "r5_slots = r5_slots.merge(r4_winners2, how=\"left\", on=[\"WeakSeed\"])\n",
    "\n",
    "key = [\"Season\", \"StrongTeam\", \"WeakTeam\"]\n",
    "r5_slots = r5_slots.merge(predictions_copy[key +[\"prob_strong_seed\"]], how=\"left\", on = key)\n",
    "\n",
    "r5_slots['strong_seed_wins'] = r5_slots['prob_strong_seed'].apply(lambda x: random_choice(x))\n",
    "\n",
    "r5_slots[\"winner_team\"] = np.where(r5_slots.strong_seed_wins == 1, r5_slots.StrongTeam, r5_slots.WeakTeam)\n",
    "r5_winners = r5_slots[[\"Slot\", \"winner_team\"]]"
   ]
  },
  {
   "cell_type": "code",
   "execution_count": null,
   "metadata": {},
   "outputs": [],
   "source": [
    "r5_winners.merge(teams, how=\"left\", left_on=\"winner_team\",right_on=\"TeamID\")"
   ]
  },
  {
   "cell_type": "code",
   "execution_count": 380,
   "metadata": {},
   "outputs": [],
   "source": [
    "# merge in winners\n",
    "r5_winners1 = r5_winners.copy()\n",
    "r5_winners1.columns = [\"StrongSeed\", \"StrongTeam\"]\n",
    "\n",
    "r6_slots = r6_slots.merge(r5_winners1, how=\"left\", on=[\"StrongSeed\"])\n",
    "\n",
    "r5_winners2 = r5_winners.copy()\n",
    "r5_winners2.columns = [\"WeakSeed\", \"WeakTeam\"]\n",
    "\n",
    "r6_slots = r6_slots.merge(r5_winners2, how=\"left\", on=[\"WeakSeed\"])\n",
    "\n",
    "key = [\"Season\", \"StrongTeam\", \"WeakTeam\"]\n",
    "r6_slots = r6_slots.merge(predictions_copy[key +[\"prob_strong_seed\"]], how=\"left\", on = key)\n",
    "\n",
    "r6_slots['strong_seed_wins'] = r6_slots['prob_strong_seed'].apply(lambda x: random_choice(x))\n",
    "\n",
    "r6_slots[\"winner_team\"] = np.where(r6_slots.strong_seed_wins == 1, r6_slots.StrongTeam, r6_slots.WeakTeam)\n",
    "r6_winners = r6_slots[[\"Slot\", \"winner_team\"]]"
   ]
  },
  {
   "cell_type": "code",
   "execution_count": 381,
   "metadata": {},
   "outputs": [
    {
     "data": {
      "text/html": [
       "<div>\n",
       "<style scoped>\n",
       "    .dataframe tbody tr th:only-of-type {\n",
       "        vertical-align: middle;\n",
       "    }\n",
       "\n",
       "    .dataframe tbody tr th {\n",
       "        vertical-align: top;\n",
       "    }\n",
       "\n",
       "    .dataframe thead th {\n",
       "        text-align: right;\n",
       "    }\n",
       "</style>\n",
       "<table border=\"1\" class=\"dataframe\">\n",
       "  <thead>\n",
       "    <tr style=\"text-align: right;\">\n",
       "      <th></th>\n",
       "      <th>Slot</th>\n",
       "      <th>winner_team</th>\n",
       "      <th>TeamID</th>\n",
       "      <th>TeamName</th>\n",
       "      <th>FirstD1Season</th>\n",
       "      <th>LastD1Season</th>\n",
       "    </tr>\n",
       "  </thead>\n",
       "  <tbody>\n",
       "    <tr>\n",
       "      <th>0</th>\n",
       "      <td>R6CH</td>\n",
       "      <td>1104.0</td>\n",
       "      <td>1104</td>\n",
       "      <td>Alabama</td>\n",
       "      <td>1985</td>\n",
       "      <td>2024</td>\n",
       "    </tr>\n",
       "  </tbody>\n",
       "</table>\n",
       "</div>"
      ],
      "text/plain": [
       "   Slot  winner_team  TeamID TeamName  FirstD1Season  LastD1Season\n",
       "0  R6CH       1104.0    1104  Alabama           1985          2024"
      ]
     },
     "execution_count": 381,
     "metadata": {},
     "output_type": "execute_result"
    }
   ],
   "source": [
    "r6_winners.merge(teams, how=\"left\", left_on=\"winner_team\",right_on=\"TeamID\")"
   ]
  },
  {
   "cell_type": "code",
   "execution_count": null,
   "metadata": {},
   "outputs": [],
   "source": []
  },
  {
   "cell_type": "code",
   "execution_count": null,
   "metadata": {},
   "outputs": [],
   "source": []
  }
 ],
 "metadata": {
  "kernelspec": {
   "display_name": "ncaa_model",
   "language": "python",
   "name": "ncaa_model"
  },
  "language_info": {
   "codemirror_mode": {
    "name": "ipython",
    "version": 3
   },
   "file_extension": ".py",
   "mimetype": "text/x-python",
   "name": "python",
   "nbconvert_exporter": "python",
   "pygments_lexer": "ipython3",
   "version": "3.8.9"
  }
 },
 "nbformat": 4,
 "nbformat_minor": 2
}

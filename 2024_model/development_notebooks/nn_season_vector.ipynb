{
 "cells": [
  {
   "cell_type": "markdown",
   "metadata": {},
   "source": [
    "### Imports"
   ]
  },
  {
   "cell_type": "code",
   "execution_count": 1,
   "metadata": {},
   "outputs": [],
   "source": [
    "import pandas as pd\n",
    "import numpy as np\n",
    "import sys\n",
    "sys.path.append('../kaggle_prediction_library/') \n",
    "import preprocess\n",
    "import feature_engineering\n",
    "import submission\n",
    "from sklearn.model_selection import train_test_split\n",
    "\n",
    "# from hyperopt import tpe, fmin, Trials\n",
    "# import hyperopt.hp as hp\n",
    "\n",
    "from sklearn.model_selection import cross_val_score, cross_val_predict, GridSearchCV, StratifiedKFold, RandomizedSearchCV, cross_validate, train_test_split\n",
    "\n",
    "import matplotlib.pyplot as plt\n",
    "\n",
    "from yellowbrick.model_selection import ValidationCurve, LearningCurve\n",
    "\n"
   ]
  },
  {
   "cell_type": "code",
   "execution_count": 2,
   "metadata": {},
   "outputs": [],
   "source": [
    "from sklearn.linear_model import LogisticRegression\n",
    "from sklearn.linear_model import LogisticRegressionCV\n",
    "from sklearn.model_selection import GridSearchCV\n",
    "from sklearn.ensemble import RandomForestClassifier\n",
    "from sklearn.metrics import confusion_matrix\n",
    "from sklearn.metrics import classification_report\n",
    "from sklearn.metrics import log_loss\n",
    "from sklearn.feature_selection import chi2\n",
    "from sklearn.metrics import r2_score\n",
    "import numpy as np\n",
    "from sklearn.model_selection import train_test_split\n",
    "from sklearn.preprocessing import StandardScaler, MinMaxScaler\n",
    "from sklearn.pipeline import Pipeline\n",
    "from sklearn.metrics import brier_score_loss\n",
    "from sklearn.neural_network import MLPClassifier\n",
    "\n"
   ]
  },
  {
   "cell_type": "markdown",
   "metadata": {},
   "source": [
    "### Data set up"
   ]
  },
  {
   "cell_type": "code",
   "execution_count": 3,
   "metadata": {},
   "outputs": [],
   "source": [
    "to_predict_mens = pd.read_csv(\"to_predict_mens.csv\")"
   ]
  },
  {
   "cell_type": "code",
   "execution_count": 4,
   "metadata": {},
   "outputs": [],
   "source": [
    "regular_season_results = pd.read_csv('../data/MRegularSeasonDetailedResults.csv')\n",
    "detailed_tourney_results = pd.read_csv('../data/MNCAATourneyDetailedResults.csv')\n",
    "rankings = pd.read_csv('../data/MMasseyOrdinals.csv')\n",
    "seeds = pd.read_csv('../data/MNCAATourneySeeds.csv')\n",
    "\n",
    "kp_rankings = pd.read_csv('../data/kenpom_pre_tourney_snapshot.csv')\n",
    "\n",
    "regular_season_results_w = pd.read_csv('../data/WRegularSeasonDetailedResults.csv')\n",
    "detailed_tourney_results_w = pd.read_csv('../data/WNCAATourneyDetailedResults.csv')\n",
    "seeds_w = pd.read_csv('../data/WNCAATourneySeeds.csv')\n",
    "\n",
    "# _538_df = pd.read_csv('../data/all_538.csv')\n",
    "\n",
    "M538 = pd.read_csv('../data/M538.csv')\n",
    "W538 = pd.read_csv('../data/W538.csv')\n",
    "\n",
    "base = preprocess.PreProcess(detailed_tourney_results, regular_season_results).process()\n",
    "\n",
    "base_w = preprocess.PreProcess(detailed_tourney_results_w, regular_season_results_w).process()\n",
    "base = preprocess.PreProcess(detailed_tourney_results, regular_season_results).process()\n",
    "\n",
    "tourney_games = base[base.TourneyGame == 1]\n",
    "regular_season_games = base[base.TourneyGame == 0]\n",
    "\n",
    "tourney_games_w = base_w[base_w.TourneyGame == 1]\n",
    "regular_season_games_w = base_w[base_w.TourneyGame == 0]"
   ]
  },
  {
   "cell_type": "code",
   "execution_count": 5,
   "metadata": {},
   "outputs": [],
   "source": [
    "sub = pd.read_csv('../data/SampleSubmission2023.csv')\n",
    "\n",
    "mteams = pd.read_csv('../data/MTeams.csv')\n",
    "wteams = pd.read_csv('../data/WTeams.csv')\n",
    "to_predict=submission.SubmissionSetup(sub, tourney_games, tourney_games_w, mteams.copy()).setup()\n",
    "\n",
    "to_predict_mens = to_predict[to_predict.Gender == 'M'].copy()\n",
    "to_predict_womens = to_predict[to_predict.Gender == 'W'].copy()\n"
   ]
  },
  {
   "cell_type": "code",
   "execution_count": 6,
   "metadata": {},
   "outputs": [],
   "source": [
    "aggregated, all_games = feature_engineering.Efficiency(games=regular_season_games, away_bonus=0).process(return_detailed=True)"
   ]
  },
  {
   "cell_type": "code",
   "execution_count": 7,
   "metadata": {},
   "outputs": [],
   "source": [
    "all_games['game_num'] = all_games.groupby(['Season', 'Team1'])['DayNum'].rank(method='first')"
   ]
  },
  {
   "cell_type": "code",
   "execution_count": 8,
   "metadata": {},
   "outputs": [],
   "source": [
    "tmp = all_games.pivot(index=[\"Team1\", \"Season\"], columns=[\"game_num\"], values=[\"adj_oe\"]).reset_index()\n",
    "tmp.columns = [str(x[0]) for x in tmp.columns[0:2]] + [str(x[0]) + str(int(float(x[1]))) for x in tmp.columns[2:]]\n",
    "tmp = tmp.fillna(-1)"
   ]
  },
  {
   "cell_type": "code",
   "execution_count": 9,
   "metadata": {},
   "outputs": [],
   "source": [
    "tmp2 = all_games.pivot(index=[\"Team1\", \"Season\"], columns=[\"game_num\"], values=[\"adj_de\"]).reset_index()\n",
    "tmp2.columns = [str(x[0]) for x in tmp2.columns[0:2]] + [str(x[0]) + str(int(float(x[1]))) for x in tmp2.columns[2:]]\n",
    "tmp2 = tmp2.fillna(-1)"
   ]
  },
  {
   "cell_type": "code",
   "execution_count": 10,
   "metadata": {},
   "outputs": [],
   "source": [
    "# Define a function that takes 36 inputs\n",
    "def value_slide(row):\n",
    "\n",
    "    col_values = list(row.values[2:])\n",
    "\n",
    "    while True:\n",
    "        if col_values[-1] == -1:\n",
    "            val = col_values.pop()\n",
    "            col_values.insert(0, val)\n",
    "        else:\n",
    "            break\n",
    "        \n",
    "    return col_values\n",
    "\n",
    "# Apply the function to each row\n",
    "tmp[['adj_oe1', 'adj_oe2', 'adj_oe3', 'adj_oe4',\n",
    "       'adj_oe5', 'adj_oe6', 'adj_oe7', 'adj_oe8', 'adj_oe9', 'adj_oe10',\n",
    "       'adj_oe11', 'adj_oe12', 'adj_oe13', 'adj_oe14', 'adj_oe15', 'adj_oe16',\n",
    "       'adj_oe17', 'adj_oe18', 'adj_oe19', 'adj_oe20', 'adj_oe21', 'adj_oe22',\n",
    "       'adj_oe23', 'adj_oe24', 'adj_oe25', 'adj_oe26', 'adj_oe27', 'adj_oe28',\n",
    "       'adj_oe29', 'adj_oe30', 'adj_oe31', 'adj_oe32', 'adj_oe33', 'adj_oe34',\n",
    "       'adj_oe35', 'adj_oe36']]= tmp.apply(value_slide, axis=1, result_type='expand')\n",
    "\n",
    "tmp = tmp.rename(columns={\"Team1\": \"TeamID\"})\n"
   ]
  },
  {
   "cell_type": "code",
   "execution_count": 11,
   "metadata": {},
   "outputs": [],
   "source": [
    "# tmp = tmp.replace({-1:np.nan})\n",
    "# cols = [col for col in tmp.columns if 'adj' in col]\n",
    "# tmp['avg_adj_oe'] = tmp[cols].mean(axis=1)\n",
    "# for col in cols:\n",
    "#     tmp[col] = tmp[col].fillna(tmp['avg_adj_oe'])"
   ]
  },
  {
   "cell_type": "code",
   "execution_count": 11,
   "metadata": {},
   "outputs": [],
   "source": [
    "# Apply the function to each row\n",
    "tmp2[['adj_de1', 'adj_de2', 'adj_de3', 'adj_de4',\n",
    "       'adj_de5', 'adj_de6', 'adj_de7', 'adj_de8', 'adj_de9', 'adj_de10',\n",
    "       'adj_de11', 'adj_de12', 'adj_de13', 'adj_de14', 'adj_de15', 'adj_de16',\n",
    "       'adj_de17', 'adj_de18', 'adj_de19', 'adj_de20', 'adj_de21', 'adj_de22',\n",
    "       'adj_de23', 'adj_de24', 'adj_de25', 'adj_de26', 'adj_de27', 'adj_de28',\n",
    "       'adj_de29', 'adj_de30', 'adj_de31', 'adj_de32', 'adj_de33', 'adj_de34',\n",
    "       'adj_de35', 'adj_de36']]= tmp2.apply(value_slide, axis=1, result_type='expand')\n",
    "\n",
    "tmp2 = tmp2.rename(columns={\"Team1\": \"TeamID\"})"
   ]
  },
  {
   "cell_type": "code",
   "execution_count": 12,
   "metadata": {},
   "outputs": [],
   "source": [
    "# tmp2 = tmp2.replace({-1:np.nan})\n",
    "# cols = [col for col in tmp2.columns if 'adj' in col]\n",
    "# tmp2['avg_adj_de'] = tmp2[cols].mean(axis=1)\n",
    "# for col in cols:\n",
    "#     tmp2[col] = tmp2[col].fillna(tmp2['avg_adj_de'])"
   ]
  },
  {
   "cell_type": "code",
   "execution_count": 13,
   "metadata": {},
   "outputs": [],
   "source": [
    "class vector_features(feature_engineering.FeatureEng):\n",
    "    \n",
    "    def __init__(self,df):\n",
    "        self.df=df\n",
    "    \n",
    "    def process(self):\n",
    "        return self.df\n",
    "    "
   ]
  },
  {
   "cell_type": "code",
   "execution_count": 14,
   "metadata": {},
   "outputs": [],
   "source": [
    "to_predict_mens = vector_features(tmp).add(to_predict_mens)"
   ]
  },
  {
   "cell_type": "code",
   "execution_count": 15,
   "metadata": {},
   "outputs": [],
   "source": [
    "to_predict_mens = vector_features(tmp2).add(to_predict_mens)"
   ]
  },
  {
   "cell_type": "code",
   "execution_count": 17,
   "metadata": {},
   "outputs": [],
   "source": [
    "to_predict_mens = feature_engineering.TournamentSeed(tourney_seeds=seeds).add(to_predict_mens)\n"
   ]
  },
  {
   "cell_type": "code",
   "execution_count": 16,
   "metadata": {},
   "outputs": [],
   "source": [
    "train = to_predict_mens[to_predict_mens.Season < 2017].copy()\n",
    "test = to_predict_mens[to_predict_mens.Season >= 2017].copy()\n",
    "\n",
    "features = [col for col in train if \"adj\" in col] #+ ['seed_diff']\n",
    "\n",
    "target = 'Outcome'\n",
    "\n",
    "train[target] = train[target].astype(int)\n",
    "#train[features] = MinMaxScaler().fit_transform(train[features])\n",
    "\n"
   ]
  },
  {
   "cell_type": "markdown",
   "metadata": {},
   "source": [
    "### Param Tuning"
   ]
  },
  {
   "cell_type": "code",
   "execution_count": 34,
   "metadata": {},
   "outputs": [],
   "source": [
    "def get_best_params_from_grid_search(train, features, target, model, parameters, scoring, verbose=10):\n",
    "    gs = GridSearchCV(estimator=model, param_grid=parameters, scoring=scoring, verbose=verbose)\n",
    "    gs.fit(train[features], train[target])\n",
    "    return gs.best_params_\n"
   ]
  },
  {
   "cell_type": "code",
   "execution_count": 35,
   "metadata": {},
   "outputs": [
    {
     "name": "stdout",
     "output_type": "stream",
     "text": [
      "Fitting 5 folds for each of 27 candidates, totalling 135 fits\n",
      "[CV 1/5; 1/27] START activation=logistic, alpha=0.0005, hidden_layer_sizes=(100, 50, 25), learning_rate_init=0.0001\n",
      "[CV 1/5; 1/27] END activation=logistic, alpha=0.0005, hidden_layer_sizes=(100, 50, 25), learning_rate_init=0.0001;, score=-0.277 total time=  12.6s\n",
      "[CV 2/5; 1/27] START activation=logistic, alpha=0.0005, hidden_layer_sizes=(100, 50, 25), learning_rate_init=0.0001\n"
     ]
    },
    {
     "name": "stderr",
     "output_type": "stream",
     "text": [
      "/Users/skylerdale/.virtualenvs/ml_course/lib/python3.10/site-packages/sklearn/neural_network/_multilayer_perceptron.py:686: ConvergenceWarning: Stochastic Optimizer: Maximum iterations (1000) reached and the optimization hasn't converged yet.\n",
      "  warnings.warn(\n"
     ]
    },
    {
     "name": "stdout",
     "output_type": "stream",
     "text": [
      "[CV 2/5; 1/27] END activation=logistic, alpha=0.0005, hidden_layer_sizes=(100, 50, 25), learning_rate_init=0.0001;, score=-0.267 total time=  12.9s\n",
      "[CV 3/5; 1/27] START activation=logistic, alpha=0.0005, hidden_layer_sizes=(100, 50, 25), learning_rate_init=0.0001\n",
      "[CV 3/5; 1/27] END activation=logistic, alpha=0.0005, hidden_layer_sizes=(100, 50, 25), learning_rate_init=0.0001;, score=-0.272 total time=  13.8s\n",
      "[CV 4/5; 1/27] START activation=logistic, alpha=0.0005, hidden_layer_sizes=(100, 50, 25), learning_rate_init=0.0001\n"
     ]
    },
    {
     "name": "stderr",
     "output_type": "stream",
     "text": [
      "/Users/skylerdale/.virtualenvs/ml_course/lib/python3.10/site-packages/sklearn/neural_network/_multilayer_perceptron.py:686: ConvergenceWarning: Stochastic Optimizer: Maximum iterations (1000) reached and the optimization hasn't converged yet.\n",
      "  warnings.warn(\n"
     ]
    },
    {
     "name": "stdout",
     "output_type": "stream",
     "text": [
      "[CV 4/5; 1/27] END activation=logistic, alpha=0.0005, hidden_layer_sizes=(100, 50, 25), learning_rate_init=0.0001;, score=-0.300 total time=  12.6s\n",
      "[CV 5/5; 1/27] START activation=logistic, alpha=0.0005, hidden_layer_sizes=(100, 50, 25), learning_rate_init=0.0001\n"
     ]
    },
    {
     "name": "stderr",
     "output_type": "stream",
     "text": [
      "/Users/skylerdale/.virtualenvs/ml_course/lib/python3.10/site-packages/sklearn/neural_network/_multilayer_perceptron.py:686: ConvergenceWarning: Stochastic Optimizer: Maximum iterations (1000) reached and the optimization hasn't converged yet.\n",
      "  warnings.warn(\n"
     ]
    },
    {
     "name": "stdout",
     "output_type": "stream",
     "text": [
      "[CV 5/5; 1/27] END activation=logistic, alpha=0.0005, hidden_layer_sizes=(100, 50, 25), learning_rate_init=0.0001;, score=-0.273 total time=  13.6s\n",
      "[CV 1/5; 2/27] START activation=logistic, alpha=0.0005, hidden_layer_sizes=(100, 50, 25), learning_rate_init=0.0005\n",
      "[CV 1/5; 2/27] END activation=logistic, alpha=0.0005, hidden_layer_sizes=(100, 50, 25), learning_rate_init=0.0005;, score=-0.182 total time=   1.2s\n",
      "[CV 2/5; 2/27] START activation=logistic, alpha=0.0005, hidden_layer_sizes=(100, 50, 25), learning_rate_init=0.0005\n",
      "[CV 2/5; 2/27] END activation=logistic, alpha=0.0005, hidden_layer_sizes=(100, 50, 25), learning_rate_init=0.0005;, score=-0.169 total time=   1.7s\n",
      "[CV 3/5; 2/27] START activation=logistic, alpha=0.0005, hidden_layer_sizes=(100, 50, 25), learning_rate_init=0.0005\n",
      "[CV 3/5; 2/27] END activation=logistic, alpha=0.0005, hidden_layer_sizes=(100, 50, 25), learning_rate_init=0.0005;, score=-0.214 total time=   1.6s\n",
      "[CV 4/5; 2/27] START activation=logistic, alpha=0.0005, hidden_layer_sizes=(100, 50, 25), learning_rate_init=0.0005\n",
      "[CV 4/5; 2/27] END activation=logistic, alpha=0.0005, hidden_layer_sizes=(100, 50, 25), learning_rate_init=0.0005;, score=-0.237 total time=   2.0s\n",
      "[CV 5/5; 2/27] START activation=logistic, alpha=0.0005, hidden_layer_sizes=(100, 50, 25), learning_rate_init=0.0005\n",
      "[CV 5/5; 2/27] END activation=logistic, alpha=0.0005, hidden_layer_sizes=(100, 50, 25), learning_rate_init=0.0005;, score=-0.186 total time=   1.2s\n",
      "[CV 1/5; 3/27] START activation=logistic, alpha=0.0005, hidden_layer_sizes=(100, 50, 25), learning_rate_init=0.001\n",
      "[CV 1/5; 3/27] END activation=logistic, alpha=0.0005, hidden_layer_sizes=(100, 50, 25), learning_rate_init=0.001;, score=-0.223 total time=   1.5s\n",
      "[CV 2/5; 3/27] START activation=logistic, alpha=0.0005, hidden_layer_sizes=(100, 50, 25), learning_rate_init=0.001\n",
      "[CV 2/5; 3/27] END activation=logistic, alpha=0.0005, hidden_layer_sizes=(100, 50, 25), learning_rate_init=0.001;, score=-0.250 total time=   0.2s\n",
      "[CV 3/5; 3/27] START activation=logistic, alpha=0.0005, hidden_layer_sizes=(100, 50, 25), learning_rate_init=0.001\n",
      "[CV 3/5; 3/27] END activation=logistic, alpha=0.0005, hidden_layer_sizes=(100, 50, 25), learning_rate_init=0.001;, score=-0.220 total time=   1.6s\n",
      "[CV 4/5; 3/27] START activation=logistic, alpha=0.0005, hidden_layer_sizes=(100, 50, 25), learning_rate_init=0.001\n",
      "[CV 4/5; 3/27] END activation=logistic, alpha=0.0005, hidden_layer_sizes=(100, 50, 25), learning_rate_init=0.001;, score=-0.239 total time=   1.6s\n",
      "[CV 5/5; 3/27] START activation=logistic, alpha=0.0005, hidden_layer_sizes=(100, 50, 25), learning_rate_init=0.001\n",
      "[CV 5/5; 3/27] END activation=logistic, alpha=0.0005, hidden_layer_sizes=(100, 50, 25), learning_rate_init=0.001;, score=-0.205 total time=   1.5s\n",
      "[CV 1/5; 4/27] START activation=logistic, alpha=0.0001, hidden_layer_sizes=(100, 50, 25), learning_rate_init=0.0001\n"
     ]
    },
    {
     "name": "stderr",
     "output_type": "stream",
     "text": [
      "/Users/skylerdale/.virtualenvs/ml_course/lib/python3.10/site-packages/sklearn/neural_network/_multilayer_perceptron.py:686: ConvergenceWarning: Stochastic Optimizer: Maximum iterations (1000) reached and the optimization hasn't converged yet.\n",
      "  warnings.warn(\n"
     ]
    },
    {
     "name": "stdout",
     "output_type": "stream",
     "text": [
      "[CV 1/5; 4/27] END activation=logistic, alpha=0.0001, hidden_layer_sizes=(100, 50, 25), learning_rate_init=0.0001;, score=-0.256 total time=  13.0s\n",
      "[CV 2/5; 4/27] START activation=logistic, alpha=0.0001, hidden_layer_sizes=(100, 50, 25), learning_rate_init=0.0001\n"
     ]
    },
    {
     "name": "stderr",
     "output_type": "stream",
     "text": [
      "/Users/skylerdale/.virtualenvs/ml_course/lib/python3.10/site-packages/sklearn/neural_network/_multilayer_perceptron.py:686: ConvergenceWarning: Stochastic Optimizer: Maximum iterations (1000) reached and the optimization hasn't converged yet.\n",
      "  warnings.warn(\n"
     ]
    },
    {
     "name": "stdout",
     "output_type": "stream",
     "text": [
      "[CV 2/5; 4/27] END activation=logistic, alpha=0.0001, hidden_layer_sizes=(100, 50, 25), learning_rate_init=0.0001;, score=-0.249 total time=  13.7s\n",
      "[CV 3/5; 4/27] START activation=logistic, alpha=0.0001, hidden_layer_sizes=(100, 50, 25), learning_rate_init=0.0001\n"
     ]
    },
    {
     "name": "stderr",
     "output_type": "stream",
     "text": [
      "/Users/skylerdale/.virtualenvs/ml_course/lib/python3.10/site-packages/sklearn/neural_network/_multilayer_perceptron.py:686: ConvergenceWarning: Stochastic Optimizer: Maximum iterations (1000) reached and the optimization hasn't converged yet.\n",
      "  warnings.warn(\n"
     ]
    },
    {
     "name": "stdout",
     "output_type": "stream",
     "text": [
      "[CV 3/5; 4/27] END activation=logistic, alpha=0.0001, hidden_layer_sizes=(100, 50, 25), learning_rate_init=0.0001;, score=-0.286 total time=  13.9s\n",
      "[CV 4/5; 4/27] START activation=logistic, alpha=0.0001, hidden_layer_sizes=(100, 50, 25), learning_rate_init=0.0001\n"
     ]
    },
    {
     "name": "stderr",
     "output_type": "stream",
     "text": [
      "/Users/skylerdale/.virtualenvs/ml_course/lib/python3.10/site-packages/sklearn/neural_network/_multilayer_perceptron.py:686: ConvergenceWarning: Stochastic Optimizer: Maximum iterations (1000) reached and the optimization hasn't converged yet.\n",
      "  warnings.warn(\n"
     ]
    },
    {
     "name": "stdout",
     "output_type": "stream",
     "text": [
      "[CV 4/5; 4/27] END activation=logistic, alpha=0.0001, hidden_layer_sizes=(100, 50, 25), learning_rate_init=0.0001;, score=-0.315 total time=  12.8s\n",
      "[CV 5/5; 4/27] START activation=logistic, alpha=0.0001, hidden_layer_sizes=(100, 50, 25), learning_rate_init=0.0001\n"
     ]
    },
    {
     "name": "stderr",
     "output_type": "stream",
     "text": [
      "/Users/skylerdale/.virtualenvs/ml_course/lib/python3.10/site-packages/sklearn/neural_network/_multilayer_perceptron.py:686: ConvergenceWarning: Stochastic Optimizer: Maximum iterations (1000) reached and the optimization hasn't converged yet.\n",
      "  warnings.warn(\n"
     ]
    },
    {
     "name": "stdout",
     "output_type": "stream",
     "text": [
      "[CV 5/5; 4/27] END activation=logistic, alpha=0.0001, hidden_layer_sizes=(100, 50, 25), learning_rate_init=0.0001;, score=-0.245 total time=  12.7s\n",
      "[CV 1/5; 5/27] START activation=logistic, alpha=0.0001, hidden_layer_sizes=(100, 50, 25), learning_rate_init=0.0005\n",
      "[CV 1/5; 5/27] END activation=logistic, alpha=0.0001, hidden_layer_sizes=(100, 50, 25), learning_rate_init=0.0005;, score=-0.202 total time=   1.9s\n",
      "[CV 2/5; 5/27] START activation=logistic, alpha=0.0001, hidden_layer_sizes=(100, 50, 25), learning_rate_init=0.0005\n",
      "[CV 2/5; 5/27] END activation=logistic, alpha=0.0001, hidden_layer_sizes=(100, 50, 25), learning_rate_init=0.0005;, score=-0.199 total time=   2.3s\n",
      "[CV 3/5; 5/27] START activation=logistic, alpha=0.0001, hidden_layer_sizes=(100, 50, 25), learning_rate_init=0.0005\n",
      "[CV 3/5; 5/27] END activation=logistic, alpha=0.0001, hidden_layer_sizes=(100, 50, 25), learning_rate_init=0.0005;, score=-0.219 total time=   1.1s\n",
      "[CV 4/5; 5/27] START activation=logistic, alpha=0.0001, hidden_layer_sizes=(100, 50, 25), learning_rate_init=0.0005\n",
      "[CV 4/5; 5/27] END activation=logistic, alpha=0.0001, hidden_layer_sizes=(100, 50, 25), learning_rate_init=0.0005;, score=-0.218 total time=   1.4s\n",
      "[CV 5/5; 5/27] START activation=logistic, alpha=0.0001, hidden_layer_sizes=(100, 50, 25), learning_rate_init=0.0005\n",
      "[CV 5/5; 5/27] END activation=logistic, alpha=0.0001, hidden_layer_sizes=(100, 50, 25), learning_rate_init=0.0005;, score=-0.192 total time=   1.2s\n",
      "[CV 1/5; 6/27] START activation=logistic, alpha=0.0001, hidden_layer_sizes=(100, 50, 25), learning_rate_init=0.001\n",
      "[CV 1/5; 6/27] END activation=logistic, alpha=0.0001, hidden_layer_sizes=(100, 50, 25), learning_rate_init=0.001;, score=-0.232 total time=   1.3s\n",
      "[CV 2/5; 6/27] START activation=logistic, alpha=0.0001, hidden_layer_sizes=(100, 50, 25), learning_rate_init=0.001\n",
      "[CV 2/5; 6/27] END activation=logistic, alpha=0.0001, hidden_layer_sizes=(100, 50, 25), learning_rate_init=0.001;, score=-0.187 total time=   1.2s\n",
      "[CV 3/5; 6/27] START activation=logistic, alpha=0.0001, hidden_layer_sizes=(100, 50, 25), learning_rate_init=0.001\n",
      "[CV 3/5; 6/27] END activation=logistic, alpha=0.0001, hidden_layer_sizes=(100, 50, 25), learning_rate_init=0.001;, score=-0.226 total time=   1.0s\n",
      "[CV 4/5; 6/27] START activation=logistic, alpha=0.0001, hidden_layer_sizes=(100, 50, 25), learning_rate_init=0.001\n",
      "[CV 4/5; 6/27] END activation=logistic, alpha=0.0001, hidden_layer_sizes=(100, 50, 25), learning_rate_init=0.001;, score=-0.227 total time=   0.9s\n",
      "[CV 5/5; 6/27] START activation=logistic, alpha=0.0001, hidden_layer_sizes=(100, 50, 25), learning_rate_init=0.001\n",
      "[CV 5/5; 6/27] END activation=logistic, alpha=0.0001, hidden_layer_sizes=(100, 50, 25), learning_rate_init=0.001;, score=-0.196 total time=   1.4s\n",
      "[CV 1/5; 7/27] START activation=logistic, alpha=0.001, hidden_layer_sizes=(100, 50, 25), learning_rate_init=0.0001\n"
     ]
    },
    {
     "name": "stderr",
     "output_type": "stream",
     "text": [
      "/Users/skylerdale/.virtualenvs/ml_course/lib/python3.10/site-packages/sklearn/neural_network/_multilayer_perceptron.py:686: ConvergenceWarning: Stochastic Optimizer: Maximum iterations (1000) reached and the optimization hasn't converged yet.\n",
      "  warnings.warn(\n"
     ]
    },
    {
     "name": "stdout",
     "output_type": "stream",
     "text": [
      "[CV 1/5; 7/27] END activation=logistic, alpha=0.001, hidden_layer_sizes=(100, 50, 25), learning_rate_init=0.0001;, score=-0.257 total time=  13.7s\n",
      "[CV 2/5; 7/27] START activation=logistic, alpha=0.001, hidden_layer_sizes=(100, 50, 25), learning_rate_init=0.0001\n"
     ]
    },
    {
     "name": "stderr",
     "output_type": "stream",
     "text": [
      "/Users/skylerdale/.virtualenvs/ml_course/lib/python3.10/site-packages/sklearn/neural_network/_multilayer_perceptron.py:686: ConvergenceWarning: Stochastic Optimizer: Maximum iterations (1000) reached and the optimization hasn't converged yet.\n",
      "  warnings.warn(\n"
     ]
    },
    {
     "name": "stdout",
     "output_type": "stream",
     "text": [
      "[CV 2/5; 7/27] END activation=logistic, alpha=0.001, hidden_layer_sizes=(100, 50, 25), learning_rate_init=0.0001;, score=-0.291 total time=  13.1s\n",
      "[CV 3/5; 7/27] START activation=logistic, alpha=0.001, hidden_layer_sizes=(100, 50, 25), learning_rate_init=0.0001\n"
     ]
    },
    {
     "name": "stderr",
     "output_type": "stream",
     "text": [
      "/Users/skylerdale/.virtualenvs/ml_course/lib/python3.10/site-packages/sklearn/neural_network/_multilayer_perceptron.py:686: ConvergenceWarning: Stochastic Optimizer: Maximum iterations (1000) reached and the optimization hasn't converged yet.\n",
      "  warnings.warn(\n"
     ]
    },
    {
     "name": "stdout",
     "output_type": "stream",
     "text": [
      "[CV 3/5; 7/27] END activation=logistic, alpha=0.001, hidden_layer_sizes=(100, 50, 25), learning_rate_init=0.0001;, score=-0.276 total time=  12.1s\n",
      "[CV 4/5; 7/27] START activation=logistic, alpha=0.001, hidden_layer_sizes=(100, 50, 25), learning_rate_init=0.0001\n"
     ]
    },
    {
     "name": "stderr",
     "output_type": "stream",
     "text": [
      "/Users/skylerdale/.virtualenvs/ml_course/lib/python3.10/site-packages/sklearn/neural_network/_multilayer_perceptron.py:686: ConvergenceWarning: Stochastic Optimizer: Maximum iterations (1000) reached and the optimization hasn't converged yet.\n",
      "  warnings.warn(\n"
     ]
    },
    {
     "name": "stdout",
     "output_type": "stream",
     "text": [
      "[CV 4/5; 7/27] END activation=logistic, alpha=0.001, hidden_layer_sizes=(100, 50, 25), learning_rate_init=0.0001;, score=-0.299 total time=  12.0s\n",
      "[CV 5/5; 7/27] START activation=logistic, alpha=0.001, hidden_layer_sizes=(100, 50, 25), learning_rate_init=0.0001\n"
     ]
    },
    {
     "name": "stderr",
     "output_type": "stream",
     "text": [
      "/Users/skylerdale/.virtualenvs/ml_course/lib/python3.10/site-packages/sklearn/neural_network/_multilayer_perceptron.py:686: ConvergenceWarning: Stochastic Optimizer: Maximum iterations (1000) reached and the optimization hasn't converged yet.\n",
      "  warnings.warn(\n"
     ]
    },
    {
     "name": "stdout",
     "output_type": "stream",
     "text": [
      "[CV 5/5; 7/27] END activation=logistic, alpha=0.001, hidden_layer_sizes=(100, 50, 25), learning_rate_init=0.0001;, score=-0.289 total time=  12.2s\n",
      "[CV 1/5; 8/27] START activation=logistic, alpha=0.001, hidden_layer_sizes=(100, 50, 25), learning_rate_init=0.0005\n",
      "[CV 1/5; 8/27] END activation=logistic, alpha=0.001, hidden_layer_sizes=(100, 50, 25), learning_rate_init=0.0005;, score=-0.206 total time=   1.7s\n",
      "[CV 2/5; 8/27] START activation=logistic, alpha=0.001, hidden_layer_sizes=(100, 50, 25), learning_rate_init=0.0005\n",
      "[CV 2/5; 8/27] END activation=logistic, alpha=0.001, hidden_layer_sizes=(100, 50, 25), learning_rate_init=0.0005;, score=-0.189 total time=   2.2s\n",
      "[CV 3/5; 8/27] START activation=logistic, alpha=0.001, hidden_layer_sizes=(100, 50, 25), learning_rate_init=0.0005\n",
      "[CV 3/5; 8/27] END activation=logistic, alpha=0.001, hidden_layer_sizes=(100, 50, 25), learning_rate_init=0.0005;, score=-0.215 total time=   1.6s\n",
      "[CV 4/5; 8/27] START activation=logistic, alpha=0.001, hidden_layer_sizes=(100, 50, 25), learning_rate_init=0.0005\n",
      "[CV 4/5; 8/27] END activation=logistic, alpha=0.001, hidden_layer_sizes=(100, 50, 25), learning_rate_init=0.0005;, score=-0.216 total time=   1.6s\n",
      "[CV 5/5; 8/27] START activation=logistic, alpha=0.001, hidden_layer_sizes=(100, 50, 25), learning_rate_init=0.0005\n",
      "[CV 5/5; 8/27] END activation=logistic, alpha=0.001, hidden_layer_sizes=(100, 50, 25), learning_rate_init=0.0005;, score=-0.194 total time=   1.4s\n",
      "[CV 1/5; 9/27] START activation=logistic, alpha=0.001, hidden_layer_sizes=(100, 50, 25), learning_rate_init=0.001\n",
      "[CV 1/5; 9/27] END activation=logistic, alpha=0.001, hidden_layer_sizes=(100, 50, 25), learning_rate_init=0.001;, score=-0.208 total time=   1.2s\n",
      "[CV 2/5; 9/27] START activation=logistic, alpha=0.001, hidden_layer_sizes=(100, 50, 25), learning_rate_init=0.001\n",
      "[CV 2/5; 9/27] END activation=logistic, alpha=0.001, hidden_layer_sizes=(100, 50, 25), learning_rate_init=0.001;, score=-0.189 total time=   2.0s\n",
      "[CV 3/5; 9/27] START activation=logistic, alpha=0.001, hidden_layer_sizes=(100, 50, 25), learning_rate_init=0.001\n",
      "[CV 3/5; 9/27] END activation=logistic, alpha=0.001, hidden_layer_sizes=(100, 50, 25), learning_rate_init=0.001;, score=-0.234 total time=   1.0s\n",
      "[CV 4/5; 9/27] START activation=logistic, alpha=0.001, hidden_layer_sizes=(100, 50, 25), learning_rate_init=0.001\n",
      "[CV 4/5; 9/27] END activation=logistic, alpha=0.001, hidden_layer_sizes=(100, 50, 25), learning_rate_init=0.001;, score=-0.250 total time=   1.2s\n",
      "[CV 5/5; 9/27] START activation=logistic, alpha=0.001, hidden_layer_sizes=(100, 50, 25), learning_rate_init=0.001\n",
      "[CV 5/5; 9/27] END activation=logistic, alpha=0.001, hidden_layer_sizes=(100, 50, 25), learning_rate_init=0.001;, score=-0.243 total time=   1.4s\n",
      "[CV 1/5; 10/27] START activation=tanh, alpha=0.0005, hidden_layer_sizes=(100, 50, 25), learning_rate_init=0.0001\n",
      "[CV 1/5; 10/27] END activation=tanh, alpha=0.0005, hidden_layer_sizes=(100, 50, 25), learning_rate_init=0.0001;, score=-0.298 total time=   9.6s\n",
      "[CV 2/5; 10/27] START activation=tanh, alpha=0.0005, hidden_layer_sizes=(100, 50, 25), learning_rate_init=0.0001\n",
      "[CV 2/5; 10/27] END activation=tanh, alpha=0.0005, hidden_layer_sizes=(100, 50, 25), learning_rate_init=0.0001;, score=-0.253 total time=   9.5s\n",
      "[CV 3/5; 10/27] START activation=tanh, alpha=0.0005, hidden_layer_sizes=(100, 50, 25), learning_rate_init=0.0001\n",
      "[CV 3/5; 10/27] END activation=tanh, alpha=0.0005, hidden_layer_sizes=(100, 50, 25), learning_rate_init=0.0001;, score=-0.252 total time=   8.0s\n",
      "[CV 4/5; 10/27] START activation=tanh, alpha=0.0005, hidden_layer_sizes=(100, 50, 25), learning_rate_init=0.0001\n",
      "[CV 4/5; 10/27] END activation=tanh, alpha=0.0005, hidden_layer_sizes=(100, 50, 25), learning_rate_init=0.0001;, score=-0.280 total time=  13.3s\n",
      "[CV 5/5; 10/27] START activation=tanh, alpha=0.0005, hidden_layer_sizes=(100, 50, 25), learning_rate_init=0.0001\n",
      "[CV 5/5; 10/27] END activation=tanh, alpha=0.0005, hidden_layer_sizes=(100, 50, 25), learning_rate_init=0.0001;, score=-0.237 total time=   9.4s\n",
      "[CV 1/5; 11/27] START activation=tanh, alpha=0.0005, hidden_layer_sizes=(100, 50, 25), learning_rate_init=0.0005\n",
      "[CV 1/5; 11/27] END activation=tanh, alpha=0.0005, hidden_layer_sizes=(100, 50, 25), learning_rate_init=0.0005;, score=-0.247 total time=   0.9s\n",
      "[CV 2/5; 11/27] START activation=tanh, alpha=0.0005, hidden_layer_sizes=(100, 50, 25), learning_rate_init=0.0005\n",
      "[CV 2/5; 11/27] END activation=tanh, alpha=0.0005, hidden_layer_sizes=(100, 50, 25), learning_rate_init=0.0005;, score=-0.218 total time=   0.6s\n",
      "[CV 3/5; 11/27] START activation=tanh, alpha=0.0005, hidden_layer_sizes=(100, 50, 25), learning_rate_init=0.0005\n",
      "[CV 3/5; 11/27] END activation=tanh, alpha=0.0005, hidden_layer_sizes=(100, 50, 25), learning_rate_init=0.0005;, score=-0.251 total time=   0.7s\n",
      "[CV 4/5; 11/27] START activation=tanh, alpha=0.0005, hidden_layer_sizes=(100, 50, 25), learning_rate_init=0.0005\n",
      "[CV 4/5; 11/27] END activation=tanh, alpha=0.0005, hidden_layer_sizes=(100, 50, 25), learning_rate_init=0.0005;, score=-0.226 total time=   0.9s\n",
      "[CV 5/5; 11/27] START activation=tanh, alpha=0.0005, hidden_layer_sizes=(100, 50, 25), learning_rate_init=0.0005\n",
      "[CV 5/5; 11/27] END activation=tanh, alpha=0.0005, hidden_layer_sizes=(100, 50, 25), learning_rate_init=0.0005;, score=-0.222 total time=   0.7s\n",
      "[CV 1/5; 12/27] START activation=tanh, alpha=0.0005, hidden_layer_sizes=(100, 50, 25), learning_rate_init=0.001\n",
      "[CV 1/5; 12/27] END activation=tanh, alpha=0.0005, hidden_layer_sizes=(100, 50, 25), learning_rate_init=0.001;, score=-0.247 total time=   0.5s\n",
      "[CV 2/5; 12/27] START activation=tanh, alpha=0.0005, hidden_layer_sizes=(100, 50, 25), learning_rate_init=0.001\n",
      "[CV 2/5; 12/27] END activation=tanh, alpha=0.0005, hidden_layer_sizes=(100, 50, 25), learning_rate_init=0.001;, score=-0.222 total time=   0.5s\n",
      "[CV 3/5; 12/27] START activation=tanh, alpha=0.0005, hidden_layer_sizes=(100, 50, 25), learning_rate_init=0.001\n",
      "[CV 3/5; 12/27] END activation=tanh, alpha=0.0005, hidden_layer_sizes=(100, 50, 25), learning_rate_init=0.001;, score=-0.242 total time=   0.4s\n",
      "[CV 4/5; 12/27] START activation=tanh, alpha=0.0005, hidden_layer_sizes=(100, 50, 25), learning_rate_init=0.001\n",
      "[CV 4/5; 12/27] END activation=tanh, alpha=0.0005, hidden_layer_sizes=(100, 50, 25), learning_rate_init=0.001;, score=-0.228 total time=   1.0s\n",
      "[CV 5/5; 12/27] START activation=tanh, alpha=0.0005, hidden_layer_sizes=(100, 50, 25), learning_rate_init=0.001\n",
      "[CV 5/5; 12/27] END activation=tanh, alpha=0.0005, hidden_layer_sizes=(100, 50, 25), learning_rate_init=0.001;, score=-0.250 total time=   0.5s\n",
      "[CV 1/5; 13/27] START activation=tanh, alpha=0.0001, hidden_layer_sizes=(100, 50, 25), learning_rate_init=0.0001\n",
      "[CV 1/5; 13/27] END activation=tanh, alpha=0.0001, hidden_layer_sizes=(100, 50, 25), learning_rate_init=0.0001;, score=-0.296 total time=   7.8s\n",
      "[CV 2/5; 13/27] START activation=tanh, alpha=0.0001, hidden_layer_sizes=(100, 50, 25), learning_rate_init=0.0001\n",
      "[CV 2/5; 13/27] END activation=tanh, alpha=0.0001, hidden_layer_sizes=(100, 50, 25), learning_rate_init=0.0001;, score=-0.258 total time=  11.1s\n",
      "[CV 3/5; 13/27] START activation=tanh, alpha=0.0001, hidden_layer_sizes=(100, 50, 25), learning_rate_init=0.0001\n",
      "[CV 3/5; 13/27] END activation=tanh, alpha=0.0001, hidden_layer_sizes=(100, 50, 25), learning_rate_init=0.0001;, score=-0.252 total time=   9.5s\n",
      "[CV 4/5; 13/27] START activation=tanh, alpha=0.0001, hidden_layer_sizes=(100, 50, 25), learning_rate_init=0.0001\n",
      "[CV 4/5; 13/27] END activation=tanh, alpha=0.0001, hidden_layer_sizes=(100, 50, 25), learning_rate_init=0.0001;, score=-0.266 total time=  10.0s\n",
      "[CV 5/5; 13/27] START activation=tanh, alpha=0.0001, hidden_layer_sizes=(100, 50, 25), learning_rate_init=0.0001\n",
      "[CV 5/5; 13/27] END activation=tanh, alpha=0.0001, hidden_layer_sizes=(100, 50, 25), learning_rate_init=0.0001;, score=-0.240 total time=  13.4s\n",
      "[CV 1/5; 14/27] START activation=tanh, alpha=0.0001, hidden_layer_sizes=(100, 50, 25), learning_rate_init=0.0005\n",
      "[CV 1/5; 14/27] END activation=tanh, alpha=0.0001, hidden_layer_sizes=(100, 50, 25), learning_rate_init=0.0005;, score=-0.230 total time=   1.4s\n",
      "[CV 2/5; 14/27] START activation=tanh, alpha=0.0001, hidden_layer_sizes=(100, 50, 25), learning_rate_init=0.0005\n",
      "[CV 2/5; 14/27] END activation=tanh, alpha=0.0001, hidden_layer_sizes=(100, 50, 25), learning_rate_init=0.0005;, score=-0.219 total time=   0.5s\n",
      "[CV 3/5; 14/27] START activation=tanh, alpha=0.0001, hidden_layer_sizes=(100, 50, 25), learning_rate_init=0.0005\n",
      "[CV 3/5; 14/27] END activation=tanh, alpha=0.0001, hidden_layer_sizes=(100, 50, 25), learning_rate_init=0.0005;, score=-0.230 total time=   0.9s\n",
      "[CV 4/5; 14/27] START activation=tanh, alpha=0.0001, hidden_layer_sizes=(100, 50, 25), learning_rate_init=0.0005\n",
      "[CV 4/5; 14/27] END activation=tanh, alpha=0.0001, hidden_layer_sizes=(100, 50, 25), learning_rate_init=0.0005;, score=-0.227 total time=   1.2s\n",
      "[CV 5/5; 14/27] START activation=tanh, alpha=0.0001, hidden_layer_sizes=(100, 50, 25), learning_rate_init=0.0005\n",
      "[CV 5/5; 14/27] END activation=tanh, alpha=0.0001, hidden_layer_sizes=(100, 50, 25), learning_rate_init=0.0005;, score=-0.215 total time=   0.7s\n",
      "[CV 1/5; 15/27] START activation=tanh, alpha=0.0001, hidden_layer_sizes=(100, 50, 25), learning_rate_init=0.001\n",
      "[CV 1/5; 15/27] END activation=tanh, alpha=0.0001, hidden_layer_sizes=(100, 50, 25), learning_rate_init=0.001;, score=-0.278 total time=   0.4s\n",
      "[CV 2/5; 15/27] START activation=tanh, alpha=0.0001, hidden_layer_sizes=(100, 50, 25), learning_rate_init=0.001\n",
      "[CV 2/5; 15/27] END activation=tanh, alpha=0.0001, hidden_layer_sizes=(100, 50, 25), learning_rate_init=0.001;, score=-0.238 total time=   0.7s\n",
      "[CV 3/5; 15/27] START activation=tanh, alpha=0.0001, hidden_layer_sizes=(100, 50, 25), learning_rate_init=0.001\n",
      "[CV 3/5; 15/27] END activation=tanh, alpha=0.0001, hidden_layer_sizes=(100, 50, 25), learning_rate_init=0.001;, score=-0.256 total time=   1.6s\n",
      "[CV 4/5; 15/27] START activation=tanh, alpha=0.0001, hidden_layer_sizes=(100, 50, 25), learning_rate_init=0.001\n",
      "[CV 4/5; 15/27] END activation=tanh, alpha=0.0001, hidden_layer_sizes=(100, 50, 25), learning_rate_init=0.001;, score=-0.237 total time=   1.9s\n",
      "[CV 5/5; 15/27] START activation=tanh, alpha=0.0001, hidden_layer_sizes=(100, 50, 25), learning_rate_init=0.001\n",
      "[CV 5/5; 15/27] END activation=tanh, alpha=0.0001, hidden_layer_sizes=(100, 50, 25), learning_rate_init=0.001;, score=-0.221 total time=   1.0s\n",
      "[CV 1/5; 16/27] START activation=tanh, alpha=0.001, hidden_layer_sizes=(100, 50, 25), learning_rate_init=0.0001\n",
      "[CV 1/5; 16/27] END activation=tanh, alpha=0.001, hidden_layer_sizes=(100, 50, 25), learning_rate_init=0.0001;, score=-0.305 total time=  12.9s\n",
      "[CV 2/5; 16/27] START activation=tanh, alpha=0.001, hidden_layer_sizes=(100, 50, 25), learning_rate_init=0.0001\n",
      "[CV 2/5; 16/27] END activation=tanh, alpha=0.001, hidden_layer_sizes=(100, 50, 25), learning_rate_init=0.0001;, score=-0.252 total time=  25.9s\n",
      "[CV 3/5; 16/27] START activation=tanh, alpha=0.001, hidden_layer_sizes=(100, 50, 25), learning_rate_init=0.0001\n",
      "[CV 3/5; 16/27] END activation=tanh, alpha=0.001, hidden_layer_sizes=(100, 50, 25), learning_rate_init=0.0001;, score=-0.248 total time=   9.8s\n",
      "[CV 4/5; 16/27] START activation=tanh, alpha=0.001, hidden_layer_sizes=(100, 50, 25), learning_rate_init=0.0001\n",
      "[CV 4/5; 16/27] END activation=tanh, alpha=0.001, hidden_layer_sizes=(100, 50, 25), learning_rate_init=0.0001;, score=-0.272 total time=   8.7s\n",
      "[CV 5/5; 16/27] START activation=tanh, alpha=0.001, hidden_layer_sizes=(100, 50, 25), learning_rate_init=0.0001\n",
      "[CV 5/5; 16/27] END activation=tanh, alpha=0.001, hidden_layer_sizes=(100, 50, 25), learning_rate_init=0.0001;, score=-0.236 total time=  11.4s\n",
      "[CV 1/5; 17/27] START activation=tanh, alpha=0.001, hidden_layer_sizes=(100, 50, 25), learning_rate_init=0.0005\n",
      "[CV 1/5; 17/27] END activation=tanh, alpha=0.001, hidden_layer_sizes=(100, 50, 25), learning_rate_init=0.0005;, score=-0.227 total time=   0.7s\n",
      "[CV 2/5; 17/27] START activation=tanh, alpha=0.001, hidden_layer_sizes=(100, 50, 25), learning_rate_init=0.0005\n",
      "[CV 2/5; 17/27] END activation=tanh, alpha=0.001, hidden_layer_sizes=(100, 50, 25), learning_rate_init=0.0005;, score=-0.211 total time=   1.1s\n",
      "[CV 3/5; 17/27] START activation=tanh, alpha=0.001, hidden_layer_sizes=(100, 50, 25), learning_rate_init=0.0005\n",
      "[CV 3/5; 17/27] END activation=tanh, alpha=0.001, hidden_layer_sizes=(100, 50, 25), learning_rate_init=0.0005;, score=-0.237 total time=   0.9s\n",
      "[CV 4/5; 17/27] START activation=tanh, alpha=0.001, hidden_layer_sizes=(100, 50, 25), learning_rate_init=0.0005\n",
      "[CV 4/5; 17/27] END activation=tanh, alpha=0.001, hidden_layer_sizes=(100, 50, 25), learning_rate_init=0.0005;, score=-0.230 total time=   0.8s\n",
      "[CV 5/5; 17/27] START activation=tanh, alpha=0.001, hidden_layer_sizes=(100, 50, 25), learning_rate_init=0.0005\n",
      "[CV 5/5; 17/27] END activation=tanh, alpha=0.001, hidden_layer_sizes=(100, 50, 25), learning_rate_init=0.0005;, score=-0.218 total time=   1.1s\n",
      "[CV 1/5; 18/27] START activation=tanh, alpha=0.001, hidden_layer_sizes=(100, 50, 25), learning_rate_init=0.001\n",
      "[CV 1/5; 18/27] END activation=tanh, alpha=0.001, hidden_layer_sizes=(100, 50, 25), learning_rate_init=0.001;, score=-0.248 total time=   0.5s\n",
      "[CV 2/5; 18/27] START activation=tanh, alpha=0.001, hidden_layer_sizes=(100, 50, 25), learning_rate_init=0.001\n",
      "[CV 2/5; 18/27] END activation=tanh, alpha=0.001, hidden_layer_sizes=(100, 50, 25), learning_rate_init=0.001;, score=-0.238 total time=   0.5s\n",
      "[CV 3/5; 18/27] START activation=tanh, alpha=0.001, hidden_layer_sizes=(100, 50, 25), learning_rate_init=0.001\n",
      "[CV 3/5; 18/27] END activation=tanh, alpha=0.001, hidden_layer_sizes=(100, 50, 25), learning_rate_init=0.001;, score=-0.249 total time=   0.6s\n",
      "[CV 4/5; 18/27] START activation=tanh, alpha=0.001, hidden_layer_sizes=(100, 50, 25), learning_rate_init=0.001\n",
      "[CV 4/5; 18/27] END activation=tanh, alpha=0.001, hidden_layer_sizes=(100, 50, 25), learning_rate_init=0.001;, score=-0.237 total time=   0.6s\n",
      "[CV 5/5; 18/27] START activation=tanh, alpha=0.001, hidden_layer_sizes=(100, 50, 25), learning_rate_init=0.001\n",
      "[CV 5/5; 18/27] END activation=tanh, alpha=0.001, hidden_layer_sizes=(100, 50, 25), learning_rate_init=0.001;, score=-0.246 total time=   0.8s\n",
      "[CV 1/5; 19/27] START activation=relu, alpha=0.0005, hidden_layer_sizes=(100, 50, 25), learning_rate_init=0.0001\n",
      "[CV 1/5; 19/27] END activation=relu, alpha=0.0005, hidden_layer_sizes=(100, 50, 25), learning_rate_init=0.0001;, score=-0.259 total time=   4.5s\n",
      "[CV 2/5; 19/27] START activation=relu, alpha=0.0005, hidden_layer_sizes=(100, 50, 25), learning_rate_init=0.0001\n",
      "[CV 2/5; 19/27] END activation=relu, alpha=0.0005, hidden_layer_sizes=(100, 50, 25), learning_rate_init=0.0001;, score=-0.275 total time=  10.0s\n",
      "[CV 3/5; 19/27] START activation=relu, alpha=0.0005, hidden_layer_sizes=(100, 50, 25), learning_rate_init=0.0001\n",
      "[CV 3/5; 19/27] END activation=relu, alpha=0.0005, hidden_layer_sizes=(100, 50, 25), learning_rate_init=0.0001;, score=-0.269 total time=  12.4s\n",
      "[CV 4/5; 19/27] START activation=relu, alpha=0.0005, hidden_layer_sizes=(100, 50, 25), learning_rate_init=0.0001\n",
      "[CV 4/5; 19/27] END activation=relu, alpha=0.0005, hidden_layer_sizes=(100, 50, 25), learning_rate_init=0.0001;, score=-0.271 total time=   5.7s\n",
      "[CV 5/5; 19/27] START activation=relu, alpha=0.0005, hidden_layer_sizes=(100, 50, 25), learning_rate_init=0.0001\n",
      "[CV 5/5; 19/27] END activation=relu, alpha=0.0005, hidden_layer_sizes=(100, 50, 25), learning_rate_init=0.0001;, score=-0.235 total time=   5.5s\n",
      "[CV 1/5; 20/27] START activation=relu, alpha=0.0005, hidden_layer_sizes=(100, 50, 25), learning_rate_init=0.0005\n",
      "[CV 1/5; 20/27] END activation=relu, alpha=0.0005, hidden_layer_sizes=(100, 50, 25), learning_rate_init=0.0005;, score=-0.255 total time=   1.9s\n",
      "[CV 2/5; 20/27] START activation=relu, alpha=0.0005, hidden_layer_sizes=(100, 50, 25), learning_rate_init=0.0005\n",
      "[CV 2/5; 20/27] END activation=relu, alpha=0.0005, hidden_layer_sizes=(100, 50, 25), learning_rate_init=0.0005;, score=-0.214 total time=   1.5s\n",
      "[CV 3/5; 20/27] START activation=relu, alpha=0.0005, hidden_layer_sizes=(100, 50, 25), learning_rate_init=0.0005\n",
      "[CV 3/5; 20/27] END activation=relu, alpha=0.0005, hidden_layer_sizes=(100, 50, 25), learning_rate_init=0.0005;, score=-0.267 total time=   2.5s\n",
      "[CV 4/5; 20/27] START activation=relu, alpha=0.0005, hidden_layer_sizes=(100, 50, 25), learning_rate_init=0.0005\n",
      "[CV 4/5; 20/27] END activation=relu, alpha=0.0005, hidden_layer_sizes=(100, 50, 25), learning_rate_init=0.0005;, score=-0.254 total time=   1.2s\n",
      "[CV 5/5; 20/27] START activation=relu, alpha=0.0005, hidden_layer_sizes=(100, 50, 25), learning_rate_init=0.0005\n",
      "[CV 5/5; 20/27] END activation=relu, alpha=0.0005, hidden_layer_sizes=(100, 50, 25), learning_rate_init=0.0005;, score=-0.242 total time=   1.8s\n",
      "[CV 1/5; 21/27] START activation=relu, alpha=0.0005, hidden_layer_sizes=(100, 50, 25), learning_rate_init=0.001\n",
      "[CV 1/5; 21/27] END activation=relu, alpha=0.0005, hidden_layer_sizes=(100, 50, 25), learning_rate_init=0.001;, score=-0.244 total time=   0.8s\n",
      "[CV 2/5; 21/27] START activation=relu, alpha=0.0005, hidden_layer_sizes=(100, 50, 25), learning_rate_init=0.001\n",
      "[CV 2/5; 21/27] END activation=relu, alpha=0.0005, hidden_layer_sizes=(100, 50, 25), learning_rate_init=0.001;, score=-0.242 total time=   1.1s\n",
      "[CV 3/5; 21/27] START activation=relu, alpha=0.0005, hidden_layer_sizes=(100, 50, 25), learning_rate_init=0.001\n",
      "[CV 3/5; 21/27] END activation=relu, alpha=0.0005, hidden_layer_sizes=(100, 50, 25), learning_rate_init=0.001;, score=-0.224 total time=   0.9s\n",
      "[CV 4/5; 21/27] START activation=relu, alpha=0.0005, hidden_layer_sizes=(100, 50, 25), learning_rate_init=0.001\n",
      "[CV 4/5; 21/27] END activation=relu, alpha=0.0005, hidden_layer_sizes=(100, 50, 25), learning_rate_init=0.001;, score=-0.283 total time=   1.2s\n",
      "[CV 5/5; 21/27] START activation=relu, alpha=0.0005, hidden_layer_sizes=(100, 50, 25), learning_rate_init=0.001\n",
      "[CV 5/5; 21/27] END activation=relu, alpha=0.0005, hidden_layer_sizes=(100, 50, 25), learning_rate_init=0.001;, score=-0.217 total time=   1.3s\n",
      "[CV 1/5; 22/27] START activation=relu, alpha=0.0001, hidden_layer_sizes=(100, 50, 25), learning_rate_init=0.0001\n",
      "[CV 1/5; 22/27] END activation=relu, alpha=0.0001, hidden_layer_sizes=(100, 50, 25), learning_rate_init=0.0001;, score=-0.272 total time=   5.8s\n",
      "[CV 2/5; 22/27] START activation=relu, alpha=0.0001, hidden_layer_sizes=(100, 50, 25), learning_rate_init=0.0001\n",
      "[CV 2/5; 22/27] END activation=relu, alpha=0.0001, hidden_layer_sizes=(100, 50, 25), learning_rate_init=0.0001;, score=-0.249 total time=   3.3s\n",
      "[CV 3/5; 22/27] START activation=relu, alpha=0.0001, hidden_layer_sizes=(100, 50, 25), learning_rate_init=0.0001\n",
      "[CV 3/5; 22/27] END activation=relu, alpha=0.0001, hidden_layer_sizes=(100, 50, 25), learning_rate_init=0.0001;, score=-0.288 total time=  11.6s\n",
      "[CV 4/5; 22/27] START activation=relu, alpha=0.0001, hidden_layer_sizes=(100, 50, 25), learning_rate_init=0.0001\n",
      "[CV 4/5; 22/27] END activation=relu, alpha=0.0001, hidden_layer_sizes=(100, 50, 25), learning_rate_init=0.0001;, score=-0.307 total time=   8.6s\n",
      "[CV 5/5; 22/27] START activation=relu, alpha=0.0001, hidden_layer_sizes=(100, 50, 25), learning_rate_init=0.0001\n",
      "[CV 5/5; 22/27] END activation=relu, alpha=0.0001, hidden_layer_sizes=(100, 50, 25), learning_rate_init=0.0001;, score=-0.237 total time=   3.5s\n",
      "[CV 1/5; 23/27] START activation=relu, alpha=0.0001, hidden_layer_sizes=(100, 50, 25), learning_rate_init=0.0005\n",
      "[CV 1/5; 23/27] END activation=relu, alpha=0.0001, hidden_layer_sizes=(100, 50, 25), learning_rate_init=0.0005;, score=-0.244 total time=   1.8s\n",
      "[CV 2/5; 23/27] START activation=relu, alpha=0.0001, hidden_layer_sizes=(100, 50, 25), learning_rate_init=0.0005\n",
      "[CV 2/5; 23/27] END activation=relu, alpha=0.0001, hidden_layer_sizes=(100, 50, 25), learning_rate_init=0.0005;, score=-0.221 total time=   1.6s\n",
      "[CV 3/5; 23/27] START activation=relu, alpha=0.0001, hidden_layer_sizes=(100, 50, 25), learning_rate_init=0.0005\n",
      "[CV 3/5; 23/27] END activation=relu, alpha=0.0001, hidden_layer_sizes=(100, 50, 25), learning_rate_init=0.0005;, score=-0.263 total time=   2.1s\n",
      "[CV 4/5; 23/27] START activation=relu, alpha=0.0001, hidden_layer_sizes=(100, 50, 25), learning_rate_init=0.0005\n",
      "[CV 4/5; 23/27] END activation=relu, alpha=0.0001, hidden_layer_sizes=(100, 50, 25), learning_rate_init=0.0005;, score=-0.278 total time=   1.8s\n",
      "[CV 5/5; 23/27] START activation=relu, alpha=0.0001, hidden_layer_sizes=(100, 50, 25), learning_rate_init=0.0005\n",
      "[CV 5/5; 23/27] END activation=relu, alpha=0.0001, hidden_layer_sizes=(100, 50, 25), learning_rate_init=0.0005;, score=-0.248 total time=   1.9s\n",
      "[CV 1/5; 24/27] START activation=relu, alpha=0.0001, hidden_layer_sizes=(100, 50, 25), learning_rate_init=0.001\n",
      "[CV 1/5; 24/27] END activation=relu, alpha=0.0001, hidden_layer_sizes=(100, 50, 25), learning_rate_init=0.001;, score=-0.209 total time=   0.5s\n",
      "[CV 2/5; 24/27] START activation=relu, alpha=0.0001, hidden_layer_sizes=(100, 50, 25), learning_rate_init=0.001\n",
      "[CV 2/5; 24/27] END activation=relu, alpha=0.0001, hidden_layer_sizes=(100, 50, 25), learning_rate_init=0.001;, score=-0.206 total time=   1.9s\n",
      "[CV 3/5; 24/27] START activation=relu, alpha=0.0001, hidden_layer_sizes=(100, 50, 25), learning_rate_init=0.001\n",
      "[CV 3/5; 24/27] END activation=relu, alpha=0.0001, hidden_layer_sizes=(100, 50, 25), learning_rate_init=0.001;, score=-0.233 total time=   1.1s\n",
      "[CV 4/5; 24/27] START activation=relu, alpha=0.0001, hidden_layer_sizes=(100, 50, 25), learning_rate_init=0.001\n",
      "[CV 4/5; 24/27] END activation=relu, alpha=0.0001, hidden_layer_sizes=(100, 50, 25), learning_rate_init=0.001;, score=-0.273 total time=   2.7s\n",
      "[CV 5/5; 24/27] START activation=relu, alpha=0.0001, hidden_layer_sizes=(100, 50, 25), learning_rate_init=0.001\n",
      "[CV 5/5; 24/27] END activation=relu, alpha=0.0001, hidden_layer_sizes=(100, 50, 25), learning_rate_init=0.001;, score=-0.213 total time=   1.7s\n",
      "[CV 1/5; 25/27] START activation=relu, alpha=0.001, hidden_layer_sizes=(100, 50, 25), learning_rate_init=0.0001\n",
      "[CV 1/5; 25/27] END activation=relu, alpha=0.001, hidden_layer_sizes=(100, 50, 25), learning_rate_init=0.0001;, score=-0.290 total time=   8.3s\n",
      "[CV 2/5; 25/27] START activation=relu, alpha=0.001, hidden_layer_sizes=(100, 50, 25), learning_rate_init=0.0001\n",
      "[CV 2/5; 25/27] END activation=relu, alpha=0.001, hidden_layer_sizes=(100, 50, 25), learning_rate_init=0.0001;, score=-0.275 total time=   7.9s\n",
      "[CV 3/5; 25/27] START activation=relu, alpha=0.001, hidden_layer_sizes=(100, 50, 25), learning_rate_init=0.0001\n",
      "[CV 3/5; 25/27] END activation=relu, alpha=0.001, hidden_layer_sizes=(100, 50, 25), learning_rate_init=0.0001;, score=-0.270 total time=   9.0s\n",
      "[CV 4/5; 25/27] START activation=relu, alpha=0.001, hidden_layer_sizes=(100, 50, 25), learning_rate_init=0.0001\n",
      "[CV 4/5; 25/27] END activation=relu, alpha=0.001, hidden_layer_sizes=(100, 50, 25), learning_rate_init=0.0001;, score=-0.317 total time=   8.5s\n",
      "[CV 5/5; 25/27] START activation=relu, alpha=0.001, hidden_layer_sizes=(100, 50, 25), learning_rate_init=0.0001\n",
      "[CV 5/5; 25/27] END activation=relu, alpha=0.001, hidden_layer_sizes=(100, 50, 25), learning_rate_init=0.0001;, score=-0.240 total time=   5.4s\n",
      "[CV 1/5; 26/27] START activation=relu, alpha=0.001, hidden_layer_sizes=(100, 50, 25), learning_rate_init=0.0005\n",
      "[CV 1/5; 26/27] END activation=relu, alpha=0.001, hidden_layer_sizes=(100, 50, 25), learning_rate_init=0.0005;, score=-0.246 total time=   1.7s\n",
      "[CV 2/5; 26/27] START activation=relu, alpha=0.001, hidden_layer_sizes=(100, 50, 25), learning_rate_init=0.0005\n",
      "[CV 2/5; 26/27] END activation=relu, alpha=0.001, hidden_layer_sizes=(100, 50, 25), learning_rate_init=0.0005;, score=-0.228 total time=   1.7s\n",
      "[CV 3/5; 26/27] START activation=relu, alpha=0.001, hidden_layer_sizes=(100, 50, 25), learning_rate_init=0.0005\n",
      "[CV 3/5; 26/27] END activation=relu, alpha=0.001, hidden_layer_sizes=(100, 50, 25), learning_rate_init=0.0005;, score=-0.221 total time=   1.8s\n",
      "[CV 4/5; 26/27] START activation=relu, alpha=0.001, hidden_layer_sizes=(100, 50, 25), learning_rate_init=0.0005\n",
      "[CV 4/5; 26/27] END activation=relu, alpha=0.001, hidden_layer_sizes=(100, 50, 25), learning_rate_init=0.0005;, score=-0.267 total time=   1.7s\n",
      "[CV 5/5; 26/27] START activation=relu, alpha=0.001, hidden_layer_sizes=(100, 50, 25), learning_rate_init=0.0005\n",
      "[CV 5/5; 26/27] END activation=relu, alpha=0.001, hidden_layer_sizes=(100, 50, 25), learning_rate_init=0.0005;, score=-0.246 total time=   1.9s\n",
      "[CV 1/5; 27/27] START activation=relu, alpha=0.001, hidden_layer_sizes=(100, 50, 25), learning_rate_init=0.001\n",
      "[CV 1/5; 27/27] END activation=relu, alpha=0.001, hidden_layer_sizes=(100, 50, 25), learning_rate_init=0.001;, score=-0.204 total time=   0.9s\n",
      "[CV 2/5; 27/27] START activation=relu, alpha=0.001, hidden_layer_sizes=(100, 50, 25), learning_rate_init=0.001\n",
      "[CV 2/5; 27/27] END activation=relu, alpha=0.001, hidden_layer_sizes=(100, 50, 25), learning_rate_init=0.001;, score=-0.215 total time=   1.7s\n",
      "[CV 3/5; 27/27] START activation=relu, alpha=0.001, hidden_layer_sizes=(100, 50, 25), learning_rate_init=0.001\n",
      "[CV 3/5; 27/27] END activation=relu, alpha=0.001, hidden_layer_sizes=(100, 50, 25), learning_rate_init=0.001;, score=-0.232 total time=   2.1s\n",
      "[CV 4/5; 27/27] START activation=relu, alpha=0.001, hidden_layer_sizes=(100, 50, 25), learning_rate_init=0.001\n",
      "[CV 4/5; 27/27] END activation=relu, alpha=0.001, hidden_layer_sizes=(100, 50, 25), learning_rate_init=0.001;, score=-0.259 total time=   2.4s\n",
      "[CV 5/5; 27/27] START activation=relu, alpha=0.001, hidden_layer_sizes=(100, 50, 25), learning_rate_init=0.001\n",
      "[CV 5/5; 27/27] END activation=relu, alpha=0.001, hidden_layer_sizes=(100, 50, 25), learning_rate_init=0.001;, score=-0.218 total time=   1.1s\n"
     ]
    }
   ],
   "source": [
    "model = MLPClassifier(max_iter=1000, random_state=23)\n",
    "\n",
    "parameters = {'hidden_layer_sizes':[(100, 50, 25)],\n",
    "              'learning_rate_init':[.0001, .0005, .001],\n",
    "               'activation':['logistic', 'tanh', 'relu'],\n",
    "               'alpha':[.0005, .0001, .001]\n",
    "              }\n",
    "\n",
    "best_params = get_best_params_from_grid_search(train, features, target, model, parameters, \n",
    "                                               scoring='neg_brier_score', verbose=15)"
   ]
  },
  {
   "cell_type": "code",
   "execution_count": 36,
   "metadata": {},
   "outputs": [
    {
     "data": {
      "text/plain": [
       "{'activation': 'logistic',\n",
       " 'alpha': 0.0005,\n",
       " 'hidden_layer_sizes': (100, 50, 25),\n",
       " 'learning_rate_init': 0.0005}"
      ]
     },
     "execution_count": 36,
     "metadata": {},
     "output_type": "execute_result"
    }
   ],
   "source": [
    "best_params"
   ]
  },
  {
   "cell_type": "code",
   "execution_count": 22,
   "metadata": {},
   "outputs": [],
   "source": [
    "best_params = {'activation': 'logistic',\n",
    " 'alpha': 0.0001,\n",
    " 'hidden_layer_sizes': (150,),\n",
    " 'learning_rate_init': 0.0005}"
   ]
  },
  {
   "cell_type": "markdown",
   "metadata": {},
   "source": [
    "### Learning Curve"
   ]
  },
  {
   "cell_type": "code",
   "execution_count": 142,
   "metadata": {},
   "outputs": [],
   "source": [
    "def plot_learning_curve(train, target, features, model, scoring, xlabel, ylabel, title, yticks=None, sizes=np.linspace(0.1, 1.0, 20), cv=StratifiedKFold(n_splits=10), random_state=23):\n",
    "    viz = LearningCurve(\n",
    "        model, cv=cv, scoring=scoring, train_sizes=sizes, n_jobs=-1, random_state=random_state)\n",
    "    viz.fit(train[features], train[target])\n",
    "    viz.ax.legend()\n",
    "    plt.ylabel(ylabel)\n",
    "    plt.xlabel(xlabel)\n",
    "    plt.title(title)\n",
    "    if yticks:\n",
    "        viz.ax.set_yticks(yticks)\n",
    "    plt.show()"
   ]
  },
  {
   "cell_type": "code",
   "execution_count": 143,
   "metadata": {},
   "outputs": [
    {
     "name": "stderr",
     "output_type": "stream",
     "text": [
      "/Users/skylerdale/.virtualenvs/ml_course/lib/python3.10/site-packages/sklearn/neural_network/_multilayer_perceptron.py:686: ConvergenceWarning: Stochastic Optimizer: Maximum iterations (1000) reached and the optimization hasn't converged yet.\n",
      "  warnings.warn(\n",
      "/Users/skylerdale/.virtualenvs/ml_course/lib/python3.10/site-packages/sklearn/neural_network/_multilayer_perceptron.py:686: ConvergenceWarning: Stochastic Optimizer: Maximum iterations (1000) reached and the optimization hasn't converged yet.\n",
      "  warnings.warn(\n",
      "/Users/skylerdale/.virtualenvs/ml_course/lib/python3.10/site-packages/sklearn/neural_network/_multilayer_perceptron.py:686: ConvergenceWarning: Stochastic Optimizer: Maximum iterations (1000) reached and the optimization hasn't converged yet.\n",
      "  warnings.warn(\n",
      "/Users/skylerdale/.virtualenvs/ml_course/lib/python3.10/site-packages/sklearn/neural_network/_multilayer_perceptron.py:686: ConvergenceWarning: Stochastic Optimizer: Maximum iterations (1000) reached and the optimization hasn't converged yet.\n",
      "  warnings.warn(\n",
      "/Users/skylerdale/.virtualenvs/ml_course/lib/python3.10/site-packages/sklearn/neural_network/_multilayer_perceptron.py:686: ConvergenceWarning: Stochastic Optimizer: Maximum iterations (1000) reached and the optimization hasn't converged yet.\n",
      "  warnings.warn(\n",
      "/Users/skylerdale/.virtualenvs/ml_course/lib/python3.10/site-packages/sklearn/neural_network/_multilayer_perceptron.py:686: ConvergenceWarning: Stochastic Optimizer: Maximum iterations (1000) reached and the optimization hasn't converged yet.\n",
      "  warnings.warn(\n"
     ]
    },
    {
     "data": {
      "image/png": "[encoded data removed]",
      "text/plain": [
       "<Figure size 800x550 with 1 Axes>"
      ]
     },
     "metadata": {},
     "output_type": "display_data"
    }
   ],
   "source": [
    "model = MLPClassifier(max_iter=1000, random_state=23, **best_params)\n",
    "\n",
    "plot_learning_curve(train, 'Outcome', features, model, \n",
    "                    'neg_brier_score', \n",
    "                    \"# of Records\", \n",
    "                    \"Negative Brier Score\", \n",
    "                    \"Learning Curve - Neural Net\", \n",
    "                    yticks=None, \n",
    "                    sizes=np.linspace(0.1, 1.0, 20), \n",
    "                    cv=StratifiedKFold(n_splits=10), \n",
    "                    random_state=23)\n"
   ]
  },
  {
   "cell_type": "markdown",
   "metadata": {},
   "source": [
    "### CV Scoring"
   ]
  },
  {
   "cell_type": "code",
   "execution_count": 17,
   "metadata": {},
   "outputs": [],
   "source": [
    "def rolling_season_cv(model, train_input, features, label='Outcome', cv_start=2007):\n",
    "    ''' returns estimate for model performance using shifted validation'''\n",
    "    \n",
    "    scores = []\n",
    "\n",
    "    for n, season in enumerate(train_input.Season.unique()):\n",
    "        \n",
    "        if season >= cv_start:\n",
    "\n",
    "            train = train_input[train_input.Season < season]\n",
    "            test = train_input[train_input.Season == season]\n",
    "\n",
    "            X_train = train[features]\n",
    "            X_test = test[features]\n",
    "            y_train = train[label]\n",
    "            y_test = test[label]\n",
    "\n",
    "            model.fit(X_train[features], y_train)\n",
    "            y_prob = model.predict_proba(X_test[features])\n",
    "            loss = brier_score_loss(y_test, y_prob[:,1])\n",
    "            scores.append((season, loss))\n",
    "\n",
    "    validation_df = pd.DataFrame(scores, columns = ['season', 'score']).sort_values(by = 'score')\n",
    "    avg_validation_score = validation_df.score.mean()\n",
    "    return avg_validation_score\n"
   ]
  },
  {
   "cell_type": "code",
   "execution_count": 27,
   "metadata": {},
   "outputs": [
    {
     "name": "stderr",
     "output_type": "stream",
     "text": [
      "/Users/skylerdale/.virtualenvs/ml_course/lib/python3.10/site-packages/sklearn/neural_network/_multilayer_perceptron.py:686: ConvergenceWarning: Stochastic Optimizer: Maximum iterations (1000) reached and the optimization hasn't converged yet.\n",
      "  warnings.warn(\n"
     ]
    },
    {
     "data": {
      "text/plain": [
       "0.20084677700144898"
      ]
     },
     "execution_count": 27,
     "metadata": {},
     "output_type": "execute_result"
    }
   ],
   "source": [
    "# model = MLPClassifier(max_iter=1000, random_state=23, activation='tanh',\n",
    "#  alpha=0.0001, hidden_layer_sizes=(50,), learning_rate_init=0.005)\n",
    "model = MLPClassifier(max_iter=1000, random_state=23, **best_params)\n",
    "rolling_season_cv(model, train, features)"
   ]
  },
  {
   "cell_type": "code",
   "execution_count": null,
   "metadata": {},
   "outputs": [],
   "source": []
  },
  {
   "cell_type": "code",
   "execution_count": 37,
   "metadata": {},
   "outputs": [
    {
     "data": {
      "text/plain": [
       "0.214876221413"
      ]
     },
     "execution_count": 37,
     "metadata": {},
     "output_type": "execute_result"
    }
   ],
   "source": [
    "# model = MLPClassifier(max_iter=1000, random_state=23, activation='tanh',\n",
    "#  alpha=0.0001, hidden_layer_sizes=(50,), learning_rate_init=0.005)\n",
    "\n",
    "model = MLPClassifier(max_iter=1000, random_state=23, hidden_layer_sizes=(100, 50, 25),\n",
    "                      activation='logistic', alpha=0.0005, learning_rate_init=0.0005)\n",
    "\n",
    "rolling_season_cv(model, train, features)\n"
   ]
  },
  {
   "cell_type": "code",
   "execution_count": null,
   "metadata": {},
   "outputs": [],
   "source": []
  },
  {
   "cell_type": "code",
   "execution_count": null,
   "metadata": {},
   "outputs": [],
   "source": [
    "# can try testing out different cv methods\n",
    "# for each year, build model with 5 seasons from past and 5 from future\n",
    "# evaluate whether the future model does better (suggesting bias) or if it doesn't matter  "
   ]
  },
  {
   "cell_type": "code",
   "execution_count": 14,
   "metadata": {},
   "outputs": [
    {
     "data": {
      "text/plain": [
       "array([2003, 2004, 2005, 2006, 2007, 2008, 2009, 2010, 2011, 2012, 2013,\n",
       "       2014, 2015, 2016, 2017, 2018, 2019, 2021, 2022, 2023])"
      ]
     },
     "execution_count": 14,
     "metadata": {},
     "output_type": "execute_result"
    }
   ],
   "source": [
    "to_predict_mens.Season.unique()"
   ]
  },
  {
   "cell_type": "code",
   "execution_count": null,
   "metadata": {},
   "outputs": [],
   "source": [
    "#2008 - 2017 have 5 seasons on both sides"
   ]
  }
 ],
 "metadata": {
  "kernelspec": {
   "display_name": "ml_course",
   "language": "python",
   "name": "python3"
  },
  "language_info": {
   "codemirror_mode": {
    "name": "ipython",
    "version": 3
   },
   "file_extension": ".py",
   "mimetype": "text/x-python",
   "name": "python",
   "nbconvert_exporter": "python",
   "pygments_lexer": "ipython3",
   "version": "3.10.10"
  }
 },
 "nbformat": 4,
 "nbformat_minor": 2
}

{
 "cells": [
  {
   "cell_type": "code",
   "execution_count": 1,
   "metadata": {},
   "outputs": [],
   "source": [
    "import pandas as pd"
   ]
  },
  {
   "cell_type": "code",
   "execution_count": 2,
   "metadata": {},
   "outputs": [],
   "source": [
    "teams = pd.read_csv(\"../data/MTeams.csv\")"
   ]
  },
  {
   "cell_type": "code",
   "execution_count": 3,
   "metadata": {},
   "outputs": [],
   "source": [
    "slots = pd.read_csv(\"../data/MNCAATourneySlots.csv\")\n",
    "slots = slots[slots.Season == 2023]"
   ]
  },
  {
   "cell_type": "code",
   "execution_count": 4,
   "metadata": {},
   "outputs": [],
   "source": [
    "seeds = pd.read_csv(\"../data/MNCAATourneySeeds.csv\")\n",
    "\n",
    "# remove play-ins\n",
    "seeds[\"Seed\"] = seeds[\"Seed\"].str[0:3]\n",
    "seeds = seeds.drop_duplicates([\"Season\", \"Seed\"])\n",
    "seeds[\"Seed\"] = seeds[\"Seed\"].astype(str)"
   ]
  },
  {
   "cell_type": "code",
   "execution_count": 5,
   "metadata": {},
   "outputs": [],
   "source": [
    "predictions = pd.read_csv(\"../submissions/sub1_3_13.csv\")\n",
    "predictions[['Season', 'Team1', 'Team2']] = predictions['ID'].str.split('_', expand=True)\n",
    "predictions = predictions[predictions[\"Pred\"] != .5] \n",
    "predictions[\"Team1\"] = predictions[\"Team1\"].astype(int) \n",
    "predictions[\"Team2\"] = predictions[\"Team2\"].astype(int) \n",
    "predictions[\"Season\"] = predictions[\"Season\"].astype(int) \n",
    "\n",
    "seeds_t1 = seeds.copy()\n",
    "seeds_t1.columns = [\"Season\", \"t1_seed\", \"Team1\"]\n",
    "predictions = predictions.merge(seeds_t1, how=\"inner\", on=[\"Season\", \"Team1\"]) # inner results in removing playin teams from above \n",
    "\n",
    "seeds_t2 = seeds.copy()\n",
    "seeds_t2.columns = [\"Season\", \"t2_seed\", \"Team2\"]\n",
    "predictions = predictions.merge(seeds_t2, how=\"inner\", on=[\"Season\", \"Team2\"])\n",
    "\n",
    "# filter out women for now\n",
    "predictions = predictions[predictions.Team1 < 2000]"
   ]
  },
  {
   "cell_type": "code",
   "execution_count": 6,
   "metadata": {},
   "outputs": [],
   "source": [
    "predictions2 = predictions.copy()\n",
    "predictions2 = predictions[['ID', 'Pred', 'Season', 'Team2', 'Team1', 't2_seed', 't1_seed']]\n",
    "predictions2.columns = ['ID', 'Pred', 'Season', 'Team1', 'Team2', 't1_seed', 't2_seed']\n",
    "predictions2[\"Pred\"] = 1 - predictions2[\"Pred\"]\n",
    "predictions = pd.concat([predictions, predictions2], axis=0)"
   ]
  },
  {
   "cell_type": "code",
   "execution_count": 8,
   "metadata": {},
   "outputs": [],
   "source": [
    "predictions.columns = ['ID', 'prob_strong_seed', 'Season', 'StrongTeam', 'WeakTeam', 'StrongSeed', 'WeakSeed']\n"
   ]
  },
  {
   "cell_type": "markdown",
   "metadata": {},
   "source": [
    "### repeat"
   ]
  },
  {
   "cell_type": "code",
   "execution_count": 13,
   "metadata": {},
   "outputs": [],
   "source": [
    "def get_round(slots, round):\n",
    "    return slots[slots.Slot.str[1] == str(round)]\n",
    "\n",
    "import numpy as np\n",
    "def random_choice(p):\n",
    "    return np.random.choice([1, 0], p=[p, 1 - p])\n",
    "\n",
    "def get_round_slots(slots):\n",
    "    r1_slots = get_round(slots, 1)\n",
    "    r2_slots = get_round(slots, 2)\n",
    "    r3_slots = get_round(slots, 3)\n",
    "    r4_slots = get_round(slots, 4)\n",
    "    r5_slots = get_round(slots, 5)\n",
    "    r6_slots = get_round(slots, 6)\n",
    "    return r1_slots, r2_slots, r3_slots, r4_slots, r5_slots, r6_slots\n",
    "\n",
    "\n"
   ]
  },
  {
   "cell_type": "code",
   "execution_count": 19,
   "metadata": {},
   "outputs": [],
   "source": [
    "r1_slots, r2_slots, r3_slots, r4_slots, r5_slots, r6_slots = get_round_slots(slots)\n"
   ]
  },
  {
   "cell_type": "code",
   "execution_count": 20,
   "metadata": {},
   "outputs": [],
   "source": [
    "def predict_round1(r1_slots, predictions):\n",
    "    # get probs\n",
    "    r1_slots = r1_slots.merge(predictions, how=\"left\", on = [\"Season\", \"StrongSeed\", \"WeakSeed\"])\n",
    "    r1_slots = r1_slots[r1_slots.prob_strong_seed.notnull()]\n",
    "\n",
    "    # Get whether strong seed wins\n",
    "    r1_slots['strong_seed_wins'] = r1_slots['prob_strong_seed'].apply(lambda x: random_choice(x))\n",
    "\n",
    "    # get slot / winners\n",
    "    r1_slots[\"winner_team\"] = np.where(r1_slots.strong_seed_wins == 1, r1_slots.StrongTeam, r1_slots.WeakTeam)\n",
    "    r1_winners = r1_slots[[\"Slot\", \"winner_team\"]]\n",
    "    return r1_winners\n",
    "\n",
    "def predict_round(previous_winners, slots_for_round, predictions):\n",
    "\n",
    "    previous_winners1 = previous_winners.copy()\n",
    "    previous_winners1.columns = [\"StrongSeed\", \"StrongTeam\"]\n",
    "\n",
    "    slots_for_round = slots_for_round.merge(previous_winners1, how=\"left\", on=[\"StrongSeed\"])\n",
    "\n",
    "    previous_winners2 = previous_winners.copy()\n",
    "    previous_winners2.columns = [\"WeakSeed\", \"WeakTeam\"]\n",
    "\n",
    "    slots_for_round = slots_for_round.merge(previous_winners2, how=\"left\", on=[\"WeakSeed\"])\n",
    "\n",
    "    key = [\"Season\", \"StrongTeam\", \"WeakTeam\"]\n",
    "    slots_for_round = slots_for_round.merge(predictions[key +[\"prob_strong_seed\"]], how=\"left\", on = key)\n",
    "\n",
    "    slots_for_round['strong_seed_wins'] = slots_for_round['prob_strong_seed'].apply(lambda x: random_choice(x))\n",
    "\n",
    "    slots_for_round[\"winner_team\"] = np.where(slots_for_round.strong_seed_wins == 1, slots_for_round.StrongTeam, slots_for_round.WeakTeam)\n",
    "    winners = slots_for_round[[\"Slot\", \"winner_team\"]]\n",
    "\n",
    "    return winners\n",
    "\n",
    "\n"
   ]
  },
  {
   "cell_type": "code",
   "execution_count": 75,
   "metadata": {},
   "outputs": [],
   "source": [
    "def simulate():\n",
    "    r1_winners = predict_round1(r1_slots, predictions)\n",
    "    r2_winners = predict_round(r1_winners, r2_slots, predictions)\n",
    "    r3_winners = predict_round(r2_winners, r3_slots, predictions)\n",
    "    r4_winners = predict_round(r3_winners, r4_slots, predictions)\n",
    "    r5_winners = predict_round(r4_winners, r5_slots, predictions)\n",
    "    r6_winners = predict_round(r5_winners, r6_slots, predictions)\n",
    "\n",
    "    return [r1_winners, r2_winners, r3_winners, r4_winners, r5_winners, r6_winners]"
   ]
  },
  {
   "cell_type": "code",
   "execution_count": 66,
   "metadata": {},
   "outputs": [
    {
     "data": {
      "text/html": [
       "<div>\n",
       "<style scoped>\n",
       "    .dataframe tbody tr th:only-of-type {\n",
       "        vertical-align: middle;\n",
       "    }\n",
       "\n",
       "    .dataframe tbody tr th {\n",
       "        vertical-align: top;\n",
       "    }\n",
       "\n",
       "    .dataframe thead th {\n",
       "        text-align: right;\n",
       "    }\n",
       "</style>\n",
       "<table border=\"1\" class=\"dataframe\">\n",
       "  <thead>\n",
       "    <tr style=\"text-align: right;\">\n",
       "      <th></th>\n",
       "      <th>Slot</th>\n",
       "      <th>winner_team</th>\n",
       "    </tr>\n",
       "  </thead>\n",
       "  <tbody>\n",
       "    <tr>\n",
       "      <th>0</th>\n",
       "      <td>R4W1</td>\n",
       "      <td>1243.0</td>\n",
       "    </tr>\n",
       "    <tr>\n",
       "      <th>1</th>\n",
       "      <td>R4X1</td>\n",
       "      <td>1112.0</td>\n",
       "    </tr>\n",
       "    <tr>\n",
       "      <th>2</th>\n",
       "      <td>R4Y1</td>\n",
       "      <td>1179.0</td>\n",
       "    </tr>\n",
       "    <tr>\n",
       "      <th>3</th>\n",
       "      <td>R4Z1</td>\n",
       "      <td>1242.0</td>\n",
       "    </tr>\n",
       "  </tbody>\n",
       "</table>\n",
       "</div>"
      ],
      "text/plain": [
       "   Slot  winner_team\n",
       "0  R4W1       1243.0\n",
       "1  R4X1       1112.0\n",
       "2  R4Y1       1179.0\n",
       "3  R4Z1       1242.0"
      ]
     },
     "execution_count": 66,
     "metadata": {},
     "output_type": "execute_result"
    }
   ],
   "source": [
    "r4_winners"
   ]
  },
  {
   "cell_type": "code",
   "execution_count": 120,
   "metadata": {},
   "outputs": [
    {
     "name": "stderr",
     "output_type": "stream",
     "text": [
      "  0%|          | 0/1000 [00:00<?, ?it/s]"
     ]
    },
    {
     "name": "stderr",
     "output_type": "stream",
     "text": [
      " 18%|█▊        | 181/1000 [00:11<00:49, 16.65it/s]"
     ]
    }
   ],
   "source": [
    "champions = []\n",
    "\n",
    "for _ in tqdm.tqdm(range(1000)):\n",
    "    winners_list = simulate()\n",
    "    r4_winners = winners_list[3]\n",
    "    df = r4_winners.merge(teams, how=\"left\", left_on=\"winner_team\",right_on=\"TeamID\")\n",
    "    champions.extend(df.TeamName.tolist())"
   ]
  },
  {
   "cell_type": "code",
   "execution_count": null,
   "metadata": {},
   "outputs": [
    {
     "name": "stderr",
     "output_type": "stream",
     "text": [
      "/var/folders/2g/465yxy_x4g786jx2llr5xqh40000gn/T/ipykernel_29062/1820958958.py:11: UserWarning: FixedFormatter should only be used together with FixedLocator\n",
      "  ax.set_xticklabels(champion_sim.index, rotation=45)\n"
     ]
    },
    {
     "data": {
      "image/png": "[encoded data removed]",
      "text/plain": [
       "<Figure size 1440x432 with 1 Axes>"
      ]
     },
     "metadata": {
      "needs_background": "light"
     },
     "output_type": "display_data"
    }
   ],
   "source": [
    "champion_sim = pd.DataFrame(champions, columns = [\"champion\"])\n",
    "champion_sim = pd.DataFrame(champion_sim.champion.value_counts())\n",
    "\n",
    "from matplotlib import pyplot as plt\n",
    "# plt.figure(figsize=(20, 6))\n",
    "# plt.bar(champion_sim.index, champion_sim['champion'])\n",
    "\n",
    "fig, ax = plt.subplots(figsize=(20, 6))\n",
    "bar_container = ax.bar(champion_sim.index, champion_sim['champion'])\n",
    "ax.bar_label(bar_container)\n",
    "ax.set_xticklabels(champion_sim.index, rotation=45)\n",
    "ax.tick_params(axis='x', rotation=45)\n",
    "\n",
    "\n"
   ]
  },
  {
   "cell_type": "code",
   "execution_count": null,
   "metadata": {},
   "outputs": [
    {
     "name": "stderr",
     "output_type": "stream",
     "text": [
      "/var/folders/2g/465yxy_x4g786jx2llr5xqh40000gn/T/ipykernel_29062/4101639691.py:21: UserWarning: FixedFormatter should only be used together with FixedLocator\n",
      "  ax.set_xticklabels(champion_sim_one_quad.index, rotation=45)\n"
     ]
    },
    {
     "data": {
      "image/png": "[encoded data removed]",
      "text/plain": [
       "<Figure size 1440x432 with 1 Axes>"
      ]
     },
     "metadata": {
      "needs_background": "light"
     },
     "output_type": "display_data"
    }
   ],
   "source": [
    "champion_sim_one_quad = champion_sim[champion_sim.index.isin([\"Alabama\",\n",
    "                                      \"Arizona\",\n",
    "                                      \"Baylor\",\n",
    "                                      \"Virginia\",\n",
    "                                      \"Creighton\",\n",
    "                                      \"Maryland\",\n",
    "                                      \"West Virginia\",\n",
    "                                      \"Utah St\",\n",
    "                                      \"NC State\",\n",
    "                                      \"Col Charleston\",\n",
    "                                      \"Furman\",\n",
    "                                      \"Missouri\",\n",
    "                                      \"San Diego St\"\n",
    "                                    ])]\n",
    "\n",
    "\n",
    "\n",
    "fig, ax = plt.subplots(figsize=(20, 6))\n",
    "bar_container = ax.bar(champion_sim_one_quad.index, champion_sim_one_quad['champion'])\n",
    "ax.bar_label(bar_container)\n",
    "ax.set_xticklabels(champion_sim_one_quad.index, rotation=45)\n",
    "ax.tick_params(axis='x', rotation=45)"
   ]
  },
  {
   "cell_type": "code",
   "execution_count": null,
   "metadata": {},
   "outputs": [],
   "source": []
  },
  {
   "cell_type": "code",
   "execution_count": null,
   "metadata": {},
   "outputs": [],
   "source": []
  }
 ],
 "metadata": {
  "kernelspec": {
   "display_name": "ncaa_model",
   "language": "python",
   "name": "ncaa_model"
  },
  "language_info": {
   "codemirror_mode": {
    "name": "ipython",
    "version": 3
   },
   "file_extension": ".py",
   "mimetype": "text/x-python",
   "name": "python",
   "nbconvert_exporter": "python",
   "pygments_lexer": "ipython3",
   "version": "3.8.9"
  }
 },
 "nbformat": 4,
 "nbformat_minor": 2
}

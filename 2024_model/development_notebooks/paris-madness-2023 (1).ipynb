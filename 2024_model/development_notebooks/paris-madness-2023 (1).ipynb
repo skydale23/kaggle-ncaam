{
 "cells": [
  {
   "cell_type": "code",
   "execution_count": 227,
   "metadata": {
    "_cell_guid": "b1076dfc-b9ad-4769-8c92-a6c4dae69d19",
    "_uuid": "8f2839f25d086af736a60e9eeb907d3b93b6e0e5",
    "execution": {
     "iopub.execute_input": "2023-03-14T23:50:07.234100Z",
     "iopub.status.busy": "2023-03-14T23:50:07.233560Z",
     "iopub.status.idle": "2023-03-14T23:50:08.983773Z",
     "shell.execute_reply": "2023-03-14T23:50:08.983001Z",
     "shell.execute_reply.started": "2023-03-14T23:50:07.234039Z"
    }
   },
   "outputs": [
    {
     "name": "stdout",
     "output_type": "stream",
     "text": [
      "['MNCAATourneyDetailedResults.csv', 'WNCAATourneySlots.csv', 'MNCAATourneyCompactResults.csv', 'MSeasons.csv', 'first_round_odds_data.csv', 'WTeams.csv', 'MRegularSeasonDetailedResults.csv', 'WNCAATourneyDetailedResults.csv', 'MNCAATourneySlots.csv', 'MGameCities.csv', 'MConferenceTourneyGames.csv', 'WNCAATourneyCompactResults.csv', 'WSeasons.csv', 'Cities.csv', 'WRegularSeasonCompactResults.csv', 'WTeamSpellings.csv', '2024_tourney_seeds.csv', 'WRegularSeasonDetailedResults.csv', 'MRegularSeasonCompactResults.csv', 'WNCAATourneySeeds.csv', 'MNCAATourneySeedRoundSlots.csv', 'WTeamConferences.csv', 'MTeamConferences.csv', 'MTeamCoaches.csv', 'SampleSubmission2023.csv', 'MMasseyOrdinals.csv', 'Conferences.csv', 'MTeams.csv', 'WGameCities.csv', 'MNCAATourneySeeds.csv', 'MSecondaryTourneyTeams.csv', 'MTeamSpellings.csv', 'sample_submission.csv', 'MSecondaryTourneyCompactResults.csv']\n"
     ]
    }
   ],
   "source": [
    "import numpy as np\n",
    "import pandas as pd\n",
    "import os\n",
    "import xgboost as xgb\n",
    "from sklearn.model_selection import KFold\n",
    "from sklearn.metrics import log_loss\n",
    "from scipy.interpolate import UnivariateSpline\n",
    "import statsmodels.api as sm\n",
    "import matplotlib.pyplot as plt\n",
    "import collections\n",
    "\n",
    "pd.set_option(\"display.max_column\", 999)\n",
    "print(os.listdir(\"../data\"))"
   ]
  },
  {
   "cell_type": "code",
   "execution_count": 228,
   "metadata": {
    "_uuid": "512dcd34de61fd5e61cd08eccc1c9560362f4178",
    "execution": {
     "iopub.execute_input": "2023-03-14T23:50:10.729373Z",
     "iopub.status.busy": "2023-03-14T23:50:10.728869Z",
     "iopub.status.idle": "2023-03-14T23:50:11.189578Z",
     "shell.execute_reply": "2023-03-14T23:50:11.188462Z",
     "shell.execute_reply.started": "2023-03-14T23:50:10.729322Z"
    }
   },
   "outputs": [],
   "source": [
    "DATA_PATH = '../data/'\n",
    "\n",
    "tourney_results = pd.concat([\n",
    "    pd.read_csv(DATA_PATH + \"MNCAATourneyDetailedResults.csv\"),\n",
    "    pd.read_csv(DATA_PATH + \"WNCAATourneyDetailedResults.csv\"),\n",
    "], ignore_index=True)\n",
    "\n",
    "tourney_results = tourney_results[tourney_results.Season != 2023]\n",
    "\n",
    "seeds = pd.concat([\n",
    "    pd.read_csv(DATA_PATH + \"MNCAATourneySeeds.csv\"),\n",
    "    pd.read_csv(DATA_PATH + \"WNCAATourneySeeds.csv\"),\n",
    "], ignore_index=True)\n",
    "\n",
    "regular_results = pd.concat([\n",
    "    pd.read_csv(DATA_PATH + \"MRegularSeasonDetailedResults.csv\"),\n",
    "    pd.read_csv(DATA_PATH + \"WRegularSeasonDetailedResults.csv\"),\n",
    "], ignore_index=True)\n",
    "\n",
    "\n",
    "def prepare_data(df):\n",
    "    dfswap = df[['Season', 'DayNum', 'LTeamID', 'LScore', 'WTeamID', 'WScore', 'WLoc', 'NumOT', \n",
    "    'LFGM', 'LFGA', 'LFGM3', 'LFGA3', 'LFTM', 'LFTA', 'LOR', 'LDR', 'LAst', 'LTO', 'LStl', 'LBlk', 'LPF', \n",
    "    'WFGM', 'WFGA', 'WFGM3', 'WFGA3', 'WFTM', 'WFTA', 'WOR', 'WDR', 'WAst', 'WTO', 'WStl', 'WBlk', 'WPF']]\n",
    "\n",
    "    dfswap.loc[df['WLoc'] == 'H', 'WLoc'] = 'A'\n",
    "    dfswap.loc[df['WLoc'] == 'A', 'WLoc'] = 'H'\n",
    "    df.columns.values[6] = 'location'\n",
    "    dfswap.columns.values[6] = 'location'    \n",
    "      \n",
    "    df.columns = [x.replace('W','T1_').replace('L','T2_') for x in list(df.columns)]\n",
    "    dfswap.columns = [x.replace('L','T1_').replace('W','T2_') for x in list(dfswap.columns)]\n",
    "\n",
    "    output = pd.concat([df, dfswap]).reset_index(drop=True)\n",
    "    output.loc[output.location=='N','location'] = '0'\n",
    "    output.loc[output.location=='H','location'] = '1'\n",
    "    output.loc[output.location=='A','location'] = '-1'\n",
    "    output.location = output.location.astype(int)\n",
    "    \n",
    "    output['PointDiff'] = output['T1_Score'] - output['T2_Score']\n",
    "    \n",
    "    return output\n"
   ]
  },
  {
   "cell_type": "code",
   "execution_count": 229,
   "metadata": {
    "_uuid": "6a7bf779e16fe27aa89633ff78f89d452794aa84",
    "execution": {
     "iopub.execute_input": "2023-03-14T23:50:11.191620Z",
     "iopub.status.busy": "2023-03-14T23:50:11.191292Z",
     "iopub.status.idle": "2023-03-14T23:50:11.880609Z",
     "shell.execute_reply": "2023-03-14T23:50:11.880014Z",
     "shell.execute_reply.started": "2023-03-14T23:50:11.191559Z"
    }
   },
   "outputs": [],
   "source": [
    "regular_data = prepare_data(regular_results)\n",
    "tourney_data = prepare_data(tourney_results)"
   ]
  },
  {
   "cell_type": "markdown",
   "metadata": {
    "_uuid": "6dbbc08907e17be459f936ed59e6f50a6dade35c"
   },
   "source": [
    "# Feature engineering!"
   ]
  },
  {
   "cell_type": "code",
   "execution_count": 230,
   "metadata": {
    "_uuid": "ca9f902b70fce0de0db21be2e9f047b233e4d65c",
    "execution": {
     "iopub.execute_input": "2023-03-14T23:50:11.970206Z",
     "iopub.status.busy": "2023-03-14T23:50:11.969968Z",
     "iopub.status.idle": "2023-03-14T23:50:11.980894Z",
     "shell.execute_reply": "2023-03-14T23:50:11.979383Z",
     "shell.execute_reply.started": "2023-03-14T23:50:11.970159Z"
    }
   },
   "outputs": [],
   "source": [
    "boxscore_cols = ['T1_Score', 'T2_Score', \n",
    "        'T1_FGM', 'T1_FGA', 'T1_FGM3', 'T1_FGA3', 'T1_FTM', 'T1_FTA', 'T1_OR', 'T1_DR', 'T1_Ast', 'T1_TO', 'T1_Stl', 'T1_Blk', 'T1_PF', \n",
    "        'T2_FGM', 'T2_FGA', 'T2_FGM3', 'T2_FGA3', 'T2_FTM', 'T2_FTA', 'T2_OR', 'T2_DR', 'T2_Ast', 'T2_TO', 'T2_Stl', 'T2_Blk', 'T2_PF', \n",
    "        'PointDiff']\n",
    "\n",
    "boxscore_cols = [\n",
    "        'T1_FGM', 'T1_FGA', 'T1_FGM3', 'T1_FGA3', 'T1_OR', 'T1_Ast', 'T1_TO', 'T1_Stl', 'T1_PF', \n",
    "        'T2_FGM', 'T2_FGA', 'T2_FGM3', 'T2_FGA3', 'T2_OR', 'T2_Ast', 'T2_TO', 'T2_Stl', 'T2_Blk',  \n",
    "        'PointDiff']\n",
    "\n",
    "funcs = [np.mean]"
   ]
  },
  {
   "cell_type": "code",
   "execution_count": 231,
   "metadata": {
    "_uuid": "f9a9e13c103cda1cb629cb6a1e5812be3cbc58ba",
    "execution": {
     "iopub.execute_input": "2023-03-14T23:50:12.284911Z",
     "iopub.status.busy": "2023-03-14T23:50:12.284532Z",
     "iopub.status.idle": "2023-03-14T23:50:12.496212Z",
     "shell.execute_reply": "2023-03-14T23:50:12.495429Z",
     "shell.execute_reply.started": "2023-03-14T23:50:12.284869Z"
    }
   },
   "outputs": [],
   "source": [
    "season_statistics = regular_data.groupby([\"Season\", 'T1_TeamID'])[boxscore_cols].agg(funcs).reset_index()\n",
    "season_statistics.columns = [''.join(col).strip() for col in season_statistics.columns.values]"
   ]
  },
  {
   "cell_type": "code",
   "execution_count": 232,
   "metadata": {
    "_uuid": "bac629b77123932c43842a10dbbe1ac6e6d5871b",
    "execution": {
     "iopub.execute_input": "2023-03-14T23:50:12.523681Z",
     "iopub.status.busy": "2023-03-14T23:50:12.523324Z",
     "iopub.status.idle": "2023-03-14T23:50:12.531218Z",
     "shell.execute_reply": "2023-03-14T23:50:12.529847Z",
     "shell.execute_reply.started": "2023-03-14T23:50:12.523614Z"
    }
   },
   "outputs": [],
   "source": [
    "season_statistics_T1 = season_statistics.copy()\n",
    "season_statistics_T2 = season_statistics.copy()\n",
    "\n",
    "season_statistics_T1.columns = [\"T1_\" + x.replace(\"T1_\",\"\").replace(\"T2_\",\"opponent_\") for x in list(season_statistics_T1.columns)]\n",
    "season_statistics_T2.columns = [\"T2_\" + x.replace(\"T1_\",\"\").replace(\"T2_\",\"opponent_\") for x in list(season_statistics_T2.columns)]\n",
    "season_statistics_T1.columns.values[0] = \"Season\"\n",
    "season_statistics_T2.columns.values[0] = \"Season\""
   ]
  },
  {
   "cell_type": "code",
   "execution_count": 233,
   "metadata": {
    "_uuid": "632f6a9c61b60ed1ea391aa784589356a228c429",
    "execution": {
     "iopub.execute_input": "2023-03-14T23:50:12.614322Z",
     "iopub.status.busy": "2023-03-14T23:50:12.614098Z",
     "iopub.status.idle": "2023-03-14T23:50:12.626991Z",
     "shell.execute_reply": "2023-03-14T23:50:12.626259Z",
     "shell.execute_reply.started": "2023-03-14T23:50:12.614271Z"
    }
   },
   "outputs": [],
   "source": [
    "tourney_data = tourney_data[['Season', 'DayNum', 'T1_TeamID', 'T1_Score', 'T2_TeamID' ,'T2_Score']]"
   ]
  },
  {
   "cell_type": "code",
   "execution_count": 234,
   "metadata": {
    "_uuid": "b695d847f457c01b16ca4649d5219fb326ee180e",
    "execution": {
     "iopub.execute_input": "2023-03-14T23:50:12.628255Z",
     "iopub.status.busy": "2023-03-14T23:50:12.628026Z",
     "iopub.status.idle": "2023-03-14T23:50:12.652413Z",
     "shell.execute_reply": "2023-03-14T23:50:12.651444Z",
     "shell.execute_reply.started": "2023-03-14T23:50:12.628209Z"
    }
   },
   "outputs": [],
   "source": [
    "tourney_data = pd.merge(tourney_data, season_statistics_T1, on = ['Season', 'T1_TeamID'], how = 'left')\n",
    "tourney_data = pd.merge(tourney_data, season_statistics_T2, on = ['Season', 'T2_TeamID'], how = 'left')"
   ]
  },
  {
   "cell_type": "code",
   "execution_count": 235,
   "metadata": {
    "_uuid": "bbe5b07505a16c7fa38e486c11089dd68122ae56",
    "execution": {
     "iopub.execute_input": "2023-03-14T23:50:12.693564Z",
     "iopub.status.busy": "2023-03-14T23:50:12.693240Z",
     "iopub.status.idle": "2023-03-14T23:50:12.730248Z",
     "shell.execute_reply": "2023-03-14T23:50:12.728831Z",
     "shell.execute_reply.started": "2023-03-14T23:50:12.693507Z"
    }
   },
   "outputs": [],
   "source": [
    "last14days_stats_T1 = regular_data.loc[regular_data.DayNum>118].reset_index(drop=True)\n",
    "last14days_stats_T1['win'] = np.where(last14days_stats_T1['PointDiff']>0,1,0)\n",
    "last14days_stats_T1 = last14days_stats_T1.groupby(['Season','T1_TeamID'])['win'].mean().reset_index(name='T1_win_ratio_14d')\n",
    "\n",
    "last14days_stats_T2 = regular_data.loc[regular_data.DayNum>118].reset_index(drop=True)\n",
    "last14days_stats_T2['win'] = np.where(last14days_stats_T2['PointDiff']<0,1,0)\n",
    "last14days_stats_T2 = last14days_stats_T2.groupby(['Season','T2_TeamID'])['win'].mean().reset_index(name='T2_win_ratio_14d')"
   ]
  },
  {
   "cell_type": "code",
   "execution_count": 236,
   "metadata": {
    "_uuid": "45043a5cdadb497bd284956908a8d6e7053d7f71",
    "execution": {
     "iopub.execute_input": "2023-03-14T23:50:12.732105Z",
     "iopub.status.busy": "2023-03-14T23:50:12.731485Z",
     "iopub.status.idle": "2023-03-14T23:50:12.748275Z",
     "shell.execute_reply": "2023-03-14T23:50:12.747071Z",
     "shell.execute_reply.started": "2023-03-14T23:50:12.732003Z"
    }
   },
   "outputs": [],
   "source": [
    "tourney_data = pd.merge(tourney_data, last14days_stats_T1, on = ['Season', 'T1_TeamID'], how = 'left')\n",
    "tourney_data = pd.merge(tourney_data, last14days_stats_T2, on = ['Season', 'T2_TeamID'], how = 'left')\n"
   ]
  },
  {
   "cell_type": "code",
   "execution_count": 237,
   "metadata": {
    "_uuid": "0119bb397cea0028aeb4247034ef6096e738becf",
    "execution": {
     "iopub.execute_input": "2023-03-14T23:50:12.750237Z",
     "iopub.status.busy": "2023-03-14T23:50:12.749855Z",
     "iopub.status.idle": "2023-03-14T23:50:13.818472Z",
     "shell.execute_reply": "2023-03-14T23:50:13.817734Z",
     "shell.execute_reply.started": "2023-03-14T23:50:12.750121Z"
    }
   },
   "outputs": [],
   "source": [
    "regular_season_effects = regular_data[['Season','T1_TeamID','T2_TeamID','PointDiff']].copy()\n",
    "regular_season_effects['T1_TeamID'] = regular_season_effects['T1_TeamID'].astype(str)\n",
    "regular_season_effects['T2_TeamID'] = regular_season_effects['T2_TeamID'].astype(str)\n",
    "regular_season_effects['win'] = np.where(regular_season_effects['PointDiff']>0,1,0)\n",
    "march_madness = pd.merge(seeds[['Season','TeamID']],seeds[['Season','TeamID']],on='Season')\n",
    "march_madness.columns = ['Season', 'T1_TeamID', 'T2_TeamID']\n",
    "march_madness.T1_TeamID = march_madness.T1_TeamID.astype(str)\n",
    "march_madness.T2_TeamID = march_madness.T2_TeamID.astype(str)\n",
    "regular_season_effects = pd.merge(regular_season_effects, march_madness, on = ['Season','T1_TeamID','T2_TeamID'])"
   ]
  },
  {
   "cell_type": "code",
   "execution_count": 238,
   "metadata": {
    "_uuid": "4d9b04a51db542edb705c94ed145d90af2ad2f15",
    "execution": {
     "iopub.execute_input": "2023-03-14T23:50:13.833818Z",
     "iopub.status.busy": "2023-03-14T23:50:13.833547Z",
     "iopub.status.idle": "2023-03-14T23:50:13.839517Z",
     "shell.execute_reply": "2023-03-14T23:50:13.838540Z",
     "shell.execute_reply.started": "2023-03-14T23:50:13.833769Z"
    }
   },
   "outputs": [],
   "source": [
    "def team_quality(season):\n",
    "    formula = 'win~-1+T1_TeamID+T2_TeamID'\n",
    "    glm = sm.GLM.from_formula(formula=formula, \n",
    "                              data=regular_season_effects.loc[regular_season_effects.Season==season,:], \n",
    "                              family=sm.families.Binomial()).fit()\n",
    "    \n",
    "    quality = pd.DataFrame(glm.params).reset_index()\n",
    "    quality.columns = ['TeamID','quality']\n",
    "    quality['Season'] = season\n",
    "    #quality['quality'] = np.exp(quality['quality'])\n",
    "    quality = quality.loc[quality.TeamID.str.contains('T1_')].reset_index(drop=True)\n",
    "    quality['TeamID'] = quality['TeamID'].apply(lambda x: x[10:14]).astype(int)\n",
    "    return quality"
   ]
  },
  {
   "cell_type": "code",
   "execution_count": 239,
   "metadata": {
    "execution": {
     "iopub.execute_input": "2023-03-14T23:50:13.841102Z",
     "iopub.status.busy": "2023-03-14T23:50:13.840674Z",
     "iopub.status.idle": "2023-03-14T23:50:16.627633Z",
     "shell.execute_reply": "2023-03-14T23:50:16.627058Z",
     "shell.execute_reply.started": "2023-03-14T23:50:13.840911Z"
    }
   },
   "outputs": [
    {
     "name": "stderr",
     "output_type": "stream",
     "text": [
      "/Users/skylerdale/.virtualenvs/ncaa_model/lib/python3.8/site-packages/statsmodels/genmod/families/links.py:198: RuntimeWarning: overflow encountered in exp\n",
      "  t = np.exp(-z)\n"
     ]
    }
   ],
   "source": [
    "formula = 'win~-1+T1_TeamID+T2_TeamID'\n",
    "glm = sm.GLM.from_formula(formula=formula, \n",
    "                          data=regular_season_effects.loc[regular_season_effects.Season==2010,:], \n",
    "                          family=sm.families.Binomial()).fit()\n",
    "\n",
    "quality = pd.DataFrame(glm.params).reset_index()"
   ]
  },
  {
   "cell_type": "code",
   "execution_count": 240,
   "metadata": {
    "_uuid": "d805268806a47d1af7d4d614809e883819847df9",
    "execution": {
     "iopub.execute_input": "2023-03-14T23:50:16.645554Z",
     "iopub.status.busy": "2023-03-14T23:50:16.645125Z",
     "iopub.status.idle": "2023-03-14T23:50:52.332118Z",
     "shell.execute_reply": "2023-03-14T23:50:52.331348Z",
     "shell.execute_reply.started": "2023-03-14T23:50:16.645514Z"
    }
   },
   "outputs": [],
   "source": [
    "glm_quality = pd.concat([team_quality(2010),\n",
    "                         team_quality(2011),\n",
    "                         team_quality(2012),\n",
    "                         team_quality(2013),\n",
    "                         team_quality(2014),\n",
    "                         team_quality(2015),\n",
    "                         team_quality(2016),\n",
    "                         team_quality(2017),\n",
    "                         team_quality(2018),\n",
    "                         team_quality(2019),\n",
    "                         ##team_quality(2020),\n",
    "                         team_quality(2021),\n",
    "                         team_quality(2022),\n",
    "                         team_quality(2023)\n",
    "                         ]).reset_index(drop=True)"
   ]
  },
  {
   "cell_type": "code",
   "execution_count": 241,
   "metadata": {
    "_uuid": "b67f4e36dd77a6d7b781f33572e19c2a90e8f184",
    "execution": {
     "iopub.execute_input": "2023-03-14T23:50:52.347156Z",
     "iopub.status.busy": "2023-03-14T23:50:52.346759Z",
     "iopub.status.idle": "2023-03-14T23:50:52.354184Z",
     "shell.execute_reply": "2023-03-14T23:50:52.353601Z",
     "shell.execute_reply.started": "2023-03-14T23:50:52.347115Z"
    }
   },
   "outputs": [],
   "source": [
    "glm_quality_T1 = glm_quality.copy()\n",
    "glm_quality_T2 = glm_quality.copy()\n",
    "glm_quality_T1.columns = ['T1_TeamID','T1_quality','Season']\n",
    "glm_quality_T2.columns = ['T2_TeamID','T2_quality','Season']"
   ]
  },
  {
   "cell_type": "code",
   "execution_count": 242,
   "metadata": {
    "_uuid": "1b667442750b3fd5dd24c41d75e3bb7a0ed28f8a",
    "execution": {
     "iopub.execute_input": "2023-03-14T23:50:52.373543Z",
     "iopub.status.busy": "2023-03-14T23:50:52.373305Z",
     "iopub.status.idle": "2023-03-14T23:50:52.394301Z",
     "shell.execute_reply": "2023-03-14T23:50:52.393489Z",
     "shell.execute_reply.started": "2023-03-14T23:50:52.373498Z"
    }
   },
   "outputs": [],
   "source": [
    "tourney_data = pd.merge(tourney_data, glm_quality_T1, on = ['Season', 'T1_TeamID'], how = 'left')\n",
    "tourney_data = pd.merge(tourney_data, glm_quality_T2, on = ['Season', 'T2_TeamID'], how = 'left')"
   ]
  },
  {
   "cell_type": "code",
   "execution_count": 243,
   "metadata": {
    "_uuid": "f2ce28123dfc563a8b1fb58f98401c927e2eb7c2",
    "execution": {
     "iopub.execute_input": "2023-03-14T23:50:52.469520Z",
     "iopub.status.busy": "2023-03-14T23:50:52.469177Z",
     "iopub.status.idle": "2023-03-14T23:50:52.493328Z",
     "shell.execute_reply": "2023-03-14T23:50:52.491855Z",
     "shell.execute_reply.started": "2023-03-14T23:50:52.469445Z"
    }
   },
   "outputs": [],
   "source": [
    "seeds['seed'] = seeds['Seed'].apply(lambda x: int(x[1:3]))"
   ]
  },
  {
   "cell_type": "code",
   "execution_count": 244,
   "metadata": {
    "_uuid": "e2d6a4e33b062401088f472b698cc9cabff3a612",
    "execution": {
     "iopub.execute_input": "2023-03-14T23:50:52.495820Z",
     "iopub.status.busy": "2023-03-14T23:50:52.495089Z",
     "iopub.status.idle": "2023-03-14T23:50:52.507334Z",
     "shell.execute_reply": "2023-03-14T23:50:52.506692Z",
     "shell.execute_reply.started": "2023-03-14T23:50:52.495717Z"
    }
   },
   "outputs": [],
   "source": [
    "seeds_T1 = seeds[['Season','TeamID','seed']].copy()\n",
    "seeds_T2 = seeds[['Season','TeamID','seed']].copy()\n",
    "seeds_T1.columns = ['Season','T1_TeamID','T1_seed']\n",
    "seeds_T2.columns = ['Season','T2_TeamID','T2_seed']"
   ]
  },
  {
   "cell_type": "code",
   "execution_count": 245,
   "metadata": {
    "_uuid": "3ce355578d9881346602388e2df329cafd1f24e7",
    "execution": {
     "iopub.execute_input": "2023-03-14T23:50:52.509295Z",
     "iopub.status.busy": "2023-03-14T23:50:52.508847Z",
     "iopub.status.idle": "2023-03-14T23:50:52.529318Z",
     "shell.execute_reply": "2023-03-14T23:50:52.528286Z",
     "shell.execute_reply.started": "2023-03-14T23:50:52.509246Z"
    }
   },
   "outputs": [],
   "source": [
    "tourney_data = pd.merge(tourney_data, seeds_T1, on = ['Season', 'T1_TeamID'], how = 'left')\n",
    "tourney_data = pd.merge(tourney_data, seeds_T2, on = ['Season', 'T2_TeamID'], how = 'left')"
   ]
  },
  {
   "cell_type": "code",
   "execution_count": 246,
   "metadata": {
    "_uuid": "b4785045b4d0619a80a71e7bc66831341a187b7b",
    "execution": {
     "iopub.execute_input": "2023-03-14T23:50:52.530855Z",
     "iopub.status.busy": "2023-03-14T23:50:52.530547Z",
     "iopub.status.idle": "2023-03-14T23:50:52.536108Z",
     "shell.execute_reply": "2023-03-14T23:50:52.535307Z",
     "shell.execute_reply.started": "2023-03-14T23:50:52.530794Z"
    }
   },
   "outputs": [],
   "source": [
    "tourney_data[\"Seed_diff\"] = tourney_data[\"T1_seed\"] - tourney_data[\"T2_seed\"]"
   ]
  },
  {
   "cell_type": "markdown",
   "metadata": {
    "_uuid": "c2ba59b62b09fc5b5514a2cca4ca5408e9a2b71a"
   },
   "source": [
    "# Time to build some models!"
   ]
  },
  {
   "cell_type": "code",
   "execution_count": 247,
   "metadata": {
    "_uuid": "9981fb89482e120adc3c014b1607c160383081f8",
    "execution": {
     "iopub.execute_input": "2023-03-14T23:50:52.537496Z",
     "iopub.status.busy": "2023-03-14T23:50:52.537160Z",
     "iopub.status.idle": "2023-03-14T23:50:52.554692Z",
     "shell.execute_reply": "2023-03-14T23:50:52.554028Z",
     "shell.execute_reply.started": "2023-03-14T23:50:52.537451Z"
    }
   },
   "outputs": [],
   "source": [
    "y = tourney_data['T1_Score'] - tourney_data['T2_Score']"
   ]
  },
  {
   "cell_type": "code",
   "execution_count": 248,
   "metadata": {
    "_uuid": "5c39d0b7d4cb59068bdb90065181390ca86f095d",
    "execution": {
     "iopub.execute_input": "2023-03-14T23:50:52.555767Z",
     "iopub.status.busy": "2023-03-14T23:50:52.555443Z",
     "iopub.status.idle": "2023-03-14T23:50:52.564294Z",
     "shell.execute_reply": "2023-03-14T23:50:52.563563Z",
     "shell.execute_reply.started": "2023-03-14T23:50:52.555734Z"
    }
   },
   "outputs": [],
   "source": [
    "features = list(season_statistics_T1.columns[2:999]) + \\\n",
    "    list(season_statistics_T2.columns[2:999]) + \\\n",
    "    list(seeds_T1.columns[2:999]) + \\\n",
    "    list(seeds_T2.columns[2:999]) + \\\n",
    "    list(last14days_stats_T1.columns[2:999]) + \\\n",
    "    list(last14days_stats_T2.columns[2:999]) + \\\n",
    "    [\"Seed_diff\"] + [\"T1_quality\",\"T2_quality\"]\n"
   ]
  },
  {
   "cell_type": "code",
   "execution_count": 249,
   "metadata": {
    "_uuid": "a0632be8ffefd40903c86e266a3848ef39d3571a",
    "execution": {
     "iopub.execute_input": "2023-03-14T23:50:52.565802Z",
     "iopub.status.busy": "2023-03-14T23:50:52.565371Z",
     "iopub.status.idle": "2023-03-14T23:50:52.587035Z",
     "shell.execute_reply": "2023-03-14T23:50:52.586175Z",
     "shell.execute_reply.started": "2023-03-14T23:50:52.565741Z"
    }
   },
   "outputs": [],
   "source": [
    "X = tourney_data[features].values\n",
    "dtrain = xgb.DMatrix(X, label = y)"
   ]
  },
  {
   "cell_type": "code",
   "execution_count": 250,
   "metadata": {
    "_uuid": "1816ebbcb0c348919e7ceeb0fd6509e8601ad567",
    "execution": {
     "iopub.execute_input": "2023-03-14T23:50:52.589769Z",
     "iopub.status.busy": "2023-03-14T23:50:52.588900Z",
     "iopub.status.idle": "2023-03-14T23:50:52.595931Z",
     "shell.execute_reply": "2023-03-14T23:50:52.594859Z",
     "shell.execute_reply.started": "2023-03-14T23:50:52.589682Z"
    }
   },
   "outputs": [],
   "source": [
    "def cauchyobj(preds, dtrain):\n",
    "    labels = dtrain.get_label()\n",
    "    c = 5000 \n",
    "    x =  preds-labels    \n",
    "    grad = x / (x**2/c**2+1)\n",
    "    hess = -c**2*(x**2-c**2)/(x**2+c**2)**2\n",
    "    return grad, hess"
   ]
  },
  {
   "cell_type": "code",
   "execution_count": 251,
   "metadata": {
    "_uuid": "7b726f9fa289643e02c5b4eb837443d83f00a831",
    "execution": {
     "iopub.execute_input": "2023-03-14T23:50:52.597264Z",
     "iopub.status.busy": "2023-03-14T23:50:52.596993Z",
     "iopub.status.idle": "2023-03-14T23:50:52.607109Z",
     "shell.execute_reply": "2023-03-14T23:50:52.606570Z",
     "shell.execute_reply.started": "2023-03-14T23:50:52.597215Z"
    },
    "scrolled": true
   },
   "outputs": [],
   "source": [
    "param = {} \n",
    "#param['objective'] = 'reg:linear'\n",
    "param['eval_metric'] =  'mae'\n",
    "param['booster'] = 'gbtree'\n",
    "param['eta'] = 0.05 #change to ~0.02 for final run\n",
    "param['subsample'] = 0.35\n",
    "param['colsample_bytree'] = 0.7\n",
    "param['num_parallel_tree'] = 3 #recommend 10\n",
    "param['min_child_weight'] = 40\n",
    "param['gamma'] = 10\n",
    "param['max_depth'] =  3\n",
    "param['silent'] = 1\n"
   ]
  },
  {
   "cell_type": "code",
   "execution_count": 252,
   "metadata": {
    "_uuid": "ac7c1d166298eeb3c06d884ecb7874a5ef618d27",
    "execution": {
     "iopub.execute_input": "2023-03-14T23:50:52.608441Z",
     "iopub.status.busy": "2023-03-14T23:50:52.608067Z",
     "iopub.status.idle": "2023-03-14T23:51:18.914068Z",
     "shell.execute_reply": "2023-03-14T23:51:18.913336Z",
     "shell.execute_reply.started": "2023-03-14T23:50:52.608398Z"
    }
   },
   "outputs": [
    {
     "name": "stdout",
     "output_type": "stream",
     "text": [
      "Fold repeater 0\n",
      "[22:52:33] WARNING: /Users/runner/work/xgboost/xgboost/src/learner.cc:576: \n",
      "Parameters: { \"silent\" } might not be used.\n",
      "\n",
      "  This could be a false alarm, with some parameters getting used by language bindings but\n",
      "  then being mistakenly passed down to XGBoost core, or some parameter actually being used\n",
      "  but getting flagged wrongly here. Please open an issue if you find any such cases.\n",
      "\n",
      "\n",
      "[22:52:33] WARNING: /Users/runner/work/xgboost/xgboost/src/learner.cc:576: \n",
      "Parameters: { \"silent\" } might not be used.\n",
      "\n",
      "  This could be a false alarm, with some parameters getting used by language bindings but\n",
      "  then being mistakenly passed down to XGBoost core, or some parameter actually being used\n",
      "  but getting flagged wrongly here. Please open an issue if you find any such cases.\n",
      "\n",
      "\n",
      "[22:52:33] WARNING: /Users/runner/work/xgboost/xgboost/src/learner.cc:576: \n",
      "Parameters: { \"silent\" } might not be used.\n",
      "\n",
      "  This could be a false alarm, with some parameters getting used by language bindings but\n",
      "  then being mistakenly passed down to XGBoost core, or some parameter actually being used\n",
      "  but getting flagged wrongly here. Please open an issue if you find any such cases.\n",
      "\n",
      "\n",
      "[22:52:33] WARNING: /Users/runner/work/xgboost/xgboost/src/learner.cc:576: \n",
      "Parameters: { \"silent\" } might not be used.\n",
      "\n",
      "  This could be a false alarm, with some parameters getting used by language bindings but\n",
      "  then being mistakenly passed down to XGBoost core, or some parameter actually being used\n",
      "  but getting flagged wrongly here. Please open an issue if you find any such cases.\n",
      "\n",
      "\n",
      "[22:52:33] WARNING: /Users/runner/work/xgboost/xgboost/src/learner.cc:576: \n",
      "Parameters: { \"silent\" } might not be used.\n",
      "\n",
      "  This could be a false alarm, with some parameters getting used by language bindings but\n",
      "  then being mistakenly passed down to XGBoost core, or some parameter actually being used\n",
      "  but getting flagged wrongly here. Please open an issue if you find any such cases.\n",
      "\n",
      "\n",
      "[0]\ttrain-mae:13.33610+0.06289\ttest-mae:13.33641+0.27083\n"
     ]
    },
    {
     "name": "stdout",
     "output_type": "stream",
     "text": [
      "[50]\ttrain-mae:9.43992+0.04356\ttest-mae:9.74344+0.21512\n",
      "[100]\ttrain-mae:9.02980+0.05415\ttest-mae:9.57743+0.19848\n",
      "[150]\ttrain-mae:8.76817+0.04977\ttest-mae:9.54433+0.18632\n",
      "[200]\ttrain-mae:8.55166+0.04612\ttest-mae:9.53665+0.17546\n",
      "[206]\ttrain-mae:8.52762+0.04676\ttest-mae:9.53581+0.17459\n",
      "Fold repeater 1\n",
      "[22:52:43] WARNING: /Users/runner/work/xgboost/xgboost/src/learner.cc:576: \n",
      "Parameters: { \"silent\" } might not be used.\n",
      "\n",
      "  This could be a false alarm, with some parameters getting used by language bindings but\n",
      "  then being mistakenly passed down to XGBoost core, or some parameter actually being used\n",
      "  but getting flagged wrongly here. Please open an issue if you find any such cases.\n",
      "\n",
      "\n",
      "[22:52:43] WARNING: /Users/runner/work/xgboost/xgboost/src/learner.cc:576: \n",
      "Parameters: { \"silent\" } might not be used.\n",
      "\n",
      "  This could be a false alarm, with some parameters getting used by language bindings but\n",
      "  then being mistakenly passed down to XGBoost core, or some parameter actually being used\n",
      "  but getting flagged wrongly here. Please open an issue if you find any such cases.\n",
      "\n",
      "\n",
      "[22:52:43] WARNING: /Users/runner/work/xgboost/xgboost/src/learner.cc:576: \n",
      "Parameters: { \"silent\" } might not be used.\n",
      "\n",
      "  This could be a false alarm, with some parameters getting used by language bindings but\n",
      "  then being mistakenly passed down to XGBoost core, or some parameter actually being used\n",
      "  but getting flagged wrongly here. Please open an issue if you find any such cases.\n",
      "\n",
      "\n",
      "[22:52:43] WARNING: /Users/runner/work/xgboost/xgboost/src/learner.cc:576: \n",
      "Parameters: { \"silent\" } might not be used.\n",
      "\n",
      "  This could be a false alarm, with some parameters getting used by language bindings but\n",
      "  then being mistakenly passed down to XGBoost core, or some parameter actually being used\n",
      "  but getting flagged wrongly here. Please open an issue if you find any such cases.\n",
      "\n",
      "\n",
      "[22:52:43] WARNING: /Users/runner/work/xgboost/xgboost/src/learner.cc:576: \n",
      "Parameters: { \"silent\" } might not be used.\n",
      "\n",
      "  This could be a false alarm, with some parameters getting used by language bindings but\n",
      "  then being mistakenly passed down to XGBoost core, or some parameter actually being used\n",
      "  but getting flagged wrongly here. Please open an issue if you find any such cases.\n",
      "\n",
      "\n",
      "[0]\ttrain-mae:13.32760+0.01801\ttest-mae:13.33834+0.07639\n",
      "[50]\ttrain-mae:9.45641+0.05501\ttest-mae:9.73023+0.21163\n",
      "[100]\ttrain-mae:9.03294+0.04439\ttest-mae:9.56252+0.20523\n",
      "[150]\ttrain-mae:8.77959+0.04474\ttest-mae:9.53281+0.19265\n",
      "[173]\ttrain-mae:8.67550+0.04466\ttest-mae:9.53152+0.18683\n",
      "Fold repeater 2\n",
      "[22:52:51] WARNING: /Users/runner/work/xgboost/xgboost/src/learner.cc:576: \n",
      "Parameters: { \"silent\" } might not be used.\n",
      "\n",
      "  This could be a false alarm, with some parameters getting used by language bindings but\n",
      "  then being mistakenly passed down to XGBoost core, or some parameter actually being used\n",
      "  but getting flagged wrongly here. Please open an issue if you find any such cases.\n",
      "\n",
      "\n",
      "[22:52:51] WARNING: /Users/runner/work/xgboost/xgboost/src/learner.cc:576: \n",
      "Parameters: { \"silent\" } might not be used.\n",
      "\n",
      "  This could be a false alarm, with some parameters getting used by language bindings but\n",
      "  then being mistakenly passed down to XGBoost core, or some parameter actually being used\n",
      "  but getting flagged wrongly here. Please open an issue if you find any such cases.\n",
      "\n",
      "\n",
      "[22:52:51] WARNING: /Users/runner/work/xgboost/xgboost/src/learner.cc:576: \n",
      "Parameters: { \"silent\" } might not be used.\n",
      "\n",
      "  This could be a false alarm, with some parameters getting used by language bindings but\n",
      "  then being mistakenly passed down to XGBoost core, or some parameter actually being used\n",
      "  but getting flagged wrongly here. Please open an issue if you find any such cases.\n",
      "\n",
      "\n",
      "[22:52:51] WARNING: /Users/runner/work/xgboost/xgboost/src/learner.cc:576: \n",
      "Parameters: { \"silent\" } might not be used.\n",
      "\n",
      "  This could be a false alarm, with some parameters getting used by language bindings but\n",
      "  then being mistakenly passed down to XGBoost core, or some parameter actually being used\n",
      "  but getting flagged wrongly here. Please open an issue if you find any such cases.\n",
      "\n",
      "\n",
      "[22:52:51] WARNING: /Users/runner/work/xgboost/xgboost/src/learner.cc:576: \n",
      "Parameters: { \"silent\" } might not be used.\n",
      "\n",
      "  This could be a false alarm, with some parameters getting used by language bindings but\n",
      "  then being mistakenly passed down to XGBoost core, or some parameter actually being used\n",
      "  but getting flagged wrongly here. Please open an issue if you find any such cases.\n",
      "\n",
      "\n",
      "[0]\ttrain-mae:13.33223+0.09193\ttest-mae:13.34094+0.35500\n",
      "[50]\ttrain-mae:9.44754+0.04210\ttest-mae:9.72956+0.20243\n",
      "[100]\ttrain-mae:9.03976+0.03178\ttest-mae:9.56141+0.17521\n",
      "[150]\ttrain-mae:8.77898+0.02895\ttest-mae:9.54589+0.17425\n",
      "[173]\ttrain-mae:8.67578+0.02764\ttest-mae:9.54786+0.16888\n"
     ]
    }
   ],
   "source": [
    "xgb_cv = []\n",
    "repeat_cv = 3 # recommend 10\n",
    "\n",
    "for i in range(repeat_cv): \n",
    "    print(f\"Fold repeater {i}\")\n",
    "    xgb_cv.append(\n",
    "        xgb.cv(\n",
    "          params = param,\n",
    "          dtrain = dtrain,\n",
    "          obj = cauchyobj,\n",
    "          num_boost_round = 3000,\n",
    "          folds = KFold(n_splits = 5, shuffle = True, random_state = i),\n",
    "          early_stopping_rounds = 25,\n",
    "          verbose_eval = 50\n",
    "        )\n",
    "    )"
   ]
  },
  {
   "cell_type": "code",
   "execution_count": 253,
   "metadata": {
    "_uuid": "e76e9a3c2e209243950fcb0b0ec28cc1c729b40f",
    "execution": {
     "iopub.execute_input": "2023-03-14T23:51:18.916015Z",
     "iopub.status.busy": "2023-03-14T23:51:18.915446Z",
     "iopub.status.idle": "2023-03-14T23:51:18.924334Z",
     "shell.execute_reply": "2023-03-14T23:51:18.923787Z",
     "shell.execute_reply.started": "2023-03-14T23:51:18.915953Z"
    }
   },
   "outputs": [],
   "source": [
    "iteration_counts = [np.argmin(x['test-mae-mean'].values) for x in xgb_cv]\n",
    "val_mae = [np.min(x['test-mae-mean'].values) for x in xgb_cv]\n"
   ]
  },
  {
   "cell_type": "code",
   "execution_count": 254,
   "metadata": {
    "_uuid": "005e51b486d6853ede2091bf7dd36bfecc340542",
    "execution": {
     "iopub.execute_input": "2023-03-14T23:51:18.925729Z",
     "iopub.status.busy": "2023-03-14T23:51:18.925333Z",
     "iopub.status.idle": "2023-03-14T23:51:33.847664Z",
     "shell.execute_reply": "2023-03-14T23:51:33.847018Z",
     "shell.execute_reply.started": "2023-03-14T23:51:18.925680Z"
    }
   },
   "outputs": [
    {
     "name": "stdout",
     "output_type": "stream",
     "text": [
      "Fold repeater 0\n",
      "[22:52:59] WARNING: /Users/runner/work/xgboost/xgboost/src/learner.cc:576: \n",
      "Parameters: { \"silent\" } might not be used.\n",
      "\n",
      "  This could be a false alarm, with some parameters getting used by language bindings but\n",
      "  then being mistakenly passed down to XGBoost core, or some parameter actually being used\n",
      "  but getting flagged wrongly here. Please open an issue if you find any such cases.\n",
      "\n",
      "\n",
      "[22:53:01] WARNING: /Users/runner/work/xgboost/xgboost/src/learner.cc:576: \n",
      "Parameters: { \"silent\" } might not be used.\n",
      "\n",
      "  This could be a false alarm, with some parameters getting used by language bindings but\n",
      "  then being mistakenly passed down to XGBoost core, or some parameter actually being used\n",
      "  but getting flagged wrongly here. Please open an issue if you find any such cases.\n",
      "\n",
      "\n",
      "[22:53:02] WARNING: /Users/runner/work/xgboost/xgboost/src/learner.cc:576: \n",
      "Parameters: { \"silent\" } might not be used.\n",
      "\n",
      "  This could be a false alarm, with some parameters getting used by language bindings but\n",
      "  then being mistakenly passed down to XGBoost core, or some parameter actually being used\n",
      "  but getting flagged wrongly here. Please open an issue if you find any such cases.\n",
      "\n",
      "\n",
      "[22:53:03] WARNING: /Users/runner/work/xgboost/xgboost/src/learner.cc:576: \n",
      "Parameters: { \"silent\" } might not be used.\n",
      "\n",
      "  This could be a false alarm, with some parameters getting used by language bindings but\n",
      "  then being mistakenly passed down to XGBoost core, or some parameter actually being used\n",
      "  but getting flagged wrongly here. Please open an issue if you find any such cases.\n",
      "\n",
      "\n",
      "[22:53:05] WARNING: /Users/runner/work/xgboost/xgboost/src/learner.cc:576: \n",
      "Parameters: { \"silent\" } might not be used.\n",
      "\n",
      "  This could be a false alarm, with some parameters getting used by language bindings but\n",
      "  then being mistakenly passed down to XGBoost core, or some parameter actually being used\n",
      "  but getting flagged wrongly here. Please open an issue if you find any such cases.\n",
      "\n",
      "\n",
      "Fold repeater 1\n",
      "[22:53:06] WARNING: /Users/runner/work/xgboost/xgboost/src/learner.cc:576: \n",
      "Parameters: { \"silent\" } might not be used.\n",
      "\n",
      "  This could be a false alarm, with some parameters getting used by language bindings but\n",
      "  then being mistakenly passed down to XGBoost core, or some parameter actually being used\n",
      "  but getting flagged wrongly here. Please open an issue if you find any such cases.\n",
      "\n",
      "\n",
      "[22:53:07] WARNING: /Users/runner/work/xgboost/xgboost/src/learner.cc:576: \n",
      "Parameters: { \"silent\" } might not be used.\n",
      "\n",
      "  This could be a false alarm, with some parameters getting used by language bindings but\n",
      "  then being mistakenly passed down to XGBoost core, or some parameter actually being used\n",
      "  but getting flagged wrongly here. Please open an issue if you find any such cases.\n",
      "\n",
      "\n",
      "[22:53:08] WARNING: /Users/runner/work/xgboost/xgboost/src/learner.cc:576: \n",
      "Parameters: { \"silent\" } might not be used.\n",
      "\n",
      "  This could be a false alarm, with some parameters getting used by language bindings but\n",
      "  then being mistakenly passed down to XGBoost core, or some parameter actually being used\n",
      "  but getting flagged wrongly here. Please open an issue if you find any such cases.\n",
      "\n",
      "\n",
      "[22:53:09] WARNING: /Users/runner/work/xgboost/xgboost/src/learner.cc:576: \n",
      "Parameters: { \"silent\" } might not be used.\n",
      "\n",
      "  This could be a false alarm, with some parameters getting used by language bindings but\n",
      "  then being mistakenly passed down to XGBoost core, or some parameter actually being used\n",
      "  but getting flagged wrongly here. Please open an issue if you find any such cases.\n",
      "\n",
      "\n",
      "[22:53:10] WARNING: /Users/runner/work/xgboost/xgboost/src/learner.cc:576: \n",
      "Parameters: { \"silent\" } might not be used.\n",
      "\n",
      "  This could be a false alarm, with some parameters getting used by language bindings but\n",
      "  then being mistakenly passed down to XGBoost core, or some parameter actually being used\n",
      "  but getting flagged wrongly here. Please open an issue if you find any such cases.\n",
      "\n",
      "\n",
      "Fold repeater 2\n",
      "[22:53:11] WARNING: /Users/runner/work/xgboost/xgboost/src/learner.cc:576: \n",
      "Parameters: { \"silent\" } might not be used.\n",
      "\n",
      "  This could be a false alarm, with some parameters getting used by language bindings but\n",
      "  then being mistakenly passed down to XGBoost core, or some parameter actually being used\n",
      "  but getting flagged wrongly here. Please open an issue if you find any such cases.\n",
      "\n",
      "\n",
      "[22:53:12] WARNING: /Users/runner/work/xgboost/xgboost/src/learner.cc:576: \n",
      "Parameters: { \"silent\" } might not be used.\n",
      "\n",
      "  This could be a false alarm, with some parameters getting used by language bindings but\n",
      "  then being mistakenly passed down to XGBoost core, or some parameter actually being used\n",
      "  but getting flagged wrongly here. Please open an issue if you find any such cases.\n",
      "\n",
      "\n",
      "[22:53:13] WARNING: /Users/runner/work/xgboost/xgboost/src/learner.cc:576: \n",
      "Parameters: { \"silent\" } might not be used.\n",
      "\n",
      "  This could be a false alarm, with some parameters getting used by language bindings but\n",
      "  then being mistakenly passed down to XGBoost core, or some parameter actually being used\n",
      "  but getting flagged wrongly here. Please open an issue if you find any such cases.\n",
      "\n",
      "\n",
      "[22:53:14] WARNING: /Users/runner/work/xgboost/xgboost/src/learner.cc:576: \n",
      "Parameters: { \"silent\" } might not be used.\n",
      "\n",
      "  This could be a false alarm, with some parameters getting used by language bindings but\n",
      "  then being mistakenly passed down to XGBoost core, or some parameter actually being used\n",
      "  but getting flagged wrongly here. Please open an issue if you find any such cases.\n",
      "\n",
      "\n",
      "[22:53:15] WARNING: /Users/runner/work/xgboost/xgboost/src/learner.cc:576: \n",
      "Parameters: { \"silent\" } might not be used.\n",
      "\n",
      "  This could be a false alarm, with some parameters getting used by language bindings but\n",
      "  then being mistakenly passed down to XGBoost core, or some parameter actually being used\n",
      "  but getting flagged wrongly here. Please open an issue if you find any such cases.\n",
      "\n",
      "\n"
     ]
    }
   ],
   "source": [
    "oof_preds = []\n",
    "for i in range(repeat_cv):\n",
    "    print(f\"Fold repeater {i}\")\n",
    "    preds = y.copy()\n",
    "    kfold = KFold(n_splits = 5, shuffle = True, random_state = i)    \n",
    "    for train_index, val_index in kfold.split(X,y):\n",
    "        dtrain_i = xgb.DMatrix(X[train_index], label = y[train_index])\n",
    "        dval_i = xgb.DMatrix(X[val_index], label = y[val_index])  \n",
    "        model = xgb.train(\n",
    "              params = param,\n",
    "              dtrain = dtrain_i,\n",
    "              num_boost_round = iteration_counts[i],\n",
    "              verbose_eval = 50\n",
    "        )\n",
    "        preds[val_index] = model.predict(dval_i)\n",
    "    oof_preds.append(np.clip(preds,-30,30))"
   ]
  },
  {
   "cell_type": "code",
   "execution_count": 255,
   "metadata": {
    "_uuid": "afc43d2f93dac2fe257e670f952c02e74a0b0bdb",
    "execution": {
     "iopub.execute_input": "2023-03-14T23:51:34.529495Z",
     "iopub.status.busy": "2023-03-14T23:51:34.529091Z",
     "iopub.status.idle": "2023-03-14T23:51:34.618147Z",
     "shell.execute_reply": "2023-03-14T23:51:34.617114Z",
     "shell.execute_reply.started": "2023-03-14T23:51:34.529313Z"
    },
    "scrolled": true
   },
   "outputs": [
    {
     "name": "stdout",
     "output_type": "stream",
     "text": [
      "adjusted logloss of cvsplit 0: 0.4892183661235134\n",
      "adjusted logloss of cvsplit 1: 0.4892613882890757\n",
      "adjusted logloss of cvsplit 2: 0.48926817926594635\n"
     ]
    },
    {
     "data": {
      "text/plain": [
       "season\n",
       "2003    0.513870\n",
       "2004    0.482829\n",
       "2005    0.481372\n",
       "2006    0.548760\n",
       "2007    0.424442\n",
       "2008    0.454358\n",
       "2009    0.461222\n",
       "2010    0.471244\n",
       "2011    0.484367\n",
       "2012    0.484298\n",
       "2013    0.507387\n",
       "2014    0.485027\n",
       "2015    0.422613\n",
       "2016    0.537099\n",
       "2017    0.474632\n",
       "2018    0.531097\n",
       "2019    0.429599\n",
       "2021    0.530458\n",
       "2022    0.540012\n",
       "dtype: float64"
      ]
     },
     "execution_count": 255,
     "metadata": {},
     "output_type": "execute_result"
    }
   ],
   "source": [
    "val_cv = []\n",
    "spline_model = []\n",
    "\n",
    "for i in range(repeat_cv):\n",
    "    dat = list(zip(oof_preds[i],np.where(y>0,1,0)))\n",
    "    dat = sorted(dat, key = lambda x: x[0])\n",
    "    datdict = {}\n",
    "    for k in range(len(dat)):\n",
    "        datdict[dat[k][0]]= dat[k][1]\n",
    "    spline_model.append(UnivariateSpline(list(datdict.keys()), list(datdict.values())))\n",
    "    spline_fit = spline_model[i](oof_preds[i])\n",
    "    spline_fit = np.clip(spline_fit,0.025,0.975)\n",
    "    spline_fit[(tourney_data.T1_seed==1) & (tourney_data.T2_seed==16) & (tourney_data.T1_Score > tourney_data.T2_Score)] = 1.0\n",
    "    spline_fit[(tourney_data.T1_seed==2) & (tourney_data.T2_seed==15) & (tourney_data.T1_Score > tourney_data.T2_Score)] = 1.0\n",
    "    spline_fit[(tourney_data.T1_seed==3) & (tourney_data.T2_seed==14) & (tourney_data.T1_Score > tourney_data.T2_Score)] = 1.0\n",
    "    spline_fit[(tourney_data.T1_seed==4) & (tourney_data.T2_seed==13) & (tourney_data.T1_Score > tourney_data.T2_Score)] = 1.0\n",
    "    spline_fit[(tourney_data.T1_seed==16) & (tourney_data.T2_seed==1) & (tourney_data.T1_Score < tourney_data.T2_Score)] = 0.0\n",
    "    spline_fit[(tourney_data.T1_seed==15) & (tourney_data.T2_seed==2) & (tourney_data.T1_Score < tourney_data.T2_Score)] = 0.0\n",
    "    spline_fit[(tourney_data.T1_seed==14) & (tourney_data.T2_seed==3) & (tourney_data.T1_Score < tourney_data.T2_Score)] = 0.0\n",
    "    spline_fit[(tourney_data.T1_seed==13) & (tourney_data.T2_seed==4) & (tourney_data.T1_Score < tourney_data.T2_Score)] = 0.0\n",
    "    \n",
    "    val_cv.append(pd.DataFrame({\"y\":np.where(y>0,1,0), \"pred\":spline_fit, \"season\":tourney_data.Season}))\n",
    "    print(f\"adjusted logloss of cvsplit {i}: {log_loss(np.where(y>0,1,0),spline_fit)}\") \n",
    "    \n",
    "val_cv = pd.concat(val_cv)\n",
    "val_cv.groupby('season').apply(lambda x: log_loss(x.y, x.pred))"
   ]
  },
  {
   "cell_type": "markdown",
   "metadata": {
    "_uuid": "0c06e55e0ed14fd6c3c625e01aca69ae873d74c3"
   },
   "source": [
    "# Submission time!"
   ]
  },
  {
   "cell_type": "code",
   "execution_count": 256,
   "metadata": {
    "_uuid": "f2fb2bbe182ac6d6da98cd5c0086a3089988a62a",
    "execution": {
     "iopub.execute_input": "2023-03-14T23:51:34.619969Z",
     "iopub.status.busy": "2023-03-14T23:51:34.619602Z",
     "iopub.status.idle": "2023-03-14T23:51:35.020583Z",
     "shell.execute_reply": "2023-03-14T23:51:35.019994Z",
     "shell.execute_reply.started": "2023-03-14T23:51:34.619900Z"
    }
   },
   "outputs": [
    {
     "data": {
      "text/html": [
       "<div>\n",
       "<style scoped>\n",
       "    .dataframe tbody tr th:only-of-type {\n",
       "        vertical-align: middle;\n",
       "    }\n",
       "\n",
       "    .dataframe tbody tr th {\n",
       "        vertical-align: top;\n",
       "    }\n",
       "\n",
       "    .dataframe thead th {\n",
       "        text-align: right;\n",
       "    }\n",
       "</style>\n",
       "<table border=\"1\" class=\"dataframe\">\n",
       "  <thead>\n",
       "    <tr style=\"text-align: right;\">\n",
       "      <th></th>\n",
       "      <th>ID</th>\n",
       "      <th>Pred</th>\n",
       "      <th>Season</th>\n",
       "      <th>T1_TeamID</th>\n",
       "      <th>T2_TeamID</th>\n",
       "    </tr>\n",
       "  </thead>\n",
       "  <tbody>\n",
       "    <tr>\n",
       "      <th>0</th>\n",
       "      <td>2023_1101_1102</td>\n",
       "      <td>0.5</td>\n",
       "      <td>2023</td>\n",
       "      <td>1101</td>\n",
       "      <td>1102</td>\n",
       "    </tr>\n",
       "    <tr>\n",
       "      <th>1</th>\n",
       "      <td>2023_1101_1103</td>\n",
       "      <td>0.5</td>\n",
       "      <td>2023</td>\n",
       "      <td>1101</td>\n",
       "      <td>1103</td>\n",
       "    </tr>\n",
       "    <tr>\n",
       "      <th>2</th>\n",
       "      <td>2023_1101_1104</td>\n",
       "      <td>0.5</td>\n",
       "      <td>2023</td>\n",
       "      <td>1101</td>\n",
       "      <td>1104</td>\n",
       "    </tr>\n",
       "    <tr>\n",
       "      <th>3</th>\n",
       "      <td>2023_1101_1105</td>\n",
       "      <td>0.5</td>\n",
       "      <td>2023</td>\n",
       "      <td>1101</td>\n",
       "      <td>1105</td>\n",
       "    </tr>\n",
       "    <tr>\n",
       "      <th>4</th>\n",
       "      <td>2023_1101_1106</td>\n",
       "      <td>0.5</td>\n",
       "      <td>2023</td>\n",
       "      <td>1101</td>\n",
       "      <td>1106</td>\n",
       "    </tr>\n",
       "  </tbody>\n",
       "</table>\n",
       "</div>"
      ],
      "text/plain": [
       "               ID  Pred  Season  T1_TeamID  T2_TeamID\n",
       "0  2023_1101_1102   0.5    2023       1101       1102\n",
       "1  2023_1101_1103   0.5    2023       1101       1103\n",
       "2  2023_1101_1104   0.5    2023       1101       1104\n",
       "3  2023_1101_1105   0.5    2023       1101       1105\n",
       "4  2023_1101_1106   0.5    2023       1101       1106"
      ]
     },
     "execution_count": 256,
     "metadata": {},
     "output_type": "execute_result"
    }
   ],
   "source": [
    "sub = pd.read_csv(DATA_PATH + \"SampleSubmission2023.csv\")\n",
    "sub['Season'] = sub['ID'].apply(lambda x: int(x.split('_')[0]))\n",
    "sub[\"T1_TeamID\"] = sub['ID'].apply(lambda x: int(x.split('_')[1]))\n",
    "sub[\"T2_TeamID\"] = sub['ID'].apply(lambda x: int(x.split('_')[2]))\n",
    "sub.head()\n",
    "\n"
   ]
  },
  {
   "cell_type": "code",
   "execution_count": 257,
   "metadata": {
    "_uuid": "861d6c4c12a094804f9cf0ea2c14c0c5136d164c",
    "execution": {
     "iopub.execute_input": "2023-03-14T23:51:35.032673Z",
     "iopub.status.busy": "2023-03-14T23:51:35.032428Z",
     "iopub.status.idle": "2023-03-14T23:51:35.264751Z",
     "shell.execute_reply": "2023-03-14T23:51:35.263675Z",
     "shell.execute_reply.started": "2023-03-14T23:51:35.032612Z"
    }
   },
   "outputs": [
    {
     "data": {
      "text/html": [
       "<div>\n",
       "<style scoped>\n",
       "    .dataframe tbody tr th:only-of-type {\n",
       "        vertical-align: middle;\n",
       "    }\n",
       "\n",
       "    .dataframe tbody tr th {\n",
       "        vertical-align: top;\n",
       "    }\n",
       "\n",
       "    .dataframe thead th {\n",
       "        text-align: right;\n",
       "    }\n",
       "</style>\n",
       "<table border=\"1\" class=\"dataframe\">\n",
       "  <thead>\n",
       "    <tr style=\"text-align: right;\">\n",
       "      <th></th>\n",
       "      <th>ID</th>\n",
       "      <th>Pred</th>\n",
       "      <th>Season</th>\n",
       "      <th>T1_TeamID</th>\n",
       "      <th>T2_TeamID</th>\n",
       "      <th>T1_FGMmean</th>\n",
       "      <th>T1_FGAmean</th>\n",
       "      <th>T1_FGM3mean</th>\n",
       "      <th>T1_FGA3mean</th>\n",
       "      <th>T1_ORmean</th>\n",
       "      <th>T1_Astmean</th>\n",
       "      <th>T1_TOmean</th>\n",
       "      <th>T1_Stlmean</th>\n",
       "      <th>T1_PFmean</th>\n",
       "      <th>T1_opponent_FGMmean</th>\n",
       "      <th>T1_opponent_FGAmean</th>\n",
       "      <th>T1_opponent_FGM3mean</th>\n",
       "      <th>T1_opponent_FGA3mean</th>\n",
       "      <th>T1_opponent_ORmean</th>\n",
       "      <th>T1_opponent_Astmean</th>\n",
       "      <th>T1_opponent_TOmean</th>\n",
       "      <th>T1_opponent_Stlmean</th>\n",
       "      <th>T1_opponent_Blkmean</th>\n",
       "      <th>T1_PointDiffmean</th>\n",
       "      <th>T2_FGMmean</th>\n",
       "      <th>T2_FGAmean</th>\n",
       "      <th>T2_FGM3mean</th>\n",
       "      <th>T2_FGA3mean</th>\n",
       "      <th>T2_ORmean</th>\n",
       "      <th>T2_Astmean</th>\n",
       "      <th>T2_TOmean</th>\n",
       "      <th>T2_Stlmean</th>\n",
       "      <th>T2_PFmean</th>\n",
       "      <th>T2_opponent_FGMmean</th>\n",
       "      <th>T2_opponent_FGAmean</th>\n",
       "      <th>T2_opponent_FGM3mean</th>\n",
       "      <th>T2_opponent_FGA3mean</th>\n",
       "      <th>T2_opponent_ORmean</th>\n",
       "      <th>T2_opponent_Astmean</th>\n",
       "      <th>T2_opponent_TOmean</th>\n",
       "      <th>T2_opponent_Stlmean</th>\n",
       "      <th>T2_opponent_Blkmean</th>\n",
       "      <th>T2_PointDiffmean</th>\n",
       "      <th>T1_quality</th>\n",
       "      <th>T2_quality</th>\n",
       "      <th>T1_seed</th>\n",
       "      <th>T2_seed</th>\n",
       "      <th>T1_win_ratio_14d</th>\n",
       "      <th>T2_win_ratio_14d</th>\n",
       "      <th>Seed_diff</th>\n",
       "    </tr>\n",
       "  </thead>\n",
       "  <tbody>\n",
       "    <tr>\n",
       "      <th>0</th>\n",
       "      <td>2023_1101_1102</td>\n",
       "      <td>0.5</td>\n",
       "      <td>2023</td>\n",
       "      <td>1101</td>\n",
       "      <td>1102</td>\n",
       "      <td>25.384615</td>\n",
       "      <td>58.346154</td>\n",
       "      <td>6.692308</td>\n",
       "      <td>19.5</td>\n",
       "      <td>7.615385</td>\n",
       "      <td>14.769231</td>\n",
       "      <td>11.846154</td>\n",
       "      <td>7.961538</td>\n",
       "      <td>20.884615</td>\n",
       "      <td>25.807692</td>\n",
       "      <td>51.423077</td>\n",
       "      <td>6.576923</td>\n",
       "      <td>17.269231</td>\n",
       "      <td>7.346154</td>\n",
       "      <td>13.538462</td>\n",
       "      <td>15.769231</td>\n",
       "      <td>5.384615</td>\n",
       "      <td>3.192308</td>\n",
       "      <td>-3.692308</td>\n",
       "      <td>23.625000</td>\n",
       "      <td>51.125000</td>\n",
       "      <td>8.156250</td>\n",
       "      <td>22.906250</td>\n",
       "      <td>5.625000</td>\n",
       "      <td>15.312500</td>\n",
       "      <td>10.906250</td>\n",
       "      <td>5.750000</td>\n",
       "      <td>17.000000</td>\n",
       "      <td>23.875000</td>\n",
       "      <td>53.687500</td>\n",
       "      <td>5.187500</td>\n",
       "      <td>17.687500</td>\n",
       "      <td>7.937500</td>\n",
       "      <td>10.093750</td>\n",
       "      <td>10.687500</td>\n",
       "      <td>5.718750</td>\n",
       "      <td>3.093750</td>\n",
       "      <td>-0.125000</td>\n",
       "      <td>NaN</td>\n",
       "      <td>NaN</td>\n",
       "      <td>NaN</td>\n",
       "      <td>NaN</td>\n",
       "      <td>0.0</td>\n",
       "      <td>0.0</td>\n",
       "      <td>NaN</td>\n",
       "    </tr>\n",
       "    <tr>\n",
       "      <th>1</th>\n",
       "      <td>2023_1101_1103</td>\n",
       "      <td>0.5</td>\n",
       "      <td>2023</td>\n",
       "      <td>1101</td>\n",
       "      <td>1103</td>\n",
       "      <td>25.384615</td>\n",
       "      <td>58.346154</td>\n",
       "      <td>6.692308</td>\n",
       "      <td>19.5</td>\n",
       "      <td>7.615385</td>\n",
       "      <td>14.769231</td>\n",
       "      <td>11.846154</td>\n",
       "      <td>7.961538</td>\n",
       "      <td>20.884615</td>\n",
       "      <td>25.807692</td>\n",
       "      <td>51.423077</td>\n",
       "      <td>6.576923</td>\n",
       "      <td>17.269231</td>\n",
       "      <td>7.346154</td>\n",
       "      <td>13.538462</td>\n",
       "      <td>15.769231</td>\n",
       "      <td>5.384615</td>\n",
       "      <td>3.192308</td>\n",
       "      <td>-3.692308</td>\n",
       "      <td>25.387097</td>\n",
       "      <td>57.451613</td>\n",
       "      <td>8.806452</td>\n",
       "      <td>25.193548</td>\n",
       "      <td>8.387097</td>\n",
       "      <td>13.000000</td>\n",
       "      <td>10.838710</td>\n",
       "      <td>5.774194</td>\n",
       "      <td>16.193548</td>\n",
       "      <td>24.709677</td>\n",
       "      <td>56.806452</td>\n",
       "      <td>7.064516</td>\n",
       "      <td>20.096774</td>\n",
       "      <td>7.322581</td>\n",
       "      <td>11.483871</td>\n",
       "      <td>11.322581</td>\n",
       "      <td>5.709677</td>\n",
       "      <td>3.032258</td>\n",
       "      <td>5.838710</td>\n",
       "      <td>NaN</td>\n",
       "      <td>NaN</td>\n",
       "      <td>NaN</td>\n",
       "      <td>NaN</td>\n",
       "      <td>0.0</td>\n",
       "      <td>0.5</td>\n",
       "      <td>NaN</td>\n",
       "    </tr>\n",
       "    <tr>\n",
       "      <th>2</th>\n",
       "      <td>2023_1101_1104</td>\n",
       "      <td>0.5</td>\n",
       "      <td>2023</td>\n",
       "      <td>1101</td>\n",
       "      <td>1104</td>\n",
       "      <td>25.384615</td>\n",
       "      <td>58.346154</td>\n",
       "      <td>6.692308</td>\n",
       "      <td>19.5</td>\n",
       "      <td>7.615385</td>\n",
       "      <td>14.769231</td>\n",
       "      <td>11.846154</td>\n",
       "      <td>7.961538</td>\n",
       "      <td>20.884615</td>\n",
       "      <td>25.807692</td>\n",
       "      <td>51.423077</td>\n",
       "      <td>6.576923</td>\n",
       "      <td>17.269231</td>\n",
       "      <td>7.346154</td>\n",
       "      <td>13.538462</td>\n",
       "      <td>15.769231</td>\n",
       "      <td>5.384615</td>\n",
       "      <td>3.192308</td>\n",
       "      <td>-3.692308</td>\n",
       "      <td>27.764706</td>\n",
       "      <td>62.205882</td>\n",
       "      <td>10.058824</td>\n",
       "      <td>29.764706</td>\n",
       "      <td>11.264706</td>\n",
       "      <td>15.205882</td>\n",
       "      <td>13.588235</td>\n",
       "      <td>6.058824</td>\n",
       "      <td>18.617647</td>\n",
       "      <td>23.941176</td>\n",
       "      <td>64.382353</td>\n",
       "      <td>5.529412</td>\n",
       "      <td>19.705882</td>\n",
       "      <td>9.500000</td>\n",
       "      <td>10.000000</td>\n",
       "      <td>11.411765</td>\n",
       "      <td>7.294118</td>\n",
       "      <td>3.705882</td>\n",
       "      <td>13.676471</td>\n",
       "      <td>NaN</td>\n",
       "      <td>4.041951e+14</td>\n",
       "      <td>NaN</td>\n",
       "      <td>1.0</td>\n",
       "      <td>0.0</td>\n",
       "      <td>0.8</td>\n",
       "      <td>NaN</td>\n",
       "    </tr>\n",
       "    <tr>\n",
       "      <th>3</th>\n",
       "      <td>2023_1101_1105</td>\n",
       "      <td>0.5</td>\n",
       "      <td>2023</td>\n",
       "      <td>1101</td>\n",
       "      <td>1105</td>\n",
       "      <td>25.384615</td>\n",
       "      <td>58.346154</td>\n",
       "      <td>6.692308</td>\n",
       "      <td>19.5</td>\n",
       "      <td>7.615385</td>\n",
       "      <td>14.769231</td>\n",
       "      <td>11.846154</td>\n",
       "      <td>7.961538</td>\n",
       "      <td>20.884615</td>\n",
       "      <td>25.807692</td>\n",
       "      <td>51.423077</td>\n",
       "      <td>6.576923</td>\n",
       "      <td>17.269231</td>\n",
       "      <td>7.346154</td>\n",
       "      <td>13.538462</td>\n",
       "      <td>15.769231</td>\n",
       "      <td>5.384615</td>\n",
       "      <td>3.192308</td>\n",
       "      <td>-3.692308</td>\n",
       "      <td>24.233333</td>\n",
       "      <td>56.500000</td>\n",
       "      <td>6.400000</td>\n",
       "      <td>18.466667</td>\n",
       "      <td>8.766667</td>\n",
       "      <td>12.066667</td>\n",
       "      <td>13.733333</td>\n",
       "      <td>7.500000</td>\n",
       "      <td>19.100000</td>\n",
       "      <td>23.600000</td>\n",
       "      <td>55.300000</td>\n",
       "      <td>7.466667</td>\n",
       "      <td>22.066667</td>\n",
       "      <td>9.966667</td>\n",
       "      <td>12.600000</td>\n",
       "      <td>14.166667</td>\n",
       "      <td>7.500000</td>\n",
       "      <td>3.700000</td>\n",
       "      <td>-3.066667</td>\n",
       "      <td>NaN</td>\n",
       "      <td>NaN</td>\n",
       "      <td>NaN</td>\n",
       "      <td>NaN</td>\n",
       "      <td>0.0</td>\n",
       "      <td>0.5</td>\n",
       "      <td>NaN</td>\n",
       "    </tr>\n",
       "    <tr>\n",
       "      <th>4</th>\n",
       "      <td>2023_1101_1106</td>\n",
       "      <td>0.5</td>\n",
       "      <td>2023</td>\n",
       "      <td>1101</td>\n",
       "      <td>1106</td>\n",
       "      <td>25.384615</td>\n",
       "      <td>58.346154</td>\n",
       "      <td>6.692308</td>\n",
       "      <td>19.5</td>\n",
       "      <td>7.615385</td>\n",
       "      <td>14.769231</td>\n",
       "      <td>11.846154</td>\n",
       "      <td>7.961538</td>\n",
       "      <td>20.884615</td>\n",
       "      <td>25.807692</td>\n",
       "      <td>51.423077</td>\n",
       "      <td>6.576923</td>\n",
       "      <td>17.269231</td>\n",
       "      <td>7.346154</td>\n",
       "      <td>13.538462</td>\n",
       "      <td>15.769231</td>\n",
       "      <td>5.384615</td>\n",
       "      <td>3.192308</td>\n",
       "      <td>-3.692308</td>\n",
       "      <td>21.800000</td>\n",
       "      <td>58.566667</td>\n",
       "      <td>5.966667</td>\n",
       "      <td>19.400000</td>\n",
       "      <td>10.300000</td>\n",
       "      <td>9.733333</td>\n",
       "      <td>12.300000</td>\n",
       "      <td>5.666667</td>\n",
       "      <td>17.866667</td>\n",
       "      <td>25.733333</td>\n",
       "      <td>58.800000</td>\n",
       "      <td>6.966667</td>\n",
       "      <td>20.400000</td>\n",
       "      <td>10.633333</td>\n",
       "      <td>11.833333</td>\n",
       "      <td>11.266667</td>\n",
       "      <td>6.733333</td>\n",
       "      <td>4.833333</td>\n",
       "      <td>-10.033333</td>\n",
       "      <td>NaN</td>\n",
       "      <td>NaN</td>\n",
       "      <td>NaN</td>\n",
       "      <td>NaN</td>\n",
       "      <td>0.0</td>\n",
       "      <td>0.0</td>\n",
       "      <td>NaN</td>\n",
       "    </tr>\n",
       "  </tbody>\n",
       "</table>\n",
       "</div>"
      ],
      "text/plain": [
       "               ID  Pred  Season  T1_TeamID  T2_TeamID  T1_FGMmean  T1_FGAmean  \\\n",
       "0  2023_1101_1102   0.5    2023       1101       1102   25.384615   58.346154   \n",
       "1  2023_1101_1103   0.5    2023       1101       1103   25.384615   58.346154   \n",
       "2  2023_1101_1104   0.5    2023       1101       1104   25.384615   58.346154   \n",
       "3  2023_1101_1105   0.5    2023       1101       1105   25.384615   58.346154   \n",
       "4  2023_1101_1106   0.5    2023       1101       1106   25.384615   58.346154   \n",
       "\n",
       "   T1_FGM3mean  T1_FGA3mean  T1_ORmean  T1_Astmean  T1_TOmean  T1_Stlmean  \\\n",
       "0     6.692308         19.5   7.615385   14.769231  11.846154    7.961538   \n",
       "1     6.692308         19.5   7.615385   14.769231  11.846154    7.961538   \n",
       "2     6.692308         19.5   7.615385   14.769231  11.846154    7.961538   \n",
       "3     6.692308         19.5   7.615385   14.769231  11.846154    7.961538   \n",
       "4     6.692308         19.5   7.615385   14.769231  11.846154    7.961538   \n",
       "\n",
       "   T1_PFmean  T1_opponent_FGMmean  T1_opponent_FGAmean  T1_opponent_FGM3mean  \\\n",
       "0  20.884615            25.807692            51.423077              6.576923   \n",
       "1  20.884615            25.807692            51.423077              6.576923   \n",
       "2  20.884615            25.807692            51.423077              6.576923   \n",
       "3  20.884615            25.807692            51.423077              6.576923   \n",
       "4  20.884615            25.807692            51.423077              6.576923   \n",
       "\n",
       "   T1_opponent_FGA3mean  T1_opponent_ORmean  T1_opponent_Astmean  \\\n",
       "0             17.269231            7.346154            13.538462   \n",
       "1             17.269231            7.346154            13.538462   \n",
       "2             17.269231            7.346154            13.538462   \n",
       "3             17.269231            7.346154            13.538462   \n",
       "4             17.269231            7.346154            13.538462   \n",
       "\n",
       "   T1_opponent_TOmean  T1_opponent_Stlmean  T1_opponent_Blkmean  \\\n",
       "0           15.769231             5.384615             3.192308   \n",
       "1           15.769231             5.384615             3.192308   \n",
       "2           15.769231             5.384615             3.192308   \n",
       "3           15.769231             5.384615             3.192308   \n",
       "4           15.769231             5.384615             3.192308   \n",
       "\n",
       "   T1_PointDiffmean  T2_FGMmean  T2_FGAmean  T2_FGM3mean  T2_FGA3mean  \\\n",
       "0         -3.692308   23.625000   51.125000     8.156250    22.906250   \n",
       "1         -3.692308   25.387097   57.451613     8.806452    25.193548   \n",
       "2         -3.692308   27.764706   62.205882    10.058824    29.764706   \n",
       "3         -3.692308   24.233333   56.500000     6.400000    18.466667   \n",
       "4         -3.692308   21.800000   58.566667     5.966667    19.400000   \n",
       "\n",
       "   T2_ORmean  T2_Astmean  T2_TOmean  T2_Stlmean  T2_PFmean  \\\n",
       "0   5.625000   15.312500  10.906250    5.750000  17.000000   \n",
       "1   8.387097   13.000000  10.838710    5.774194  16.193548   \n",
       "2  11.264706   15.205882  13.588235    6.058824  18.617647   \n",
       "3   8.766667   12.066667  13.733333    7.500000  19.100000   \n",
       "4  10.300000    9.733333  12.300000    5.666667  17.866667   \n",
       "\n",
       "   T2_opponent_FGMmean  T2_opponent_FGAmean  T2_opponent_FGM3mean  \\\n",
       "0            23.875000            53.687500              5.187500   \n",
       "1            24.709677            56.806452              7.064516   \n",
       "2            23.941176            64.382353              5.529412   \n",
       "3            23.600000            55.300000              7.466667   \n",
       "4            25.733333            58.800000              6.966667   \n",
       "\n",
       "   T2_opponent_FGA3mean  T2_opponent_ORmean  T2_opponent_Astmean  \\\n",
       "0             17.687500            7.937500            10.093750   \n",
       "1             20.096774            7.322581            11.483871   \n",
       "2             19.705882            9.500000            10.000000   \n",
       "3             22.066667            9.966667            12.600000   \n",
       "4             20.400000           10.633333            11.833333   \n",
       "\n",
       "   T2_opponent_TOmean  T2_opponent_Stlmean  T2_opponent_Blkmean  \\\n",
       "0           10.687500             5.718750             3.093750   \n",
       "1           11.322581             5.709677             3.032258   \n",
       "2           11.411765             7.294118             3.705882   \n",
       "3           14.166667             7.500000             3.700000   \n",
       "4           11.266667             6.733333             4.833333   \n",
       "\n",
       "   T2_PointDiffmean  T1_quality    T2_quality  T1_seed  T2_seed  \\\n",
       "0         -0.125000         NaN           NaN      NaN      NaN   \n",
       "1          5.838710         NaN           NaN      NaN      NaN   \n",
       "2         13.676471         NaN  4.041951e+14      NaN      1.0   \n",
       "3         -3.066667         NaN           NaN      NaN      NaN   \n",
       "4        -10.033333         NaN           NaN      NaN      NaN   \n",
       "\n",
       "   T1_win_ratio_14d  T2_win_ratio_14d  Seed_diff  \n",
       "0               0.0               0.0        NaN  \n",
       "1               0.0               0.5        NaN  \n",
       "2               0.0               0.8        NaN  \n",
       "3               0.0               0.5        NaN  \n",
       "4               0.0               0.0        NaN  "
      ]
     },
     "execution_count": 257,
     "metadata": {},
     "output_type": "execute_result"
    }
   ],
   "source": [
    "sub = pd.merge(sub, season_statistics_T1, on = ['Season', 'T1_TeamID'], how = 'left')\n",
    "sub = pd.merge(sub, season_statistics_T2, on = ['Season', 'T2_TeamID'], how = 'left')\n",
    "\n",
    "sub = pd.merge(sub, glm_quality_T1, on = ['Season', 'T1_TeamID'], how = 'left')\n",
    "\n",
    "sub = pd.merge(sub, glm_quality_T2, on = ['Season', 'T2_TeamID'], how = 'left')\n",
    "\n",
    "sub = pd.merge(sub, seeds_T1, on = ['Season', 'T1_TeamID'], how = 'left')\n",
    "sub = pd.merge(sub, seeds_T2, on = ['Season', 'T2_TeamID'], how = 'left')\n",
    "sub = pd.merge(sub, last14days_stats_T1, on = ['Season', 'T1_TeamID'], how = 'left')\n",
    "sub = pd.merge(sub, last14days_stats_T2, on = ['Season', 'T2_TeamID'], how = 'left')\n",
    "\n",
    "sub[\"Seed_diff\"] = sub[\"T1_seed\"] - sub[\"T2_seed\"]\n",
    "\n",
    "sub.head()\n"
   ]
  },
  {
   "cell_type": "code",
   "execution_count": 258,
   "metadata": {
    "_uuid": "cb1627abe53f9db9fdb5be2e45a739e0f78ede83",
    "execution": {
     "iopub.execute_input": "2023-03-14T23:51:35.276465Z",
     "iopub.status.busy": "2023-03-14T23:51:35.276239Z",
     "iopub.status.idle": "2023-03-14T23:51:35.352866Z",
     "shell.execute_reply": "2023-03-14T23:51:35.351978Z",
     "shell.execute_reply.started": "2023-03-14T23:51:35.276409Z"
    }
   },
   "outputs": [],
   "source": [
    "Xsub = sub[features].values\n",
    "dtest = xgb.DMatrix(Xsub)"
   ]
  },
  {
   "cell_type": "code",
   "execution_count": 259,
   "metadata": {
    "_uuid": "a700a993c601d9692f2374f11c8eadb234979086",
    "execution": {
     "iopub.execute_input": "2023-03-14T23:51:35.354128Z",
     "iopub.status.busy": "2023-03-14T23:51:35.353898Z",
     "iopub.status.idle": "2023-03-14T23:51:39.125281Z",
     "shell.execute_reply": "2023-03-14T23:51:39.124690Z",
     "shell.execute_reply.started": "2023-03-14T23:51:35.354081Z"
    }
   },
   "outputs": [
    {
     "name": "stdout",
     "output_type": "stream",
     "text": [
      "Fold repeater 0\n",
      "[22:53:18] WARNING: /Users/runner/work/xgboost/xgboost/src/learner.cc:576: \n",
      "Parameters: { \"silent\" } might not be used.\n",
      "\n",
      "  This could be a false alarm, with some parameters getting used by language bindings but\n",
      "  then being mistakenly passed down to XGBoost core, or some parameter actually being used\n",
      "  but getting flagged wrongly here. Please open an issue if you find any such cases.\n",
      "\n",
      "\n",
      "Fold repeater 1\n",
      "[22:53:20] WARNING: /Users/runner/work/xgboost/xgboost/src/learner.cc:576: \n",
      "Parameters: { \"silent\" } might not be used.\n",
      "\n",
      "  This could be a false alarm, with some parameters getting used by language bindings but\n",
      "  then being mistakenly passed down to XGBoost core, or some parameter actually being used\n",
      "  but getting flagged wrongly here. Please open an issue if you find any such cases.\n",
      "\n",
      "\n",
      "Fold repeater 2\n",
      "[22:53:21] WARNING: /Users/runner/work/xgboost/xgboost/src/learner.cc:576: \n",
      "Parameters: { \"silent\" } might not be used.\n",
      "\n",
      "  This could be a false alarm, with some parameters getting used by language bindings but\n",
      "  then being mistakenly passed down to XGBoost core, or some parameter actually being used\n",
      "  but getting flagged wrongly here. Please open an issue if you find any such cases.\n",
      "\n",
      "\n"
     ]
    }
   ],
   "source": [
    "sub_models = []\n",
    "for i in range(repeat_cv):\n",
    "    print(f\"Fold repeater {i}\")\n",
    "    sub_models.append(\n",
    "        xgb.train(\n",
    "          params = param,\n",
    "          dtrain = dtrain,\n",
    "          num_boost_round = int(iteration_counts[i] * 1.05),\n",
    "          verbose_eval = 50\n",
    "        )\n",
    "    )"
   ]
  },
  {
   "cell_type": "code",
   "execution_count": 260,
   "metadata": {
    "_uuid": "01757a38a0ad222dec31bf062ceee7cfb61a6b16",
    "execution": {
     "iopub.execute_input": "2023-03-14T23:51:39.126405Z",
     "iopub.status.busy": "2023-03-14T23:51:39.126124Z",
     "iopub.status.idle": "2023-03-14T23:51:45.625662Z",
     "shell.execute_reply": "2023-03-14T23:51:45.624777Z",
     "shell.execute_reply.started": "2023-03-14T23:51:39.126369Z"
    }
   },
   "outputs": [],
   "source": [
    "sub_preds = []\n",
    "for i in range(repeat_cv):\n",
    "    sub_preds.append(np.clip(spline_model[i](np.clip(sub_models[i].predict(dtest),-30,30)),0.025,0.975))\n",
    "    \n",
    "sub[\"Pred\"] = pd.DataFrame(sub_preds).mean(axis=0)\n",
    "sub[['ID','Pred']].to_csv(\"../submissions/raddar_2023.csv\")"
   ]
  },
  {
   "cell_type": "code",
   "execution_count": null,
   "metadata": {},
   "outputs": [],
   "source": []
  }
 ],
 "metadata": {
  "kernelspec": {
   "display_name": "ncaa_model",
   "language": "python",
   "name": "ncaa_model"
  },
  "language_info": {
   "codemirror_mode": {
    "name": "ipython",
    "version": 3
   },
   "file_extension": ".py",
   "mimetype": "text/x-python",
   "name": "python",
   "nbconvert_exporter": "python",
   "pygments_lexer": "ipython3",
   "version": "3.8.9"
  }
 },
 "nbformat": 4,
 "nbformat_minor": 4
}

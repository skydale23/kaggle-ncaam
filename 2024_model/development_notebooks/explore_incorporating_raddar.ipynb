{
 "cells": [
  {
   "cell_type": "code",
   "execution_count": 210,
   "metadata": {},
   "outputs": [],
   "source": [
    "import pandas as pd\n",
    "from sklearn.metrics import brier_score_loss\n"
   ]
  },
  {
   "cell_type": "code",
   "execution_count": 211,
   "metadata": {},
   "outputs": [],
   "source": [
    "tourney_results = pd.read_csv(\"../data/MNCAATourneyDetailedResults.csv\")\n",
    "tourney_results = tourney_results\n",
    "t1 = tourney_results[[\"Season\", \"WTeamID\", \"LTeamID\"]].copy()\n",
    "t1.columns = [\"Season\", \"Team1\", \"Team2\"]\n",
    "t2 = tourney_results[[\"Season\", \"LTeamID\", \"WTeamID\"]].copy() \n",
    "t2.columns = [\"Season\", \"Team1\", \"Team2\"]\n",
    "t1[\"Outcome\"] = 1\n",
    "t2[\"Outcome\"] = 0\n",
    "ground_truth = pd.concat([t1,t2], axis=0)\n",
    "ground_truth[\"ID\"] = ground_truth.Season.astype(str) + \"_\" + ground_truth[\"Team1\"].astype(str) + \"_\" +ground_truth[\"Team2\"].astype(str)\n"
   ]
  },
  {
   "cell_type": "code",
   "execution_count": 212,
   "metadata": {},
   "outputs": [],
   "source": [
    "# import numpy as np\n",
    "# ground_truth[\"ID\"] = np.where(ground_truth[\"Team1\"] < ground_truth[\"Team2\"],\n",
    "#                     ground_truth[\"Season\"].astype(str) + '_' + ground_truth[\"Team1\"].astype(str) + '_' + ground_truth[\"Team2\"].astype(str),\n",
    "#                     ground_truth[\"Season\"].astype(str) + '_' + ground_truth[\"Team2\"].astype(str) + '_' + ground_truth[\"Team1\"].astype(str))"
   ]
  },
  {
   "cell_type": "code",
   "execution_count": 213,
   "metadata": {},
   "outputs": [],
   "source": [
    "ground_truth = ground_truth[ground_truth.Season >= 2010]\n",
    "\n"
   ]
  },
  {
   "cell_type": "code",
   "execution_count": 214,
   "metadata": {},
   "outputs": [],
   "source": [
    "sky_preds = pd.read_csv(\"../submissions/all_sky_model_preds.csv\")\n",
    "old_sky = pd.read_csv(\"../submissions/all_sky_model_preds_old.csv\")\n",
    "raddar_preds = pd.read_csv(\"../submissions/all_raddar_preds.csv\")\n",
    "\n",
    "raddar_preds[['Season', 'Team1', 'Team2']] = raddar_preds.ID.str.split('_', expand=True)\n",
    "old_sky[['Season', 'Team1', 'Team2']] = raddar_preds.ID.str.split('_', expand=True)\n",
    "sky_preds[['Season', 'Team1', 'Team2']] = sky_preds.ID.str.split('_', expand=True)\n"
   ]
  },
  {
   "cell_type": "code",
   "execution_count": 215,
   "metadata": {},
   "outputs": [],
   "source": [
    "ground_truth = ground_truth.merge(raddar_preds.rename(columns={\"Pred\": \"raddar_pred\"})[[\"ID\", \"raddar_pred\"]],\n",
    "                   how = \"inner\", \n",
    "                   on = \"ID\")\n",
    "\n",
    "ground_truth = ground_truth.merge(sky_preds.rename(columns={\"Pred\": \"sky_pred\"})[[\"ID\", \"sky_pred\"]],\n",
    "                   how = \"inner\", \n",
    "                   on = \"ID\")\n",
    "\n",
    "ground_truth = ground_truth.merge(old_sky.rename(columns={\"Pred\": \"old_sky\"})[[\"ID\", \"old_sky\"]],\n",
    "                   how = \"inner\", \n",
    "                   on = \"ID\")"
   ]
  },
  {
   "cell_type": "code",
   "execution_count": null,
   "metadata": {},
   "outputs": [],
   "source": []
  },
  {
   "cell_type": "code",
   "execution_count": 217,
   "metadata": {},
   "outputs": [],
   "source": [
    "### Loop through seasons and score\n",
    "\n",
    "data = []\n",
    "\n",
    "for s in ground_truth.Season.unique():\n",
    "\n",
    "    tmp = ground_truth[ground_truth.Season == s].copy()\n",
    "\n",
    "    raddar_loss = brier_score_loss(tmp.Outcome, tmp.raddar_pred)\n",
    "    sky_loss_loss = brier_score_loss(tmp.Outcome, tmp.sky_pred)\n",
    "    old_sky_loss = brier_score_loss(tmp.Outcome, tmp.old_sky)\n",
    "    \n",
    "    \n",
    "    data.append([s, raddar_loss, sky_loss_loss, old_sky_loss])\n",
    "\n"
   ]
  },
  {
   "cell_type": "code",
   "execution_count": 218,
   "metadata": {},
   "outputs": [],
   "source": [
    "raddar_vs_sky_by_year = pd.DataFrame(data, columns = [\"Season\", \"raddar_loss\", \"sky_loss\", \"old_sky_loss\"])"
   ]
  },
  {
   "cell_type": "code",
   "execution_count": 220,
   "metadata": {},
   "outputs": [
    {
     "data": {
      "text/plain": [
       "Season          2016.230769\n",
       "raddar_loss        0.199605\n",
       "sky_loss           0.190490\n",
       "old_sky_loss       0.191827\n",
       "dtype: float64"
      ]
     },
     "execution_count": 220,
     "metadata": {},
     "output_type": "execute_result"
    }
   ],
   "source": [
    "raddar_vs_sky_by_year.mean()"
   ]
  },
  {
   "cell_type": "code",
   "execution_count": 204,
   "metadata": {},
   "outputs": [],
   "source": [
    "import numpy as np\n",
    "raddar_vs_sky_by_year[\"sky_better\"] = np.where(raddar_vs_sky_by_year.sky_loss < raddar_vs_sky_by_year.raddar_loss, 1, 0)"
   ]
  },
  {
   "cell_type": "code",
   "execution_count": 207,
   "metadata": {},
   "outputs": [
    {
     "data": {
      "text/html": [
       "<div>\n",
       "<style scoped>\n",
       "    .dataframe tbody tr th:only-of-type {\n",
       "        vertical-align: middle;\n",
       "    }\n",
       "\n",
       "    .dataframe tbody tr th {\n",
       "        vertical-align: top;\n",
       "    }\n",
       "\n",
       "    .dataframe thead th {\n",
       "        text-align: right;\n",
       "    }\n",
       "</style>\n",
       "<table border=\"1\" class=\"dataframe\">\n",
       "  <thead>\n",
       "    <tr style=\"text-align: right;\">\n",
       "      <th></th>\n",
       "      <th>Season</th>\n",
       "      <th>raddar_loss</th>\n",
       "      <th>sky_loss</th>\n",
       "      <th>sky_better</th>\n",
       "    </tr>\n",
       "  </thead>\n",
       "  <tbody>\n",
       "    <tr>\n",
       "      <th>0</th>\n",
       "      <td>2010</td>\n",
       "      <td>0.198824</td>\n",
       "      <td>0.193138</td>\n",
       "      <td>1</td>\n",
       "    </tr>\n",
       "    <tr>\n",
       "      <th>1</th>\n",
       "      <td>2011</td>\n",
       "      <td>0.217906</td>\n",
       "      <td>0.229749</td>\n",
       "      <td>0</td>\n",
       "    </tr>\n",
       "    <tr>\n",
       "      <th>2</th>\n",
       "      <td>2012</td>\n",
       "      <td>0.190189</td>\n",
       "      <td>0.176470</td>\n",
       "      <td>1</td>\n",
       "    </tr>\n",
       "    <tr>\n",
       "      <th>3</th>\n",
       "      <td>2013</td>\n",
       "      <td>0.211128</td>\n",
       "      <td>0.196362</td>\n",
       "      <td>1</td>\n",
       "    </tr>\n",
       "    <tr>\n",
       "      <th>4</th>\n",
       "      <td>2014</td>\n",
       "      <td>0.215891</td>\n",
       "      <td>0.193110</td>\n",
       "      <td>1</td>\n",
       "    </tr>\n",
       "    <tr>\n",
       "      <th>5</th>\n",
       "      <td>2015</td>\n",
       "      <td>0.161901</td>\n",
       "      <td>0.154845</td>\n",
       "      <td>1</td>\n",
       "    </tr>\n",
       "    <tr>\n",
       "      <th>6</th>\n",
       "      <td>2016</td>\n",
       "      <td>0.206264</td>\n",
       "      <td>0.176012</td>\n",
       "      <td>1</td>\n",
       "    </tr>\n",
       "    <tr>\n",
       "      <th>7</th>\n",
       "      <td>2017</td>\n",
       "      <td>0.159481</td>\n",
       "      <td>0.154268</td>\n",
       "      <td>1</td>\n",
       "    </tr>\n",
       "    <tr>\n",
       "      <th>8</th>\n",
       "      <td>2018</td>\n",
       "      <td>0.205780</td>\n",
       "      <td>0.203107</td>\n",
       "      <td>1</td>\n",
       "    </tr>\n",
       "    <tr>\n",
       "      <th>9</th>\n",
       "      <td>2019</td>\n",
       "      <td>0.180438</td>\n",
       "      <td>0.160533</td>\n",
       "      <td>1</td>\n",
       "    </tr>\n",
       "    <tr>\n",
       "      <th>10</th>\n",
       "      <td>2021</td>\n",
       "      <td>0.213999</td>\n",
       "      <td>0.213063</td>\n",
       "      <td>1</td>\n",
       "    </tr>\n",
       "    <tr>\n",
       "      <th>11</th>\n",
       "      <td>2022</td>\n",
       "      <td>0.232402</td>\n",
       "      <td>0.207357</td>\n",
       "      <td>1</td>\n",
       "    </tr>\n",
       "    <tr>\n",
       "      <th>12</th>\n",
       "      <td>2023</td>\n",
       "      <td>0.200661</td>\n",
       "      <td>0.218359</td>\n",
       "      <td>0</td>\n",
       "    </tr>\n",
       "  </tbody>\n",
       "</table>\n",
       "</div>"
      ],
      "text/plain": [
       "    Season  raddar_loss  sky_loss  sky_better\n",
       "0     2010     0.198824  0.193138           1\n",
       "1     2011     0.217906  0.229749           0\n",
       "2     2012     0.190189  0.176470           1\n",
       "3     2013     0.211128  0.196362           1\n",
       "4     2014     0.215891  0.193110           1\n",
       "5     2015     0.161901  0.154845           1\n",
       "6     2016     0.206264  0.176012           1\n",
       "7     2017     0.159481  0.154268           1\n",
       "8     2018     0.205780  0.203107           1\n",
       "9     2019     0.180438  0.160533           1\n",
       "10    2021     0.213999  0.213063           1\n",
       "11    2022     0.232402  0.207357           1\n",
       "12    2023     0.200661  0.218359           0"
      ]
     },
     "execution_count": 207,
     "metadata": {},
     "output_type": "execute_result"
    }
   ],
   "source": [
    "raddar_vs_sky_by_year"
   ]
  },
  {
   "cell_type": "code",
   "execution_count": 205,
   "metadata": {},
   "outputs": [],
   "source": [
    "data = []\n",
    "\n",
    "for i in range(1,101):    \n",
    "    i = i/100\n",
    "    ground_truth[\"blend\"] = ground_truth[\"sky_pred\"] * i + ground_truth[\"raddar_pred\"] * (1-i) \n",
    "    loss = brier_score_loss(ground_truth.Outcome, ground_truth.blend)\n",
    "    data.append([i, 1-i, loss])\n",
    "\n"
   ]
  },
  {
   "cell_type": "code",
   "execution_count": 206,
   "metadata": {},
   "outputs": [
    {
     "data": {
      "text/plain": [
       "[<matplotlib.lines.Line2D at 0x125dbc100>]"
      ]
     },
     "execution_count": 206,
     "metadata": {},
     "output_type": "execute_result"
    },
    {
     "data": {
      "image/png": "[encoded data removed]",
      "text/plain": [
       "<Figure size 432x288 with 1 Axes>"
      ]
     },
     "metadata": {
      "needs_background": "light"
     },
     "output_type": "display_data"
    }
   ],
   "source": [
    "tmp = pd.DataFrame(data, columns = [\"percent_sky\", \"percent_raddar\", \"loss\"])\n",
    "tmp.sort_values(by = \"percent_sky\", inplace=True)\n",
    "\n",
    "import matplotlib.pyplot as plt\n",
    "\n",
    "plt.plot(tmp.percent_sky, tmp.loss)"
   ]
  },
  {
   "cell_type": "markdown",
   "metadata": {},
   "source": [
    "Doesn't look like raddar preds help for most years.\n",
    "Except last year, which makes me nervous that I'm not tuning the raddar approach in previous years appropriately"
   ]
  },
  {
   "cell_type": "code",
   "execution_count": null,
   "metadata": {},
   "outputs": [],
   "source": []
  },
  {
   "cell_type": "code",
   "execution_count": null,
   "metadata": {},
   "outputs": [],
   "source": []
  },
  {
   "cell_type": "code",
   "execution_count": null,
   "metadata": {},
   "outputs": [],
   "source": []
  },
  {
   "cell_type": "code",
   "execution_count": 110,
   "metadata": {},
   "outputs": [],
   "source": [
    "raddar_preds = pd.read_csv(\"../submissions/raddar_2023.csv\")\n",
    "current_preds = pd.read_csv(\"../submissions/sub_2023_in_2024.csv\")"
   ]
  },
  {
   "cell_type": "code",
   "execution_count": 111,
   "metadata": {},
   "outputs": [],
   "source": [
    "current_preds.columns = [\"old_index\", \"ID\", \"current_preds\"]\n",
    "raddar_preds = raddar_preds[[\"ID\", \"Pred\"]]\n",
    "raddar_preds.columns = [\"ID\", \"raddar_preds\"]"
   ]
  },
  {
   "cell_type": "code",
   "execution_count": 112,
   "metadata": {},
   "outputs": [],
   "source": [
    "combined = current_preds.merge(raddar_preds, how=\"left\", on=\"ID\")"
   ]
  },
  {
   "cell_type": "code",
   "execution_count": 113,
   "metadata": {},
   "outputs": [],
   "source": [
    "combined = combined.merge(ground_truth, how = \"left\", on = \"ID\")"
   ]
  },
  {
   "cell_type": "code",
   "execution_count": 114,
   "metadata": {},
   "outputs": [],
   "source": [
    "combined = combined[combined.Outcome.notnull()]"
   ]
  },
  {
   "cell_type": "code",
   "execution_count": 115,
   "metadata": {},
   "outputs": [
    {
     "data": {
      "text/plain": [
       "0.20070122045159614"
      ]
     },
     "execution_count": 115,
     "metadata": {},
     "output_type": "execute_result"
    }
   ],
   "source": [
    "from sklearn.metrics import brier_score_loss\n",
    "\n",
    "brier_score_loss(combined.Outcome, combined.raddar_preds)\n"
   ]
  },
  {
   "cell_type": "code",
   "execution_count": 116,
   "metadata": {},
   "outputs": [
    {
     "data": {
      "text/plain": [
       "0.21835883109568746"
      ]
     },
     "execution_count": 116,
     "metadata": {},
     "output_type": "execute_result"
    }
   ],
   "source": [
    "brier_score_loss(combined.Outcome, combined.current_preds)"
   ]
  },
  {
   "cell_type": "code",
   "execution_count": null,
   "metadata": {},
   "outputs": [],
   "source": []
  },
  {
   "cell_type": "code",
   "execution_count": null,
   "metadata": {},
   "outputs": [],
   "source": []
  }
 ],
 "metadata": {
  "kernelspec": {
   "display_name": "ncaa_model",
   "language": "python",
   "name": "ncaa_model"
  },
  "language_info": {
   "codemirror_mode": {
    "name": "ipython",
    "version": 3
   },
   "file_extension": ".py",
   "mimetype": "text/x-python",
   "name": "python",
   "nbconvert_exporter": "python",
   "pygments_lexer": "ipython3",
   "version": "3.8.9"
  }
 },
 "nbformat": 4,
 "nbformat_minor": 2
}

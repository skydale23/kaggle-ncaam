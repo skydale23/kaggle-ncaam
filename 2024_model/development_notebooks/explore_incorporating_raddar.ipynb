{
 "cells": [
  {
   "cell_type": "code",
   "execution_count": 99,
   "metadata": {},
   "outputs": [],
   "source": [
    "import pandas as pd"
   ]
  },
  {
   "cell_type": "code",
   "execution_count": 100,
   "metadata": {},
   "outputs": [],
   "source": [
    "tourney_results = pd.read_csv(\"../data/MNCAATourneyDetailedResults.csv\")\n",
    "tourney_results = tourney_results[tourney_results.Season == 2023] \n",
    "t1 = tourney_results[[\"WTeamID\", \"LTeamID\"]].copy()\n",
    "t1.columns = [\"Team1\", \"Team2\"]\n",
    "t2 = tourney_results[[\"LTeamID\", \"WTeamID\"]].copy() \n",
    "t2.columns = [\"Team1\", \"Team2\"]\n",
    "t1[\"Outcome\"] = 1\n",
    "t2[\"Outcome\"] = 0\n",
    "ground_truth = pd.concat([t1,t2], axis=0)\n",
    "ground_truth[\"ID\"] = \"2023_\" + ground_truth[\"Team1\"].astype(str) + \"_\" +ground_truth[\"Team2\"].astype(str)\n"
   ]
  },
  {
   "cell_type": "code",
   "execution_count": 101,
   "metadata": {},
   "outputs": [],
   "source": [
    "raddar_preds = pd.read_csv(\"../submissions/raddar_2023.csv\")\n",
    "current_preds = pd.read_csv(\"../submissions/sub_2023_in_2024.csv\")"
   ]
  },
  {
   "cell_type": "code",
   "execution_count": 102,
   "metadata": {},
   "outputs": [],
   "source": [
    "current_preds.columns = [\"old_index\", \"ID\", \"current_preds\"]\n",
    "raddar_preds = raddar_preds[[\"ID\", \"Pred\"]]\n",
    "raddar_preds.columns = [\"ID\", \"raddar_preds\"]"
   ]
  },
  {
   "cell_type": "code",
   "execution_count": 103,
   "metadata": {},
   "outputs": [],
   "source": [
    "combined = current_preds.merge(raddar_preds, how=\"left\", on=\"ID\")"
   ]
  },
  {
   "cell_type": "code",
   "execution_count": 104,
   "metadata": {},
   "outputs": [],
   "source": [
    "combined = combined.merge(ground_truth, how = \"left\", on = \"ID\")"
   ]
  },
  {
   "cell_type": "code",
   "execution_count": 105,
   "metadata": {},
   "outputs": [],
   "source": [
    "combined = combined[combined.Outcome.notnull()]"
   ]
  },
  {
   "cell_type": "code",
   "execution_count": 106,
   "metadata": {},
   "outputs": [
    {
     "data": {
      "text/plain": [
       "0.2007012204515962"
      ]
     },
     "execution_count": 106,
     "metadata": {},
     "output_type": "execute_result"
    }
   ],
   "source": [
    "from sklearn.metrics import brier_score_loss\n",
    "\n",
    "brier_score_loss(combined.Outcome, combined.raddar_preds)\n"
   ]
  },
  {
   "cell_type": "code",
   "execution_count": 107,
   "metadata": {},
   "outputs": [
    {
     "data": {
      "text/plain": [
       "0.2183588310956874"
      ]
     },
     "execution_count": 107,
     "metadata": {},
     "output_type": "execute_result"
    }
   ],
   "source": [
    "brier_score_loss(combined.Outcome, combined.current_preds)"
   ]
  },
  {
   "cell_type": "code",
   "execution_count": null,
   "metadata": {},
   "outputs": [],
   "source": []
  },
  {
   "cell_type": "code",
   "execution_count": null,
   "metadata": {},
   "outputs": [],
   "source": []
  }
 ],
 "metadata": {
  "kernelspec": {
   "display_name": "ncaa_model",
   "language": "python",
   "name": "ncaa_model"
  },
  "language_info": {
   "codemirror_mode": {
    "name": "ipython",
    "version": 3
   },
   "file_extension": ".py",
   "mimetype": "text/x-python",
   "name": "python",
   "nbconvert_exporter": "python",
   "pygments_lexer": "ipython3",
   "version": "3.8.9"
  }
 },
 "nbformat": 4,
 "nbformat_minor": 2
}

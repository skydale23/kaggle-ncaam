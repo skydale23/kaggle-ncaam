{
 "cells": [
  {
   "cell_type": "code",
   "execution_count": 8,
   "metadata": {},
   "outputs": [],
   "source": [
    "import pandas as pd"
   ]
  },
  {
   "cell_type": "code",
   "execution_count": 17,
   "metadata": {},
   "outputs": [],
   "source": [
    "to_predict_mens = pd.read_csv('to_predict_mens.csv')\n"
   ]
  },
  {
   "cell_type": "code",
   "execution_count": 18,
   "metadata": {},
   "outputs": [],
   "source": [
    "to_predict_mens = pd.read_csv('to_predict_mens.csv')\n",
    "teams = pd.read_csv('../Data/MTeams.csv')\n",
    "teams1 = teams.rename(columns = {\"TeamID\": \"Team1\", \"TeamName\":\"Team1_Name\"})\n",
    "to_predict_mens = to_predict_mens.merge(teams1, how=\"left\", on=\"Team1\")\n",
    "teams2 = teams.rename(columns = {\"TeamID\": \"Team2\", \"TeamName\":\"Team2_Name\"})\n",
    "to_predict_mens = to_predict_mens.merge(teams2, how=\"left\", on=\"Team2\")\n",
    "kaggle_df = to_predict_mens[to_predict_mens.type == \"Historical\"]"
   ]
  },
  {
   "cell_type": "code",
   "execution_count": 19,
   "metadata": {},
   "outputs": [],
   "source": [
    "kaggle_df = to_predict_mens[to_predict_mens.type == \"Historical\"]"
   ]
  },
  {
   "cell_type": "code",
   "execution_count": 20,
   "metadata": {},
   "outputs": [],
   "source": [
    "first_round_odds_data = pd.read_csv('../data/first_round_odds_data.csv')\n",
    "\n",
    "first_round_odds_data[\"Date\"] = pd.to_datetime(first_round_odds_data[\"Date\"], format='%b %d, %Y')\n",
    "\n",
    "# Extract the year\n",
    "first_round_odds_data['year'] = first_round_odds_data[\"Date\"].dt.year\n",
    "\n",
    "kaggle_df[\"year\"] = kaggle_df[\"ID\"].apply(lambda x: x[0:4])\n",
    "kaggle_df[\"year\"] = kaggle_df[\"year\"].astype(int)\n",
    "\n",
    "first_round_odds_data1 = first_round_odds_data.rename(columns={\"kaggle_team\": \"Team1_Name\",\n",
    "                                                               \"odds\": \"odds_team1\"})\n",
    "kaggle_df = kaggle_df.merge(first_round_odds_data1, how=\"left\", on=[\"year\", \"Team1_Name\"])\n",
    "\n",
    "first_round_odds_data2 = first_round_odds_data.rename(columns={\"kaggle_team\": \"Team2_Name\",\n",
    "                                                               \"odds\": \"odds_team2\"\n",
    "                                                               })\n",
    "kaggle_df = kaggle_df.merge(first_round_odds_data2, how=\"left\", on=[\"year\", \"Team2_Name\"])\n",
    "\n",
    "import numpy as np\n",
    "kaggle_df[\"final_odds\"] = np.where(kaggle_df.odds_team1.isna(),\n",
    "                                    kaggle_df.odds_team2 * -1, \n",
    "                                    kaggle_df.odds_team1 )\n",
    "\n",
    "\n",
    "final_df = kaggle_df[(~kaggle_df.final_odds.isna())\n",
    "                     & (~kaggle_df.Total_x.isna())                     \n",
    "                     ].copy()     \n",
    "\n"
   ]
  },
  {
   "cell_type": "code",
   "execution_count": 21,
   "metadata": {},
   "outputs": [],
   "source": []
  },
  {
   "cell_type": "code",
   "execution_count": 22,
   "metadata": {},
   "outputs": [
    {
     "name": "stderr",
     "output_type": "stream",
     "text": [
      "/var/folders/2g/465yxy_x4g786jx2llr5xqh40000gn/T/ipykernel_2721/2816333077.py:1: SettingWithCopyWarning: \n",
      "A value is trying to be set on a copy of a slice from a DataFrame.\n",
      "Try using .loc[row_indexer,col_indexer] = value instead\n",
      "\n",
      "See the caveats in the documentation: https://pandas.pydata.org/pandas-docs/stable/user_guide/indexing.html#returning-a-view-versus-a-copy\n",
      "  kaggle_df[\"year\"] = kaggle_df[\"ID\"].apply(lambda x: x[0:4])\n",
      "/var/folders/2g/465yxy_x4g786jx2llr5xqh40000gn/T/ipykernel_2721/2816333077.py:2: SettingWithCopyWarning: \n",
      "A value is trying to be set on a copy of a slice from a DataFrame.\n",
      "Try using .loc[row_indexer,col_indexer] = value instead\n",
      "\n",
      "See the caveats in the documentation: https://pandas.pydata.org/pandas-docs/stable/user_guide/indexing.html#returning-a-view-versus-a-copy\n",
      "  kaggle_df[\"year\"] = kaggle_df[\"year\"].astype(int)\n"
     ]
    }
   ],
   "source": []
  },
  {
   "cell_type": "code",
   "execution_count": null,
   "metadata": {},
   "outputs": [],
   "source": []
  },
  {
   "cell_type": "code",
   "execution_count": 23,
   "metadata": {},
   "outputs": [],
   "source": []
  },
  {
   "cell_type": "code",
   "execution_count": 24,
   "metadata": {},
   "outputs": [],
   "source": [
    "# kaggle_df[(kaggle_df.odds_team1.isna())\n",
    "#           & (kaggle_df.odds_team2.isna())          \n",
    "#           ][[\"Team1_Name\", \"Team2_Name\", \"year\"]]\n",
    "\n",
    "                               "
   ]
  },
  {
   "cell_type": "code",
   "execution_count": 25,
   "metadata": {},
   "outputs": [],
   "source": []
  },
  {
   "cell_type": "markdown",
   "metadata": {},
   "source": [
    "### Model"
   ]
  },
  {
   "cell_type": "code",
   "execution_count": 26,
   "metadata": {},
   "outputs": [],
   "source": [
    "from sklearn.linear_model import LogisticRegression\n",
    "from sklearn.linear_model import LogisticRegressionCV\n",
    "from sklearn.model_selection import GridSearchCV\n",
    "from sklearn.ensemble import RandomForestClassifier\n",
    "from sklearn.metrics import confusion_matrix\n",
    "from sklearn.metrics import classification_report\n",
    "from sklearn.metrics import log_loss\n",
    "from sklearn.feature_selection import chi2\n",
    "from sklearn.metrics import r2_score\n",
    "import numpy as np\n",
    "from sklearn.model_selection import train_test_split\n",
    "from sklearn.preprocessing import StandardScaler\n",
    "from sklearn.pipeline import Pipeline\n",
    "from sklearn.metrics import brier_score_loss\n"
   ]
  },
  {
   "cell_type": "code",
   "execution_count": 29,
   "metadata": {},
   "outputs": [],
   "source": [
    "#final_df_full = final_df.copy()\n",
    "# final_df = final_df_full.copy()"
   ]
  },
  {
   "cell_type": "code",
   "execution_count": 30,
   "metadata": {},
   "outputs": [],
   "source": [
    "def split_first_round(df):\n",
    "\n",
    "   first_round_df = df[\n",
    "\n",
    "      ( (df.t1_Seed == 1) & (df.t2_Seed == 16) ) |\n",
    "      ( (df.t1_Seed == 2) & (df.t2_Seed == 15) ) |\n",
    "      ( (df.t1_Seed == 3) & (df.t2_Seed == 14) ) |\n",
    "      ( (df.t1_Seed == 4) & (df.t2_Seed == 13) ) |\n",
    "      ( (df.t1_Seed == 5) & (df.t2_Seed == 12) ) |\n",
    "      ( (df.t1_Seed == 6) & (df.t2_Seed == 11) ) |\n",
    "      ( (df.t1_Seed == 7) & (df.t2_Seed == 10) ) |\n",
    "      ( (df.t1_Seed == 8) & (df.t2_Seed == 9) ) |\n",
    "      ( (df.t1_Seed == 9) & (df.t2_Seed == 8) ) |\n",
    "      ( (df.t1_Seed == 10) & (df.t2_Seed == 7) ) |\n",
    "      ( (df.t1_Seed == 11) & (df.t2_Seed == 6) ) |\n",
    "      ( (df.t1_Seed == 12) & (df.t2_Seed == 5) ) |\n",
    "      ( (df.t1_Seed == 13) & (df.t2_Seed == 4) ) |\n",
    "      ( (df.t1_Seed == 14) & (df.t2_Seed == 3) ) |\n",
    "      ( (df.t1_Seed == 15) & (df.t2_Seed == 2) ) |\n",
    "      ( (df.t1_Seed == 16) & (df.t2_Seed == 1) ) \n",
    "   ].copy()\n",
    "\n",
    "   other_rounds_df = df[\n",
    "\n",
    "        ~(\n",
    "      ( (df.t1_Seed == 1) & (df.t2_Seed == 16) ) |\n",
    "      ( (df.t1_Seed == 2) & (df.t2_Seed == 15) ) |\n",
    "      ( (df.t1_Seed == 3) & (df.t2_Seed == 14) ) |\n",
    "      ( (df.t1_Seed == 4) & (df.t2_Seed == 13) ) |\n",
    "      ( (df.t1_Seed == 5) & (df.t2_Seed == 12) ) |\n",
    "      ( (df.t1_Seed == 6) & (df.t2_Seed == 11) ) |\n",
    "      ( (df.t1_Seed == 7) & (df.t2_Seed == 10) ) |\n",
    "      ( (df.t1_Seed == 8) & (df.t2_Seed == 9) ) |\n",
    "      ( (df.t1_Seed == 9) & (df.t2_Seed == 8) ) |\n",
    "      ( (df.t1_Seed == 10) & (df.t2_Seed == 7) ) |\n",
    "      ( (df.t1_Seed == 11) & (df.t2_Seed == 6) ) |\n",
    "      ( (df.t1_Seed == 12) & (df.t2_Seed == 5) ) |\n",
    "      ( (df.t1_Seed == 13) & (df.t2_Seed == 4) ) |\n",
    "      ( (df.t1_Seed == 14) & (df.t2_Seed == 3) ) |\n",
    "      ( (df.t1_Seed == 15) & (df.t2_Seed == 2) ) |\n",
    "      ( (df.t1_Seed == 16) & (df.t2_Seed == 1) )\n",
    "        ) \n",
    "   ].copy()\n",
    "\n",
    "   return first_round_df, other_rounds_df"
   ]
  },
  {
   "cell_type": "code",
   "execution_count": 35,
   "metadata": {},
   "outputs": [],
   "source": [
    "full_df = final_df.copy()"
   ]
  },
  {
   "cell_type": "code",
   "execution_count": 36,
   "metadata": {},
   "outputs": [],
   "source": [
    "first_round_df, other_rounds_df = split_first_round(final_df)\n"
   ]
  },
  {
   "cell_type": "code",
   "execution_count": 37,
   "metadata": {},
   "outputs": [],
   "source": [
    "final_df = first_round_df.copy()"
   ]
  },
  {
   "cell_type": "code",
   "execution_count": 72,
   "metadata": {},
   "outputs": [],
   "source": [
    "# final_df = final_df_full.copy()\n",
    "\n",
    "train = final_df[final_df.Season < 2017].copy()\n",
    "test = final_df[final_df.Season >= 2017].copy()\n",
    "\n",
    "first_round_features = [\n",
    "            'seed_diff', \n",
    "              't1_adj_margin', 't2_adj_margin',\n",
    "                't1_final_rank', 't2_final_rank',\n",
    "                't1_OrdinalRank', 't2_OrdinalRank',\n",
    "                'final_odds', \n",
    "                'Total_x']\n",
    "\n",
    "\n",
    "first_round_features = [\n",
    "            'seed_diff', \n",
    "              't1_adj_margin', 't2_adj_margin',\n",
    "                't1_final_rank', 't2_final_rank',\n",
    "                't1_OrdinalRank', 't2_OrdinalRank',\n",
    "                # 'final_odds', \n",
    "                # 'Total_x'\n",
    "                ]\n",
    "\n",
    "\n",
    "other_round_features = [\n",
    "            'seed_diff', \n",
    "              't1_adj_margin', 't2_adj_margin',\n",
    "                't1_final_rank', 't2_final_rank',\n",
    "                't1_OrdinalRank', 't2_OrdinalRank']\n",
    "\n",
    "features = first_round_features\n",
    "\n",
    "target = 'Outcome'\n",
    "\n",
    "train[target] = train[target].astype(int)\n",
    "\n",
    "train[features] = StandardScaler().fit_transform(train[features])"
   ]
  },
  {
   "cell_type": "code",
   "execution_count": 73,
   "metadata": {},
   "outputs": [],
   "source": [
    "from sklearn.ensemble import RandomForestClassifier"
   ]
  },
  {
   "cell_type": "code",
   "execution_count": 74,
   "metadata": {},
   "outputs": [],
   "source": [
    "def get_best_params_from_grid_search(train, features, target, model, parameters, scoring, verbose=10):\n",
    "    gs = GridSearchCV(estimator=model, param_grid=parameters, scoring=scoring, verbose=verbose)\n",
    "    gs.fit(train[features], train[target])\n",
    "    return gs.best_params_, gs\n",
    "\n",
    "model = LogisticRegression(random_state=23)\n",
    "parameters = {'C':[.00001, .0001, .001, .01, .1, 1, 100, 1000]}\n",
    "\n",
    "# model = RandomForestClassifier(random_state=23)\n",
    "# parameters = {'min_samples_leaf':[2, 3, 4, 5, 10],\n",
    "#               'max_depth':[2, 3, 4, 5, 10],}\n",
    "\n",
    "best_params, gs = get_best_params_from_grid_search(train, features, target, model, parameters, \n",
    "                                               scoring='neg_brier_score', verbose=0)"
   ]
  },
  {
   "cell_type": "code",
   "execution_count": 75,
   "metadata": {},
   "outputs": [
    {
     "data": {
      "text/plain": [
       "(-0.16746171439609286, {'C': 0.01})"
      ]
     },
     "execution_count": 75,
     "metadata": {},
     "output_type": "execute_result"
    }
   ],
   "source": [
    "# first round\n",
    "gs.best_score_, gs.best_params_"
   ]
  },
  {
   "cell_type": "code",
   "execution_count": 76,
   "metadata": {},
   "outputs": [
    {
     "data": {
      "text/plain": [
       "(-0.16746171439609286, {'C': 0.01})"
      ]
     },
     "execution_count": 76,
     "metadata": {},
     "output_type": "execute_result"
    }
   ],
   "source": [
    "# other round\n",
    "gs.best_score_, gs.best_params_"
   ]
  },
  {
   "cell_type": "code",
   "execution_count": 77,
   "metadata": {},
   "outputs": [],
   "source": [
    "def rolling_season_cv(first_round_model, other_round_model, train_input, first_round_features, other_round_features, label='Outcome', cv_start=2007):\n",
    "    ''' returns estimate for model performance using shifted validation'''\n",
    "    \n",
    "    scores = []\n",
    "\n",
    "    for n, season in enumerate(train_input.Season.unique()):\n",
    "        \n",
    "        if season >= cv_start:\n",
    "\n",
    "            train = train_input[train_input.Season < season]\n",
    "            test = train_input[train_input.Season == season]\n",
    "\n",
    "            train_first_round_df, train_other_rounds_df = split_first_round(train)\n",
    "            test_first_round_df, test_other_rounds_df = split_first_round(test)\n",
    "\n",
    "            # first round\n",
    "            first_round_X_train = train_first_round_df[first_round_features]\n",
    "            first_round_X_test = test_first_round_df[first_round_features]\n",
    "            first_round_y_train = train_first_round_df[label]\n",
    "            first_round_y_test = test_first_round_df[label]\n",
    "            \n",
    "            first_round_model.fit(first_round_X_train[first_round_features], first_round_y_train)\n",
    "            first_round_y_prob = first_round_model.predict_proba(first_round_X_test[first_round_features])[:,1]\n",
    "\n",
    "            # other round\n",
    "            other_round_X_train = train_other_rounds_df[other_round_features]\n",
    "            other_round_X_test = test_other_rounds_df[other_round_features]\n",
    "            other_round_y_train = train_other_rounds_df[label]\n",
    "            other_round_y_test = test_other_rounds_df[label]\n",
    "            \n",
    "            other_round_model.fit(other_round_X_train[other_round_features], other_round_y_train)\n",
    "            other_round_y_prob = other_round_model.predict_proba(other_round_X_test[other_round_features])[:,1]\n",
    "\n",
    "            y_test = pd.concat([first_round_y_test, other_round_y_test], axis=0)\n",
    "            y_prob = np.concatenate((first_round_y_prob, other_round_y_prob), axis=0)\n",
    "            \n",
    "            loss = brier_score_loss(y_test, y_prob)\n",
    "            scores.append((season, loss))\n",
    "\n",
    "    validation_df = pd.DataFrame(scores, columns = ['season', 'score']).sort_values(by = 'score')\n",
    "    avg_validation_score = validation_df.score.mean()\n",
    "    return avg_validation_score\n"
   ]
  },
  {
   "cell_type": "code",
   "execution_count": 78,
   "metadata": {},
   "outputs": [],
   "source": [
    "def rolling_season_cv(model, train_input, features, label='Outcome', cv_start=2007):\n",
    "    ''' returns estimate for model performance using shifted validation'''\n",
    "    \n",
    "    scores = []\n",
    "\n",
    "    for n, season in enumerate(train_input.Season.unique()):\n",
    "        \n",
    "        if season >= cv_start:\n",
    "\n",
    "            train = train_input[train_input.Season < season]\n",
    "            test = train_input[train_input.Season == season]\n",
    "\n",
    "            X_train = train[features]\n",
    "            X_test = test[features]\n",
    "            y_train = train[label]\n",
    "            y_test = test[label]\n",
    "\n",
    "            model.fit(X_train[features], y_train)\n",
    "            y_prob = model.predict_proba(X_test[features])\n",
    "            loss = brier_score_loss(y_test, y_prob[:,1])\n",
    "            scores.append((season, loss))\n",
    "\n",
    "    validation_df = pd.DataFrame(scores, columns = ['season', 'score']).sort_values(by = 'score')\n",
    "    avg_validation_score = validation_df.score.mean()\n",
    "    return avg_validation_score\n"
   ]
  },
  {
   "cell_type": "code",
   "execution_count": 79,
   "metadata": {},
   "outputs": [
    {
     "data": {
      "text/plain": [
       "0.17084577628955183"
      ]
     },
     "execution_count": 79,
     "metadata": {},
     "output_type": "execute_result"
    }
   ],
   "source": [
    "first_round_model = LogisticRegression(C=.01)\n",
    "\n",
    "rolling_season_cv(first_round_model, train,                   \n",
    "                  first_round_features)"
   ]
  },
  {
   "cell_type": "code",
   "execution_count": 71,
   "metadata": {},
   "outputs": [
    {
     "data": {
      "text/plain": [
       "0.17083748120747583"
      ]
     },
     "execution_count": 71,
     "metadata": {},
     "output_type": "execute_result"
    }
   ],
   "source": [
    "first_round_model = LogisticRegression(C=.1)\n",
    "\n",
    "rolling_season_cv(first_round_model, train,                   \n",
    "                  first_round_features)"
   ]
  },
  {
   "cell_type": "code",
   "execution_count": 45,
   "metadata": {},
   "outputs": [
    {
     "data": {
      "text/plain": [
       "0.1679768416553255"
      ]
     },
     "execution_count": 45,
     "metadata": {},
     "output_type": "execute_result"
    }
   ],
   "source": [
    "first_round_model = LogisticRegression(C=1)\n",
    "\n",
    "rolling_season_cv(first_round_model, train,                   \n",
    "                  first_round_features)"
   ]
  },
  {
   "cell_type": "code",
   "execution_count": null,
   "metadata": {},
   "outputs": [],
   "source": []
  },
  {
   "cell_type": "code",
   "execution_count": 448,
   "metadata": {},
   "outputs": [],
   "source": [
    "# model = RandomForestClassifier(**{'max_depth': 5, \n",
    "#                                   'min_samples_leaf': 4,\n",
    "#                                   'n_estimators': 1000})\n",
    "# rolling_season_cv(model, train, features)"
   ]
  },
  {
   "cell_type": "code",
   "execution_count": 453,
   "metadata": {},
   "outputs": [],
   "source": [
    "other_round_model = LogisticRegression(C=.1)\n"
   ]
  },
  {
   "cell_type": "code",
   "execution_count": 454,
   "metadata": {},
   "outputs": [
    {
     "data": {
      "text/plain": [
       "0.1794061331648122"
      ]
     },
     "execution_count": 454,
     "metadata": {},
     "output_type": "execute_result"
    }
   ],
   "source": [
    "rolling_season_cv(first_round_model, other_round_model, train,                   \n",
    "                  first_round_features, other_round_features)"
   ]
  },
  {
   "cell_type": "code",
   "execution_count": null,
   "metadata": {},
   "outputs": [],
   "source": []
  },
  {
   "cell_type": "code",
   "execution_count": 286,
   "metadata": {},
   "outputs": [
    {
     "data": {
      "text/plain": [
       "0.18230801009918612"
      ]
     },
     "execution_count": 286,
     "metadata": {},
     "output_type": "execute_result"
    }
   ],
   "source": [
    "model = LogisticRegression(C=.01)\n",
    "rolling_season_cv(model, train, features)"
   ]
  },
  {
   "cell_type": "code",
   "execution_count": null,
   "metadata": {},
   "outputs": [],
   "source": []
  },
  {
   "cell_type": "code",
   "execution_count": null,
   "metadata": {},
   "outputs": [
    {
     "data": {
      "text/plain": [
       "0.18023711399612496"
      ]
     },
     "execution_count": 248,
     "metadata": {},
     "output_type": "execute_result"
    }
   ],
   "source": [
    "model = LogisticRegression(C=.01)\n",
    "rolling_season_cv(model, train, features)"
   ]
  },
  {
   "cell_type": "code",
   "execution_count": null,
   "metadata": {},
   "outputs": [
    {
     "data": {
      "text/plain": [
       "0.18029456175758835"
      ]
     },
     "execution_count": 254,
     "metadata": {},
     "output_type": "execute_result"
    }
   ],
   "source": [
    "model = LogisticRegression(C=.01)\n",
    "rolling_season_cv(model, train, features)"
   ]
  },
  {
   "cell_type": "code",
   "execution_count": null,
   "metadata": {},
   "outputs": [
    {
     "data": {
      "text/plain": [
       "5.74477614633806e-05"
      ]
     },
     "execution_count": 255,
     "metadata": {},
     "output_type": "execute_result"
    }
   ],
   "source": [
    "0.18029456175758835 - 0.18023711399612496"
   ]
  },
  {
   "cell_type": "code",
   "execution_count": null,
   "metadata": {},
   "outputs": [
    {
     "data": {
      "text/plain": [
       "0.0009294799156148725"
      ]
     },
     "execution_count": 235,
     "metadata": {},
     "output_type": "execute_result"
    }
   ],
   "source": [
    "0.17084577628955183 - 0.16991629637393696"
   ]
  },
  {
   "cell_type": "code",
   "execution_count": null,
   "metadata": {},
   "outputs": [],
   "source": []
  }
 ],
 "metadata": {
  "kernelspec": {
   "display_name": "ncaa_model",
   "language": "python",
   "name": "ncaa_model"
  },
  "language_info": {
   "codemirror_mode": {
    "name": "ipython",
    "version": 3
   },
   "file_extension": ".py",
   "mimetype": "text/x-python",
   "name": "python",
   "nbconvert_exporter": "python",
   "pygments_lexer": "ipython3",
   "version": "3.8.9"
  }
 },
 "nbformat": 4,
 "nbformat_minor": 2
}

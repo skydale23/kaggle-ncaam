{
 "cells": [
  {
   "cell_type": "code",
   "execution_count": 1,
   "metadata": {},
   "outputs": [],
   "source": [
    "import pandas as pd\n",
    "import numpy as np\n",
    "import sys\n",
    "sys.path.append('../kaggle_prediction_library/') \n",
    "import preprocess\n",
    "import feature_engineering\n",
    "import submission\n",
    "import validation\n",
    "from sklearn.model_selection import train_test_split\n",
    "\n",
    "# from hyperopt import tpe, fmin, Trials\n",
    "# import hyperopt.hp as hp\n",
    "\n",
    "from sklearn.linear_model import LogisticRegression\n",
    "from sklearn.linear_model import LogisticRegressionCV\n",
    "from sklearn.model_selection import GridSearchCV\n",
    "from sklearn.ensemble import RandomForestClassifier\n",
    "from sklearn.metrics import confusion_matrix\n",
    "from sklearn.metrics import classification_report\n",
    "from sklearn.metrics import log_loss\n",
    "from sklearn.feature_selection import chi2\n",
    "from sklearn.metrics import r2_score\n",
    "import numpy as np\n",
    "from sklearn.model_selection import train_test_split\n",
    "from sklearn.preprocessing import StandardScaler\n",
    "from sklearn.pipeline import Pipeline\n",
    "from sklearn.metrics import brier_score_loss\n",
    "from sklearn.pipeline import make_pipeline\n",
    "\n"
   ]
  },
  {
   "cell_type": "markdown",
   "metadata": {},
   "source": [
    "### Read in Data"
   ]
  },
  {
   "cell_type": "code",
   "execution_count": 159,
   "metadata": {},
   "outputs": [],
   "source": [
    "to_predict_mens = pd.read_csv(\"to_predict_mens.csv\")"
   ]
  },
  {
   "cell_type": "code",
   "execution_count": 157,
   "metadata": {},
   "outputs": [],
   "source": [
    "ncaaw_odds = pd.read_csv(\"../data/ncaaw_first_round_odds.csv\")"
   ]
  },
  {
   "cell_type": "code",
   "execution_count": 160,
   "metadata": {},
   "outputs": [],
   "source": [
    "to_predict_womens = pd.read_csv(\"to_predict_women.csv\")\n"
   ]
  },
  {
   "cell_type": "code",
   "execution_count": 162,
   "metadata": {},
   "outputs": [],
   "source": [
    "to_predict_womens = to_predict_womens.merge(ncaaw_odds, how=\"left\", on=\"ID\")"
   ]
  },
  {
   "cell_type": "code",
   "execution_count": 138,
   "metadata": {},
   "outputs": [],
   "source": [
    "# to_predict_womens = to_predict_womens[ (to_predict_womens.Season == 2023)\n",
    "                 \n",
    "#                   & \n",
    "#                  ( \n",
    "#                  ((to_predict_womens.t1_Seed == 1) & (to_predict_womens.t2_Seed == 16))\n",
    "#                  | ((to_predict_womens.t1_Seed == 2) & (to_predict_womens.t2_Seed == 15))\n",
    "#                  | ((to_predict_womens.t1_Seed == 3) & (to_predict_womens.t2_Seed == 14))\n",
    "#                  | ((to_predict_womens.t1_Seed == 4) & (to_predict_womens.t2_Seed == 13))\n",
    "#                  | ((to_predict_womens.t1_Seed == 5) & (to_predict_womens.t2_Seed == 12))\n",
    "#                  | ((to_predict_womens.t1_Seed == 6) & (to_predict_womens.t2_Seed == 11))\n",
    "#                  | ((to_predict_womens.t1_Seed == 7) & (to_predict_womens.t2_Seed == 10))\n",
    "#                  | ((to_predict_womens.t1_Seed == 8) & (to_predict_womens.t2_Seed == 9))\n",
    "#                  | ((to_predict_womens.t1_Seed == 9) & (to_predict_womens.t2_Seed == 8))\n",
    "#                  | ((to_predict_womens.t1_Seed == 10) & (to_predict_womens.t2_Seed == 7))\n",
    "#                  | ((to_predict_womens.t1_Seed == 11) & (to_predict_womens.t2_Seed == 6))\n",
    "#                  | ((to_predict_womens.t1_Seed == 12) & (to_predict_womens.t2_Seed == 5))\n",
    "#                  | ((to_predict_womens.t1_Seed == 13) & (to_predict_womens.t2_Seed == 4))\n",
    "#                  | ((to_predict_womens.t1_Seed == 14) & (to_predict_womens.t2_Seed == 3))\n",
    "#                  | ((to_predict_womens.t1_Seed == 15) & (to_predict_womens.t2_Seed == 2))\n",
    "#                  | ((to_predict_womens.t1_Seed == 16) & (to_predict_womens.t2_Seed == 1))\n",
    "#                  )\n",
    "                  \n",
    "#                   ]"
   ]
  },
  {
   "cell_type": "markdown",
   "metadata": {},
   "source": [
    "### Womens Only"
   ]
  },
  {
   "cell_type": "code",
   "execution_count": 3,
   "metadata": {},
   "outputs": [],
   "source": [
    "def feature_set_evaluator(feature_sets, df, model, param_grid):\n",
    "   \n",
    "    eval_dfs = []\n",
    "\n",
    "    for i, f in tqdm.tqdm(enumerate(feature_sets)):\n",
    "        eval_df = validation.run_evaluation_framework(df, model, f, param_grid, cv_start=2015)\n",
    "        eval_df[\"feature_set\"] = [f]\n",
    "        eval_dfs.append(eval_df)\n",
    "\n",
    "    all_scores = pd.concat(eval_dfs, axis=0)\n",
    "    \n",
    "    return all_scores"
   ]
  },
  {
   "cell_type": "code",
   "execution_count": 4,
   "metadata": {},
   "outputs": [],
   "source": [
    "f1 = ['t1_Seed', 't2_Seed', 'seed_diff',\n",
    "       't1_adj_oe', 't1_adj_de', 't1_adj_margin', 't2_adj_oe', 't2_adj_de',\n",
    "       't2_adj_margin']\n",
    "\n",
    "f2 = ['seed_diff',\n",
    "       't1_adj_oe', 't1_adj_de', 't1_adj_margin', 't2_adj_oe', 't2_adj_de',\n",
    "       't2_adj_margin']\n",
    "\n",
    "f3 = ['seed_diff',\n",
    "       't1_adj_margin',\n",
    "       't2_adj_margin']\n",
    "\n",
    "f4 = ['seed_diff', 't1_adj_oe', 't1_adj_de', 't2_adj_oe', 't2_adj_de',]\n",
    "\n",
    "f5 =  ['t1_adj_margin',\n",
    "       't2_adj_margin']\n",
    "\n",
    "f6 =  ['seed_diff']\n"
   ]
  },
  {
   "cell_type": "code",
   "execution_count": 5,
   "metadata": {},
   "outputs": [],
   "source": [
    "to_predict_womens = to_predict_womens[to_predict_womens.type != \"Prediction\"].copy()"
   ]
  },
  {
   "cell_type": "code",
   "execution_count": 8,
   "metadata": {},
   "outputs": [
    {
     "name": "stderr",
     "output_type": "stream",
     "text": [
      "6it [01:04, 10.79s/it]\n"
     ]
    }
   ],
   "source": [
    "# Define the classifier and parameter grid\n",
    "model = LogisticRegression()\n",
    "param_grid = {\n",
    "    'logisticregression__C': [.005, 0.001, .05, 0.01, 0.1],\n",
    "}\n",
    "pipeline = make_pipeline(StandardScaler(), model)\n",
    "\n",
    "# eval_df = validation.run_evaluation_framework(to_predict_womens, pipeline, f4, param_grid)\n",
    "\n",
    "import tqdm\n",
    "all_scores_df = feature_set_evaluator([f1, f2, f3, f4, f5, f6\n",
    "                                       ], to_predict_womens, pipeline, param_grid)\n"
   ]
  },
  {
   "cell_type": "code",
   "execution_count": 9,
   "metadata": {},
   "outputs": [
    {
     "data": {
      "text/html": [
       "<div>\n",
       "<style scoped>\n",
       "    .dataframe tbody tr th:only-of-type {\n",
       "        vertical-align: middle;\n",
       "    }\n",
       "\n",
       "    .dataframe tbody tr th {\n",
       "        vertical-align: top;\n",
       "    }\n",
       "\n",
       "    .dataframe thead th {\n",
       "        text-align: right;\n",
       "    }\n",
       "</style>\n",
       "<table border=\"1\" class=\"dataframe\">\n",
       "  <thead>\n",
       "    <tr style=\"text-align: right;\">\n",
       "      <th></th>\n",
       "      <th>best_params</th>\n",
       "      <th>mean_repeated_cv_score</th>\n",
       "      <th>repeated_cv_confidence_interval</th>\n",
       "      <th>rolling_season_cv</th>\n",
       "      <th>feature_set</th>\n",
       "      <th>rolling_season_cv_rank</th>\n",
       "      <th>mean_repeated_cv_score_rank</th>\n",
       "    </tr>\n",
       "  </thead>\n",
       "  <tbody>\n",
       "    <tr>\n",
       "      <th>0</th>\n",
       "      <td>{'logisticregression__C': 0.1}</td>\n",
       "      <td>-0.140616</td>\n",
       "      <td>(-0.14249565822956378, -0.13873729882136898)</td>\n",
       "      <td>0.141984</td>\n",
       "      <td>[seed_diff, t1_adj_margin, t2_adj_margin]</td>\n",
       "      <td>4.0</td>\n",
       "      <td>1.0</td>\n",
       "    </tr>\n",
       "    <tr>\n",
       "      <th>0</th>\n",
       "      <td>{'logisticregression__C': 0.05}</td>\n",
       "      <td>-0.140723</td>\n",
       "      <td>(-0.14261758064070462, -0.1388291849538173)</td>\n",
       "      <td>0.141743</td>\n",
       "      <td>[seed_diff, t1_adj_oe, t1_adj_de, t2_adj_oe, t2_adj_de]</td>\n",
       "      <td>1.0</td>\n",
       "      <td>2.0</td>\n",
       "    </tr>\n",
       "    <tr>\n",
       "      <th>0</th>\n",
       "      <td>{'logisticregression__C': 0.05}</td>\n",
       "      <td>-0.140741</td>\n",
       "      <td>(-0.14249052718155134, -0.1389920687441105)</td>\n",
       "      <td>0.141753</td>\n",
       "      <td>[seed_diff, t1_adj_oe, t1_adj_de, t1_adj_margin, t2_adj_oe, t2_adj_de, t2_adj_margin]</td>\n",
       "      <td>2.0</td>\n",
       "      <td>3.0</td>\n",
       "    </tr>\n",
       "    <tr>\n",
       "      <th>0</th>\n",
       "      <td>{'logisticregression__C': 0.05}</td>\n",
       "      <td>-0.140937</td>\n",
       "      <td>(-0.1427822345474472, -0.1390920421097826)</td>\n",
       "      <td>0.141802</td>\n",
       "      <td>[t1_Seed, t2_Seed, seed_diff, t1_adj_oe, t1_adj_de, t1_adj_margin, t2_adj_oe, t2_adj_de, t2_adj_margin]</td>\n",
       "      <td>3.0</td>\n",
       "      <td>4.0</td>\n",
       "    </tr>\n",
       "    <tr>\n",
       "      <th>0</th>\n",
       "      <td>{'logisticregression__C': 0.1}</td>\n",
       "      <td>-0.149243</td>\n",
       "      <td>(-0.15115935429500302, -0.14732657757927828)</td>\n",
       "      <td>0.149736</td>\n",
       "      <td>[t1_adj_margin, t2_adj_margin]</td>\n",
       "      <td>5.0</td>\n",
       "      <td>5.0</td>\n",
       "    </tr>\n",
       "    <tr>\n",
       "      <th>0</th>\n",
       "      <td>{'logisticregression__C': 0.1}</td>\n",
       "      <td>-0.153285</td>\n",
       "      <td>(-0.15498227885364144, -0.15158797068186533)</td>\n",
       "      <td>0.153750</td>\n",
       "      <td>[seed_diff]</td>\n",
       "      <td>6.0</td>\n",
       "      <td>6.0</td>\n",
       "    </tr>\n",
       "  </tbody>\n",
       "</table>\n",
       "</div>"
      ],
      "text/plain": [
       "                       best_params  mean_repeated_cv_score  \\\n",
       "0   {'logisticregression__C': 0.1}               -0.140616   \n",
       "0  {'logisticregression__C': 0.05}               -0.140723   \n",
       "0  {'logisticregression__C': 0.05}               -0.140741   \n",
       "0  {'logisticregression__C': 0.05}               -0.140937   \n",
       "0   {'logisticregression__C': 0.1}               -0.149243   \n",
       "0   {'logisticregression__C': 0.1}               -0.153285   \n",
       "\n",
       "                repeated_cv_confidence_interval  rolling_season_cv  \\\n",
       "0  (-0.14249565822956378, -0.13873729882136898)           0.141984   \n",
       "0   (-0.14261758064070462, -0.1388291849538173)           0.141743   \n",
       "0   (-0.14249052718155134, -0.1389920687441105)           0.141753   \n",
       "0    (-0.1427822345474472, -0.1390920421097826)           0.141802   \n",
       "0  (-0.15115935429500302, -0.14732657757927828)           0.149736   \n",
       "0  (-0.15498227885364144, -0.15158797068186533)           0.153750   \n",
       "\n",
       "                                                                                               feature_set  \\\n",
       "0                                                                [seed_diff, t1_adj_margin, t2_adj_margin]   \n",
       "0                                                  [seed_diff, t1_adj_oe, t1_adj_de, t2_adj_oe, t2_adj_de]   \n",
       "0                    [seed_diff, t1_adj_oe, t1_adj_de, t1_adj_margin, t2_adj_oe, t2_adj_de, t2_adj_margin]   \n",
       "0  [t1_Seed, t2_Seed, seed_diff, t1_adj_oe, t1_adj_de, t1_adj_margin, t2_adj_oe, t2_adj_de, t2_adj_margin]   \n",
       "0                                                                           [t1_adj_margin, t2_adj_margin]   \n",
       "0                                                                                              [seed_diff]   \n",
       "\n",
       "   rolling_season_cv_rank  mean_repeated_cv_score_rank  \n",
       "0                     4.0                          1.0  \n",
       "0                     1.0                          2.0  \n",
       "0                     2.0                          3.0  \n",
       "0                     3.0                          4.0  \n",
       "0                     5.0                          5.0  \n",
       "0                     6.0                          6.0  "
      ]
     },
     "execution_count": 9,
     "metadata": {},
     "output_type": "execute_result"
    }
   ],
   "source": [
    "pd.set_option('display.max_colwidth', None)\n",
    "all_scores_df[\"rolling_season_cv_rank\"] = all_scores_df[\"rolling_season_cv\"].rank()\n",
    "all_scores_df[\"mean_repeated_cv_score_rank\"] = all_scores_df[\"mean_repeated_cv_score\"].rank(ascending=False)\n",
    "all_scores_df.sort_values(by=\"mean_repeated_cv_score\", ascending=False)\n"
   ]
  },
  {
   "cell_type": "markdown",
   "metadata": {},
   "source": [
    "### Train With Both"
   ]
  },
  {
   "cell_type": "markdown",
   "metadata": {},
   "source": [
    "Seems worse to use the men's data in the prediction"
   ]
  },
  {
   "cell_type": "code",
   "execution_count": 14,
   "metadata": {},
   "outputs": [],
   "source": [
    "combined = pd.concat(\n",
    "    [to_predict_womens[ [\"Season\", \"Pred\", \"Team1\", \"Team2\", \"Outcome\"] + f4],\n",
    "    to_predict_mens[ [\"Season\", \"Pred\", \"Team1\", \"Team2\", \"Outcome\"] + f4],],\n",
    "axis = 0)\n",
    "     \n",
    "combined = combined[combined.Season != 2023]\n",
    "\n",
    "rolling_preds = validation.rolling_season_cv(pipeline, combined, f4, label='Outcome', cv_start=2015, return_preds=True)[1]\n"
   ]
  },
  {
   "cell_type": "code",
   "execution_count": 28,
   "metadata": {},
   "outputs": [],
   "source": [
    "rolling_preds_women = rolling_preds[rolling_preds.Team1 >= 3000]"
   ]
  },
  {
   "cell_type": "code",
   "execution_count": 30,
   "metadata": {},
   "outputs": [
    {
     "data": {
      "text/plain": [
       "0.1553347781593787"
      ]
     },
     "execution_count": 30,
     "metadata": {},
     "output_type": "execute_result"
    }
   ],
   "source": [
    "rolling_preds_women\n",
    "\n",
    "brier_score_loss(rolling_preds_women.y_true, rolling_preds_women.y_prob)"
   ]
  },
  {
   "cell_type": "code",
   "execution_count": null,
   "metadata": {},
   "outputs": [],
   "source": []
  },
  {
   "cell_type": "code",
   "execution_count": null,
   "metadata": {},
   "outputs": [],
   "source": []
  },
  {
   "cell_type": "markdown",
   "metadata": {},
   "source": [
    "### Evaluate raddar's womens preds"
   ]
  },
  {
   "cell_type": "code",
   "execution_count": 185,
   "metadata": {},
   "outputs": [],
   "source": [
    "raddar_preds = pd.read_csv(\"../submissions/all_raddar_preds_women.csv\")"
   ]
  },
  {
   "cell_type": "code",
   "execution_count": 186,
   "metadata": {},
   "outputs": [],
   "source": [
    "tourney_results = pd.read_csv(\"../data/WNCAATourneyDetailedResults.csv\")\n",
    "tourney_results = tourney_results\n",
    "t1 = tourney_results[[\"Season\", \"WTeamID\", \"LTeamID\"]].copy()\n",
    "t1.columns = [\"Season\", \"Team1\", \"Team2\"]\n",
    "t2 = tourney_results[[\"Season\", \"LTeamID\", \"WTeamID\"]].copy() \n",
    "t2.columns = [\"Season\", \"Team1\", \"Team2\"]\n",
    "t1[\"Outcome\"] = 1\n",
    "t2[\"Outcome\"] = 0\n",
    "ground_truth = pd.concat([t1,t2], axis=0)\n",
    "ground_truth[\"ID\"] = ground_truth.Season.astype(str) + \"_\" + ground_truth[\"Team1\"].astype(str) + \"_\" +ground_truth[\"Team2\"].astype(str)\n"
   ]
  },
  {
   "cell_type": "code",
   "execution_count": 187,
   "metadata": {},
   "outputs": [],
   "source": [
    "raddar_preds[['Season', 'Team1', 'Team2']] = raddar_preds.ID.str.split('_', expand=True)\n"
   ]
  },
  {
   "cell_type": "code",
   "execution_count": 188,
   "metadata": {},
   "outputs": [],
   "source": [
    "ground_truth = ground_truth.merge(raddar_preds.rename(columns={\"Pred\": \"raddar_pred\"})[[\"ID\", \"raddar_pred\"]],\n",
    "                   how = \"inner\", \n",
    "                   on = \"ID\")"
   ]
  },
  {
   "cell_type": "code",
   "execution_count": 95,
   "metadata": {},
   "outputs": [
    {
     "data": {
      "text/plain": [
       "0.147302810694727"
      ]
     },
     "execution_count": 95,
     "metadata": {},
     "output_type": "execute_result"
    }
   ],
   "source": [
    "ground_truth_before_2023 = ground_truth[ground_truth.Season != 2023].copy()\n",
    "\n",
    "brier_score_loss(ground_truth_before_2023.Outcome, ground_truth_before_2023.raddar_pred)\n"
   ]
  },
  {
   "cell_type": "code",
   "execution_count": 96,
   "metadata": {},
   "outputs": [],
   "source": [
    "to_predict_womens = pd.read_csv(\"to_predict_women.csv\")\n",
    "to_predict_womens = to_predict_womens[ (to_predict_womens.seed_diff.notnull())].copy()"
   ]
  },
  {
   "cell_type": "markdown",
   "metadata": {},
   "source": [
    "### Compare mine and raddars"
   ]
  },
  {
   "cell_type": "markdown",
   "metadata": {},
   "source": [
    "Seems like there could be very minor benefit to doing a weighted average\n",
    "But it's concerning that for both mens and womens raddar does better in 2023, we do better most other years"
   ]
  },
  {
   "cell_type": "code",
   "execution_count": 97,
   "metadata": {},
   "outputs": [],
   "source": [
    "def rolling_season_cv_mod(model, train_input, features, label='Outcome', cv_start=2007, return_preds=False):\n",
    "    ''' returns estimate for model performance using shifted validation'''\n",
    "    \n",
    "    scores = []\n",
    "\n",
    "    preds_dfs = []\n",
    "\n",
    "    for n, season in enumerate(train_input.Season.unique()):\n",
    "        \n",
    "        if season >= cv_start:\n",
    "\n",
    "            print(season)\n",
    "\n",
    "            train = train_input[train_input.Season < season].copy()\n",
    "            test = train_input[train_input.Season == season].copy()\n",
    "\n",
    "            X_train = train[features].copy()\n",
    "            X_test = test[features].copy()\n",
    "            y_train = train[label].copy()\n",
    "            y_test = test[label].copy()\n",
    "\n",
    "\n",
    "            model.fit(X_train[features], y_train)\n",
    "            \n",
    "            y_prob = model.predict_proba(X_test[features])\n",
    "\n",
    "            test[\"y_prob\"] = y_prob[:,1].copy()\n",
    "            test[\"y_true\"] = y_test.copy()\n",
    "            preds_dfs.append(test)\n",
    "\n",
    "            if season != 2023:\n",
    "                loss = brier_score_loss(y_test, y_prob[:,1])\n",
    "                scores.append((season, loss))\n",
    "\n",
    "    validation_df = pd.DataFrame(scores, columns = ['season', 'score']).sort_values(by = 'score')\n",
    "    avg_validation_score = validation_df.score.mean()\n",
    "\n",
    "    all_preds = pd.concat(preds_dfs,axis =0)\n",
    "\n",
    "    if return_preds:\n",
    "        return avg_validation_score, all_preds\n",
    "    else:\n",
    "        return avg_validation_score\n",
    "\n"
   ]
  },
  {
   "cell_type": "code",
   "execution_count": 98,
   "metadata": {},
   "outputs": [
    {
     "name": "stdout",
     "output_type": "stream",
     "text": [
      "2015\n",
      "2016\n",
      "2017\n",
      "2018\n",
      "2019\n",
      "2021\n",
      "2022\n",
      "2023\n"
     ]
    }
   ],
   "source": [
    "rolling_preds = rolling_season_cv_mod(pipeline, to_predict_womens, f4, label='Outcome', cv_start=2015, return_preds=True)[1]\n"
   ]
  },
  {
   "cell_type": "code",
   "execution_count": 99,
   "metadata": {},
   "outputs": [
    {
     "data": {
      "text/html": [
       "<div>\n",
       "<style scoped>\n",
       "    .dataframe tbody tr th:only-of-type {\n",
       "        vertical-align: middle;\n",
       "    }\n",
       "\n",
       "    .dataframe tbody tr th {\n",
       "        vertical-align: top;\n",
       "    }\n",
       "\n",
       "    .dataframe thead th {\n",
       "        text-align: right;\n",
       "    }\n",
       "</style>\n",
       "<table border=\"1\" class=\"dataframe\">\n",
       "  <thead>\n",
       "    <tr style=\"text-align: right;\">\n",
       "      <th></th>\n",
       "      <th>Unnamed: 0</th>\n",
       "      <th>type</th>\n",
       "      <th>ID</th>\n",
       "      <th>Pred</th>\n",
       "      <th>Season</th>\n",
       "      <th>Team1</th>\n",
       "      <th>Team2</th>\n",
       "      <th>Outcome</th>\n",
       "      <th>Gender</th>\n",
       "      <th>margin</th>\n",
       "      <th>...</th>\n",
       "      <th>t2_Seed</th>\n",
       "      <th>seed_diff</th>\n",
       "      <th>t1_adj_oe</th>\n",
       "      <th>t1_adj_de</th>\n",
       "      <th>t1_adj_margin</th>\n",
       "      <th>t2_adj_oe</th>\n",
       "      <th>t2_adj_de</th>\n",
       "      <th>t2_adj_margin</th>\n",
       "      <th>y_prob</th>\n",
       "      <th>y_true</th>\n",
       "    </tr>\n",
       "  </thead>\n",
       "  <tbody>\n",
       "    <tr>\n",
       "      <th>315</th>\n",
       "      <td>315</td>\n",
       "      <td>Historical</td>\n",
       "      <td>2015_3116_3321</td>\n",
       "      <td>NaN</td>\n",
       "      <td>2015</td>\n",
       "      <td>3116</td>\n",
       "      <td>3321</td>\n",
       "      <td>1.0</td>\n",
       "      <td>W</td>\n",
       "      <td>2.0</td>\n",
       "      <td>...</td>\n",
       "      <td>7.0</td>\n",
       "      <td>3.0</td>\n",
       "      <td>102.130754</td>\n",
       "      <td>84.920270</td>\n",
       "      <td>17.210484</td>\n",
       "      <td>104.177541</td>\n",
       "      <td>84.358835</td>\n",
       "      <td>19.818706</td>\n",
       "      <td>0.372460</td>\n",
       "      <td>1.0</td>\n",
       "    </tr>\n",
       "    <tr>\n",
       "      <th>316</th>\n",
       "      <td>316</td>\n",
       "      <td>Historical</td>\n",
       "      <td>2015_3124_3322</td>\n",
       "      <td>NaN</td>\n",
       "      <td>2015</td>\n",
       "      <td>3124</td>\n",
       "      <td>3322</td>\n",
       "      <td>1.0</td>\n",
       "      <td>W</td>\n",
       "      <td>41.0</td>\n",
       "      <td>...</td>\n",
       "      <td>15.0</td>\n",
       "      <td>-13.0</td>\n",
       "      <td>120.165459</td>\n",
       "      <td>80.907362</td>\n",
       "      <td>39.258097</td>\n",
       "      <td>92.544652</td>\n",
       "      <td>102.018466</td>\n",
       "      <td>-9.473814</td>\n",
       "      <td>0.990735</td>\n",
       "      <td>1.0</td>\n",
       "    </tr>\n",
       "    <tr>\n",
       "      <th>317</th>\n",
       "      <td>317</td>\n",
       "      <td>Historical</td>\n",
       "      <td>2015_3143_3455</td>\n",
       "      <td>NaN</td>\n",
       "      <td>2015</td>\n",
       "      <td>3143</td>\n",
       "      <td>3455</td>\n",
       "      <td>1.0</td>\n",
       "      <td>W</td>\n",
       "      <td>12.0</td>\n",
       "      <td>...</td>\n",
       "      <td>13.0</td>\n",
       "      <td>-9.0</td>\n",
       "      <td>102.787019</td>\n",
       "      <td>82.785846</td>\n",
       "      <td>20.001173</td>\n",
       "      <td>100.927690</td>\n",
       "      <td>82.500281</td>\n",
       "      <td>18.427409</td>\n",
       "      <td>0.763653</td>\n",
       "      <td>1.0</td>\n",
       "    </tr>\n",
       "    <tr>\n",
       "      <th>318</th>\n",
       "      <td>318</td>\n",
       "      <td>Historical</td>\n",
       "      <td>2015_3173_3235</td>\n",
       "      <td>NaN</td>\n",
       "      <td>2015</td>\n",
       "      <td>3173</td>\n",
       "      <td>3235</td>\n",
       "      <td>1.0</td>\n",
       "      <td>W</td>\n",
       "      <td>12.0</td>\n",
       "      <td>...</td>\n",
       "      <td>10.0</td>\n",
       "      <td>-3.0</td>\n",
       "      <td>113.607327</td>\n",
       "      <td>87.673272</td>\n",
       "      <td>25.934056</td>\n",
       "      <td>109.624166</td>\n",
       "      <td>93.382795</td>\n",
       "      <td>16.241371</td>\n",
       "      <td>0.729660</td>\n",
       "      <td>1.0</td>\n",
       "    </tr>\n",
       "    <tr>\n",
       "      <th>319</th>\n",
       "      <td>319</td>\n",
       "      <td>Historical</td>\n",
       "      <td>2015_3177_3278</td>\n",
       "      <td>NaN</td>\n",
       "      <td>2015</td>\n",
       "      <td>3177</td>\n",
       "      <td>3278</td>\n",
       "      <td>1.0</td>\n",
       "      <td>W</td>\n",
       "      <td>7.0</td>\n",
       "      <td>...</td>\n",
       "      <td>8.0</td>\n",
       "      <td>1.0</td>\n",
       "      <td>114.415236</td>\n",
       "      <td>90.630826</td>\n",
       "      <td>23.784410</td>\n",
       "      <td>105.274247</td>\n",
       "      <td>94.443619</td>\n",
       "      <td>10.830628</td>\n",
       "      <td>0.666011</td>\n",
       "      <td>1.0</td>\n",
       "    </tr>\n",
       "    <tr>\n",
       "      <th>...</th>\n",
       "      <td>...</td>\n",
       "      <td>...</td>\n",
       "      <td>...</td>\n",
       "      <td>...</td>\n",
       "      <td>...</td>\n",
       "      <td>...</td>\n",
       "      <td>...</td>\n",
       "      <td>...</td>\n",
       "      <td>...</td>\n",
       "      <td>...</td>\n",
       "      <td>...</td>\n",
       "      <td>...</td>\n",
       "      <td>...</td>\n",
       "      <td>...</td>\n",
       "      <td>...</td>\n",
       "      <td>...</td>\n",
       "      <td>...</td>\n",
       "      <td>...</td>\n",
       "      <td>...</td>\n",
       "      <td>...</td>\n",
       "      <td>...</td>\n",
       "    </tr>\n",
       "    <tr>\n",
       "      <th>65806</th>\n",
       "      <td>65806</td>\n",
       "      <td>Prediction</td>\n",
       "      <td>2023_3437_3450</td>\n",
       "      <td>0.5</td>\n",
       "      <td>2023</td>\n",
       "      <td>3437</td>\n",
       "      <td>3450</td>\n",
       "      <td>NaN</td>\n",
       "      <td>W</td>\n",
       "      <td>NaN</td>\n",
       "      <td>...</td>\n",
       "      <td>5.0</td>\n",
       "      <td>-1.0</td>\n",
       "      <td>113.722124</td>\n",
       "      <td>84.699900</td>\n",
       "      <td>29.022223</td>\n",
       "      <td>101.331588</td>\n",
       "      <td>85.071535</td>\n",
       "      <td>16.260054</td>\n",
       "      <td>0.704241</td>\n",
       "      <td>NaN</td>\n",
       "    </tr>\n",
       "    <tr>\n",
       "      <th>65808</th>\n",
       "      <td>65808</td>\n",
       "      <td>Prediction</td>\n",
       "      <td>2023_3437_3452</td>\n",
       "      <td>0.5</td>\n",
       "      <td>2023</td>\n",
       "      <td>3437</td>\n",
       "      <td>3452</td>\n",
       "      <td>NaN</td>\n",
       "      <td>W</td>\n",
       "      <td>NaN</td>\n",
       "      <td>...</td>\n",
       "      <td>10.0</td>\n",
       "      <td>-6.0</td>\n",
       "      <td>113.722124</td>\n",
       "      <td>84.699900</td>\n",
       "      <td>29.022223</td>\n",
       "      <td>95.601702</td>\n",
       "      <td>82.052837</td>\n",
       "      <td>13.548865</td>\n",
       "      <td>0.828238</td>\n",
       "      <td>NaN</td>\n",
       "    </tr>\n",
       "    <tr>\n",
       "      <th>65877</th>\n",
       "      <td>65877</td>\n",
       "      <td>Prediction</td>\n",
       "      <td>2023_3439_3450</td>\n",
       "      <td>0.5</td>\n",
       "      <td>2023</td>\n",
       "      <td>3439</td>\n",
       "      <td>3450</td>\n",
       "      <td>NaN</td>\n",
       "      <td>W</td>\n",
       "      <td>NaN</td>\n",
       "      <td>...</td>\n",
       "      <td>5.0</td>\n",
       "      <td>-4.0</td>\n",
       "      <td>114.751123</td>\n",
       "      <td>82.050175</td>\n",
       "      <td>32.700948</td>\n",
       "      <td>101.331588</td>\n",
       "      <td>85.071535</td>\n",
       "      <td>16.260054</td>\n",
       "      <td>0.820785</td>\n",
       "      <td>NaN</td>\n",
       "    </tr>\n",
       "    <tr>\n",
       "      <th>65879</th>\n",
       "      <td>65879</td>\n",
       "      <td>Prediction</td>\n",
       "      <td>2023_3439_3452</td>\n",
       "      <td>0.5</td>\n",
       "      <td>2023</td>\n",
       "      <td>3439</td>\n",
       "      <td>3452</td>\n",
       "      <td>NaN</td>\n",
       "      <td>W</td>\n",
       "      <td>NaN</td>\n",
       "      <td>...</td>\n",
       "      <td>10.0</td>\n",
       "      <td>-9.0</td>\n",
       "      <td>114.751123</td>\n",
       "      <td>82.050175</td>\n",
       "      <td>32.700948</td>\n",
       "      <td>95.601702</td>\n",
       "      <td>82.052837</td>\n",
       "      <td>13.548865</td>\n",
       "      <td>0.902673</td>\n",
       "      <td>NaN</td>\n",
       "    </tr>\n",
       "    <tr>\n",
       "      <th>66123</th>\n",
       "      <td>66123</td>\n",
       "      <td>Prediction</td>\n",
       "      <td>2023_3450_3452</td>\n",
       "      <td>0.5</td>\n",
       "      <td>2023</td>\n",
       "      <td>3450</td>\n",
       "      <td>3452</td>\n",
       "      <td>NaN</td>\n",
       "      <td>W</td>\n",
       "      <td>NaN</td>\n",
       "      <td>...</td>\n",
       "      <td>10.0</td>\n",
       "      <td>-5.0</td>\n",
       "      <td>101.331588</td>\n",
       "      <td>85.071535</td>\n",
       "      <td>16.260054</td>\n",
       "      <td>95.601702</td>\n",
       "      <td>82.052837</td>\n",
       "      <td>13.548865</td>\n",
       "      <td>0.669431</td>\n",
       "      <td>NaN</td>\n",
       "    </tr>\n",
       "  </tbody>\n",
       "</table>\n",
       "<p>3168 rows × 21 columns</p>\n",
       "</div>"
      ],
      "text/plain": [
       "       Unnamed: 0        type              ID  Pred  Season  Team1  Team2  \\\n",
       "315           315  Historical  2015_3116_3321   NaN    2015   3116   3321   \n",
       "316           316  Historical  2015_3124_3322   NaN    2015   3124   3322   \n",
       "317           317  Historical  2015_3143_3455   NaN    2015   3143   3455   \n",
       "318           318  Historical  2015_3173_3235   NaN    2015   3173   3235   \n",
       "319           319  Historical  2015_3177_3278   NaN    2015   3177   3278   \n",
       "...           ...         ...             ...   ...     ...    ...    ...   \n",
       "65806       65806  Prediction  2023_3437_3450   0.5    2023   3437   3450   \n",
       "65808       65808  Prediction  2023_3437_3452   0.5    2023   3437   3452   \n",
       "65877       65877  Prediction  2023_3439_3450   0.5    2023   3439   3450   \n",
       "65879       65879  Prediction  2023_3439_3452   0.5    2023   3439   3452   \n",
       "66123       66123  Prediction  2023_3450_3452   0.5    2023   3450   3452   \n",
       "\n",
       "       Outcome Gender  margin  ...  t2_Seed  seed_diff   t1_adj_oe  t1_adj_de  \\\n",
       "315        1.0      W     2.0  ...      7.0        3.0  102.130754  84.920270   \n",
       "316        1.0      W    41.0  ...     15.0      -13.0  120.165459  80.907362   \n",
       "317        1.0      W    12.0  ...     13.0       -9.0  102.787019  82.785846   \n",
       "318        1.0      W    12.0  ...     10.0       -3.0  113.607327  87.673272   \n",
       "319        1.0      W     7.0  ...      8.0        1.0  114.415236  90.630826   \n",
       "...        ...    ...     ...  ...      ...        ...         ...        ...   \n",
       "65806      NaN      W     NaN  ...      5.0       -1.0  113.722124  84.699900   \n",
       "65808      NaN      W     NaN  ...     10.0       -6.0  113.722124  84.699900   \n",
       "65877      NaN      W     NaN  ...      5.0       -4.0  114.751123  82.050175   \n",
       "65879      NaN      W     NaN  ...     10.0       -9.0  114.751123  82.050175   \n",
       "66123      NaN      W     NaN  ...     10.0       -5.0  101.331588  85.071535   \n",
       "\n",
       "       t1_adj_margin   t2_adj_oe   t2_adj_de  t2_adj_margin    y_prob  y_true  \n",
       "315        17.210484  104.177541   84.358835      19.818706  0.372460     1.0  \n",
       "316        39.258097   92.544652  102.018466      -9.473814  0.990735     1.0  \n",
       "317        20.001173  100.927690   82.500281      18.427409  0.763653     1.0  \n",
       "318        25.934056  109.624166   93.382795      16.241371  0.729660     1.0  \n",
       "319        23.784410  105.274247   94.443619      10.830628  0.666011     1.0  \n",
       "...              ...         ...         ...            ...       ...     ...  \n",
       "65806      29.022223  101.331588   85.071535      16.260054  0.704241     NaN  \n",
       "65808      29.022223   95.601702   82.052837      13.548865  0.828238     NaN  \n",
       "65877      32.700948  101.331588   85.071535      16.260054  0.820785     NaN  \n",
       "65879      32.700948   95.601702   82.052837      13.548865  0.902673     NaN  \n",
       "66123      16.260054   95.601702   82.052837      13.548865  0.669431     NaN  \n",
       "\n",
       "[3168 rows x 21 columns]"
      ]
     },
     "execution_count": 99,
     "metadata": {},
     "output_type": "execute_result"
    }
   ],
   "source": [
    "rolling_preds"
   ]
  },
  {
   "cell_type": "code",
   "execution_count": 100,
   "metadata": {},
   "outputs": [],
   "source": [
    "ground_truth = ground_truth.merge(rolling_preds.rename(columns={\"y_prob\": \"sky_pred\"})[[\"ID\", \"sky_pred\"]],\n",
    "                   how = \"inner\", \n",
    "                   on = \"ID\")"
   ]
  },
  {
   "cell_type": "code",
   "execution_count": 101,
   "metadata": {},
   "outputs": [
    {
     "data": {
      "text/html": [
       "<div>\n",
       "<style scoped>\n",
       "    .dataframe tbody tr th:only-of-type {\n",
       "        vertical-align: middle;\n",
       "    }\n",
       "\n",
       "    .dataframe tbody tr th {\n",
       "        vertical-align: top;\n",
       "    }\n",
       "\n",
       "    .dataframe thead th {\n",
       "        text-align: right;\n",
       "    }\n",
       "</style>\n",
       "<table border=\"1\" class=\"dataframe\">\n",
       "  <thead>\n",
       "    <tr style=\"text-align: right;\">\n",
       "      <th></th>\n",
       "      <th>Season</th>\n",
       "      <th>Team1</th>\n",
       "      <th>Team2</th>\n",
       "      <th>Outcome</th>\n",
       "      <th>ID</th>\n",
       "      <th>raddar_pred</th>\n",
       "      <th>sky_pred</th>\n",
       "    </tr>\n",
       "  </thead>\n",
       "  <tbody>\n",
       "    <tr>\n",
       "      <th>0</th>\n",
       "      <td>2015</td>\n",
       "      <td>3116</td>\n",
       "      <td>3321</td>\n",
       "      <td>1</td>\n",
       "      <td>2015_3116_3321</td>\n",
       "      <td>0.320224</td>\n",
       "      <td>0.372460</td>\n",
       "    </tr>\n",
       "    <tr>\n",
       "      <th>1</th>\n",
       "      <td>2015</td>\n",
       "      <td>3116</td>\n",
       "      <td>3321</td>\n",
       "      <td>1</td>\n",
       "      <td>2015_3116_3321</td>\n",
       "      <td>0.320224</td>\n",
       "      <td>0.372460</td>\n",
       "    </tr>\n",
       "    <tr>\n",
       "      <th>2</th>\n",
       "      <td>2015</td>\n",
       "      <td>3124</td>\n",
       "      <td>3322</td>\n",
       "      <td>1</td>\n",
       "      <td>2015_3124_3322</td>\n",
       "      <td>0.959825</td>\n",
       "      <td>0.990735</td>\n",
       "    </tr>\n",
       "    <tr>\n",
       "      <th>3</th>\n",
       "      <td>2015</td>\n",
       "      <td>3124</td>\n",
       "      <td>3322</td>\n",
       "      <td>1</td>\n",
       "      <td>2015_3124_3322</td>\n",
       "      <td>0.959825</td>\n",
       "      <td>0.990735</td>\n",
       "    </tr>\n",
       "    <tr>\n",
       "      <th>4</th>\n",
       "      <td>2015</td>\n",
       "      <td>3143</td>\n",
       "      <td>3455</td>\n",
       "      <td>1</td>\n",
       "      <td>2015_3143_3455</td>\n",
       "      <td>0.774232</td>\n",
       "      <td>0.763653</td>\n",
       "    </tr>\n",
       "    <tr>\n",
       "      <th>...</th>\n",
       "      <td>...</td>\n",
       "      <td>...</td>\n",
       "      <td>...</td>\n",
       "      <td>...</td>\n",
       "      <td>...</td>\n",
       "      <td>...</td>\n",
       "      <td>...</td>\n",
       "    </tr>\n",
       "    <tr>\n",
       "      <th>1019</th>\n",
       "      <td>2023</td>\n",
       "      <td>3268</td>\n",
       "      <td>3376</td>\n",
       "      <td>0</td>\n",
       "      <td>2023_3268_3376</td>\n",
       "      <td>0.143832</td>\n",
       "      <td>0.127413</td>\n",
       "    </tr>\n",
       "    <tr>\n",
       "      <th>1020</th>\n",
       "      <td>2023</td>\n",
       "      <td>3326</td>\n",
       "      <td>3439</td>\n",
       "      <td>0</td>\n",
       "      <td>2023_3326_3439</td>\n",
       "      <td>0.389374</td>\n",
       "      <td>0.339989</td>\n",
       "    </tr>\n",
       "    <tr>\n",
       "      <th>1021</th>\n",
       "      <td>2023</td>\n",
       "      <td>3326</td>\n",
       "      <td>3439</td>\n",
       "      <td>0</td>\n",
       "      <td>2023_3326_3439</td>\n",
       "      <td>0.389374</td>\n",
       "      <td>0.339989</td>\n",
       "    </tr>\n",
       "    <tr>\n",
       "      <th>1022</th>\n",
       "      <td>2023</td>\n",
       "      <td>3234</td>\n",
       "      <td>3261</td>\n",
       "      <td>0</td>\n",
       "      <td>2023_3234_3261</td>\n",
       "      <td>0.388303</td>\n",
       "      <td>0.433793</td>\n",
       "    </tr>\n",
       "    <tr>\n",
       "      <th>1023</th>\n",
       "      <td>2023</td>\n",
       "      <td>3234</td>\n",
       "      <td>3261</td>\n",
       "      <td>0</td>\n",
       "      <td>2023_3234_3261</td>\n",
       "      <td>0.388303</td>\n",
       "      <td>0.433793</td>\n",
       "    </tr>\n",
       "  </tbody>\n",
       "</table>\n",
       "<p>1024 rows × 7 columns</p>\n",
       "</div>"
      ],
      "text/plain": [
       "      Season  Team1  Team2  Outcome              ID  raddar_pred  sky_pred\n",
       "0       2015   3116   3321        1  2015_3116_3321     0.320224  0.372460\n",
       "1       2015   3116   3321        1  2015_3116_3321     0.320224  0.372460\n",
       "2       2015   3124   3322        1  2015_3124_3322     0.959825  0.990735\n",
       "3       2015   3124   3322        1  2015_3124_3322     0.959825  0.990735\n",
       "4       2015   3143   3455        1  2015_3143_3455     0.774232  0.763653\n",
       "...      ...    ...    ...      ...             ...          ...       ...\n",
       "1019    2023   3268   3376        0  2023_3268_3376     0.143832  0.127413\n",
       "1020    2023   3326   3439        0  2023_3326_3439     0.389374  0.339989\n",
       "1021    2023   3326   3439        0  2023_3326_3439     0.389374  0.339989\n",
       "1022    2023   3234   3261        0  2023_3234_3261     0.388303  0.433793\n",
       "1023    2023   3234   3261        0  2023_3234_3261     0.388303  0.433793\n",
       "\n",
       "[1024 rows x 7 columns]"
      ]
     },
     "execution_count": 101,
     "metadata": {},
     "output_type": "execute_result"
    }
   ],
   "source": [
    "ground_truth"
   ]
  },
  {
   "cell_type": "code",
   "execution_count": 103,
   "metadata": {},
   "outputs": [],
   "source": [
    "data = []\n",
    "\n",
    "for season in ground_truth.Season.unique():\n",
    "    tmp = ground_truth[ground_truth.Season == season].copy()\n",
    "    raddar_score = brier_score_loss(tmp.Outcome, tmp.raddar_pred)\n",
    "    sky_score = brier_score_loss(tmp.Outcome, tmp.sky_pred)\n",
    "    data.append([season, raddar_score, sky_score])"
   ]
  },
  {
   "cell_type": "code",
   "execution_count": 105,
   "metadata": {},
   "outputs": [
    {
     "data": {
      "text/html": [
       "<div>\n",
       "<style scoped>\n",
       "    .dataframe tbody tr th:only-of-type {\n",
       "        vertical-align: middle;\n",
       "    }\n",
       "\n",
       "    .dataframe tbody tr th {\n",
       "        vertical-align: top;\n",
       "    }\n",
       "\n",
       "    .dataframe thead th {\n",
       "        text-align: right;\n",
       "    }\n",
       "</style>\n",
       "<table border=\"1\" class=\"dataframe\">\n",
       "  <thead>\n",
       "    <tr style=\"text-align: right;\">\n",
       "      <th></th>\n",
       "      <th>Season</th>\n",
       "      <th>raddar_score</th>\n",
       "      <th>sky_score</th>\n",
       "    </tr>\n",
       "  </thead>\n",
       "  <tbody>\n",
       "    <tr>\n",
       "      <th>0</th>\n",
       "      <td>2015</td>\n",
       "      <td>0.117776</td>\n",
       "      <td>0.120509</td>\n",
       "    </tr>\n",
       "    <tr>\n",
       "      <th>1</th>\n",
       "      <td>2016</td>\n",
       "      <td>0.175280</td>\n",
       "      <td>0.163867</td>\n",
       "    </tr>\n",
       "    <tr>\n",
       "      <th>2</th>\n",
       "      <td>2017</td>\n",
       "      <td>0.167963</td>\n",
       "      <td>0.136142</td>\n",
       "    </tr>\n",
       "    <tr>\n",
       "      <th>3</th>\n",
       "      <td>2018</td>\n",
       "      <td>0.152058</td>\n",
       "      <td>0.158267</td>\n",
       "    </tr>\n",
       "    <tr>\n",
       "      <th>4</th>\n",
       "      <td>2019</td>\n",
       "      <td>0.121833</td>\n",
       "      <td>0.123602</td>\n",
       "    </tr>\n",
       "    <tr>\n",
       "      <th>5</th>\n",
       "      <td>2021</td>\n",
       "      <td>0.162670</td>\n",
       "      <td>0.147406</td>\n",
       "    </tr>\n",
       "    <tr>\n",
       "      <th>6</th>\n",
       "      <td>2022</td>\n",
       "      <td>0.155140</td>\n",
       "      <td>0.142546</td>\n",
       "    </tr>\n",
       "    <tr>\n",
       "      <th>7</th>\n",
       "      <td>2023</td>\n",
       "      <td>0.153601</td>\n",
       "      <td>0.166849</td>\n",
       "    </tr>\n",
       "  </tbody>\n",
       "</table>\n",
       "</div>"
      ],
      "text/plain": [
       "   Season  raddar_score  sky_score\n",
       "0    2015      0.117776   0.120509\n",
       "1    2016      0.175280   0.163867\n",
       "2    2017      0.167963   0.136142\n",
       "3    2018      0.152058   0.158267\n",
       "4    2019      0.121833   0.123602\n",
       "5    2021      0.162670   0.147406\n",
       "6    2022      0.155140   0.142546\n",
       "7    2023      0.153601   0.166849"
      ]
     },
     "execution_count": 105,
     "metadata": {},
     "output_type": "execute_result"
    }
   ],
   "source": [
    "pd.DataFrame(data, columns = [\"Season\", \"raddar_score\", \"sky_score\"])\n"
   ]
  },
  {
   "cell_type": "code",
   "execution_count": 106,
   "metadata": {},
   "outputs": [
    {
     "data": {
      "text/plain": [
       "[<matplotlib.lines.Line2D at 0x12dcb6f10>]"
      ]
     },
     "execution_count": 106,
     "metadata": {},
     "output_type": "execute_result"
    },
    {
     "data": {
      "image/png": "[encoded data removed]",
      "text/plain": [
       "<Figure size 432x288 with 1 Axes>"
      ]
     },
     "metadata": {
      "needs_background": "light"
     },
     "output_type": "display_data"
    }
   ],
   "source": [
    "data = []\n",
    "\n",
    "for i in range(1,101):    \n",
    "    i = i/100\n",
    "    ground_truth[\"blend\"] = ground_truth[\"sky_pred\"] * i + ground_truth[\"raddar_pred\"] * (1-i) \n",
    "    loss = brier_score_loss(ground_truth.Outcome, ground_truth.blend)\n",
    "    data.append([i, 1-i, loss])\n",
    "\n",
    "\n",
    "tmp = pd.DataFrame(data, columns = [\"percent_sky\", \"percent_raddar\", \"loss\"])\n",
    "tmp.sort_values(by = \"percent_sky\", inplace=True)\n",
    "\n",
    "import matplotlib.pyplot as plt\n",
    "\n",
    "plt.plot(tmp.percent_sky, tmp.loss)\n"
   ]
  },
  {
   "cell_type": "code",
   "execution_count": 163,
   "metadata": {},
   "outputs": [
    {
     "data": {
      "text/html": [
       "<div>\n",
       "<style scoped>\n",
       "    .dataframe tbody tr th:only-of-type {\n",
       "        vertical-align: middle;\n",
       "    }\n",
       "\n",
       "    .dataframe tbody tr th {\n",
       "        vertical-align: top;\n",
       "    }\n",
       "\n",
       "    .dataframe thead th {\n",
       "        text-align: right;\n",
       "    }\n",
       "</style>\n",
       "<table border=\"1\" class=\"dataframe\">\n",
       "  <thead>\n",
       "    <tr style=\"text-align: right;\">\n",
       "      <th></th>\n",
       "      <th>percent_sky</th>\n",
       "      <th>percent_raddar</th>\n",
       "      <th>loss</th>\n",
       "    </tr>\n",
       "  </thead>\n",
       "  <tbody>\n",
       "    <tr>\n",
       "      <th>84</th>\n",
       "      <td>0.85</td>\n",
       "      <td>0.15</td>\n",
       "      <td>0.144878</td>\n",
       "    </tr>\n",
       "    <tr>\n",
       "      <th>85</th>\n",
       "      <td>0.86</td>\n",
       "      <td>0.14</td>\n",
       "      <td>0.144878</td>\n",
       "    </tr>\n",
       "    <tr>\n",
       "      <th>83</th>\n",
       "      <td>0.84</td>\n",
       "      <td>0.16</td>\n",
       "      <td>0.144880</td>\n",
       "    </tr>\n",
       "    <tr>\n",
       "      <th>86</th>\n",
       "      <td>0.87</td>\n",
       "      <td>0.13</td>\n",
       "      <td>0.144880</td>\n",
       "    </tr>\n",
       "    <tr>\n",
       "      <th>82</th>\n",
       "      <td>0.83</td>\n",
       "      <td>0.17</td>\n",
       "      <td>0.144883</td>\n",
       "    </tr>\n",
       "  </tbody>\n",
       "</table>\n",
       "</div>"
      ],
      "text/plain": [
       "    percent_sky  percent_raddar      loss\n",
       "84         0.85            0.15  0.144878\n",
       "85         0.86            0.14  0.144878\n",
       "83         0.84            0.16  0.144880\n",
       "86         0.87            0.13  0.144880\n",
       "82         0.83            0.17  0.144883"
      ]
     },
     "execution_count": 163,
     "metadata": {},
     "output_type": "execute_result"
    }
   ],
   "source": [
    "tmp.sort_values(by=\"loss\").head(5)"
   ]
  },
  {
   "cell_type": "markdown",
   "metadata": {},
   "source": [
    "### Evaluate Odds for 2023, using mens odds model"
   ]
  },
  {
   "cell_type": "markdown",
   "metadata": {},
   "source": [
    "Surprisingly doesn't seem like the odds model helps for the womens bracket"
   ]
  },
  {
   "cell_type": "code",
   "execution_count": 247,
   "metadata": {},
   "outputs": [],
   "source": [
    "to_predict_mens_first_round_train = to_predict_mens[(to_predict_mens.final_odds.notnull())\n",
    "                                                    & (to_predict_mens.Outcome.notnull())]"
   ]
  },
  {
   "cell_type": "code",
   "execution_count": 248,
   "metadata": {},
   "outputs": [],
   "source": [
    "def train_odds_model(to_predict_mens_first_round_train):\n",
    "\n",
    "    best_params = {\"C\": .1}\n",
    "    model = LogisticRegression(**best_params)\n",
    "    pipeline = make_pipeline(StandardScaler(), model)\n",
    "    odds_model = pipeline.fit(to_predict_mens_first_round_train[[\"final_odds\"]], to_predict_mens_first_round_train[\"Outcome\"])\n",
    "    \n",
    "    return odds_model"
   ]
  },
  {
   "cell_type": "code",
   "execution_count": 249,
   "metadata": {},
   "outputs": [],
   "source": [
    "odds_model = train_odds_model(to_predict_mens_first_round_train)"
   ]
  },
  {
   "cell_type": "code",
   "execution_count": 250,
   "metadata": {},
   "outputs": [],
   "source": [
    "to_predict_womens_first_round = to_predict_womens[to_predict_womens.final_odds.notnull()]"
   ]
  },
  {
   "cell_type": "code",
   "execution_count": 251,
   "metadata": {},
   "outputs": [],
   "source": [
    "odds_model_preds = odds_model.predict_proba(to_predict_womens_first_round[[\"final_odds\"]])[:,1]"
   ]
  },
  {
   "cell_type": "code",
   "execution_count": 252,
   "metadata": {},
   "outputs": [],
   "source": [
    "to_predict_womens_input = to_predict_womens[to_predict_womens.type != \"Prediction\"].copy()"
   ]
  },
  {
   "cell_type": "code",
   "execution_count": 253,
   "metadata": {},
   "outputs": [],
   "source": [
    "model = LogisticRegression(C=.1)\n",
    "pipeline = make_pipeline(StandardScaler(), model)\n"
   ]
  },
  {
   "cell_type": "code",
   "execution_count": 254,
   "metadata": {},
   "outputs": [
    {
     "data": {
      "text/plain": [
       "LogisticRegression(C=0.1)"
      ]
     },
     "execution_count": 254,
     "metadata": {},
     "output_type": "execute_result"
    }
   ],
   "source": [
    "f3 = ['seed_diff',\n",
    "       't1_adj_margin',\n",
    "       't2_adj_margin']\n",
    "\n",
    "model.fit(to_predict_womens_input[f3], to_predict_womens_input[\"Outcome\"])"
   ]
  },
  {
   "cell_type": "code",
   "execution_count": 255,
   "metadata": {},
   "outputs": [],
   "source": [
    "preds_original = model.predict_proba(to_predict_womens_first_round[f3])[:,1]"
   ]
  },
  {
   "cell_type": "code",
   "execution_count": 256,
   "metadata": {},
   "outputs": [
    {
     "data": {
      "text/plain": [
       "(array([0.45094049, 0.55888663, 0.14866079, 0.25656414, 0.39804214,\n",
       "        0.80429087, 0.4432859 , 0.25656414, 0.3760083 , 0.68869442,\n",
       "        0.17373981, 0.46631595, 0.45094049, 0.45094049, 0.14866079,\n",
       "        0.4432859 , 0.11048827, 0.14866079, 0.82752095, 0.82305633,\n",
       "        0.56650611, 0.21221466, 0.38330101, 0.39804214, 0.47402961,\n",
       "        0.49723032, 0.04816491, 0.52816589, 0.73918679, 0.55123931,\n",
       "        0.52816589, 0.05108491, 0.14866079]),\n",
       " array([0.46262333, 0.70006462, 0.01380969, 0.15635276, 0.61371494,\n",
       "        0.98347261, 0.78629335, 0.1094088 , 0.2076602 , 0.95424697,\n",
       "        0.062124  , 0.52794635, 0.66151049, 0.621564  , 0.03021276,\n",
       "        0.34629603, 0.01422563, 0.02765362, 0.99453153, 0.98594878,\n",
       "        0.81429103, 0.09008193, 0.34199046, 0.49235876, 0.77297139,\n",
       "        0.59594961, 0.00323865, 0.8292075 , 0.9652821 , 0.87737861,\n",
       "        0.66423003, 0.00612928, 0.02747296]))"
      ]
     },
     "execution_count": 256,
     "metadata": {},
     "output_type": "execute_result"
    }
   ],
   "source": [
    "odds_model_preds, preds_original"
   ]
  },
  {
   "cell_type": "code",
   "execution_count": 257,
   "metadata": {},
   "outputs": [
    {
     "name": "stderr",
     "output_type": "stream",
     "text": [
      "/var/folders/2g/465yxy_x4g786jx2llr5xqh40000gn/T/ipykernel_20737/738248175.py:1: SettingWithCopyWarning: \n",
      "A value is trying to be set on a copy of a slice from a DataFrame.\n",
      "Try using .loc[row_indexer,col_indexer] = value instead\n",
      "\n",
      "See the caveats in the documentation: https://pandas.pydata.org/pandas-docs/stable/user_guide/indexing.html#returning-a-view-versus-a-copy\n",
      "  to_predict_womens_first_round[\"odds_model_preds\"] = odds_model_preds\n",
      "/var/folders/2g/465yxy_x4g786jx2llr5xqh40000gn/T/ipykernel_20737/738248175.py:2: SettingWithCopyWarning: \n",
      "A value is trying to be set on a copy of a slice from a DataFrame.\n",
      "Try using .loc[row_indexer,col_indexer] = value instead\n",
      "\n",
      "See the caveats in the documentation: https://pandas.pydata.org/pandas-docs/stable/user_guide/indexing.html#returning-a-view-versus-a-copy\n",
      "  to_predict_womens_first_round[\"preds_original\"] = preds_original\n"
     ]
    }
   ],
   "source": [
    "to_predict_womens_first_round[\"odds_model_preds\"] = odds_model_preds\n",
    "to_predict_womens_first_round[\"preds_original\"] = preds_original\n"
   ]
  },
  {
   "cell_type": "code",
   "execution_count": 259,
   "metadata": {},
   "outputs": [],
   "source": [
    "ground_truth = ground_truth.drop_duplicates(subset=[\"ID\", \"Outcome\"])\n",
    "to_predict_womens_first_round = to_predict_womens_first_round.drop(\"Outcome\", axis = 1)\n",
    "to_predict_womens_first_round = to_predict_womens_first_round.merge(ground_truth[[\"ID\", \"Outcome\"]], how=\"left\", on=\"ID\")\n"
   ]
  },
  {
   "cell_type": "code",
   "execution_count": 262,
   "metadata": {},
   "outputs": [],
   "source": [
    "to_predict_womens_first_round = to_predict_womens_first_round[to_predict_womens_first_round.Outcome.notnull()]"
   ]
  },
  {
   "cell_type": "code",
   "execution_count": 263,
   "metadata": {},
   "outputs": [
    {
     "data": {
      "text/plain": [
       "0.13625823726214406"
      ]
     },
     "execution_count": 263,
     "metadata": {},
     "output_type": "execute_result"
    }
   ],
   "source": [
    "brier_score_loss(to_predict_womens_first_round[\"Outcome\"], to_predict_womens_first_round[\"odds_model_preds\"])\n"
   ]
  },
  {
   "cell_type": "code",
   "execution_count": 264,
   "metadata": {},
   "outputs": [
    {
     "data": {
      "text/plain": [
       "0.1109801594242221"
      ]
     },
     "execution_count": 264,
     "metadata": {},
     "output_type": "execute_result"
    }
   ],
   "source": [
    "brier_score_loss(to_predict_womens_first_round[\"Outcome\"], to_predict_womens_first_round[\"preds_original\"])\n"
   ]
  },
  {
   "cell_type": "markdown",
   "metadata": {},
   "source": [
    "### Test manual override - top 4 seeds"
   ]
  },
  {
   "cell_type": "code",
   "execution_count": 266,
   "metadata": {},
   "outputs": [],
   "source": [
    "to_predict_womens = pd.read_csv(\"to_predict_women.csv\")\n",
    "to_predict_womens = to_predict_womens[ (to_predict_womens.seed_diff.notnull())].copy()"
   ]
  },
  {
   "cell_type": "code",
   "execution_count": 268,
   "metadata": {},
   "outputs": [],
   "source": [
    "def rolling_season_cv_mod(model, train_input, features, label='Outcome', cv_start=2007, return_preds=False):\n",
    "    ''' returns estimate for model performance using shifted validation'''\n",
    "    \n",
    "    scores = []\n",
    "\n",
    "    preds_dfs = []\n",
    "\n",
    "    for n, season in enumerate(train_input.Season.unique()):\n",
    "        \n",
    "        if season >= cv_start:\n",
    "\n",
    "            print(season)\n",
    "\n",
    "            train = train_input[train_input.Season < season].copy()\n",
    "            test = train_input[train_input.Season == season].copy()\n",
    "\n",
    "            X_train = train[features].copy()\n",
    "            X_test = test[features].copy()\n",
    "            y_train = train[label].copy()\n",
    "            y_test = test[label].copy()\n",
    "\n",
    "\n",
    "            model.fit(X_train[features], y_train)\n",
    "            \n",
    "            y_prob = model.predict_proba(X_test[features])\n",
    "\n",
    "            test[\"y_prob\"] = y_prob[:,1].copy()\n",
    "            test[\"y_true\"] = y_test.copy()\n",
    "            preds_dfs.append(test)\n",
    "\n",
    "            if season != 2023:\n",
    "                loss = brier_score_loss(y_test, y_prob[:,1])\n",
    "                scores.append((season, loss))\n",
    "\n",
    "    validation_df = pd.DataFrame(scores, columns = ['season', 'score']).sort_values(by = 'score')\n",
    "    avg_validation_score = validation_df.score.mean()\n",
    "\n",
    "    all_preds = pd.concat(preds_dfs,axis =0)\n",
    "\n",
    "    if return_preds:\n",
    "        return avg_validation_score, all_preds\n",
    "    else:\n",
    "        return avg_validation_score\n",
    "\n"
   ]
  },
  {
   "cell_type": "code",
   "execution_count": 269,
   "metadata": {},
   "outputs": [
    {
     "name": "stdout",
     "output_type": "stream",
     "text": [
      "2015\n",
      "2016\n",
      "2017\n",
      "2018\n",
      "2019\n",
      "2021\n",
      "2022\n",
      "2023\n"
     ]
    }
   ],
   "source": [
    "rolling_preds = rolling_season_cv_mod(pipeline, to_predict_womens, f4, label='Outcome', cv_start=2015, return_preds=True)[1]\n"
   ]
  },
  {
   "cell_type": "code",
   "execution_count": 297,
   "metadata": {},
   "outputs": [
    {
     "name": "stderr",
     "output_type": "stream",
     "text": [
      "/var/folders/2g/465yxy_x4g786jx2llr5xqh40000gn/T/ipykernel_20737/4289194600.py:1: SettingWithCopyWarning: \n",
      "A value is trying to be set on a copy of a slice from a DataFrame.\n",
      "Try using .loc[row_indexer,col_indexer] = value instead\n",
      "\n",
      "See the caveats in the documentation: https://pandas.pydata.org/pandas-docs/stable/user_guide/indexing.html#returning-a-view-versus-a-copy\n",
      "  rolling_preds[\"y_prob_mod\"] = np.where(\n"
     ]
    }
   ],
   "source": [
    "rolling_preds[\"y_prob_mod\"] = np.where(\n",
    "\n",
    "        ((rolling_preds.t1_Seed == 1) & (rolling_preds.t2_Seed == 16))\n",
    "        | ((rolling_preds.t1_Seed == 2) & (rolling_preds.t2_Seed == 16))\n",
    "        | ((rolling_preds.t1_Seed == 3) & (rolling_preds.t2_Seed == 16))\n",
    "        | ((rolling_preds.t1_Seed == 4) & (rolling_preds.t2_Seed == 16))\n",
    "        , \n",
    "        1,\n",
    "\n",
    "     np.where(\n",
    "          ((rolling_preds.t1_Seed == 16) & (rolling_preds.t2_Seed == 1))\n",
    "        | ((rolling_preds.t1_Seed == 15) & (rolling_preds.t2_Seed == 2))\n",
    "        | ((rolling_preds.t1_Seed == 14) & (rolling_preds.t2_Seed == 3))\n",
    "        | ((rolling_preds.t1_Seed == 13) & (rolling_preds.t2_Seed == 4))\n",
    "        , \n",
    "        \n",
    "        0,\n",
    "\n",
    "          \n",
    "          \n",
    "          \n",
    "          rolling_preds.y_prob\n",
    "))"
   ]
  },
  {
   "cell_type": "code",
   "execution_count": 298,
   "metadata": {},
   "outputs": [],
   "source": [
    "ground_truth = ground_truth.drop_duplicates(subset=[\"ID\", \"Outcome\"])\n",
    "rolling_preds = rolling_preds.drop(\"Outcome\", axis = 1)\n",
    "rolling_preds = rolling_preds.merge(ground_truth[[\"ID\", \"Outcome\"]], how=\"left\", on=\"ID\")\n"
   ]
  },
  {
   "cell_type": "code",
   "execution_count": 299,
   "metadata": {},
   "outputs": [],
   "source": [
    "rolling_preds = rolling_preds[rolling_preds.Outcome.notnull()]"
   ]
  },
  {
   "cell_type": "code",
   "execution_count": 300,
   "metadata": {},
   "outputs": [
    {
     "data": {
      "text/plain": [
       "0.14505167284174483"
      ]
     },
     "execution_count": 300,
     "metadata": {},
     "output_type": "execute_result"
    }
   ],
   "source": [
    "brier_score_loss(rolling_preds[\"Outcome\"], rolling_preds[\"y_prob\"])\n"
   ]
  },
  {
   "cell_type": "code",
   "execution_count": 301,
   "metadata": {},
   "outputs": [
    {
     "data": {
      "text/plain": [
       "0.14364476111273752"
      ]
     },
     "execution_count": 301,
     "metadata": {},
     "output_type": "execute_result"
    }
   ],
   "source": [
    "brier_score_loss(rolling_preds[\"Outcome\"], rolling_preds[\"y_prob_mod\"])\n"
   ]
  },
  {
   "cell_type": "code",
   "execution_count": null,
   "metadata": {},
   "outputs": [],
   "source": []
  },
  {
   "cell_type": "code",
   "execution_count": null,
   "metadata": {},
   "outputs": [],
   "source": []
  }
 ],
 "metadata": {
  "kernelspec": {
   "display_name": "ncaa_model",
   "language": "python",
   "name": "ncaa_model"
  },
  "language_info": {
   "codemirror_mode": {
    "name": "ipython",
    "version": 3
   },
   "file_extension": ".py",
   "mimetype": "text/x-python",
   "name": "python",
   "nbconvert_exporter": "python",
   "pygments_lexer": "ipython3",
   "version": "3.8.9"
  }
 },
 "nbformat": 4,
 "nbformat_minor": 2
}

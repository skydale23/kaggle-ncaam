{
 "cells": [
  {
   "cell_type": "code",
   "execution_count": 118,
   "metadata": {},
   "outputs": [],
   "source": [
    "import pandas as pd\n",
    "import numpy as np\n",
    "import sys\n",
    "sys.path.append('../kaggle_prediction_library/') \n",
    "import preprocess\n",
    "import feature_engineering\n",
    "import submission\n",
    "from sklearn.model_selection import train_test_split\n",
    "\n",
    "# from hyperopt import tpe, fmin, Trials\n",
    "# import hyperopt.hp as hp\n"
   ]
  },
  {
   "cell_type": "code",
   "execution_count": 119,
   "metadata": {},
   "outputs": [],
   "source": [
    "from sklearn.linear_model import LogisticRegression\n",
    "from sklearn.linear_model import LogisticRegressionCV\n",
    "from sklearn.model_selection import GridSearchCV\n",
    "from sklearn.ensemble import RandomForestClassifier\n",
    "from sklearn.metrics import confusion_matrix\n",
    "from sklearn.metrics import classification_report\n",
    "from sklearn.metrics import log_loss\n",
    "from sklearn.feature_selection import chi2\n",
    "from sklearn.metrics import r2_score\n",
    "import numpy as np\n",
    "from sklearn.model_selection import train_test_split\n",
    "from sklearn.preprocessing import StandardScaler\n",
    "from sklearn.pipeline import Pipeline\n",
    "from sklearn.metrics import brier_score_loss\n"
   ]
  },
  {
   "attachments": {},
   "cell_type": "markdown",
   "metadata": {},
   "source": [
    "### Read data"
   ]
  },
  {
   "cell_type": "code",
   "execution_count": 131,
   "metadata": {},
   "outputs": [],
   "source": [
    "# For now we can use this, but we may need to recreate this once the teams have been announced\n",
    "# The new version should only include feasible tourney matchups to make life easier\n",
    "sub_df = pd.read_csv('SampleSubmission2024.csv', index_col=False)"
   ]
  },
  {
   "cell_type": "code",
   "execution_count": 132,
   "metadata": {},
   "outputs": [],
   "source": [
    "regular_season_results = pd.read_csv('../data/MRegularSeasonDetailedResults.csv')\n",
    "detailed_tourney_results = pd.read_csv('../data/MNCAATourneyDetailedResults.csv')\n",
    "rankings = pd.read_csv('../data/MMasseyOrdinals.csv')\n",
    "seeds = pd.read_csv('../data/MNCAATourneySeeds.csv')\n",
    "\n",
    "# kp_rankings = pd.read_csv('../data/kenpom_pre_tourney_snapshot.csv')\n",
    "\n",
    "regular_season_results_w = pd.read_csv('../data/WRegularSeasonDetailedResults.csv')\n",
    "detailed_tourney_results_w = pd.read_csv('../data/WNCAATourneyDetailedResults.csv')\n",
    "\n",
    "mteams = pd.read_csv('../data/MTeams.csv')\n",
    "wteams = pd.read_csv('../data/WTeams.csv')\n",
    "\n",
    "seeds_w = pd.read_csv('../data/WNCAATourneySeeds.csv')\n",
    "\n",
    "# M538 = pd.read_csv('../data/M538.csv')\n",
    "# W538 = pd.read_csv('../data/W538.csv')\n",
    "\n",
    "seed_round = pd.read_csv(\"../data/MNCAATourneySeedRoundSlots.csv\")\n",
    "seeds = pd.read_csv(\"../data/MNCAATourneySeeds.csv\")\n",
    "\n",
    "first_round_odds_data = pd.read_csv('../data/first_round_odds_2024.csv')\n",
    "\n"
   ]
  },
  {
   "cell_type": "code",
   "execution_count": 122,
   "metadata": {},
   "outputs": [],
   "source": [
    "# This is temporary, will remove once we are predicting 2024 instead of 2023\n",
    "# detailed_tourney_results = detailed_tourney_results[detailed_tourney_results.Season < 2023].copy()\n",
    "# detailed_tourney_results_w = detailed_tourney_results_w[detailed_tourney_results_w.Season < 2023].copy()"
   ]
  },
  {
   "cell_type": "markdown",
   "metadata": {},
   "source": [
    "### Set Up Data"
   ]
  },
  {
   "cell_type": "code",
   "execution_count": 133,
   "metadata": {},
   "outputs": [],
   "source": [
    "to_predict_mens, to_predict_womens, regular_season_games, regular_season_games_w = preprocess.full_setup(detailed_tourney_results, regular_season_results,\n",
    "               detailed_tourney_results_w, regular_season_results_w,\n",
    "               sub_df, mteams)"
   ]
  },
  {
   "cell_type": "code",
   "execution_count": 124,
   "metadata": {},
   "outputs": [
    {
     "data": {
      "text/html": [
       "<div>\n",
       "<style scoped>\n",
       "    .dataframe tbody tr th:only-of-type {\n",
       "        vertical-align: middle;\n",
       "    }\n",
       "\n",
       "    .dataframe tbody tr th {\n",
       "        vertical-align: top;\n",
       "    }\n",
       "\n",
       "    .dataframe thead th {\n",
       "        text-align: right;\n",
       "    }\n",
       "</style>\n",
       "<table border=\"1\" class=\"dataframe\">\n",
       "  <thead>\n",
       "    <tr style=\"text-align: right;\">\n",
       "      <th></th>\n",
       "      <th>ID</th>\n",
       "      <th>Pred</th>\n",
       "      <th>Season</th>\n",
       "      <th>Team1</th>\n",
       "      <th>Team2</th>\n",
       "    </tr>\n",
       "  </thead>\n",
       "  <tbody>\n",
       "    <tr>\n",
       "      <th>420</th>\n",
       "      <td>2024_1194_1321</td>\n",
       "      <td>0.5</td>\n",
       "      <td>2024</td>\n",
       "      <td>1194</td>\n",
       "      <td>1321</td>\n",
       "    </tr>\n",
       "  </tbody>\n",
       "</table>\n",
       "</div>"
      ],
      "text/plain": [
       "                 ID  Pred Season  Team1  Team2\n",
       "420  2024_1194_1321   0.5   2024   1194   1321"
      ]
     },
     "execution_count": 124,
     "metadata": {},
     "output_type": "execute_result"
    }
   ],
   "source": [
    "sub_df[ (sub_df.Team1 == 1194)\n",
    "       & (sub_df.Team2 == 1321)]\n",
    "\n"
   ]
  },
  {
   "cell_type": "markdown",
   "metadata": {},
   "source": [
    "### Add Features"
   ]
  },
  {
   "cell_type": "code",
   "execution_count": 125,
   "metadata": {},
   "outputs": [],
   "source": [
    "to_predict_womens = feature_engineering.TournamentSeed(tourney_seeds=seeds_w).add(to_predict_womens)\n",
    "to_predict_womens = feature_engineering.Efficiency(games=regular_season_games_w, away_bonus=0).add(to_predict_womens)\n",
    "to_predict_womens = feature_engineering.RoundNumber(seeds, seed_round).add(to_predict_womens)\n",
    "to_predict_womens = feature_engineering.TeamNames(wteams).add(to_predict_womens)\n",
    "\n",
    "\n",
    "# to_predict_womens = feature_engineering.FiveThirtyEight(fivethirtyeight_df=W538).add(to_predict_womens)"
   ]
  },
  {
   "cell_type": "code",
   "execution_count": 126,
   "metadata": {},
   "outputs": [],
   "source": [
    "#to_predict_womens.to_csv(\"../development_notebooks/to_predict_women.csv\")\n",
    "to_predict_womens.to_csv(\"to_predict_women.csv\")"
   ]
  },
  {
   "cell_type": "code",
   "execution_count": 134,
   "metadata": {},
   "outputs": [],
   "source": [
    "to_predict_mens = feature_engineering.TeamNames(mteams).add(to_predict_mens)\n",
    "to_predict_mens = feature_engineering.FirstRoundOdds(first_round_odds_data).add(to_predict_mens)"
   ]
  },
  {
   "cell_type": "code",
   "execution_count": 135,
   "metadata": {},
   "outputs": [],
   "source": [
    "to_predict_mens = feature_engineering.RoundNumber(seeds, seed_round).add(to_predict_mens)\n"
   ]
  },
  {
   "cell_type": "code",
   "execution_count": 136,
   "metadata": {},
   "outputs": [],
   "source": [
    "to_predict_mens = feature_engineering.SeasonStats(regular_season_games).add(to_predict_mens)\n",
    "# to_predict_mens = feature_engineering.FiveThirtyEight(fivethirtyeight_df=M538).add(to_predict_mens)\n",
    "to_predict_mens = feature_engineering.PreSeasonAPRankings(rankings_df=rankings).add(to_predict_mens)\n",
    "to_predict_mens = feature_engineering.TournamentSeed(tourney_seeds=seeds).add(to_predict_mens)\n",
    "to_predict_mens = feature_engineering.Efficiency(games=regular_season_games, away_bonus=3).add(to_predict_mens)\n",
    "to_predict_mens = feature_engineering.FinalRanking(rankings_df=rankings, system='WLK').add(to_predict_mens) # switched in 2024 because SAG dissapeared\n",
    "# to_predict_mens = feature_engineering.Kenpom(kp_snapshot=kp_rankings).add(to_predict_mens)\n",
    "# this one takes 3 minutes to run\n",
    "# to_predict_mens = feature_engineering.TeamQuality(games=regular_season_games).add(to_predict_mens)\n"
   ]
  },
  {
   "cell_type": "markdown",
   "metadata": {},
   "source": [
    "### Split Dataset"
   ]
  },
  {
   "cell_type": "code",
   "execution_count": 137,
   "metadata": {},
   "outputs": [],
   "source": [
    "first_round_df = to_predict_mens[to_predict_mens.GameRound == 1].copy()\n",
    "other_rounds_df = to_predict_mens[to_predict_mens.GameRound > 1].copy()\n"
   ]
  },
  {
   "cell_type": "code",
   "execution_count": 138,
   "metadata": {},
   "outputs": [],
   "source": [
    "# first_round_df.to_csv(\"to_predict_mens_first_round.csv\")\n",
    "# other_rounds_df.to_csv(\"to_predict_mens_other_rounds.csv\")\n",
    "to_predict_mens.to_csv(\"to_predict_mens.csv\")"
   ]
  },
  {
   "cell_type": "code",
   "execution_count": 25,
   "metadata": {},
   "outputs": [],
   "source": []
  },
  {
   "cell_type": "code",
   "execution_count": 24,
   "metadata": {},
   "outputs": [
    {
     "data": {
      "text/html": [
       "<div>\n",
       "<style scoped>\n",
       "    .dataframe tbody tr th:only-of-type {\n",
       "        vertical-align: middle;\n",
       "    }\n",
       "\n",
       "    .dataframe tbody tr th {\n",
       "        vertical-align: top;\n",
       "    }\n",
       "\n",
       "    .dataframe thead th {\n",
       "        text-align: right;\n",
       "    }\n",
       "</style>\n",
       "<table border=\"1\" class=\"dataframe\">\n",
       "  <thead>\n",
       "    <tr style=\"text-align: right;\">\n",
       "      <th></th>\n",
       "      <th>ID</th>\n",
       "      <th>Pred</th>\n",
       "      <th>Season</th>\n",
       "      <th>Team1</th>\n",
       "      <th>Team2</th>\n",
       "      <th>Outcome</th>\n",
       "      <th>Gender</th>\n",
       "      <th>margin</th>\n",
       "      <th>t1_TeamName</th>\n",
       "      <th>t1_FirstD1Season</th>\n",
       "      <th>...</th>\n",
       "      <th>seed_diff</th>\n",
       "      <th>t1_adj_oe</th>\n",
       "      <th>t1_adj_de</th>\n",
       "      <th>t1_adj_margin</th>\n",
       "      <th>t2_adj_oe</th>\n",
       "      <th>t2_adj_de</th>\n",
       "      <th>t2_adj_margin</th>\n",
       "      <th>t1_final_rank</th>\n",
       "      <th>t2_final_rank</th>\n",
       "      <th>GameRound</th>\n",
       "    </tr>\n",
       "    <tr>\n",
       "      <th>type</th>\n",
       "      <th></th>\n",
       "      <th></th>\n",
       "      <th></th>\n",
       "      <th></th>\n",
       "      <th></th>\n",
       "      <th></th>\n",
       "      <th></th>\n",
       "      <th></th>\n",
       "      <th></th>\n",
       "      <th></th>\n",
       "      <th></th>\n",
       "      <th></th>\n",
       "      <th></th>\n",
       "      <th></th>\n",
       "      <th></th>\n",
       "      <th></th>\n",
       "      <th></th>\n",
       "      <th></th>\n",
       "      <th></th>\n",
       "      <th></th>\n",
       "      <th></th>\n",
       "    </tr>\n",
       "  </thead>\n",
       "  <tbody>\n",
       "    <tr>\n",
       "      <th>Historical</th>\n",
       "      <td>1178</td>\n",
       "      <td>0</td>\n",
       "      <td>1178</td>\n",
       "      <td>1178</td>\n",
       "      <td>1178</td>\n",
       "      <td>1178</td>\n",
       "      <td>1178</td>\n",
       "      <td>1178</td>\n",
       "      <td>1178</td>\n",
       "      <td>1178</td>\n",
       "      <td>...</td>\n",
       "      <td>1178</td>\n",
       "      <td>1178</td>\n",
       "      <td>1178</td>\n",
       "      <td>1178</td>\n",
       "      <td>1178</td>\n",
       "      <td>1178</td>\n",
       "      <td>1178</td>\n",
       "      <td>1178</td>\n",
       "      <td>1178</td>\n",
       "      <td>1178</td>\n",
       "    </tr>\n",
       "    <tr>\n",
       "      <th>Prediction</th>\n",
       "      <td>2238</td>\n",
       "      <td>2238</td>\n",
       "      <td>2238</td>\n",
       "      <td>2238</td>\n",
       "      <td>2238</td>\n",
       "      <td>0</td>\n",
       "      <td>2238</td>\n",
       "      <td>0</td>\n",
       "      <td>2238</td>\n",
       "      <td>2238</td>\n",
       "      <td>...</td>\n",
       "      <td>2238</td>\n",
       "      <td>2238</td>\n",
       "      <td>2238</td>\n",
       "      <td>2238</td>\n",
       "      <td>2238</td>\n",
       "      <td>2238</td>\n",
       "      <td>2238</td>\n",
       "      <td>2238</td>\n",
       "      <td>2238</td>\n",
       "      <td>2238</td>\n",
       "    </tr>\n",
       "  </tbody>\n",
       "</table>\n",
       "<p>2 rows × 53 columns</p>\n",
       "</div>"
      ],
      "text/plain": [
       "              ID  Pred  Season  Team1  Team2  Outcome  Gender  margin  \\\n",
       "type                                                                    \n",
       "Historical  1178     0    1178   1178   1178     1178    1178    1178   \n",
       "Prediction  2238  2238    2238   2238   2238        0    2238       0   \n",
       "\n",
       "            t1_TeamName  t1_FirstD1Season  ...  seed_diff  t1_adj_oe  \\\n",
       "type                                       ...                         \n",
       "Historical         1178              1178  ...       1178       1178   \n",
       "Prediction         2238              2238  ...       2238       2238   \n",
       "\n",
       "            t1_adj_de  t1_adj_margin  t2_adj_oe  t2_adj_de  t2_adj_margin  \\\n",
       "type                                                                        \n",
       "Historical       1178           1178       1178       1178           1178   \n",
       "Prediction       2238           2238       2238       2238           2238   \n",
       "\n",
       "            t1_final_rank  t2_final_rank  GameRound  \n",
       "type                                                 \n",
       "Historical           1178           1178       1178  \n",
       "Prediction           2238           2238       2238  \n",
       "\n",
       "[2 rows x 53 columns]"
      ]
     },
     "execution_count": 24,
     "metadata": {},
     "output_type": "execute_result"
    }
   ],
   "source": [
    "other_rounds_df.groupby(\"type\").count()"
   ]
  },
  {
   "cell_type": "code",
   "execution_count": null,
   "metadata": {},
   "outputs": [],
   "source": []
  }
 ],
 "metadata": {
  "kernelspec": {
   "display_name": "ncaa_model",
   "language": "python",
   "name": "ncaa_model"
  },
  "language_info": {
   "codemirror_mode": {
    "name": "ipython",
    "version": 3
   },
   "file_extension": ".py",
   "mimetype": "text/x-python",
   "name": "python",
   "nbconvert_exporter": "python",
   "pygments_lexer": "ipython3",
   "version": "3.8.9"
  }
 },
 "nbformat": 4,
 "nbformat_minor": 2
}

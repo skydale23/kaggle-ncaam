{
 "cells": [
  {
   "cell_type": "code",
   "execution_count": 125,
   "metadata": {},
   "outputs": [],
   "source": [
    "import pandas as pd\n",
    "import numpy as np\n",
    "import sys\n",
    "sys.path.append('../kaggle_prediction_library/') \n",
    "import preprocess\n",
    "import feature_engineering\n",
    "import submission\n",
    "import validation\n",
    "from sklearn.model_selection import train_test_split\n",
    "\n",
    "# from hyperopt import tpe, fmin, Trials\n",
    "# import hyperopt.hp as hp\n",
    "\n",
    "from sklearn.linear_model import LogisticRegression\n",
    "from sklearn.linear_model import LogisticRegressionCV\n",
    "from sklearn.model_selection import GridSearchCV\n",
    "from sklearn.ensemble import RandomForestClassifier\n",
    "from sklearn.metrics import confusion_matrix\n",
    "from sklearn.metrics import classification_report\n",
    "from sklearn.metrics import log_loss\n",
    "from sklearn.feature_selection import chi2\n",
    "from sklearn.metrics import r2_score\n",
    "import numpy as np\n",
    "from sklearn.model_selection import train_test_split\n",
    "from sklearn.preprocessing import StandardScaler\n",
    "from sklearn.pipeline import Pipeline\n",
    "from sklearn.metrics import brier_score_loss\n",
    "from sklearn.pipeline import make_pipeline\n",
    "\n"
   ]
  },
  {
   "cell_type": "code",
   "execution_count": 133,
   "metadata": {},
   "outputs": [],
   "source": [
    "to_predict_mens = pd.read_csv(\"to_predict_mens.csv\")"
   ]
  },
  {
   "cell_type": "code",
   "execution_count": 134,
   "metadata": {},
   "outputs": [
    {
     "data": {
      "text/html": [
       "<div>\n",
       "<style scoped>\n",
       "    .dataframe tbody tr th:only-of-type {\n",
       "        vertical-align: middle;\n",
       "    }\n",
       "\n",
       "    .dataframe tbody tr th {\n",
       "        vertical-align: top;\n",
       "    }\n",
       "\n",
       "    .dataframe thead th {\n",
       "        text-align: right;\n",
       "    }\n",
       "</style>\n",
       "<table border=\"1\" class=\"dataframe\">\n",
       "  <thead>\n",
       "    <tr style=\"text-align: right;\">\n",
       "      <th></th>\n",
       "      <th>t1_TeamName</th>\n",
       "      <th>t2_TeamName</th>\n",
       "      <th>final_odds</th>\n",
       "    </tr>\n",
       "  </thead>\n",
       "  <tbody>\n",
       "    <tr>\n",
       "      <th>2644</th>\n",
       "      <td>Connecticut</td>\n",
       "      <td>Stetson</td>\n",
       "      <td>-26.5</td>\n",
       "    </tr>\n",
       "    <tr>\n",
       "      <th>2705</th>\n",
       "      <td>Iowa St</td>\n",
       "      <td>S Dakota St</td>\n",
       "      <td>-16.5</td>\n",
       "    </tr>\n",
       "    <tr>\n",
       "      <th>2765</th>\n",
       "      <td>Illinois</td>\n",
       "      <td>Morehead St</td>\n",
       "      <td>-12.0</td>\n",
       "    </tr>\n",
       "    <tr>\n",
       "      <th>2824</th>\n",
       "      <td>Auburn</td>\n",
       "      <td>Yale</td>\n",
       "      <td>-13.0</td>\n",
       "    </tr>\n",
       "    <tr>\n",
       "      <th>2882</th>\n",
       "      <td>San Diego St</td>\n",
       "      <td>UAB</td>\n",
       "      <td>-7.0</td>\n",
       "    </tr>\n",
       "  </tbody>\n",
       "</table>\n",
       "</div>"
      ],
      "text/plain": [
       "       t1_TeamName  t2_TeamName  final_odds\n",
       "2644   Connecticut      Stetson       -26.5\n",
       "2705       Iowa St  S Dakota St       -16.5\n",
       "2765      Illinois  Morehead St       -12.0\n",
       "2824        Auburn         Yale       -13.0\n",
       "2882  San Diego St          UAB        -7.0"
      ]
     },
     "execution_count": 134,
     "metadata": {},
     "output_type": "execute_result"
    }
   ],
   "source": [
    "to_predict_mens[(to_predict_mens[\"GameRound\"] == 1) & (to_predict_mens[\"Season\"] == 2024)][[\"t1_TeamName\", \"t2_TeamName\", \"final_odds\"]].head()"
   ]
  },
  {
   "cell_type": "code",
   "execution_count": 173,
   "metadata": {},
   "outputs": [
    {
     "data": {
      "text/html": [
       "<div>\n",
       "<style scoped>\n",
       "    .dataframe tbody tr th:only-of-type {\n",
       "        vertical-align: middle;\n",
       "    }\n",
       "\n",
       "    .dataframe tbody tr th {\n",
       "        vertical-align: top;\n",
       "    }\n",
       "\n",
       "    .dataframe thead th {\n",
       "        text-align: right;\n",
       "    }\n",
       "</style>\n",
       "<table border=\"1\" class=\"dataframe\">\n",
       "  <thead>\n",
       "    <tr style=\"text-align: right;\">\n",
       "      <th></th>\n",
       "      <th>Team1</th>\n",
       "      <th>t1_TeamName</th>\n",
       "      <th>t1_adj_margin</th>\n",
       "    </tr>\n",
       "  </thead>\n",
       "  <tbody>\n",
       "    <tr>\n",
       "      <th>2921</th>\n",
       "      <td>1246</td>\n",
       "      <td>Kentucky</td>\n",
       "      <td>-407.056815</td>\n",
       "    </tr>\n",
       "    <tr>\n",
       "      <th>2647</th>\n",
       "      <td>1124</td>\n",
       "      <td>Baylor</td>\n",
       "      <td>-367.850338</td>\n",
       "    </tr>\n",
       "    <tr>\n",
       "      <th>2879</th>\n",
       "      <td>1321</td>\n",
       "      <td>Northwestern</td>\n",
       "      <td>-359.884023</td>\n",
       "    </tr>\n",
       "    <tr>\n",
       "      <th>2903</th>\n",
       "      <td>1345</td>\n",
       "      <td>Purdue</td>\n",
       "      <td>-349.947535</td>\n",
       "    </tr>\n",
       "    <tr>\n",
       "      <th>3024</th>\n",
       "      <td>1400</td>\n",
       "      <td>Texas</td>\n",
       "      <td>-346.895073</td>\n",
       "    </tr>\n",
       "    <tr>\n",
       "      <th>...</th>\n",
       "      <td>...</td>\n",
       "      <td>...</td>\n",
       "      <td>...</td>\n",
       "    </tr>\n",
       "    <tr>\n",
       "      <th>2722</th>\n",
       "      <td>1224</td>\n",
       "      <td>Howard</td>\n",
       "      <td>243.775995</td>\n",
       "    </tr>\n",
       "    <tr>\n",
       "      <th>2934</th>\n",
       "      <td>1255</td>\n",
       "      <td>Longwood</td>\n",
       "      <td>249.178582</td>\n",
       "    </tr>\n",
       "    <tr>\n",
       "      <th>3032</th>\n",
       "      <td>1389</td>\n",
       "      <td>St Peter's</td>\n",
       "      <td>274.067461</td>\n",
       "    </tr>\n",
       "    <tr>\n",
       "      <th>2884</th>\n",
       "      <td>1287</td>\n",
       "      <td>Morehead St</td>\n",
       "      <td>299.484637</td>\n",
       "    </tr>\n",
       "    <tr>\n",
       "      <th>2738</th>\n",
       "      <td>1212</td>\n",
       "      <td>Grambling</td>\n",
       "      <td>386.460797</td>\n",
       "    </tr>\n",
       "  </tbody>\n",
       "</table>\n",
       "<p>63 rows × 3 columns</p>\n",
       "</div>"
      ],
      "text/plain": [
       "      Team1   t1_TeamName  t1_adj_margin\n",
       "2921   1246      Kentucky    -407.056815\n",
       "2647   1124        Baylor    -367.850338\n",
       "2879   1321  Northwestern    -359.884023\n",
       "2903   1345        Purdue    -349.947535\n",
       "3024   1400         Texas    -346.895073\n",
       "...     ...           ...            ...\n",
       "2722   1224        Howard     243.775995\n",
       "2934   1255      Longwood     249.178582\n",
       "3032   1389    St Peter's     274.067461\n",
       "2884   1287   Morehead St     299.484637\n",
       "2738   1212     Grambling     386.460797\n",
       "\n",
       "[63 rows x 3 columns]"
      ]
     },
     "execution_count": 173,
     "metadata": {},
     "output_type": "execute_result"
    }
   ],
   "source": [
    "pd.set_option('display.max_columns', None)\n",
    "1345\n",
    "to_predict_mens[(to_predict_mens[\"Season\"] == 2024)][[\"Team1\", \"t1_TeamName\", \"t1_adj_margin\"]].drop_duplicates().sort_values(by=\"t1_adj_margin\")"
   ]
  },
  {
   "cell_type": "code",
   "execution_count": 169,
   "metadata": {},
   "outputs": [
    {
     "data": {
      "text/html": [
       "<div>\n",
       "<style scoped>\n",
       "    .dataframe tbody tr th:only-of-type {\n",
       "        vertical-align: middle;\n",
       "    }\n",
       "\n",
       "    .dataframe tbody tr th {\n",
       "        vertical-align: top;\n",
       "    }\n",
       "\n",
       "    .dataframe thead th {\n",
       "        text-align: right;\n",
       "    }\n",
       "</style>\n",
       "<table border=\"1\" class=\"dataframe\">\n",
       "  <thead>\n",
       "    <tr style=\"text-align: right;\">\n",
       "      <th></th>\n",
       "      <th>Unnamed: 0</th>\n",
       "      <th>type</th>\n",
       "      <th>ID</th>\n",
       "      <th>Pred</th>\n",
       "      <th>Season</th>\n",
       "      <th>Team1</th>\n",
       "      <th>Team2</th>\n",
       "      <th>Outcome</th>\n",
       "      <th>Gender</th>\n",
       "      <th>margin</th>\n",
       "      <th>t1_TeamName</th>\n",
       "      <th>t1_FirstD1Season</th>\n",
       "      <th>t1_LastD1Season</th>\n",
       "      <th>t2_TeamName</th>\n",
       "      <th>t2_FirstD1Season</th>\n",
       "      <th>t2_LastD1Season</th>\n",
       "      <th>final_odds</th>\n",
       "      <th>GameRound</th>\n",
       "      <th>t1_FGM</th>\n",
       "      <th>t1_FGA</th>\n",
       "      <th>t1_FGM3</th>\n",
       "      <th>t1_FGA3</th>\n",
       "      <th>t1_OR</th>\n",
       "      <th>t1_Ast</th>\n",
       "      <th>t1_TO</th>\n",
       "      <th>t1_Stl</th>\n",
       "      <th>t1_PF</th>\n",
       "      <th>t1_FTA</th>\n",
       "      <th>t1_FTM</th>\n",
       "      <th>t1_PointDiff</th>\n",
       "      <th>t2_FGM</th>\n",
       "      <th>t2_FGA</th>\n",
       "      <th>t2_FGM3</th>\n",
       "      <th>t2_FGA3</th>\n",
       "      <th>t2_OR</th>\n",
       "      <th>t2_Ast</th>\n",
       "      <th>t2_TO</th>\n",
       "      <th>t2_Stl</th>\n",
       "      <th>t2_PF</th>\n",
       "      <th>t2_FTA</th>\n",
       "      <th>t2_FTM</th>\n",
       "      <th>t2_PointDiff</th>\n",
       "      <th>t1_OrdinalRank</th>\n",
       "      <th>t2_OrdinalRank</th>\n",
       "      <th>t1_Seed</th>\n",
       "      <th>t2_Seed</th>\n",
       "      <th>seed_diff</th>\n",
       "      <th>t1_adj_oe</th>\n",
       "      <th>t1_adj_de</th>\n",
       "      <th>t1_adj_margin</th>\n",
       "      <th>t2_adj_oe</th>\n",
       "      <th>t2_adj_de</th>\n",
       "      <th>t2_adj_margin</th>\n",
       "      <th>t1_final_rank</th>\n",
       "      <th>t2_final_rank</th>\n",
       "    </tr>\n",
       "  </thead>\n",
       "  <tbody>\n",
       "    <tr>\n",
       "      <th>4164</th>\n",
       "      <td>4164</td>\n",
       "      <td>Prediction</td>\n",
       "      <td>2024_1212_1345</td>\n",
       "      <td>0.5</td>\n",
       "      <td>2024</td>\n",
       "      <td>1212</td>\n",
       "      <td>1345</td>\n",
       "      <td>NaN</td>\n",
       "      <td>M</td>\n",
       "      <td>NaN</td>\n",
       "      <td>Grambling</td>\n",
       "      <td>1985</td>\n",
       "      <td>2024</td>\n",
       "      <td>Purdue</td>\n",
       "      <td>1985</td>\n",
       "      <td>2024</td>\n",
       "      <td>24.5</td>\n",
       "      <td>1</td>\n",
       "      <td>22.580645</td>\n",
       "      <td>52.354839</td>\n",
       "      <td>5.322581</td>\n",
       "      <td>15.612903</td>\n",
       "      <td>7.741935</td>\n",
       "      <td>9.16129</td>\n",
       "      <td>12.741935</td>\n",
       "      <td>7.129032</td>\n",
       "      <td>16.16129</td>\n",
       "      <td>20.741935</td>\n",
       "      <td>14.645161</td>\n",
       "      <td>-3.741935</td>\n",
       "      <td>28.515152</td>\n",
       "      <td>58.393939</td>\n",
       "      <td>8.333333</td>\n",
       "      <td>20.424242</td>\n",
       "      <td>11.030303</td>\n",
       "      <td>18.393939</td>\n",
       "      <td>10.969697</td>\n",
       "      <td>5.666667</td>\n",
       "      <td>14.363636</td>\n",
       "      <td>25.0</td>\n",
       "      <td>18.030303</td>\n",
       "      <td>13.242424</td>\n",
       "      <td>25.0</td>\n",
       "      <td>2.0</td>\n",
       "      <td>16</td>\n",
       "      <td>1</td>\n",
       "      <td>15</td>\n",
       "      <td>209.522761</td>\n",
       "      <td>-176.938036</td>\n",
       "      <td>386.460797</td>\n",
       "      <td>-117.666782</td>\n",
       "      <td>232.280753</td>\n",
       "      <td>-349.947535</td>\n",
       "      <td>65.379039</td>\n",
       "      <td>97.181957</td>\n",
       "    </tr>\n",
       "  </tbody>\n",
       "</table>\n",
       "</div>"
      ],
      "text/plain": [
       "      Unnamed: 0        type              ID  Pred  Season  Team1  Team2  \\\n",
       "4164        4164  Prediction  2024_1212_1345   0.5    2024   1212   1345   \n",
       "\n",
       "      Outcome Gender  margin t1_TeamName  t1_FirstD1Season  t1_LastD1Season  \\\n",
       "4164      NaN      M     NaN   Grambling              1985             2024   \n",
       "\n",
       "     t2_TeamName  t2_FirstD1Season  t2_LastD1Season  final_odds  GameRound  \\\n",
       "4164      Purdue              1985             2024        24.5          1   \n",
       "\n",
       "         t1_FGM     t1_FGA   t1_FGM3    t1_FGA3     t1_OR   t1_Ast      t1_TO  \\\n",
       "4164  22.580645  52.354839  5.322581  15.612903  7.741935  9.16129  12.741935   \n",
       "\n",
       "        t1_Stl     t1_PF     t1_FTA     t1_FTM  t1_PointDiff     t2_FGM  \\\n",
       "4164  7.129032  16.16129  20.741935  14.645161     -3.741935  28.515152   \n",
       "\n",
       "         t2_FGA   t2_FGM3    t2_FGA3      t2_OR     t2_Ast      t2_TO  \\\n",
       "4164  58.393939  8.333333  20.424242  11.030303  18.393939  10.969697   \n",
       "\n",
       "        t2_Stl      t2_PF  t2_FTA     t2_FTM  t2_PointDiff  t1_OrdinalRank  \\\n",
       "4164  5.666667  14.363636    25.0  18.030303     13.242424            25.0   \n",
       "\n",
       "      t2_OrdinalRank  t1_Seed  t2_Seed  seed_diff   t1_adj_oe   t1_adj_de  \\\n",
       "4164             2.0       16        1         15  209.522761 -176.938036   \n",
       "\n",
       "      t1_adj_margin   t2_adj_oe   t2_adj_de  t2_adj_margin  t1_final_rank  \\\n",
       "4164     386.460797 -117.666782  232.280753    -349.947535      65.379039   \n",
       "\n",
       "      t2_final_rank  \n",
       "4164      97.181957  "
      ]
     },
     "execution_count": 169,
     "metadata": {},
     "output_type": "execute_result"
    }
   ],
   "source": [
    "to_predict_mens[(to_predict_mens[\"GameRound\"] == 1) & (to_predict_mens[\"Season\"] == 2024)\n",
    "                & (to_predict_mens[\"Team2\"] == 1345)]"
   ]
  },
  {
   "cell_type": "code",
   "execution_count": null,
   "metadata": {},
   "outputs": [],
   "source": []
  },
  {
   "cell_type": "markdown",
   "metadata": {},
   "source": [
    "### Prepare data "
   ]
  },
  {
   "cell_type": "code",
   "execution_count": 135,
   "metadata": {},
   "outputs": [],
   "source": [
    "def prepare_data(to_predict_mens, season):\n",
    "\n",
    "    to_predict_mens_first_round_train = to_predict_mens[(to_predict_mens[\"GameRound\"] == 1)\n",
    "                                                        & (to_predict_mens.final_odds.notnull())\n",
    "                                                        & (to_predict_mens.Season < season)\n",
    "                                                        ].copy()\n",
    "    \n",
    "    to_predict_mens_train = to_predict_mens[(to_predict_mens.Season < season)].copy()\n",
    "\n",
    "    to_predict_mens_first_round_test = to_predict_mens[(to_predict_mens.Season == season)\n",
    "                                                    & (to_predict_mens.GameRound == 1)\n",
    "                                                    & (to_predict_mens.final_odds.notnull())\n",
    "                                                    ].copy()\n",
    "\n",
    "    to_predict_mens_other_rounds_test = to_predict_mens[(to_predict_mens.Season == season)\n",
    "                                                    & (to_predict_mens.GameRound > 1)\n",
    "                                                    ].copy()\n",
    "    \n",
    "    return to_predict_mens_first_round_train, to_predict_mens_train, to_predict_mens_first_round_test, to_predict_mens_other_rounds_test\n",
    "    \n"
   ]
  },
  {
   "cell_type": "markdown",
   "metadata": {},
   "source": [
    "### Odds Model Training"
   ]
  },
  {
   "cell_type": "code",
   "execution_count": 136,
   "metadata": {},
   "outputs": [],
   "source": [
    "def train_odds_model(to_predict_mens_first_round_train):\n",
    "\n",
    "    best_params = {\"C\": .1}\n",
    "    model = LogisticRegression(**best_params)\n",
    "    pipeline = make_pipeline(StandardScaler(), model)\n",
    "    odds_model = pipeline.fit(to_predict_mens_first_round_train[[\"final_odds\"]], to_predict_mens_first_round_train[\"Outcome\"])\n",
    "    \n",
    "    return odds_model\n"
   ]
  },
  {
   "cell_type": "markdown",
   "metadata": {},
   "source": [
    "### Statistics Model Training"
   ]
  },
  {
   "cell_type": "code",
   "execution_count": 137,
   "metadata": {},
   "outputs": [],
   "source": [
    "def train_statistics_model(to_predict_mens_train, statistics_features):\n",
    "\n",
    "    best_params = {\"C\": .1}\n",
    "    model = LogisticRegression(**best_params)\n",
    "    pipeline = make_pipeline(StandardScaler(), model)\n",
    "    statistics_model = pipeline.fit(to_predict_mens_train[statistics_features], to_predict_mens_train[\"Outcome\"])\n",
    "\n",
    "    return statistics_model\n"
   ]
  },
  {
   "cell_type": "markdown",
   "metadata": {},
   "source": [
    "### Inference"
   ]
  },
  {
   "cell_type": "code",
   "execution_count": 138,
   "metadata": {},
   "outputs": [],
   "source": [
    "def inference(to_predict_mens_first_round_test, to_predict_mens_other_rounds_test, odds_model, statistics_model, features):\n",
    "\n",
    "    pred_proba = odds_model.predict_proba(to_predict_mens_first_round_test[[\"final_odds\"]].copy())[:,1]\n",
    "    to_predict_mens_first_round_test[\"odds_pred\"] = pred_proba\n",
    "\n",
    "    pred_proba = statistics_model.predict_proba(to_predict_mens_first_round_test[features].copy())[:,1]\n",
    "    to_predict_mens_first_round_test[\"statistics_pred\"] = pred_proba\n",
    "\n",
    "    to_predict_mens_first_round_test[\"Pred\"] = (to_predict_mens_first_round_test.odds_pred * .75) + \\\n",
    "                                                (to_predict_mens_first_round_test.statistics_pred * .25)\n",
    "    \n",
    "\n",
    "   \n",
    "\n",
    "    pred_proba = statistics_model.predict_proba(to_predict_mens_other_rounds_test[features].copy())[:,1]\n",
    "    to_predict_mens_other_rounds_test[\"Pred\"] = pred_proba\n",
    "\n",
    "    mens_sub = pd.concat([to_predict_mens_first_round_test[[\"ID\", \"Pred\"]],\n",
    "            to_predict_mens_other_rounds_test[[\"ID\", \"Pred\"]]], axis=0)\n",
    "    \n",
    "    return mens_sub\n",
    "\n"
   ]
  },
  {
   "cell_type": "markdown",
   "metadata": {},
   "source": [
    "### Full Pipeline"
   ]
  },
  {
   "cell_type": "code",
   "execution_count": 139,
   "metadata": {},
   "outputs": [],
   "source": [
    "def run(to_predict_mens, season, statistics_features):\n",
    "    \n",
    "    # get data\n",
    "    to_predict_mens_first_round_train, to_predict_mens_train, to_predict_mens_first_round_test, to_predict_mens_other_rounds_test= prepare_data(to_predict_mens, season)\n",
    "    \n",
    "    # train\n",
    "    odds_model = train_odds_model(to_predict_mens_first_round_train)\n",
    "    statistics_model = train_statistics_model(to_predict_mens_train, statistics_features)\n",
    "\n",
    "    # inference\n",
    "    sub = inference(to_predict_mens_first_round_test, to_predict_mens_other_rounds_test, odds_model, statistics_model, statistics_features) \n",
    "\n",
    "    return sub\n",
    "    "
   ]
  },
  {
   "cell_type": "code",
   "execution_count": 140,
   "metadata": {},
   "outputs": [],
   "source": [
    "statistics_features = ['t1_adj_margin', 't2_adj_margin', 't1_final_rank', 't2_final_rank', 't1_OrdinalRank', 't2_OrdinalRank']\n",
    "mens_sub = run(to_predict_mens, 2024, statistics_features)"
   ]
  },
  {
   "cell_type": "markdown",
   "metadata": {},
   "source": [
    "### Womens"
   ]
  },
  {
   "cell_type": "code",
   "execution_count": 155,
   "metadata": {},
   "outputs": [],
   "source": [
    "to_predict_women = pd.read_csv(\"to_predict_women.csv\")\n",
    "\n",
    "to_predict_women_train = to_predict_women[to_predict_women.Season != 2024] \n",
    "to_predict_women_test = to_predict_women[to_predict_women.Season == 2024] \n"
   ]
  },
  {
   "cell_type": "code",
   "execution_count": 156,
   "metadata": {},
   "outputs": [],
   "source": [
    "statistics_features = ['seed_diff', 't1_adj_margin', 't2_adj_margin']\n",
    "best_params = {\"C\": .1}\n",
    "model = LogisticRegression(**best_params)\n",
    "pipeline = make_pipeline(StandardScaler(), model)\n",
    "statistics_model = pipeline.fit(to_predict_women_train[statistics_features], to_predict_women_train[\"Outcome\"])\n"
   ]
  },
  {
   "cell_type": "code",
   "execution_count": 157,
   "metadata": {},
   "outputs": [
    {
     "name": "stderr",
     "output_type": "stream",
     "text": [
      "/var/folders/2g/465yxy_x4g786jx2llr5xqh40000gn/T/ipykernel_13428/593629811.py:2: SettingWithCopyWarning: \n",
      "A value is trying to be set on a copy of a slice from a DataFrame.\n",
      "Try using .loc[row_indexer,col_indexer] = value instead\n",
      "\n",
      "See the caveats in the documentation: https://pandas.pydata.org/pandas-docs/stable/user_guide/indexing.html#returning-a-view-versus-a-copy\n",
      "  to_predict_women_test[\"Pred\"] = pred_proba\n"
     ]
    }
   ],
   "source": [
    "pred_proba = statistics_model.predict_proba(to_predict_women_test[statistics_features].copy())[:,1]\n",
    "to_predict_women_test[\"Pred\"] = pred_proba\n",
    "womens_sub = to_predict_women_test[[\"ID\", \"Pred\"]]\n"
   ]
  },
  {
   "cell_type": "code",
   "execution_count": 159,
   "metadata": {},
   "outputs": [],
   "source": [
    "final_sub = pd.concat([mens_sub, womens_sub], axis=0)"
   ]
  },
  {
   "cell_type": "code",
   "execution_count": 161,
   "metadata": {},
   "outputs": [],
   "source": [
    "final_sub.to_csv(\"traditional_format_sub.csv\")"
   ]
  },
  {
   "cell_type": "code",
   "execution_count": null,
   "metadata": {},
   "outputs": [],
   "source": []
  },
  {
   "cell_type": "code",
   "execution_count": null,
   "metadata": {},
   "outputs": [],
   "source": []
  },
  {
   "cell_type": "code",
   "execution_count": 88,
   "metadata": {},
   "outputs": [],
   "source": [
    "# statistics_features = ['t1_adj_margin', 't2_adj_margin', 't1_final_rank', 't2_final_rank', 't1_OrdinalRank', 't2_OrdinalRank']\n",
    "\n",
    "# all_subs = []\n",
    "\n",
    "# for year in range(2010, 2024):\n",
    "#     if year != 2020:\n",
    "#         sub = run(to_predict_mens, year, statistics_features)\n",
    "#         all_subs.append(sub)\n",
    "\n",
    "#all_subs = pd.concat(all_subs)\n",
    "#all_subs.to_csv(\"../submissions/all_sky_model_preds.csv\")\n"
   ]
  },
  {
   "cell_type": "code",
   "execution_count": 60,
   "metadata": {},
   "outputs": [],
   "source": []
  },
  {
   "cell_type": "code",
   "execution_count": 61,
   "metadata": {},
   "outputs": [],
   "source": [
    "\n",
    "#mens_sub.to_csv(\"../submissions/sub_2023_in_2024.csv\")"
   ]
  },
  {
   "cell_type": "code",
   "execution_count": null,
   "metadata": {},
   "outputs": [],
   "source": []
  }
 ],
 "metadata": {
  "kernelspec": {
   "display_name": "ncaa_model",
   "language": "python",
   "name": "ncaa_model"
  },
  "language_info": {
   "codemirror_mode": {
    "name": "ipython",
    "version": 3
   },
   "file_extension": ".py",
   "mimetype": "text/x-python",
   "name": "python",
   "nbconvert_exporter": "python",
   "pygments_lexer": "ipython3",
   "version": "3.8.9"
  }
 },
 "nbformat": 4,
 "nbformat_minor": 2
}

{
 "cells": [
  {
   "cell_type": "code",
   "execution_count": 28,
   "metadata": {},
   "outputs": [],
   "source": [
    "import pandas as pd\n",
    "import numpy as np\n",
    "import sys\n",
    "sys.path.append('../kaggle_prediction_library/') \n",
    "import preprocess\n",
    "import feature_engineering\n",
    "import submission\n",
    "import validation\n",
    "from sklearn.model_selection import train_test_split\n",
    "\n",
    "# from hyperopt import tpe, fmin, Trials\n",
    "# import hyperopt.hp as hp\n",
    "\n",
    "from sklearn.linear_model import LogisticRegression\n",
    "from sklearn.linear_model import LogisticRegressionCV\n",
    "from sklearn.model_selection import GridSearchCV\n",
    "from sklearn.ensemble import RandomForestClassifier\n",
    "from sklearn.metrics import confusion_matrix\n",
    "from sklearn.metrics import classification_report\n",
    "from sklearn.metrics import log_loss\n",
    "from sklearn.feature_selection import chi2\n",
    "from sklearn.metrics import r2_score\n",
    "import numpy as np\n",
    "from sklearn.model_selection import train_test_split\n",
    "from sklearn.preprocessing import StandardScaler\n",
    "from sklearn.pipeline import Pipeline\n",
    "from sklearn.metrics import brier_score_loss\n",
    "from sklearn.pipeline import make_pipeline\n",
    "\n"
   ]
  },
  {
   "cell_type": "code",
   "execution_count": 29,
   "metadata": {},
   "outputs": [],
   "source": [
    "to_predict_mens = pd.read_csv(\"to_predict_mens.csv\")\n"
   ]
  },
  {
   "cell_type": "code",
   "execution_count": 42,
   "metadata": {},
   "outputs": [],
   "source": [
    "to_predict_mens_first_round_train = to_predict_mens[(to_predict_mens[\"GameRound\"] == 1)\n",
    "                                                    & (to_predict_mens.final_odds.notnull())\n",
    "                                                    & (to_predict_mens.type == \"Historical\")\n",
    "                                                    ].copy()"
   ]
  },
  {
   "cell_type": "code",
   "execution_count": 43,
   "metadata": {},
   "outputs": [],
   "source": [
    "to_predict_mens_train = to_predict_mens[(to_predict_mens.type == \"Historical\")].copy()"
   ]
  },
  {
   "cell_type": "code",
   "execution_count": 44,
   "metadata": {},
   "outputs": [],
   "source": [
    "to_predict_mens_first_round_test = to_predict_mens[(to_predict_mens.type == \"Prediction\")\n",
    "                                                   & (to_predict_mens.GameRound == 1)\n",
    "                                                   ].copy()"
   ]
  },
  {
   "cell_type": "code",
   "execution_count": 45,
   "metadata": {},
   "outputs": [],
   "source": [
    "to_predict_mens_other_rounds_test = to_predict_mens[(to_predict_mens.type == \"Prediction\")\n",
    "                                                   & (to_predict_mens.GameRound > 1)\n",
    "                                                   ].copy()\n"
   ]
  },
  {
   "cell_type": "markdown",
   "metadata": {},
   "source": [
    "### Odds Model Training"
   ]
  },
  {
   "cell_type": "code",
   "execution_count": 46,
   "metadata": {},
   "outputs": [],
   "source": [
    "best_params = {\"C\": .1}\n",
    "model = LogisticRegression(**best_params)\n",
    "pipeline = make_pipeline(StandardScaler(), model)\n",
    "odds_model = pipeline.fit(to_predict_mens_first_round_train[[\"final_odds\"]], to_predict_mens_first_round_train[\"Outcome\"])\n"
   ]
  },
  {
   "cell_type": "markdown",
   "metadata": {},
   "source": [
    "### Statistics Model Training"
   ]
  },
  {
   "cell_type": "code",
   "execution_count": 47,
   "metadata": {},
   "outputs": [],
   "source": [
    "best_params = {\"C\": .1}\n",
    "model = LogisticRegression(**best_params)\n",
    "pipeline = make_pipeline(StandardScaler(), model)\n",
    "features = ['t1_adj_margin', 't2_adj_margin', 't1_final_rank', 't2_final_rank', 't1_OrdinalRank', 't2_OrdinalRank']\n",
    "statistics_model = pipeline.fit(to_predict_mens_train[features], to_predict_mens_train[\"Outcome\"])\n"
   ]
  },
  {
   "cell_type": "markdown",
   "metadata": {},
   "source": [
    "### Inference"
   ]
  },
  {
   "cell_type": "code",
   "execution_count": 56,
   "metadata": {},
   "outputs": [],
   "source": [
    "pred_proba = odds_model.predict_proba(to_predict_mens_first_round_test[[\"final_odds\"]].copy())[:,1]\n",
    "to_predict_mens_first_round_test[\"odds_pred\"] = pred_proba\n"
   ]
  },
  {
   "cell_type": "code",
   "execution_count": 54,
   "metadata": {},
   "outputs": [],
   "source": [
    "pred_proba = statistics_model.predict_proba(to_predict_mens_first_round_test[features].copy())[:,1]\n",
    "to_predict_mens_first_round_test[\"statistics_pred\"] = pred_proba\n"
   ]
  },
  {
   "cell_type": "code",
   "execution_count": 58,
   "metadata": {},
   "outputs": [],
   "source": [
    "to_predict_mens_first_round_test[\"Pred\"] = (to_predict_mens_first_round_test.odds_pred * .75) + \\\n",
    "                                            (to_predict_mens_first_round_test.statistics_pred * .25)\n"
   ]
  },
  {
   "cell_type": "code",
   "execution_count": 61,
   "metadata": {},
   "outputs": [],
   "source": [
    "pred_proba = statistics_model.predict_proba(to_predict_mens_other_rounds_test[features].copy())[:,1]\n",
    "to_predict_mens_other_rounds_test[\"Pred\"] = pred_proba\n"
   ]
  },
  {
   "cell_type": "code",
   "execution_count": 68,
   "metadata": {},
   "outputs": [],
   "source": [
    "mens_sub = pd.concat([to_predict_mens_first_round_test[[\"ID\", \"Pred\"]],\n",
    "           to_predict_mens_other_rounds_test[[\"ID\", \"Pred\"]]], axis=0)"
   ]
  },
  {
   "cell_type": "code",
   "execution_count": 72,
   "metadata": {},
   "outputs": [],
   "source": [
    "mens_sub.to_csv(\"../submissions/sub_2023_in_2024.csv\")"
   ]
  },
  {
   "cell_type": "code",
   "execution_count": null,
   "metadata": {},
   "outputs": [],
   "source": []
  }
 ],
 "metadata": {
  "kernelspec": {
   "display_name": "ncaa_model",
   "language": "python",
   "name": "ncaa_model"
  },
  "language_info": {
   "codemirror_mode": {
    "name": "ipython",
    "version": 3
   },
   "file_extension": ".py",
   "mimetype": "text/x-python",
   "name": "python",
   "nbconvert_exporter": "python",
   "pygments_lexer": "ipython3",
   "version": "3.8.9"
  }
 },
 "nbformat": 4,
 "nbformat_minor": 2
}

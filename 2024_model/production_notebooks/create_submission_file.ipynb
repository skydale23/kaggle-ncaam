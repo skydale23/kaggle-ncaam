{
 "cells": [
  {
   "cell_type": "code",
   "execution_count": 33,
   "metadata": {},
   "outputs": [],
   "source": [
    "import pandas as pd\n",
    "import numpy as np"
   ]
  },
  {
   "cell_type": "code",
   "execution_count": 53,
   "metadata": {},
   "outputs": [],
   "source": [
    "seeds = pd.read_csv(\"../data/2024_tourney_seeds.csv\")\n"
   ]
  },
  {
   "cell_type": "code",
   "execution_count": 54,
   "metadata": {},
   "outputs": [],
   "source": [
    "m_seeds = seeds[seeds.Tournament == \"M\"]\n",
    "w_seeds = seeds[seeds.Tournament == \"W\"]"
   ]
  },
  {
   "cell_type": "code",
   "execution_count": 55,
   "metadata": {},
   "outputs": [],
   "source": [
    "m_seeds = m_seeds.merge(m_seeds, how=\"cross\")\n",
    "w_seeds = w_seeds.merge(w_seeds, how=\"cross\")\n"
   ]
  },
  {
   "cell_type": "code",
   "execution_count": 56,
   "metadata": {},
   "outputs": [],
   "source": [
    "m_seeds[\"ID\"] = np.where(m_seeds[\"TeamID_x\"] > m_seeds[\"TeamID_y\"],\n",
    "                         \"2024_\" + m_seeds[\"TeamID_y\"].astype(str) + \"_\" + m_seeds[\"TeamID_x\"].astype(str),\n",
    "                         \"2024_\" + m_seeds[\"TeamID_x\"].astype(str) + \"_\" + m_seeds[\"TeamID_y\"].astype(str)\n",
    "                         )\n",
    "\n",
    "w_seeds[\"ID\"] = np.where(w_seeds[\"TeamID_x\"] > w_seeds[\"TeamID_y\"],\n",
    "                         \"2024_\" + w_seeds[\"TeamID_y\"].astype(str) + \"_\" + w_seeds[\"TeamID_x\"].astype(str),\n",
    "                         \"2024_\" + w_seeds[\"TeamID_x\"].astype(str) + \"_\" + w_seeds[\"TeamID_y\"].astype(str)\n",
    "                         )"
   ]
  },
  {
   "cell_type": "code",
   "execution_count": 57,
   "metadata": {},
   "outputs": [],
   "source": [
    "m_seeds = m_seeds[m_seeds.TeamID_x != m_seeds.TeamID_y]\n",
    "w_seeds = w_seeds[w_seeds.TeamID_x != w_seeds.TeamID_y]"
   ]
  },
  {
   "cell_type": "code",
   "execution_count": 58,
   "metadata": {},
   "outputs": [],
   "source": [
    "m_seeds[\"Pred\"] = .5\n",
    "w_seeds[\"Pred\"] = .5"
   ]
  },
  {
   "cell_type": "code",
   "execution_count": 59,
   "metadata": {},
   "outputs": [],
   "source": [
    "final_sub = pd.concat([m_seeds[[\"ID\", \"Pred\"]].drop_duplicates(),\n",
    "                       w_seeds[[\"ID\", \"Pred\"]].drop_duplicates()\n",
    "                       ], axis=0)\n"
   ]
  },
  {
   "cell_type": "code",
   "execution_count": 60,
   "metadata": {},
   "outputs": [],
   "source": [
    "final_sub.to_csv(\"SampleSubmission2024.csv\", index=False)"
   ]
  },
  {
   "cell_type": "code",
   "execution_count": null,
   "metadata": {},
   "outputs": [],
   "source": []
  },
  {
   "cell_type": "code",
   "execution_count": null,
   "metadata": {},
   "outputs": [],
   "source": []
  }
 ],
 "metadata": {
  "kernelspec": {
   "display_name": "ncaa_model",
   "language": "python",
   "name": "ncaa_model"
  },
  "language_info": {
   "codemirror_mode": {
    "name": "ipython",
    "version": 3
   },
   "file_extension": ".py",
   "mimetype": "text/x-python",
   "name": "python",
   "nbconvert_exporter": "python",
   "pygments_lexer": "ipython3",
   "version": "3.8.9"
  }
 },
 "nbformat": 4,
 "nbformat_minor": 2
}

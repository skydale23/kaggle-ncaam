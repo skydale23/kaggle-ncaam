{
 "cells": [
  {
   "cell_type": "code",
   "execution_count": 1,
   "metadata": {},
   "outputs": [],
   "source": [
    "import pandas as pd\n",
    "import numpy as np"
   ]
  },
  {
   "cell_type": "markdown",
   "metadata": {},
   "source": [
    "### Import data"
   ]
  },
  {
   "cell_type": "code",
   "execution_count": 2,
   "metadata": {},
   "outputs": [],
   "source": [
    "#data_path = '../data/MDataFiles_Stage1/' #This is for stage 1\n",
    "data_path = '../data/MDataFiles_Stage2/' #This is for stage 2\n",
    "\n",
    "\n",
    "#Raw data\n",
    "rankings = pd.read_csv(data_path + 'MMasseyOrdinals.csv')\n",
    "detailed_reg_season = pd.read_csv(data_path +'MRegularSeasonDetailedResults.csv')\n",
    "team_coaches = pd.read_csv(data_path + 'MTeamCoaches.csv')\n",
    "detailed_tourney_results = pd.read_csv(data_path + 'MNCAATourneyDetailedResults.csv')\n",
    "conf_tourney = pd.read_csv(data_path + 'MConferenceTourneyGames.csv')\n",
    "team_conferences = pd.read_csv(data_path + 'MTeamConferences.csv')\n",
    "tourney_seeds = pd.read_csv(data_path + 'MNCAATourneySeeds.csv')\n",
    "teams = pd.read_csv(data_path + 'MTeams.csv')\n",
    "\n"
   ]
  },
  {
   "cell_type": "markdown",
   "metadata": {},
   "source": [
    "### Processing"
   ]
  },
  {
   "cell_type": "markdown",
   "metadata": {},
   "source": [
    "#### Combine reg season with tournament games"
   ]
  },
  {
   "cell_type": "code",
   "execution_count": 3,
   "metadata": {},
   "outputs": [],
   "source": [
    "#create flags to indicate if it's a tournament game\n",
    "detailed_tourney_results['TourneyGame'] = 1\n",
    "detailed_reg_season['TourneyGame'] = 0\n",
    "\n",
    "#combine to create full dataset\n",
    "all_games = pd.concat([detailed_tourney_results, detailed_reg_season])"
   ]
  },
  {
   "cell_type": "markdown",
   "metadata": {},
   "source": [
    "#### Restructure dataset for predictions"
   ]
  },
  {
   "cell_type": "code",
   "execution_count": 4,
   "metadata": {},
   "outputs": [],
   "source": [
    "#function to make the dataset complete \n",
    "def make_full(df, lose_cols, win_cols, new_cols):\n",
    "    \n",
    "    #Remap column names\n",
    "    df_winners = df[win_cols].rename(columns={i:j for (i,j) in zip(win_cols, new_cols)}).copy()\n",
    "    df_losers = df[lose_cols].rename(columns={i:j for (i,j) in zip(lose_cols, new_cols)}).copy()\n",
    "    \n",
    "    #Add column to remember who won/lost\n",
    "    df_winners['Outcome'] = 1\n",
    "    df_losers['Outcome'] = 0\n",
    "    \n",
    "    #Encode location - Team1 is the winner\n",
    "    df_winners['Loc'] = np.where(df_winners['WLoc'] == 'H', 'H', \\\n",
    "                                 np.where(df_winners['WLoc'] == 'A', 'A', 'N'))\n",
    "    \n",
    "    #Encode location - Team1 is the loser\n",
    "    df_losers['Loc'] = np.where(df_losers['WLoc'] == 'H', 'A', \\\n",
    "                                 np.where(df_losers['WLoc'] == 'A', 'H', 'N'))\n",
    "    \n",
    "    #Create full df\n",
    "    full = df_winners.append(df_losers)\n",
    "\n",
    "    return full"
   ]
  },
  {
   "cell_type": "code",
   "execution_count": 5,
   "metadata": {},
   "outputs": [],
   "source": [
    "#Need to remap these column names so I can create Team1 and Team2 without encoding any win/loss info\n",
    "win_cols = ['TourneyGame','Season', 'DayNum', 'WTeamID','LTeamID', 'WScore', 'LScore', 'WLoc', \n",
    "'NumOT', 'WFGM', 'WFGA', 'WFGM3', 'WFGA3', 'WFTM', 'WFTA', 'WOR', 'WDR',\n",
    "'WAst', 'WTO', 'WStl', 'WBlk', 'WPF', 'LFGM', 'LFGA', 'LFGM3', 'LFGA3',\n",
    "'LFTM', 'LFTA', 'LOR', 'LDR', 'LAst', 'LTO', 'LStl', 'LBlk', 'LPF']\n",
    "\n",
    "lose_cols = ['TourneyGame','Season', 'DayNum', 'LTeamID', 'WTeamID', 'LScore', 'WScore', 'WLoc',\n",
    "'NumOT', 'LFGM', 'LFGA', 'LFGM3', 'LFGA3','LFTM', 'LFTA', 'LOR', 'LDR', \n",
    "'LAst', 'LTO', 'LStl', 'LBlk', 'LPF','WFGM', 'WFGA', 'WFGM3', 'WFGA3', \n",
    "'WFTM', 'WFTA', 'WOR', 'WDR','WAst', 'WTO', 'WStl', 'WBlk', 'WPF']\n",
    "\n",
    "new_cols = ['TourneyGame','Season', 'DayNum', 'Team1', 'Team2', 'Team1_score', 'Team2_score', 'WLoc',\n",
    "'NumOT', 'Team1_FGM', 'Team1_FGA', 'Team1_FGM3', 'Team1_FGA3', 'Team1_FTM', 'Team1_FTA', 'Team1_OR', 'Team1_DR',\n",
    "'Team1_Ast', 'Team1_TO', 'Team1_Stl', 'Team1_Blk', 'Team1_PF', 'Team2_FGM', 'Team2_FGA', 'Team2_FGM3', 'Team2_FGA3',\n",
    "'Team2_FTM', 'Team2_FTA', 'Team2_OR', 'Team2_DR', 'Team2_Ast', 'Team2_TO', 'Team2_Stl', 'Team2_Blk', 'Team2_PF']\n"
   ]
  },
  {
   "cell_type": "code",
   "execution_count": 6,
   "metadata": {},
   "outputs": [],
   "source": [
    "all_games = make_full(all_games, lose_cols, win_cols, new_cols)"
   ]
  },
  {
   "cell_type": "code",
   "execution_count": 7,
   "metadata": {},
   "outputs": [],
   "source": [
    "all_games.to_csv('output/all_games.csv')"
   ]
  },
  {
   "cell_type": "code",
   "execution_count": null,
   "metadata": {},
   "outputs": [],
   "source": []
  }
 ],
 "metadata": {
  "kernelspec": {
   "display_name": "Python 2",
   "language": "python",
   "name": "python2"
  },
  "language_info": {
   "codemirror_mode": {
    "name": "ipython",
    "version": 2
   },
   "file_extension": ".py",
   "mimetype": "text/x-python",
   "name": "python",
   "nbconvert_exporter": "python",
   "pygments_lexer": "ipython2",
   "version": "2.7.16"
  }
 },
 "nbformat": 4,
 "nbformat_minor": 2
}

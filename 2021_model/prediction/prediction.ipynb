{
 "cells": [
  {
   "cell_type": "code",
   "execution_count": 54,
   "metadata": {},
   "outputs": [],
   "source": [
    "import pandas as pd"
   ]
  },
  {
   "cell_type": "code",
   "execution_count": 55,
   "metadata": {},
   "outputs": [],
   "source": [
    "%run ../functions.ipynb"
   ]
  },
  {
   "cell_type": "markdown",
   "metadata": {},
   "source": [
    "### Import data & model"
   ]
  },
  {
   "cell_type": "code",
   "execution_count": 56,
   "metadata": {},
   "outputs": [],
   "source": [
    "#get sample dataset\n",
    "#sub = pd.read_csv('../data/MDataFiles_Stage1/MSampleSubmissionStage1.csv') #first stage\n",
    "\n",
    "sub = pd.read_csv('../data/MDataFiles_Stage2/MSampleSubmissionStage2.csv') #second stage\n",
    "sub = process_sample_sub(sub)"
   ]
  },
  {
   "cell_type": "code",
   "execution_count": 57,
   "metadata": {},
   "outputs": [],
   "source": [
    "sub = sub[['ID', 'Season', 'Team1', 'Team2']]"
   ]
  },
  {
   "cell_type": "code",
   "execution_count": 58,
   "metadata": {},
   "outputs": [],
   "source": [
    "#processed data\n",
    "all_games = pd.read_csv('../feature_engineering/output/all_games.csv')"
   ]
  },
  {
   "cell_type": "code",
   "execution_count": 59,
   "metadata": {},
   "outputs": [],
   "source": [
    "#model\n",
    "import pickle\n",
    "\n",
    "with open(\"../model_build/model/logreg.pkl\", \"rb\") as file: \n",
    "    logreg = pickle.load(file)\n",
    "    \n"
   ]
  },
  {
   "cell_type": "markdown",
   "metadata": {},
   "source": [
    "### Prediction"
   ]
  },
  {
   "cell_type": "code",
   "execution_count": 60,
   "metadata": {},
   "outputs": [],
   "source": [
    "all_games = all_games.fillna(0)"
   ]
  },
  {
   "cell_type": "code",
   "execution_count": 61,
   "metadata": {},
   "outputs": [
    {
     "name": "stderr",
     "output_type": "stream",
     "text": [
      "/Users/skylerdale/.virtualenvs/ncaa_model/lib/python3.8/site-packages/sklearn/base.py:438: UserWarning: X has feature names, but LogisticRegression was fitted without feature names\n",
      "  warnings.warn(\n",
      "/var/folders/2g/465yxy_x4g786jx2llr5xqh40000gn/T/ipykernel_61236/93386179.py:9: SettingWithCopyWarning: \n",
      "A value is trying to be set on a copy of a slice from a DataFrame.\n",
      "Try using .loc[row_indexer,col_indexer] = value instead\n",
      "\n",
      "See the caveats in the documentation: https://pandas.pydata.org/pandas-docs/stable/user_guide/indexing.html#returning-a-view-versus-a-copy\n",
      "  pred_games['Pred'] = logreg.predict_proba(pred_games[feature_list])[:,1]\n"
     ]
    }
   ],
   "source": [
    "pred_games = all_games[all_games.type == 1] # get only games not yet played\n",
    "\n",
    "feature_list = ['seed_diff',  \n",
    "                't1_adj_margin','t2_adj_margin',\n",
    "                't1_final_rank', 't2_final_rank',\n",
    "                't1_OrdinalRank', 't2_OrdinalRank']\n",
    " \n",
    "                \n",
    "pred_games['Pred'] = logreg.predict_proba(pred_games[feature_list])[:,1]"
   ]
  },
  {
   "cell_type": "code",
   "execution_count": 62,
   "metadata": {},
   "outputs": [],
   "source": [
    "all_games[['ID', 'Pred']].to_csv('submission.csv', index = False)"
   ]
  },
  {
   "cell_type": "markdown",
   "metadata": {},
   "source": [
    "### Join with Team Names for exploration"
   ]
  },
  {
   "cell_type": "code",
   "execution_count": 63,
   "metadata": {},
   "outputs": [],
   "source": [
    "data_path = '../data/MDataFiles_Stage2/' #this is for the second stage of data\n",
    "teams = pd.read_csv(data_path + 'MTeams.csv')\n"
   ]
  },
  {
   "cell_type": "code",
   "execution_count": 50,
   "metadata": {},
   "outputs": [],
   "source": [
    "pred_games = pred_games.merge(teams[['TeamID', 'TeamName']], left_on = 'Team1', right_on = 'TeamID')\n",
    "pred_games = pred_games.rename(columns = {'TeamName': 'Team1_name'})\n",
    "pred_games = pred_games.merge(teams[['TeamID', 'TeamName']], left_on = 'Team2', right_on = 'TeamID')\n",
    "pred_games = pred_games.rename(columns = {'TeamName': 'Team2_name'})"
   ]
  },
  {
   "cell_type": "code",
   "execution_count": 51,
   "metadata": {},
   "outputs": [],
   "source": [
    "pred_games.Team1_name = pred_games.Team1_name.str.lower()\n",
    "pred_games.Team2_name = pred_games.Team2_name.str.lower()"
   ]
  },
  {
   "cell_type": "code",
   "execution_count": 52,
   "metadata": {},
   "outputs": [],
   "source": [
    "fourteen_three = pred_games[((pred_games.t1_Seed == 3) & \n",
    "                           (pred_games.t2_Seed == 14) &\n",
    "                           (pred_games.Season == 2021) \n",
    "                          )][['ID', 'Team1_name', 'Team2_name', 'Pred']]"
   ]
  },
  {
   "cell_type": "code",
   "execution_count": 53,
   "metadata": {},
   "outputs": [
    {
     "data": {
      "text/html": [
       "<div>\n",
       "<style scoped>\n",
       "    .dataframe tbody tr th:only-of-type {\n",
       "        vertical-align: middle;\n",
       "    }\n",
       "\n",
       "    .dataframe tbody tr th {\n",
       "        vertical-align: top;\n",
       "    }\n",
       "\n",
       "    .dataframe thead th {\n",
       "        text-align: right;\n",
       "    }\n",
       "</style>\n",
       "<table border=\"1\" class=\"dataframe\">\n",
       "  <thead>\n",
       "    <tr style=\"text-align: right;\">\n",
       "      <th></th>\n",
       "      <th>ID</th>\n",
       "      <th>Team1_name</th>\n",
       "      <th>Team2_name</th>\n",
       "      <th>Pred</th>\n",
       "    </tr>\n",
       "  </thead>\n",
       "  <tbody>\n",
       "    <tr>\n",
       "      <th>31</th>\n",
       "      <td>2021_1116_1159</td>\n",
       "      <td>arkansas</td>\n",
       "      <td>colgate</td>\n",
       "      <td>0.464988</td>\n",
       "    </tr>\n",
       "    <tr>\n",
       "      <th>94</th>\n",
       "      <td>2021_1116_1186</td>\n",
       "      <td>arkansas</td>\n",
       "      <td>e washington</td>\n",
       "      <td>0.821300</td>\n",
       "    </tr>\n",
       "    <tr>\n",
       "      <th>564</th>\n",
       "      <td>2021_1116_1287</td>\n",
       "      <td>arkansas</td>\n",
       "      <td>morehead st</td>\n",
       "      <td>0.845987</td>\n",
       "    </tr>\n",
       "    <tr>\n",
       "      <th>587</th>\n",
       "      <td>2021_1242_1287</td>\n",
       "      <td>kansas</td>\n",
       "      <td>morehead st</td>\n",
       "      <td>0.854904</td>\n",
       "    </tr>\n",
       "  </tbody>\n",
       "</table>\n",
       "</div>"
      ],
      "text/plain": [
       "                 ID Team1_name    Team2_name      Pred\n",
       "31   2021_1116_1159   arkansas       colgate  0.464988\n",
       "94   2021_1116_1186   arkansas  e washington  0.821300\n",
       "564  2021_1116_1287   arkansas   morehead st  0.845987\n",
       "587  2021_1242_1287     kansas   morehead st  0.854904"
      ]
     },
     "execution_count": 53,
     "metadata": {},
     "output_type": "execute_result"
    }
   ],
   "source": [
    "fourteen_three"
   ]
  },
  {
   "cell_type": "code",
   "execution_count": 339,
   "metadata": {},
   "outputs": [],
   "source": [
    "fourteen_three['Pred2'] = 1 - fourteen_three['Pred']"
   ]
  },
  {
   "cell_type": "code",
   "execution_count": 333,
   "metadata": {},
   "outputs": [
    {
     "data": {
      "text/plain": [
       "0.1650013922867077"
      ]
     },
     "execution_count": 333,
     "metadata": {},
     "output_type": "execute_result"
    }
   ],
   "source": [
    "fourteen_three['Pred'].mean()"
   ]
  },
  {
   "cell_type": "code",
   "execution_count": 340,
   "metadata": {},
   "outputs": [
    {
     "data": {
      "text/plain": [
       "0.16501969892436016"
      ]
     },
     "execution_count": 340,
     "metadata": {},
     "output_type": "execute_result"
    }
   ],
   "source": [
    "fourteen_three['Pred2'].mean()"
   ]
  },
  {
   "cell_type": "code",
   "execution_count": null,
   "metadata": {},
   "outputs": [],
   "source": []
  },
  {
   "cell_type": "code",
   "execution_count": 407,
   "metadata": {},
   "outputs": [
    {
     "data": {
      "text/html": [
       "<div>\n",
       "<style scoped>\n",
       "    .dataframe tbody tr th:only-of-type {\n",
       "        vertical-align: middle;\n",
       "    }\n",
       "\n",
       "    .dataframe tbody tr th {\n",
       "        vertical-align: top;\n",
       "    }\n",
       "\n",
       "    .dataframe thead th {\n",
       "        text-align: right;\n",
       "    }\n",
       "</style>\n",
       "<table border=\"1\" class=\"dataframe\">\n",
       "  <thead>\n",
       "    <tr style=\"text-align: right;\">\n",
       "      <th></th>\n",
       "      <th>ID</th>\n",
       "      <th>Team1_name</th>\n",
       "      <th>Team2_name</th>\n",
       "      <th>Pred</th>\n",
       "    </tr>\n",
       "  </thead>\n",
       "  <tbody>\n",
       "    <tr>\n",
       "      <th>474</th>\n",
       "      <td>2021_1160_1276</td>\n",
       "      <td>colorado</td>\n",
       "      <td>michigan</td>\n",
       "      <td>0.353046</td>\n",
       "    </tr>\n",
       "    <tr>\n",
       "      <th>505</th>\n",
       "      <td>2021_1160_1277</td>\n",
       "      <td>colorado</td>\n",
       "      <td>michigan st</td>\n",
       "      <td>0.746340</td>\n",
       "    </tr>\n",
       "  </tbody>\n",
       "</table>\n",
       "</div>"
      ],
      "text/plain": [
       "                 ID Team1_name   Team2_name      Pred\n",
       "474  2021_1160_1276   colorado     michigan  0.353046\n",
       "505  2021_1160_1277   colorado  michigan st  0.746340"
      ]
     },
     "execution_count": 407,
     "metadata": {},
     "output_type": "execute_result"
    }
   ],
   "source": [
    "game_lookup(all_games, 'colorado', 'michigan', season = 2021)"
   ]
  },
  {
   "cell_type": "code",
   "execution_count": 304,
   "metadata": {},
   "outputs": [
    {
     "data": {
      "text/html": [
       "<div>\n",
       "<style scoped>\n",
       "    .dataframe tbody tr th:only-of-type {\n",
       "        vertical-align: middle;\n",
       "    }\n",
       "\n",
       "    .dataframe tbody tr th {\n",
       "        vertical-align: top;\n",
       "    }\n",
       "\n",
       "    .dataframe thead th {\n",
       "        text-align: right;\n",
       "    }\n",
       "</style>\n",
       "<table border=\"1\" class=\"dataframe\">\n",
       "  <thead>\n",
       "    <tr style=\"text-align: right;\">\n",
       "      <th></th>\n",
       "      <th>ID</th>\n",
       "      <th>Team1_name</th>\n",
       "      <th>Team2_name</th>\n",
       "      <th>Pred</th>\n",
       "    </tr>\n",
       "  </thead>\n",
       "  <tbody>\n",
       "    <tr>\n",
       "      <th>3408</th>\n",
       "      <td>2019_1199_1436</td>\n",
       "      <td>florida st</td>\n",
       "      <td>vermont</td>\n",
       "      <td>0.814959</td>\n",
       "    </tr>\n",
       "  </tbody>\n",
       "</table>\n",
       "</div>"
      ],
      "text/plain": [
       "                  ID  Team1_name Team2_name      Pred\n",
       "3408  2019_1199_1436  florida st    vermont  0.814959"
      ]
     },
     "execution_count": 304,
     "metadata": {},
     "output_type": "execute_result"
    }
   ],
   "source": [
    "game_lookup(all_games, 'florida st', 'vermont', season = 2019)"
   ]
  },
  {
   "cell_type": "code",
   "execution_count": 305,
   "metadata": {},
   "outputs": [
    {
     "data": {
      "text/html": [
       "<div>\n",
       "<style scoped>\n",
       "    .dataframe tbody tr th:only-of-type {\n",
       "        vertical-align: middle;\n",
       "    }\n",
       "\n",
       "    .dataframe tbody tr th {\n",
       "        vertical-align: top;\n",
       "    }\n",
       "\n",
       "    .dataframe thead th {\n",
       "        text-align: right;\n",
       "    }\n",
       "</style>\n",
       "<table border=\"1\" class=\"dataframe\">\n",
       "  <thead>\n",
       "    <tr style=\"text-align: right;\">\n",
       "      <th></th>\n",
       "      <th>ID</th>\n",
       "      <th>Team1_name</th>\n",
       "      <th>Team2_name</th>\n",
       "      <th>Pred</th>\n",
       "    </tr>\n",
       "  </thead>\n",
       "  <tbody>\n",
       "    <tr>\n",
       "      <th>4373</th>\n",
       "      <td>2019_1243_1414</td>\n",
       "      <td>kansas st</td>\n",
       "      <td>uc irvine</td>\n",
       "      <td>0.780656</td>\n",
       "    </tr>\n",
       "  </tbody>\n",
       "</table>\n",
       "</div>"
      ],
      "text/plain": [
       "                  ID Team1_name Team2_name      Pred\n",
       "4373  2019_1243_1414  kansas st  uc irvine  0.780656"
      ]
     },
     "execution_count": 305,
     "metadata": {},
     "output_type": "execute_result"
    }
   ],
   "source": [
    "game_lookup(all_games, 'Kansas St', 'Uc irvine', season = 2019)"
   ]
  },
  {
   "cell_type": "code",
   "execution_count": 306,
   "metadata": {},
   "outputs": [
    {
     "data": {
      "text/html": [
       "<div>\n",
       "<style scoped>\n",
       "    .dataframe tbody tr th:only-of-type {\n",
       "        vertical-align: middle;\n",
       "    }\n",
       "\n",
       "    .dataframe tbody tr th {\n",
       "        vertical-align: top;\n",
       "    }\n",
       "\n",
       "    .dataframe thead th {\n",
       "        text-align: right;\n",
       "    }\n",
       "</style>\n",
       "<table border=\"1\" class=\"dataframe\">\n",
       "  <thead>\n",
       "    <tr style=\"text-align: right;\">\n",
       "      <th></th>\n",
       "      <th>ID</th>\n",
       "      <th>Team1_name</th>\n",
       "      <th>Team2_name</th>\n",
       "      <th>Pred</th>\n",
       "    </tr>\n",
       "  </thead>\n",
       "  <tbody>\n",
       "    <tr>\n",
       "      <th>4322</th>\n",
       "      <td>2019_1242_1318</td>\n",
       "      <td>kansas</td>\n",
       "      <td>northeastern</td>\n",
       "      <td>0.815838</td>\n",
       "    </tr>\n",
       "  </tbody>\n",
       "</table>\n",
       "</div>"
      ],
      "text/plain": [
       "                  ID Team1_name    Team2_name      Pred\n",
       "4322  2019_1242_1318     kansas  northeastern  0.815838"
      ]
     },
     "execution_count": 306,
     "metadata": {},
     "output_type": "execute_result"
    }
   ],
   "source": [
    "game_lookup(all_games, 'Kansas', 'northeastern', season = 2019)"
   ]
  },
  {
   "cell_type": "code",
   "execution_count": 309,
   "metadata": {},
   "outputs": [
    {
     "data": {
      "text/html": [
       "<div>\n",
       "<style scoped>\n",
       "    .dataframe tbody tr th:only-of-type {\n",
       "        vertical-align: middle;\n",
       "    }\n",
       "\n",
       "    .dataframe tbody tr th {\n",
       "        vertical-align: top;\n",
       "    }\n",
       "\n",
       "    .dataframe thead th {\n",
       "        text-align: right;\n",
       "    }\n",
       "</style>\n",
       "<table border=\"1\" class=\"dataframe\">\n",
       "  <thead>\n",
       "    <tr style=\"text-align: right;\">\n",
       "      <th></th>\n",
       "      <th>ID</th>\n",
       "      <th>Team1_name</th>\n",
       "      <th>Team2_name</th>\n",
       "      <th>Pred</th>\n",
       "    </tr>\n",
       "  </thead>\n",
       "  <tbody>\n",
       "    <tr>\n",
       "      <th>3647</th>\n",
       "      <td>2018_1112_1138</td>\n",
       "      <td>arizona</td>\n",
       "      <td>buffalo</td>\n",
       "      <td>0.76695</td>\n",
       "    </tr>\n",
       "    <tr>\n",
       "      <th>3648</th>\n",
       "      <td>2019_1113_1138</td>\n",
       "      <td>arizona st</td>\n",
       "      <td>buffalo</td>\n",
       "      <td>0.28204</td>\n",
       "    </tr>\n",
       "  </tbody>\n",
       "</table>\n",
       "</div>"
      ],
      "text/plain": [
       "                  ID  Team1_name Team2_name     Pred\n",
       "3647  2018_1112_1138     arizona    buffalo  0.76695\n",
       "3648  2019_1113_1138  arizona st    buffalo  0.28204"
      ]
     },
     "execution_count": 309,
     "metadata": {},
     "output_type": "execute_result"
    }
   ],
   "source": [
    "game_lookup(all_games, 'Arizona', 'buffalo', season = 2018)"
   ]
  },
  {
   "cell_type": "code",
   "execution_count": 318,
   "metadata": {},
   "outputs": [
    {
     "data": {
      "text/html": [
       "<div>\n",
       "<style scoped>\n",
       "    .dataframe tbody tr th:only-of-type {\n",
       "        vertical-align: middle;\n",
       "    }\n",
       "\n",
       "    .dataframe tbody tr th {\n",
       "        vertical-align: top;\n",
       "    }\n",
       "\n",
       "    .dataframe thead th {\n",
       "        text-align: right;\n",
       "    }\n",
       "</style>\n",
       "<table border=\"1\" class=\"dataframe\">\n",
       "  <thead>\n",
       "    <tr style=\"text-align: right;\">\n",
       "      <th></th>\n",
       "      <th>ID</th>\n",
       "      <th>Team1_name</th>\n",
       "      <th>Team2_name</th>\n",
       "      <th>Pred</th>\n",
       "    </tr>\n",
       "  </thead>\n",
       "  <tbody>\n",
       "    <tr>\n",
       "      <th>217</th>\n",
       "      <td>2006_1211_1417</td>\n",
       "      <td>gonzaga</td>\n",
       "      <td>ucla</td>\n",
       "      <td>0.433957</td>\n",
       "    </tr>\n",
       "    <tr>\n",
       "      <th>218</th>\n",
       "      <td>2015_1211_1417</td>\n",
       "      <td>gonzaga</td>\n",
       "      <td>ucla</td>\n",
       "      <td>0.838355</td>\n",
       "    </tr>\n",
       "    <tr>\n",
       "      <th>219</th>\n",
       "      <td>2021_1211_1417</td>\n",
       "      <td>gonzaga</td>\n",
       "      <td>ucla</td>\n",
       "      <td>0.911394</td>\n",
       "    </tr>\n",
       "    <tr>\n",
       "      <th>2296</th>\n",
       "      <td>2021_1211_1364</td>\n",
       "      <td>gonzaga</td>\n",
       "      <td>uc santa barbara</td>\n",
       "      <td>0.938073</td>\n",
       "    </tr>\n",
       "    <tr>\n",
       "      <th>2689</th>\n",
       "      <td>2018_1211_1422</td>\n",
       "      <td>gonzaga</td>\n",
       "      <td>unc greensboro</td>\n",
       "      <td>0.862989</td>\n",
       "    </tr>\n",
       "    <tr>\n",
       "      <th>2690</th>\n",
       "      <td>2021_1211_1422</td>\n",
       "      <td>gonzaga</td>\n",
       "      <td>unc greensboro</td>\n",
       "      <td>0.961901</td>\n",
       "    </tr>\n",
       "    <tr>\n",
       "      <th>2747</th>\n",
       "      <td>2021_1211_1425</td>\n",
       "      <td>gonzaga</td>\n",
       "      <td>usc</td>\n",
       "      <td>0.822869</td>\n",
       "    </tr>\n",
       "    <tr>\n",
       "      <th>2817</th>\n",
       "      <td>2021_1211_1429</td>\n",
       "      <td>gonzaga</td>\n",
       "      <td>utah st</td>\n",
       "      <td>0.919718</td>\n",
       "    </tr>\n",
       "    <tr>\n",
       "      <th>3450</th>\n",
       "      <td>2016_1211_1428</td>\n",
       "      <td>gonzaga</td>\n",
       "      <td>utah</td>\n",
       "      <td>0.575548</td>\n",
       "    </tr>\n",
       "  </tbody>\n",
       "</table>\n",
       "</div>"
      ],
      "text/plain": [
       "                  ID Team1_name        Team2_name      Pred\n",
       "217   2006_1211_1417    gonzaga              ucla  0.433957\n",
       "218   2015_1211_1417    gonzaga              ucla  0.838355\n",
       "219   2021_1211_1417    gonzaga              ucla  0.911394\n",
       "2296  2021_1211_1364    gonzaga  uc santa barbara  0.938073\n",
       "2689  2018_1211_1422    gonzaga    unc greensboro  0.862989\n",
       "2690  2021_1211_1422    gonzaga    unc greensboro  0.961901\n",
       "2747  2021_1211_1425    gonzaga               usc  0.822869\n",
       "2817  2021_1211_1429    gonzaga           utah st  0.919718\n",
       "3450  2016_1211_1428    gonzaga              utah  0.575548"
      ]
     },
     "execution_count": 318,
     "metadata": {},
     "output_type": "execute_result"
    }
   ],
   "source": [
    "game_lookup(all_games, 'gonzaga', 'u', season = 2018)"
   ]
  },
  {
   "cell_type": "code",
   "execution_count": null,
   "metadata": {},
   "outputs": [],
   "source": [
    "game_lookup(all_games, 'gonzaga', 'u', season = 2018)"
   ]
  },
  {
   "cell_type": "code",
   "execution_count": null,
   "metadata": {},
   "outputs": [],
   "source": [
    "# 23, 12, 15, 14 -- 2018\n",
    "# 13, 19, 22, 19 -- 2019\n",
    "#19, 21, 28, 25 -- 2021"
   ]
  },
  {
   "cell_type": "code",
   "execution_count": 319,
   "metadata": {},
   "outputs": [
    {
     "data": {
      "text/plain": [
       "16.0"
      ]
     },
     "execution_count": 319,
     "metadata": {},
     "output_type": "execute_result"
    }
   ],
   "source": [
    "(23 + 12 + 15 + 14) / 4"
   ]
  },
  {
   "cell_type": "code",
   "execution_count": 307,
   "metadata": {},
   "outputs": [
    {
     "data": {
      "text/plain": [
       "18.25"
      ]
     },
     "execution_count": 307,
     "metadata": {},
     "output_type": "execute_result"
    }
   ],
   "source": [
    "(13 + 19 + 22 + 19) / 4 "
   ]
  },
  {
   "cell_type": "code",
   "execution_count": 308,
   "metadata": {},
   "outputs": [
    {
     "data": {
      "text/plain": [
       "23.25"
      ]
     },
     "execution_count": 308,
     "metadata": {},
     "output_type": "execute_result"
    }
   ],
   "source": [
    "(19 + 21 + 28 + 25) / 4"
   ]
  },
  {
   "cell_type": "code",
   "execution_count": null,
   "metadata": {},
   "outputs": [],
   "source": []
  },
  {
   "cell_type": "code",
   "execution_count": 299,
   "metadata": {},
   "outputs": [],
   "source": [
    "def game_lookup(df, t1, t2, features = ['ID', 'Team1_name', 'Team2_name', 'Pred'], season = 2021):\n",
    "\n",
    "    t1 = t1.lower()\n",
    "    t2 = t2.lower()\n",
    "    \n",
    "    if t1 < t2:\n",
    "        return df[ (df.Team1_name.str.startswith(t1)) & \n",
    "                         (df.Team2_name.str.startswith(t2)) ][features]\n",
    "    else:\n",
    "        return df[ (df.Team1_name.str.startswith(t2)) & \n",
    "                         (df.Team2_name.str.startswith(t1)) ][features]\n",
    " "
   ]
  },
  {
   "cell_type": "code",
   "execution_count": 342,
   "metadata": {},
   "outputs": [
    {
     "data": {
      "text/html": [
       "<div>\n",
       "<style scoped>\n",
       "    .dataframe tbody tr th:only-of-type {\n",
       "        vertical-align: middle;\n",
       "    }\n",
       "\n",
       "    .dataframe tbody tr th {\n",
       "        vertical-align: top;\n",
       "    }\n",
       "\n",
       "    .dataframe thead th {\n",
       "        text-align: right;\n",
       "    }\n",
       "</style>\n",
       "<table border=\"1\" class=\"dataframe\">\n",
       "  <thead>\n",
       "    <tr style=\"text-align: right;\">\n",
       "      <th></th>\n",
       "      <th>ID</th>\n",
       "      <th>Team1_name</th>\n",
       "      <th>Team2_name</th>\n",
       "      <th>Pred</th>\n",
       "    </tr>\n",
       "  </thead>\n",
       "  <tbody>\n",
       "    <tr>\n",
       "      <th>1971</th>\n",
       "      <td>2021_1326_1331</td>\n",
       "      <td>ohio st</td>\n",
       "      <td>oral roberts</td>\n",
       "      <td>0.907590</td>\n",
       "    </tr>\n",
       "    <tr>\n",
       "      <th>906</th>\n",
       "      <td>2021_1156_1222</td>\n",
       "      <td>cleveland st</td>\n",
       "      <td>houston</td>\n",
       "      <td>0.043788</td>\n",
       "    </tr>\n",
       "    <tr>\n",
       "      <th>958</th>\n",
       "      <td>2021_1104_1233</td>\n",
       "      <td>alabama</td>\n",
       "      <td>iona</td>\n",
       "      <td>0.921044</td>\n",
       "    </tr>\n",
       "    <tr>\n",
       "      <th>1021</th>\n",
       "      <td>2021_1213_1234</td>\n",
       "      <td>grand canyon</td>\n",
       "      <td>iowa</td>\n",
       "      <td>0.091959</td>\n",
       "    </tr>\n",
       "  </tbody>\n",
       "</table>\n",
       "</div>"
      ],
      "text/plain": [
       "                  ID    Team1_name    Team2_name      Pred\n",
       "1971  2021_1326_1331       ohio st  oral roberts  0.907590\n",
       "906   2021_1156_1222  cleveland st       houston  0.043788\n",
       "958   2021_1104_1233       alabama          iona  0.921044\n",
       "1021  2021_1213_1234  grand canyon          iowa  0.091959"
      ]
     },
     "execution_count": 342,
     "metadata": {},
     "output_type": "execute_result"
    }
   ],
   "source": [
    "#15 - 2\n",
    "\n",
    "pd.concat([game_lookup(all_games, 'ohio st', 'oral'), \n",
    "           game_lookup(all_games, 'hou', 'clev'),\n",
    "          game_lookup(all_games, 'alabama', 'iona'),\n",
    "          game_lookup(all_games, 'iowa', 'grand')\n",
    "          ])"
   ]
  },
  {
   "cell_type": "code",
   "execution_count": 341,
   "metadata": {},
   "outputs": [
    {
     "data": {
      "text/html": [
       "<div>\n",
       "<style scoped>\n",
       "    .dataframe tbody tr th:only-of-type {\n",
       "        vertical-align: middle;\n",
       "    }\n",
       "\n",
       "    .dataframe tbody tr th {\n",
       "        vertical-align: top;\n",
       "    }\n",
       "\n",
       "    .dataframe thead th {\n",
       "        text-align: right;\n",
       "    }\n",
       "</style>\n",
       "<table border=\"1\" class=\"dataframe\">\n",
       "  <thead>\n",
       "    <tr style=\"text-align: right;\">\n",
       "      <th></th>\n",
       "      <th>ID</th>\n",
       "      <th>Team1_name</th>\n",
       "      <th>Team2_name</th>\n",
       "      <th>Pred</th>\n",
       "    </tr>\n",
       "  </thead>\n",
       "  <tbody>\n",
       "    <tr>\n",
       "      <th>3113</th>\n",
       "      <td>2021_1287_1452</td>\n",
       "      <td>morehead st</td>\n",
       "      <td>west virginia</td>\n",
       "      <td>0.176077</td>\n",
       "    </tr>\n",
       "    <tr>\n",
       "      <th>3114</th>\n",
       "      <td>2010_1288_1452</td>\n",
       "      <td>morgan st</td>\n",
       "      <td>west virginia</td>\n",
       "      <td>0.061838</td>\n",
       "    </tr>\n",
       "    <tr>\n",
       "      <th>1057</th>\n",
       "      <td>2021_1186_1242</td>\n",
       "      <td>e washington</td>\n",
       "      <td>kansas</td>\n",
       "      <td>0.168621</td>\n",
       "    </tr>\n",
       "    <tr>\n",
       "      <th>567</th>\n",
       "      <td>2021_1116_1159</td>\n",
       "      <td>arkansas</td>\n",
       "      <td>colgate</td>\n",
       "      <td>0.464988</td>\n",
       "    </tr>\n",
       "    <tr>\n",
       "      <th>2544</th>\n",
       "      <td>2021_1101_1400</td>\n",
       "      <td>abilene chr</td>\n",
       "      <td>texas</td>\n",
       "      <td>0.313014</td>\n",
       "    </tr>\n",
       "    <tr>\n",
       "      <th>2615</th>\n",
       "      <td>2021_1101_1403</td>\n",
       "      <td>abilene chr</td>\n",
       "      <td>texas tech</td>\n",
       "      <td>0.323417</td>\n",
       "    </tr>\n",
       "  </tbody>\n",
       "</table>\n",
       "</div>"
      ],
      "text/plain": [
       "                  ID    Team1_name     Team2_name      Pred\n",
       "3113  2021_1287_1452   morehead st  west virginia  0.176077\n",
       "3114  2010_1288_1452     morgan st  west virginia  0.061838\n",
       "1057  2021_1186_1242  e washington         kansas  0.168621\n",
       "567   2021_1116_1159      arkansas        colgate  0.464988\n",
       "2544  2021_1101_1400   abilene chr          texas  0.313014\n",
       "2615  2021_1101_1403   abilene chr     texas tech  0.323417"
      ]
     },
     "execution_count": 341,
     "metadata": {},
     "output_type": "execute_result"
    }
   ],
   "source": [
    "#14 - 3\n",
    "\n",
    "pd.concat([game_lookup(all_games, 'we', 'mo'), \n",
    "           game_lookup(all_games, 'e w', 'ka'),\n",
    "          game_lookup(all_games, 'ark', 'colg'),\n",
    "          game_lookup(all_games, 'texas', 'abile')\n",
    "          ])"
   ]
  },
  {
   "cell_type": "code",
   "execution_count": null,
   "metadata": {},
   "outputs": [],
   "source": [
    "# 17, 17, 31, 54"
   ]
  },
  {
   "cell_type": "code",
   "execution_count": 270,
   "metadata": {},
   "outputs": [
    {
     "data": {
      "text/html": [
       "<div>\n",
       "<style scoped>\n",
       "    .dataframe tbody tr th:only-of-type {\n",
       "        vertical-align: middle;\n",
       "    }\n",
       "\n",
       "    .dataframe tbody tr th {\n",
       "        vertical-align: top;\n",
       "    }\n",
       "\n",
       "    .dataframe thead th {\n",
       "        text-align: right;\n",
       "    }\n",
       "</style>\n",
       "<table border=\"1\" class=\"dataframe\">\n",
       "  <thead>\n",
       "    <tr style=\"text-align: right;\">\n",
       "      <th></th>\n",
       "      <th>ID</th>\n",
       "      <th>Team1_name</th>\n",
       "      <th>Team2_name</th>\n",
       "      <th>Pred</th>\n",
       "    </tr>\n",
       "  </thead>\n",
       "  <tbody>\n",
       "    <tr>\n",
       "      <th>1930</th>\n",
       "      <td>2021_1325_1438</td>\n",
       "      <td>ohio</td>\n",
       "      <td>virginia</td>\n",
       "      <td>0.194837</td>\n",
       "    </tr>\n",
       "    <tr>\n",
       "      <th>1931</th>\n",
       "      <td>2021_1326_1438</td>\n",
       "      <td>ohio st</td>\n",
       "      <td>virginia</td>\n",
       "      <td>0.565400</td>\n",
       "    </tr>\n",
       "    <tr>\n",
       "      <th>1992</th>\n",
       "      <td>2021_1325_1439</td>\n",
       "      <td>ohio</td>\n",
       "      <td>virginia tech</td>\n",
       "      <td>0.318271</td>\n",
       "    </tr>\n",
       "    <tr>\n",
       "      <th>1993</th>\n",
       "      <td>2021_1326_1439</td>\n",
       "      <td>ohio st</td>\n",
       "      <td>virginia tech</td>\n",
       "      <td>0.715095</td>\n",
       "    </tr>\n",
       "    <tr>\n",
       "      <th>1612</th>\n",
       "      <td>2021_1199_1422</td>\n",
       "      <td>florida st</td>\n",
       "      <td>unc greensboro</td>\n",
       "      <td>0.797556</td>\n",
       "    </tr>\n",
       "    <tr>\n",
       "      <th>1073</th>\n",
       "      <td>2021_1317_1345</td>\n",
       "      <td>north texas</td>\n",
       "      <td>purdue</td>\n",
       "      <td>0.283391</td>\n",
       "    </tr>\n",
       "    <tr>\n",
       "      <th>888</th>\n",
       "      <td>2021_1251_1329</td>\n",
       "      <td>liberty</td>\n",
       "      <td>oklahoma st</td>\n",
       "      <td>0.250539</td>\n",
       "    </tr>\n",
       "  </tbody>\n",
       "</table>\n",
       "</div>"
      ],
      "text/plain": [
       "                  ID   Team1_name      Team2_name      Pred\n",
       "1930  2021_1325_1438         ohio        virginia  0.194837\n",
       "1931  2021_1326_1438      ohio st        virginia  0.565400\n",
       "1992  2021_1325_1439         ohio   virginia tech  0.318271\n",
       "1993  2021_1326_1439      ohio st   virginia tech  0.715095\n",
       "1612  2021_1199_1422   florida st  unc greensboro  0.797556\n",
       "1073  2021_1317_1345  north texas          purdue  0.283391\n",
       "888   2021_1251_1329      liberty     oklahoma st  0.250539"
      ]
     },
     "execution_count": 270,
     "metadata": {},
     "output_type": "execute_result"
    }
   ],
   "source": [
    "#13 - 4\n",
    "\n",
    "pd.concat([game_lookup(all_games, 'virg', 'ohio'), \n",
    "           game_lookup(all_games, 'unc g', 'florida s'),\n",
    "          game_lookup(all_games, 'north tex', 'pur'),\n",
    "          game_lookup(all_games, 'oklahoma s', 'lib')\n",
    "          ])"
   ]
  },
  {
   "cell_type": "code",
   "execution_count": 260,
   "metadata": {},
   "outputs": [
    {
     "data": {
      "text/html": [
       "<div>\n",
       "<style scoped>\n",
       "    .dataframe tbody tr th:only-of-type {\n",
       "        vertical-align: middle;\n",
       "    }\n",
       "\n",
       "    .dataframe tbody tr th {\n",
       "        vertical-align: top;\n",
       "    }\n",
       "\n",
       "    .dataframe thead th {\n",
       "        text-align: right;\n",
       "    }\n",
       "</style>\n",
       "<table border=\"1\" class=\"dataframe\">\n",
       "  <thead>\n",
       "    <tr style=\"text-align: right;\">\n",
       "      <th></th>\n",
       "      <th>ID</th>\n",
       "      <th>Team1_name</th>\n",
       "      <th>Team2_name</th>\n",
       "      <th>Pred</th>\n",
       "    </tr>\n",
       "  </thead>\n",
       "  <tbody>\n",
       "    <tr>\n",
       "      <th>1187</th>\n",
       "      <td>2021_1166_1364</td>\n",
       "      <td>creighton</td>\n",
       "      <td>uc santa barbara</td>\n",
       "      <td>0.737243</td>\n",
       "    </tr>\n",
       "    <tr>\n",
       "      <th>145</th>\n",
       "      <td>2021_1160_1207</td>\n",
       "      <td>colorado</td>\n",
       "      <td>georgetown</td>\n",
       "      <td>0.763195</td>\n",
       "    </tr>\n",
       "    <tr>\n",
       "      <th>1371</th>\n",
       "      <td>2021_1333_1397</td>\n",
       "      <td>oregon st</td>\n",
       "      <td>tennessee</td>\n",
       "      <td>0.221124</td>\n",
       "    </tr>\n",
       "    <tr>\n",
       "      <th>2206</th>\n",
       "      <td>2021_1437_1457</td>\n",
       "      <td>villanova</td>\n",
       "      <td>winthrop</td>\n",
       "      <td>0.794843</td>\n",
       "    </tr>\n",
       "  </tbody>\n",
       "</table>\n",
       "</div>"
      ],
      "text/plain": [
       "                  ID Team1_name        Team2_name      Pred\n",
       "1187  2021_1166_1364  creighton  uc santa barbara  0.737243\n",
       "145   2021_1160_1207   colorado        georgetown  0.763195\n",
       "1371  2021_1333_1397  oregon st         tennessee  0.221124\n",
       "2206  2021_1437_1457  villanova          winthrop  0.794843"
      ]
     },
     "execution_count": 260,
     "metadata": {},
     "output_type": "execute_result"
    }
   ],
   "source": [
    "#12 - 5\n",
    "pd.concat([game_lookup(all_games, 'uc santa', 'cre'), \n",
    "           game_lookup(all_games, 'color', 'georgeto'),\n",
    "          game_lookup(all_games, 'tenn', 'oregon st'),\n",
    "          game_lookup(all_games, 'villa', 'wint')])"
   ]
  },
  {
   "cell_type": "code",
   "execution_count": 266,
   "metadata": {},
   "outputs": [
    {
     "data": {
      "text/html": [
       "<div>\n",
       "<style scoped>\n",
       "    .dataframe tbody tr th:only-of-type {\n",
       "        vertical-align: middle;\n",
       "    }\n",
       "\n",
       "    .dataframe tbody tr th {\n",
       "        vertical-align: top;\n",
       "    }\n",
       "\n",
       "    .dataframe thead th {\n",
       "        text-align: right;\n",
       "    }\n",
       "</style>\n",
       "<table border=\"1\" class=\"dataframe\">\n",
       "  <thead>\n",
       "    <tr style=\"text-align: right;\">\n",
       "      <th></th>\n",
       "      <th>ID</th>\n",
       "      <th>Team1_name</th>\n",
       "      <th>Team2_name</th>\n",
       "      <th>Pred</th>\n",
       "    </tr>\n",
       "  </thead>\n",
       "  <tbody>\n",
       "    <tr>\n",
       "      <th>1665</th>\n",
       "      <td>2021_1179_1425</td>\n",
       "      <td>drake</td>\n",
       "      <td>usc</td>\n",
       "      <td>0.226869</td>\n",
       "    </tr>\n",
       "    <tr>\n",
       "      <th>2138</th>\n",
       "      <td>2021_1425_1455</td>\n",
       "      <td>usc</td>\n",
       "      <td>wichita st</td>\n",
       "      <td>0.818239</td>\n",
       "    </tr>\n",
       "    <tr>\n",
       "      <th>1323</th>\n",
       "      <td>2021_1361_1393</td>\n",
       "      <td>san diego st</td>\n",
       "      <td>syracuse</td>\n",
       "      <td>0.711787</td>\n",
       "    </tr>\n",
       "    <tr>\n",
       "      <th>1765</th>\n",
       "      <td>2021_1403_1429</td>\n",
       "      <td>texas tech</td>\n",
       "      <td>utah st</td>\n",
       "      <td>0.608665</td>\n",
       "    </tr>\n",
       "    <tr>\n",
       "      <th>501</th>\n",
       "      <td>2021_1140_1277</td>\n",
       "      <td>byu</td>\n",
       "      <td>michigan st</td>\n",
       "      <td>0.724025</td>\n",
       "    </tr>\n",
       "    <tr>\n",
       "      <th>1545</th>\n",
       "      <td>2021_1140_1417</td>\n",
       "      <td>byu</td>\n",
       "      <td>ucla</td>\n",
       "      <td>0.628415</td>\n",
       "    </tr>\n",
       "  </tbody>\n",
       "</table>\n",
       "</div>"
      ],
      "text/plain": [
       "                  ID    Team1_name   Team2_name      Pred\n",
       "1665  2021_1179_1425         drake          usc  0.226869\n",
       "2138  2021_1425_1455           usc   wichita st  0.818239\n",
       "1323  2021_1361_1393  san diego st     syracuse  0.711787\n",
       "1765  2021_1403_1429    texas tech      utah st  0.608665\n",
       "501   2021_1140_1277           byu  michigan st  0.724025\n",
       "1545  2021_1140_1417           byu         ucla  0.628415"
      ]
     },
     "execution_count": 266,
     "metadata": {},
     "output_type": "execute_result"
    }
   ],
   "source": [
    "#11 - 6\n",
    "\n",
    "pd.concat([game_lookup(all_games, 'usc', 'drake'), \n",
    "           game_lookup(all_games, 'usc', 'wich'),\n",
    "          game_lookup(all_games, 'syra', 'san die'),\n",
    "          game_lookup(all_games, 'texas t', 'utah s'),\n",
    "           game_lookup(all_games, 'byu', 'michigan s'),\n",
    "            game_lookup(all_games, 'byu', 'ucla'),\n",
    "          ])"
   ]
  },
  {
   "cell_type": "code",
   "execution_count": 263,
   "metadata": {},
   "outputs": [
    {
     "data": {
      "text/html": [
       "<div>\n",
       "<style scoped>\n",
       "    .dataframe tbody tr th:only-of-type {\n",
       "        vertical-align: middle;\n",
       "    }\n",
       "\n",
       "    .dataframe tbody tr th {\n",
       "        vertical-align: top;\n",
       "    }\n",
       "\n",
       "    .dataframe thead th {\n",
       "        text-align: right;\n",
       "    }\n",
       "</style>\n",
       "<table border=\"1\" class=\"dataframe\">\n",
       "  <thead>\n",
       "    <tr style=\"text-align: right;\">\n",
       "      <th></th>\n",
       "      <th>ID</th>\n",
       "      <th>Team1_name</th>\n",
       "      <th>Team2_name</th>\n",
       "      <th>Pred</th>\n",
       "    </tr>\n",
       "  </thead>\n",
       "  <tbody>\n",
       "    <tr>\n",
       "      <th>1814</th>\n",
       "      <td>2021_1332_1433</td>\n",
       "      <td>oregon</td>\n",
       "      <td>vcu</td>\n",
       "      <td>0.588257</td>\n",
       "    </tr>\n",
       "    <tr>\n",
       "      <th>1815</th>\n",
       "      <td>2021_1333_1433</td>\n",
       "      <td>oregon st</td>\n",
       "      <td>vcu</td>\n",
       "      <td>0.351475</td>\n",
       "    </tr>\n",
       "    <tr>\n",
       "      <th>445</th>\n",
       "      <td>2021_1163_1268</td>\n",
       "      <td>connecticut</td>\n",
       "      <td>maryland</td>\n",
       "      <td>0.605717</td>\n",
       "    </tr>\n",
       "    <tr>\n",
       "      <th>1087</th>\n",
       "      <td>2021_1155_1353</td>\n",
       "      <td>clemson</td>\n",
       "      <td>rutgers</td>\n",
       "      <td>0.500835</td>\n",
       "    </tr>\n",
       "    <tr>\n",
       "      <th>1968</th>\n",
       "      <td>2021_1196_1439</td>\n",
       "      <td>florida</td>\n",
       "      <td>virginia tech</td>\n",
       "      <td>0.515983</td>\n",
       "    </tr>\n",
       "    <tr>\n",
       "      <th>1969</th>\n",
       "      <td>2021_1199_1439</td>\n",
       "      <td>florida st</td>\n",
       "      <td>virginia tech</td>\n",
       "      <td>0.651138</td>\n",
       "    </tr>\n",
       "  </tbody>\n",
       "</table>\n",
       "</div>"
      ],
      "text/plain": [
       "                  ID   Team1_name     Team2_name      Pred\n",
       "1814  2021_1332_1433       oregon            vcu  0.588257\n",
       "1815  2021_1333_1433    oregon st            vcu  0.351475\n",
       "445   2021_1163_1268  connecticut       maryland  0.605717\n",
       "1087  2021_1155_1353      clemson        rutgers  0.500835\n",
       "1968  2021_1196_1439      florida  virginia tech  0.515983\n",
       "1969  2021_1199_1439   florida st  virginia tech  0.651138"
      ]
     },
     "execution_count": 263,
     "metadata": {},
     "output_type": "execute_result"
    }
   ],
   "source": [
    "#10 - 7\n",
    "\n",
    "pd.concat([game_lookup(all_games, 'orego', 'vcu'), \n",
    "           game_lookup(all_games, 'conn', 'mary'),\n",
    "          game_lookup(all_games, 'clem', 'rutg'),\n",
    "          game_lookup(all_games, 'florida', 'virginia t')])"
   ]
  },
  {
   "cell_type": "code",
   "execution_count": 264,
   "metadata": {},
   "outputs": [
    {
     "data": {
      "text/html": [
       "<div>\n",
       "<style scoped>\n",
       "    .dataframe tbody tr th:only-of-type {\n",
       "        vertical-align: middle;\n",
       "    }\n",
       "\n",
       "    .dataframe tbody tr th {\n",
       "        vertical-align: top;\n",
       "    }\n",
       "\n",
       "    .dataframe thead th {\n",
       "        text-align: right;\n",
       "    }\n",
       "</style>\n",
       "<table border=\"1\" class=\"dataframe\">\n",
       "  <thead>\n",
       "    <tr style=\"text-align: right;\">\n",
       "      <th></th>\n",
       "      <th>ID</th>\n",
       "      <th>Team1_name</th>\n",
       "      <th>Team2_name</th>\n",
       "      <th>Pred</th>\n",
       "    </tr>\n",
       "  </thead>\n",
       "  <tbody>\n",
       "    <tr>\n",
       "      <th>853</th>\n",
       "      <td>2021_1281_1328</td>\n",
       "      <td>missouri</td>\n",
       "      <td>oklahoma</td>\n",
       "      <td>0.493813</td>\n",
       "    </tr>\n",
       "    <tr>\n",
       "      <th>894</th>\n",
       "      <td>2021_1281_1329</td>\n",
       "      <td>missouri</td>\n",
       "      <td>oklahoma st</td>\n",
       "      <td>0.409455</td>\n",
       "    </tr>\n",
       "    <tr>\n",
       "      <th>1254</th>\n",
       "      <td>2021_1261_1382</td>\n",
       "      <td>lsu</td>\n",
       "      <td>st bonaventure</td>\n",
       "      <td>0.492229</td>\n",
       "    </tr>\n",
       "    <tr>\n",
       "      <th>2248</th>\n",
       "      <td>2021_1314_1458</td>\n",
       "      <td>north carolina</td>\n",
       "      <td>wisconsin</td>\n",
       "      <td>0.433576</td>\n",
       "    </tr>\n",
       "    <tr>\n",
       "      <th>396</th>\n",
       "      <td>2021_1210_1260</td>\n",
       "      <td>georgia tech</td>\n",
       "      <td>loyola-chicago</td>\n",
       "      <td>0.409407</td>\n",
       "    </tr>\n",
       "  </tbody>\n",
       "</table>\n",
       "</div>"
      ],
      "text/plain": [
       "                  ID      Team1_name      Team2_name      Pred\n",
       "853   2021_1281_1328        missouri        oklahoma  0.493813\n",
       "894   2021_1281_1329        missouri     oklahoma st  0.409455\n",
       "1254  2021_1261_1382             lsu  st bonaventure  0.492229\n",
       "2248  2021_1314_1458  north carolina       wisconsin  0.433576\n",
       "396   2021_1210_1260    georgia tech  loyola-chicago  0.409407"
      ]
     },
     "execution_count": 264,
     "metadata": {},
     "output_type": "execute_result"
    }
   ],
   "source": [
    "# 9 - 8\n",
    "pd.concat([game_lookup(all_games, 'oklah', 'missour'), \n",
    "           game_lookup(all_games, 'lsu', 'st b'),\n",
    "          game_lookup(all_games, 'north c', 'wiscon'),\n",
    "          game_lookup(all_games, 'loyola', 'georgia t')])"
   ]
  },
  {
   "cell_type": "code",
   "execution_count": 412,
   "metadata": {},
   "outputs": [
    {
     "data": {
      "text/html": [
       "<div>\n",
       "<style scoped>\n",
       "    .dataframe tbody tr th:only-of-type {\n",
       "        vertical-align: middle;\n",
       "    }\n",
       "\n",
       "    .dataframe tbody tr th {\n",
       "        vertical-align: top;\n",
       "    }\n",
       "\n",
       "    .dataframe thead th {\n",
       "        text-align: right;\n",
       "    }\n",
       "</style>\n",
       "<table border=\"1\" class=\"dataframe\">\n",
       "  <thead>\n",
       "    <tr style=\"text-align: right;\">\n",
       "      <th></th>\n",
       "      <th>ID</th>\n",
       "      <th>Team1_name</th>\n",
       "      <th>Team2_name</th>\n",
       "      <th>Pred</th>\n",
       "    </tr>\n",
       "  </thead>\n",
       "  <tbody>\n",
       "    <tr>\n",
       "      <th>2067</th>\n",
       "      <td>2021_1393_1452</td>\n",
       "      <td>syracuse</td>\n",
       "      <td>west virginia</td>\n",
       "      <td>0.314791</td>\n",
       "    </tr>\n",
       "  </tbody>\n",
       "</table>\n",
       "</div>"
      ],
      "text/plain": [
       "                  ID Team1_name     Team2_name      Pred\n",
       "2067  2021_1393_1452   syracuse  west virginia  0.314791"
      ]
     },
     "execution_count": 412,
     "metadata": {},
     "output_type": "execute_result"
    }
   ],
   "source": [
    "game_lookup(all_games, 'syracuse', 'west')"
   ]
  },
  {
   "cell_type": "code",
   "execution_count": 248,
   "metadata": {},
   "outputs": [
    {
     "data": {
      "text/html": [
       "<div>\n",
       "<style scoped>\n",
       "    .dataframe tbody tr th:only-of-type {\n",
       "        vertical-align: middle;\n",
       "    }\n",
       "\n",
       "    .dataframe tbody tr th {\n",
       "        vertical-align: top;\n",
       "    }\n",
       "\n",
       "    .dataframe thead th {\n",
       "        text-align: right;\n",
       "    }\n",
       "</style>\n",
       "<table border=\"1\" class=\"dataframe\">\n",
       "  <thead>\n",
       "    <tr style=\"text-align: right;\">\n",
       "      <th></th>\n",
       "      <th>ID</th>\n",
       "      <th>Team1_name</th>\n",
       "      <th>Team2_name</th>\n",
       "      <th>Pred</th>\n",
       "    </tr>\n",
       "  </thead>\n",
       "  <tbody>\n",
       "    <tr>\n",
       "      <th>1378</th>\n",
       "      <td>2021_1101_1400</td>\n",
       "      <td>abilene chr</td>\n",
       "      <td>texas</td>\n",
       "      <td>0.313014</td>\n",
       "    </tr>\n",
       "    <tr>\n",
       "      <th>1431</th>\n",
       "      <td>2021_1101_1403</td>\n",
       "      <td>abilene chr</td>\n",
       "      <td>texas tech</td>\n",
       "      <td>0.323417</td>\n",
       "    </tr>\n",
       "  </tbody>\n",
       "</table>\n",
       "</div>"
      ],
      "text/plain": [
       "                  ID   Team1_name  Team2_name      Pred\n",
       "1378  2021_1101_1400  abilene chr       texas  0.313014\n",
       "1431  2021_1101_1403  abilene chr  texas tech  0.323417"
      ]
     },
     "execution_count": 248,
     "metadata": {},
     "output_type": "execute_result"
    }
   ],
   "source": []
  },
  {
   "cell_type": "code",
   "execution_count": null,
   "metadata": {},
   "outputs": [],
   "source": []
  },
  {
   "cell_type": "code",
   "execution_count": 78,
   "metadata": {},
   "outputs": [
    {
     "data": {
      "text/html": [
       "<div>\n",
       "<style scoped>\n",
       "    .dataframe tbody tr th:only-of-type {\n",
       "        vertical-align: middle;\n",
       "    }\n",
       "\n",
       "    .dataframe tbody tr th {\n",
       "        vertical-align: top;\n",
       "    }\n",
       "\n",
       "    .dataframe thead th {\n",
       "        text-align: right;\n",
       "    }\n",
       "</style>\n",
       "<table border=\"1\" class=\"dataframe\">\n",
       "  <thead>\n",
       "    <tr style=\"text-align: right;\">\n",
       "      <th></th>\n",
       "      <th>Unnamed: 0</th>\n",
       "      <th>type</th>\n",
       "      <th>ID</th>\n",
       "      <th>Pred</th>\n",
       "      <th>Season</th>\n",
       "      <th>Team1</th>\n",
       "      <th>Team2</th>\n",
       "      <th>Outcome</th>\n",
       "      <th>avg_rank_x</th>\n",
       "      <th>t1_final_rank</th>\n",
       "      <th>...</th>\n",
       "      <th>t1_adj_oe_0</th>\n",
       "      <th>t1_adj_de_0</th>\n",
       "      <th>t2_adj_oe_0</th>\n",
       "      <th>t2_adj_de_0</th>\n",
       "      <th>t1_adj_margin</th>\n",
       "      <th>t2_adj_margin</th>\n",
       "      <th>TeamID_x</th>\n",
       "      <th>Team1_name</th>\n",
       "      <th>TeamID_y</th>\n",
       "      <th>Team2_name</th>\n",
       "    </tr>\n",
       "  </thead>\n",
       "  <tbody>\n",
       "    <tr>\n",
       "      <th>395</th>\n",
       "      <td>3243</td>\n",
       "      <td>1</td>\n",
       "      <td>2021_1207_1260</td>\n",
       "      <td>0.284340</td>\n",
       "      <td>2021</td>\n",
       "      <td>1207</td>\n",
       "      <td>1260</td>\n",
       "      <td>0.0</td>\n",
       "      <td>51</td>\n",
       "      <td>81.876843</td>\n",
       "      <td>...</td>\n",
       "      <td>104.980543</td>\n",
       "      <td>98.533603</td>\n",
       "      <td>113.798182</td>\n",
       "      <td>89.56814</td>\n",
       "      <td>6.446940</td>\n",
       "      <td>24.230042</td>\n",
       "      <td>1207</td>\n",
       "      <td>Georgetown</td>\n",
       "      <td>1260</td>\n",
       "      <td>Loyola-Chicago</td>\n",
       "    </tr>\n",
       "    <tr>\n",
       "      <th>396</th>\n",
       "      <td>3292</td>\n",
       "      <td>1</td>\n",
       "      <td>2021_1210_1260</td>\n",
       "      <td>0.409407</td>\n",
       "      <td>2021</td>\n",
       "      <td>1210</td>\n",
       "      <td>1260</td>\n",
       "      <td>0.0</td>\n",
       "      <td>36</td>\n",
       "      <td>83.919965</td>\n",
       "      <td>...</td>\n",
       "      <td>116.173329</td>\n",
       "      <td>100.111888</td>\n",
       "      <td>113.798182</td>\n",
       "      <td>89.56814</td>\n",
       "      <td>16.061441</td>\n",
       "      <td>24.230042</td>\n",
       "      <td>1210</td>\n",
       "      <td>Georgia Tech</td>\n",
       "      <td>1260</td>\n",
       "      <td>Loyola-Chicago</td>\n",
       "    </tr>\n",
       "  </tbody>\n",
       "</table>\n",
       "<p>2 rows × 29 columns</p>\n",
       "</div>"
      ],
      "text/plain": [
       "     Unnamed: 0  type              ID      Pred  Season  Team1  Team2  \\\n",
       "395        3243     1  2021_1207_1260  0.284340    2021   1207   1260   \n",
       "396        3292     1  2021_1210_1260  0.409407    2021   1210   1260   \n",
       "\n",
       "     Outcome  avg_rank_x  t1_final_rank  ...  t1_adj_oe_0  t1_adj_de_0  \\\n",
       "395      0.0          51      81.876843  ...   104.980543    98.533603   \n",
       "396      0.0          36      83.919965  ...   116.173329   100.111888   \n",
       "\n",
       "     t2_adj_oe_0  t2_adj_de_0  t1_adj_margin  t2_adj_margin  TeamID_x  \\\n",
       "395   113.798182     89.56814       6.446940      24.230042      1207   \n",
       "396   113.798182     89.56814      16.061441      24.230042      1210   \n",
       "\n",
       "       Team1_name  TeamID_y      Team2_name  \n",
       "395    Georgetown      1260  Loyola-Chicago  \n",
       "396  Georgia Tech      1260  Loyola-Chicago  \n",
       "\n",
       "[2 rows x 29 columns]"
      ]
     },
     "execution_count": 78,
     "metadata": {},
     "output_type": "execute_result"
    }
   ],
   "source": [
    "all_games[ (all_games.Team1_name.str.contains('Georg')) & (all_games.Team2_name.str.contains('Loyola')) ]"
   ]
  },
  {
   "cell_type": "code",
   "execution_count": 56,
   "metadata": {},
   "outputs": [
    {
     "data": {
      "text/html": [
       "<div>\n",
       "<style scoped>\n",
       "    .dataframe tbody tr th:only-of-type {\n",
       "        vertical-align: middle;\n",
       "    }\n",
       "\n",
       "    .dataframe tbody tr th {\n",
       "        vertical-align: top;\n",
       "    }\n",
       "\n",
       "    .dataframe thead th {\n",
       "        text-align: right;\n",
       "    }\n",
       "</style>\n",
       "<table border=\"1\" class=\"dataframe\">\n",
       "  <thead>\n",
       "    <tr style=\"text-align: right;\">\n",
       "      <th></th>\n",
       "      <th>TeamID</th>\n",
       "      <th>TeamName</th>\n",
       "      <th>FirstD1Season</th>\n",
       "      <th>LastD1Season</th>\n",
       "    </tr>\n",
       "  </thead>\n",
       "  <tbody>\n",
       "    <tr>\n",
       "      <th>105</th>\n",
       "      <td>1206</td>\n",
       "      <td>George Mason</td>\n",
       "      <td>1985</td>\n",
       "      <td>2021</td>\n",
       "    </tr>\n",
       "    <tr>\n",
       "      <th>106</th>\n",
       "      <td>1207</td>\n",
       "      <td>Georgetown</td>\n",
       "      <td>1985</td>\n",
       "      <td>2021</td>\n",
       "    </tr>\n",
       "    <tr>\n",
       "      <th>107</th>\n",
       "      <td>1208</td>\n",
       "      <td>Georgia</td>\n",
       "      <td>1985</td>\n",
       "      <td>2021</td>\n",
       "    </tr>\n",
       "    <tr>\n",
       "      <th>108</th>\n",
       "      <td>1209</td>\n",
       "      <td>Georgia St</td>\n",
       "      <td>1985</td>\n",
       "      <td>2021</td>\n",
       "    </tr>\n",
       "    <tr>\n",
       "      <th>109</th>\n",
       "      <td>1210</td>\n",
       "      <td>Georgia Tech</td>\n",
       "      <td>1985</td>\n",
       "      <td>2021</td>\n",
       "    </tr>\n",
       "  </tbody>\n",
       "</table>\n",
       "</div>"
      ],
      "text/plain": [
       "     TeamID      TeamName  FirstD1Season  LastD1Season\n",
       "105    1206  George Mason           1985          2021\n",
       "106    1207    Georgetown           1985          2021\n",
       "107    1208       Georgia           1985          2021\n",
       "108    1209    Georgia St           1985          2021\n",
       "109    1210  Georgia Tech           1985          2021"
      ]
     },
     "execution_count": 56,
     "metadata": {},
     "output_type": "execute_result"
    }
   ],
   "source": [
    "teams[teams['TeamName'].str.contains('Georg')]"
   ]
  },
  {
   "cell_type": "code",
   "execution_count": 15,
   "metadata": {},
   "outputs": [
    {
     "data": {
      "text/html": [
       "<div>\n",
       "<style scoped>\n",
       "    .dataframe tbody tr th:only-of-type {\n",
       "        vertical-align: middle;\n",
       "    }\n",
       "\n",
       "    .dataframe tbody tr th {\n",
       "        vertical-align: top;\n",
       "    }\n",
       "\n",
       "    .dataframe thead th {\n",
       "        text-align: right;\n",
       "    }\n",
       "</style>\n",
       "<table border=\"1\" class=\"dataframe\">\n",
       "  <thead>\n",
       "    <tr style=\"text-align: right;\">\n",
       "      <th></th>\n",
       "      <th>TeamID</th>\n",
       "      <th>TeamName</th>\n",
       "      <th>FirstD1Season</th>\n",
       "      <th>LastD1Season</th>\n",
       "    </tr>\n",
       "  </thead>\n",
       "  <tbody>\n",
       "    <tr>\n",
       "      <th>0</th>\n",
       "      <td>1101</td>\n",
       "      <td>Abilene Chr</td>\n",
       "      <td>2014</td>\n",
       "      <td>2021</td>\n",
       "    </tr>\n",
       "    <tr>\n",
       "      <th>1</th>\n",
       "      <td>1102</td>\n",
       "      <td>Air Force</td>\n",
       "      <td>1985</td>\n",
       "      <td>2021</td>\n",
       "    </tr>\n",
       "    <tr>\n",
       "      <th>2</th>\n",
       "      <td>1103</td>\n",
       "      <td>Akron</td>\n",
       "      <td>1985</td>\n",
       "      <td>2021</td>\n",
       "    </tr>\n",
       "    <tr>\n",
       "      <th>3</th>\n",
       "      <td>1104</td>\n",
       "      <td>Alabama</td>\n",
       "      <td>1985</td>\n",
       "      <td>2021</td>\n",
       "    </tr>\n",
       "    <tr>\n",
       "      <th>4</th>\n",
       "      <td>1105</td>\n",
       "      <td>Alabama A&amp;M</td>\n",
       "      <td>2000</td>\n",
       "      <td>2021</td>\n",
       "    </tr>\n",
       "  </tbody>\n",
       "</table>\n",
       "</div>"
      ],
      "text/plain": [
       "   TeamID     TeamName  FirstD1Season  LastD1Season\n",
       "0    1101  Abilene Chr           2014          2021\n",
       "1    1102    Air Force           1985          2021\n",
       "2    1103        Akron           1985          2021\n",
       "3    1104      Alabama           1985          2021\n",
       "4    1105  Alabama A&M           2000          2021"
      ]
     },
     "execution_count": 15,
     "metadata": {},
     "output_type": "execute_result"
    }
   ],
   "source": [
    "\n",
    "teams.head()"
   ]
  },
  {
   "cell_type": "code",
   "execution_count": null,
   "metadata": {},
   "outputs": [],
   "source": []
  }
 ],
 "metadata": {
  "kernelspec": {
   "display_name": "Python 3 (ipykernel)",
   "language": "python",
   "name": "python3"
  },
  "language_info": {
   "codemirror_mode": {
    "name": "ipython",
    "version": 3
   },
   "file_extension": ".py",
   "mimetype": "text/x-python",
   "name": "python",
   "nbconvert_exporter": "python",
   "pygments_lexer": "ipython3",
   "version": "3.8.2"
  }
 },
 "nbformat": 4,
 "nbformat_minor": 2
}

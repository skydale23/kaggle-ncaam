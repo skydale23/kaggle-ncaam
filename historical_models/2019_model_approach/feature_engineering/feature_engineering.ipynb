{
 "cells": [
  {
   "cell_type": "code",
   "execution_count": 1,
   "metadata": {},
   "outputs": [],
   "source": [
    "import pandas as pd\n",
    "import re"
   ]
  },
  {
   "cell_type": "code",
   "execution_count": 2,
   "metadata": {},
   "outputs": [],
   "source": [
    "%run ../functions.ipynb"
   ]
  },
  {
   "cell_type": "markdown",
   "metadata": {},
   "source": [
    "### Import data"
   ]
  },
  {
   "cell_type": "code",
   "execution_count": 4,
   "metadata": {},
   "outputs": [],
   "source": [
    "data_path = '../../data/MDataFiles_Stage1/'\n",
    "\n",
    "#raw data\n",
    "rankings = pd.read_csv(data_path + 'MMasseyOrdinals.csv')\n",
    "detailed_reg_season = pd.read_csv(data_path +'MRegularSeasonDetailedResults.csv')\n",
    "team_coaches = pd.read_csv(data_path + 'MTeamCoaches.csv')\n",
    "detailed_tourney_results = pd.read_csv(data_path + 'MNCAATourneyDetailedResults.csv')\n",
    "conf_tourney = pd.read_csv(data_path + 'MConferenceTourneyGames.csv')\n",
    "team_conferences = pd.read_csv(data_path + 'MTeamConferences.csv')\n",
    "tourney_seeds = pd.read_csv(data_path + 'MNCAATourneySeeds.csv')\n",
    "teams = pd.read_csv(data_path + 'MTeams.csv')\n",
    "\n",
    "#processed data\n",
    "all_games = pd.read_csv('../processing/output/all_games.csv')"
   ]
  },
  {
   "cell_type": "markdown",
   "metadata": {},
   "source": [
    "#### Add efficiency metrics"
   ]
  },
  {
   "cell_type": "code",
   "execution_count": 5,
   "metadata": {},
   "outputs": [],
   "source": [
    "all_games = get_def_off(all_games)"
   ]
  },
  {
   "cell_type": "markdown",
   "metadata": {},
   "source": [
    "#### Add opponents nested efficiency metrics"
   ]
  },
  {
   "cell_type": "markdown",
   "metadata": {},
   "source": [
    "A quick note on what these values represent:\n",
    "\n",
    "We start by collecting the offensive and defensive efficiencies for each team at the point in the season when the game happened. Then we join in the opponents' offensive and defensive efficiencies.\n",
    "\n",
    "Now we for every team we have oe and de as well as their opponent's oe and de at a point in time.\n",
    "\n",
    "We can then take an average of opponents oe and de to get on average how good the opponents were.\n",
    "\n",
    "Once we have that, we also have it for the opponents, so we can join that in as well.\n",
    "\n",
    "Ultimately we can iteratively go as many layers deep as we want of opponents' opponents' opponents' etc. efficiency. This gives us measures for how well a team performed, as well as deep measures of strength of schedule. \n",
    "\n",
    "For example - Let's say Cuse has played Gtown, Duke, Lville \n",
    "\n",
    "I first calc Cuse's eff. \n",
    "\n",
    "Then join I can join in eff for Gtown Duke and Lville.\n",
    "\n",
    "Then I can get the average eff of Gtown Duke and Lville so I know the opponent's eff\n",
    "\n",
    "But, now in my dataset I know the opponent's eff for Gtown Duke and Lville\n",
    "\n",
    "So for Cuse I can join that back in and know the avg opponents avg opponents eff. In other words, not only how tough has competition been against Duke/Lville/Gtown.\n",
    "\n",
    "Then of course I can join that back in again get an avg of how tough the competition has been against the competition against Duke/Lville/Gtown\n",
    "\n"
   ]
  },
  {
   "cell_type": "code",
   "execution_count": 6,
   "metadata": {},
   "outputs": [],
   "source": [
    "#sort values for rolling\n",
    "all_games.sort_values(by = ['Season', 'Team1', 'DayNum'], inplace = True)\n",
    "all_games.reset_index(drop=True, inplace = True)\n",
    "\n",
    "#expanding roll to get avg oe and de for entire season\n",
    "all_games['avg_oe'] = all_games.groupby(['Season', 'Team1'])['OffRtg'].transform(lambda x: x.shift(1).expanding().mean())\n",
    "all_games['avg_de'] = all_games.groupby(['Season', 'Team1'])['DefRtg'].transform(lambda x: x.shift(1).expanding().mean())\n",
    "\n",
    "#starting values for Team1's avg efficiency\n",
    "oe_now = 'avg_oe'\n",
    "de_now = 'avg_de'\n",
    "\n",
    "for x in range(4):\n",
    "    \n",
    "    #create strings for opponents values\n",
    "    oe_next = 'opp_' + oe_now\n",
    "    de_next = 'opp_' + de_now \n",
    "\n",
    "    #create copy of data where T1 = T2 and change efficiencies names to opponent's\n",
    "    cols = ['Season', 'DayNum', 'Team2', oe_next, de_next]\n",
    "    all_games2 = all_games.rename(columns = \\\n",
    "                        {'Team1': 'Team2', 'Team2': 'Team1', oe_now: oe_next, de_now: de_next})\n",
    "    #join in opponents stats\n",
    "    all_games = all_games.merge(all_games2[cols], on = ['Season', 'DayNum', 'Team2'])\n",
    "\n",
    "    #get rolling avg of opponent's stats\n",
    "    all_games['avg_' + oe_next] = all_games.groupby(['Season', 'Team1'])[oe_next].transform(lambda x: x.shift(1).expanding().mean())\n",
    "    all_games['avg_' + de_next] = all_games.groupby(['Season', 'Team1'])[de_next].transform(lambda x: x.shift(1).expanding().mean())\n",
    "    \n",
    "    #update variables to reflect new metrics \n",
    "    oe_now = 'avg_' + oe_next\n",
    "    de_now = 'avg_' + de_next\n",
    "\n",
    "#all_games = all_games.dropna()\n"
   ]
  },
  {
   "cell_type": "markdown",
   "metadata": {},
   "source": [
    "#### Add seeds"
   ]
  },
  {
   "cell_type": "code",
   "execution_count": 7,
   "metadata": {},
   "outputs": [],
   "source": [
    "tourney_seeds.rename(columns = {'TeamID': 'Team1'}, inplace = True)\n",
    "join_key = ['Season', 'Team1']\n",
    "all_games = all_games.merge(tourney_seeds[join_key + ['Seed']], on = join_key, how = 'left')\n",
    "all_games['Seed'] = all_games['Seed'].fillna('9999').apply(lambda x: re.sub('[^0-9]','', x)).apply(int)\n"
   ]
  },
  {
   "cell_type": "markdown",
   "metadata": {},
   "source": [
    "#### Create features for both teams in the game"
   ]
  },
  {
   "cell_type": "code",
   "execution_count": 8,
   "metadata": {},
   "outputs": [],
   "source": [
    "cols = ['OffRtg', 'DefRtg', 'avg_oe', 'avg_de', 'opp_avg_oe',\n",
    "       'opp_avg_de', 'avg_opp_avg_oe', 'avg_opp_avg_de', 'opp_avg_opp_avg_oe',\n",
    "       'opp_avg_opp_avg_de', 'avg_opp_avg_opp_avg_oe',\n",
    "       'avg_opp_avg_opp_avg_de', 'opp_avg_opp_avg_opp_avg_oe',\n",
    "       'opp_avg_opp_avg_opp_avg_de', 'avg_opp_avg_opp_avg_opp_avg_oe',\n",
    "       'avg_opp_avg_opp_avg_opp_avg_de', 'opp_avg_opp_avg_opp_avg_opp_avg_oe',\n",
    "       'opp_avg_opp_avg_opp_avg_opp_avg_de',\n",
    "       'avg_opp_avg_opp_avg_opp_avg_opp_avg_oe',\n",
    "       'avg_opp_avg_opp_avg_opp_avg_opp_avg_de', 'Seed']\n",
    "\n",
    "all_games = get_cols_for_both_teams(all_games, cols)"
   ]
  },
  {
   "cell_type": "code",
   "execution_count": 9,
   "metadata": {},
   "outputs": [],
   "source": [
    "all_games['Seed_Diff'] = all_games['Team1_Seed'] - all_games['Team2_Seed']"
   ]
  },
  {
   "cell_type": "code",
   "execution_count": 10,
   "metadata": {},
   "outputs": [],
   "source": [
    "all_games.to_csv('output/all_games.csv')"
   ]
  },
  {
   "cell_type": "code",
   "execution_count": null,
   "metadata": {},
   "outputs": [],
   "source": []
  },
  {
   "cell_type": "code",
   "execution_count": null,
   "metadata": {},
   "outputs": [],
   "source": []
  }
 ],
 "metadata": {
  "kernelspec": {
   "display_name": "Python 3",
   "language": "python",
   "name": "python3"
  },
  "language_info": {
   "codemirror_mode": {
    "name": "ipython",
    "version": 3
   },
   "file_extension": ".py",
   "mimetype": "text/x-python",
   "name": "python",
   "nbconvert_exporter": "python",
   "pygments_lexer": "ipython3",
   "version": "3.7.4"
  }
 },
 "nbformat": 4,
 "nbformat_minor": 2
}

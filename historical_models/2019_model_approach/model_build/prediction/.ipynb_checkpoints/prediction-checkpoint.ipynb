{
 "cells": [
  {
   "cell_type": "code",
   "execution_count": 1,
   "metadata": {},
   "outputs": [],
   "source": [
    "import pandas as pd"
   ]
  },
  {
   "cell_type": "code",
   "execution_count": 3,
   "metadata": {},
   "outputs": [],
   "source": [
    "%run ../../functions.ipynb"
   ]
  },
  {
   "cell_type": "markdown",
   "metadata": {},
   "source": [
    "### Import data & model"
   ]
  },
  {
   "cell_type": "code",
   "execution_count": 8,
   "metadata": {},
   "outputs": [],
   "source": [
    "#get sample dataset\n",
    "sub = pd.read_csv('../../../data/MSampleSubmissionStage1_2020.csv')\n",
    "sub = process_sample_sub(sub)"
   ]
  },
  {
   "cell_type": "code",
   "execution_count": 9,
   "metadata": {},
   "outputs": [],
   "source": [
    "#processed data\n",
    "all_games = pd.read_csv('../output/all_games.csv')\n"
   ]
  },
  {
   "cell_type": "code",
   "execution_count": 10,
   "metadata": {},
   "outputs": [],
   "source": [
    "#model\n",
    "import pickle\n",
    "\n",
    "with open(\"../model/logreg.pkl\", \"rb\") as file: \n",
    "    logreg = pickle.load(file)\n",
    "    \n",
    "with open(\"../model/rf.pkl\", \"rb\") as file: \n",
    "    rf = pickle.load(file)\n",
    "\n",
    "with open(\"../model/oe_model.pkl\", \"rb\") as file: \n",
    "    oe_model = pickle.load(file)\n",
    "    \n",
    "with open(\"../model/de_model.pkl\", \"rb\") as file: \n",
    "    de_model = pickle.load(file)\n"
   ]
  },
  {
   "cell_type": "markdown",
   "metadata": {},
   "source": [
    "### Get data for prediction"
   ]
  },
  {
   "cell_type": "code",
   "execution_count": 11,
   "metadata": {},
   "outputs": [],
   "source": [
    "#get df for end of the season for Team1\n",
    "season_end = all_games.groupby(['Team1', 'Season'])['DayNum'].max().reset_index()\n",
    "season_end_df = all_games.merge(season_end, on = ['Team1', 'Season', 'DayNum'])\n"
   ]
  },
  {
   "cell_type": "code",
   "execution_count": 12,
   "metadata": {},
   "outputs": [],
   "source": [
    "#join in team1 data\n",
    "features = [col for col in all_games.columns if col.startswith('Team1_')]\n",
    "join_key = ['Season', 'Team1']\n",
    "sub = sub.merge(season_end_df[features + join_key], on = join_key)"
   ]
  },
  {
   "cell_type": "code",
   "execution_count": 13,
   "metadata": {},
   "outputs": [],
   "source": [
    "season_end_df = season_end_df[[col for col in season_end_df.columns if not col.startswith('Team2_')]]\n"
   ]
  },
  {
   "cell_type": "code",
   "execution_count": 14,
   "metadata": {},
   "outputs": [],
   "source": [
    "#get rid of team2\n",
    "season_end_df = season_end_df[[col for col in season_end_df.columns if not col.startswith('Team2')]]\n",
    "#map team1 to team2\n",
    "season_end_df.rename(columns = {col: col.replace('Team1', 'Team2') for col in season_end_df.columns}, inplace = True)\n",
    "#join in team2\n",
    "features = [col for col in season_end_df.columns if col.startswith('Team2_')]\n",
    "join_key = ['Season', 'Team2']\n",
    "sub = sub.merge(season_end_df[features + join_key], on = join_key)\n"
   ]
  },
  {
   "cell_type": "code",
   "execution_count": 15,
   "metadata": {},
   "outputs": [],
   "source": [
    "#get oe and de features\n",
    "\n",
    "reg_feature_list = ['Team1_avg_oe', 'Team1_avg_de','Team1_avg_opp_avg_oe','Team1_avg_opp_avg_de',\n",
    "                           'Team1_avg_opp_avg_opp_avg_oe', 'Team1_avg_opp_avg_opp_avg_de',\n",
    "                            'Team1_avg_opp_avg_opp_avg_opp_avg_oe', 'Team1_avg_opp_avg_opp_avg_opp_avg_de',\n",
    "                           'Team1_avg_opp_avg_opp_avg_opp_avg_opp_avg_oe',\n",
    "                               'Team1_avg_opp_avg_opp_avg_opp_avg_opp_avg_de',\n",
    "                    \n",
    "                   'Team2_avg_oe', 'Team2_avg_de','Team2_avg_opp_avg_oe','Team2_avg_opp_avg_de',\n",
    "                           'Team2_avg_opp_avg_opp_avg_oe', 'Team2_avg_opp_avg_opp_avg_de',\n",
    "                            'Team2_avg_opp_avg_opp_avg_opp_avg_oe', 'Team2_avg_opp_avg_opp_avg_opp_avg_de',\n",
    "                           'Team2_avg_opp_avg_opp_avg_opp_avg_opp_avg_oe',\n",
    "                               'Team2_avg_opp_avg_opp_avg_opp_avg_opp_avg_de']\n",
    "\n",
    "\n",
    "sub['t1_pred_oe'] = oe_model.predict(sub[reg_feature_list].values)\n",
    "sub['t1_pred_de'] = de_model.predict(sub[reg_feature_list].values)"
   ]
  },
  {
   "cell_type": "markdown",
   "metadata": {},
   "source": [
    "### Prediction"
   ]
  },
  {
   "cell_type": "code",
   "execution_count": 18,
   "metadata": {},
   "outputs": [],
   "source": [
    "feature_list = ['t1_pred_oe', 't1_pred_de']\n",
    "sub['Pred'] = logreg.predict_proba(sub[feature_list])[:,1]"
   ]
  },
  {
   "cell_type": "code",
   "execution_count": 19,
   "metadata": {},
   "outputs": [],
   "source": [
    "sub[['ID', 'Pred']].to_csv('submission.csv', index = False)"
   ]
  },
  {
   "cell_type": "code",
   "execution_count": null,
   "metadata": {},
   "outputs": [],
   "source": []
  }
 ],
 "metadata": {
  "kernelspec": {
   "display_name": "Python 3",
   "language": "python",
   "name": "python3"
  },
  "language_info": {
   "codemirror_mode": {
    "name": "ipython",
    "version": 3
   },
   "file_extension": ".py",
   "mimetype": "text/x-python",
   "name": "python",
   "nbconvert_exporter": "python",
   "pygments_lexer": "ipython3",
   "version": "3.7.4"
  }
 },
 "nbformat": 4,
 "nbformat_minor": 2
}
